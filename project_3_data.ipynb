{
 "cells": [
  {
   "cell_type": "code",
   "execution_count": 96,
   "id": "b242d383",
   "metadata": {},
   "outputs": [],
   "source": [
    "import plotly.io as pio\n",
    "\n",
    "pio.renderers.default = \"vscode+jupyterlab+notebook_connected\""
   ]
  },
  {
   "cell_type": "markdown",
   "id": "e229478c",
   "metadata": {},
   "source": [
    "# Research Focus: Deforestation and Food Security\n",
    "\n",
    "Deforestation, driven by industrialization and agricultural expansion, directly impacts global food security. Approximately **40% of the resources used in the food industry rely on nature**, including forests, which provide critical ecosystem services essential for sustainable agriculture. Forests regulate rainfall, prevent soil erosion, support biodiversity (like pollinators and pest controllers), and stabilize the climate. Their destruction disrupts food supply chains, decreases crop yields, and reduces dietary diversity, particularly in regions heavily reliant on forest ecosystems. These cascading effects highlight the urgent need to understand and address the relationship between deforestation and food security.\n",
    "\n",
    "1. **Research Question**:  \n",
    "   What is the relationship between deforestation and the Global Food Security Index across key sub-regions from 2012 to 2022?\n",
    "\n",
    "2. **Hypothesis**:  \n",
    "   Increasing rates of deforestation negatively impact the Global Food Security Index by:\n",
    "   - Reducing agricultural productivity.\n",
    "   - Disrupting food supply chains.\n",
    "   - Decreasing dietary diversity.  \n",
    "\n",
    "These effects are expected to vary significantly across sub-regions, with tropical regions experiencing greater vulnerabilities compared to temperate regions.\n",
    "\n",
    "### Data Sources\n",
    "\n",
    "1. **Forest Dataset**:  \n",
    "   Sourced from [Global Forest Watch](https://www.globalforestwatch.org/dashboards/global), an organization dedicated to providing real-time data and tools for monitoring forests worldwide.\n",
    "\n",
    "2. **Global Food Security Index Dataset**:  \n",
    "   Obtained from [Economist Impact](https://impact.economist.com/sustainability/project/food-security-index/), which offers a dataset on Global Food Security Index."
   ]
  },
  {
   "cell_type": "code",
   "execution_count": 60,
   "id": "c12752f0",
   "metadata": {},
   "outputs": [],
   "source": [
    "import pandas as pd\n",
    "import plotly.express as px"
   ]
  },
  {
   "cell_type": "markdown",
   "id": "e1e9454f",
   "metadata": {},
   "source": [
    "## Load the **Global Food Security Index Data**"
   ]
  },
  {
   "cell_type": "code",
   "execution_count": 61,
   "id": "f3ad5d03",
   "metadata": {},
   "outputs": [
    {
     "data": {
      "text/html": [
       "<div>\n",
       "<style scoped>\n",
       "    .dataframe tbody tr th:only-of-type {\n",
       "        vertical-align: middle;\n",
       "    }\n",
       "\n",
       "    .dataframe tbody tr th {\n",
       "        vertical-align: top;\n",
       "    }\n",
       "\n",
       "    .dataframe thead th {\n",
       "        text-align: right;\n",
       "    }\n",
       "</style>\n",
       "<table border=\"1\" class=\"dataframe\">\n",
       "  <thead>\n",
       "    <tr style=\"text-align: right;\">\n",
       "      <th></th>\n",
       "      <th>year</th>\n",
       "      <th>index</th>\n",
       "      <th>Algeria</th>\n",
       "      <th>Angola</th>\n",
       "      <th>Argentina</th>\n",
       "      <th>Australia</th>\n",
       "      <th>Austria</th>\n",
       "      <th>Azerbaijan</th>\n",
       "      <th>Bahrain</th>\n",
       "      <th>Bangladesh</th>\n",
       "      <th>...</th>\n",
       "      <th>Ukraine</th>\n",
       "      <th>United Arab Emirates</th>\n",
       "      <th>United Kingdom</th>\n",
       "      <th>United States</th>\n",
       "      <th>Uruguay</th>\n",
       "      <th>Uzbekistan</th>\n",
       "      <th>Venezuela</th>\n",
       "      <th>Vietnam</th>\n",
       "      <th>Yemen</th>\n",
       "      <th>Zambia</th>\n",
       "    </tr>\n",
       "  </thead>\n",
       "  <tbody>\n",
       "    <tr>\n",
       "      <th>0</th>\n",
       "      <td>2012</td>\n",
       "      <td>FOOD SECURITY ENVIRONMENT</td>\n",
       "      <td>50.5</td>\n",
       "      <td>42.9</td>\n",
       "      <td>63.5</td>\n",
       "      <td>70.8</td>\n",
       "      <td>74.4</td>\n",
       "      <td>56.9</td>\n",
       "      <td>64.7</td>\n",
       "      <td>47.1</td>\n",
       "      <td>...</td>\n",
       "      <td>55.8</td>\n",
       "      <td>63.2</td>\n",
       "      <td>71.6</td>\n",
       "      <td>76.7</td>\n",
       "      <td>60.9</td>\n",
       "      <td>50.4</td>\n",
       "      <td>47.5</td>\n",
       "      <td>54.5</td>\n",
       "      <td>40.0</td>\n",
       "      <td>45.3</td>\n",
       "    </tr>\n",
       "    <tr>\n",
       "      <th>1</th>\n",
       "      <td>2013</td>\n",
       "      <td>FOOD SECURITY ENVIRONMENT</td>\n",
       "      <td>47.8</td>\n",
       "      <td>41.9</td>\n",
       "      <td>63.4</td>\n",
       "      <td>73.8</td>\n",
       "      <td>74.0</td>\n",
       "      <td>61.6</td>\n",
       "      <td>64.5</td>\n",
       "      <td>51.9</td>\n",
       "      <td>...</td>\n",
       "      <td>54.3</td>\n",
       "      <td>61.4</td>\n",
       "      <td>74.9</td>\n",
       "      <td>77.3</td>\n",
       "      <td>66.9</td>\n",
       "      <td>51.4</td>\n",
       "      <td>48.4</td>\n",
       "      <td>60.8</td>\n",
       "      <td>42.5</td>\n",
       "      <td>46.5</td>\n",
       "    </tr>\n",
       "    <tr>\n",
       "      <th>2</th>\n",
       "      <td>2014</td>\n",
       "      <td>FOOD SECURITY ENVIRONMENT</td>\n",
       "      <td>52.7</td>\n",
       "      <td>41.9</td>\n",
       "      <td>63.6</td>\n",
       "      <td>76.1</td>\n",
       "      <td>76.0</td>\n",
       "      <td>63.8</td>\n",
       "      <td>65.9</td>\n",
       "      <td>53.0</td>\n",
       "      <td>...</td>\n",
       "      <td>56.8</td>\n",
       "      <td>62.1</td>\n",
       "      <td>73.9</td>\n",
       "      <td>78.1</td>\n",
       "      <td>67.0</td>\n",
       "      <td>49.9</td>\n",
       "      <td>47.3</td>\n",
       "      <td>64.6</td>\n",
       "      <td>41.2</td>\n",
       "      <td>46.0</td>\n",
       "    </tr>\n",
       "    <tr>\n",
       "      <th>3</th>\n",
       "      <td>2015</td>\n",
       "      <td>FOOD SECURITY ENVIRONMENT</td>\n",
       "      <td>54.9</td>\n",
       "      <td>43.3</td>\n",
       "      <td>60.0</td>\n",
       "      <td>74.8</td>\n",
       "      <td>77.6</td>\n",
       "      <td>65.4</td>\n",
       "      <td>65.2</td>\n",
       "      <td>52.9</td>\n",
       "      <td>...</td>\n",
       "      <td>53.1</td>\n",
       "      <td>61.5</td>\n",
       "      <td>76.5</td>\n",
       "      <td>76.5</td>\n",
       "      <td>68.6</td>\n",
       "      <td>52.3</td>\n",
       "      <td>47.7</td>\n",
       "      <td>64.7</td>\n",
       "      <td>46.2</td>\n",
       "      <td>45.6</td>\n",
       "    </tr>\n",
       "    <tr>\n",
       "      <th>4</th>\n",
       "      <td>2016</td>\n",
       "      <td>FOOD SECURITY ENVIRONMENT</td>\n",
       "      <td>57.9</td>\n",
       "      <td>42.4</td>\n",
       "      <td>64.4</td>\n",
       "      <td>75.6</td>\n",
       "      <td>77.4</td>\n",
       "      <td>62.8</td>\n",
       "      <td>65.5</td>\n",
       "      <td>54.2</td>\n",
       "      <td>...</td>\n",
       "      <td>49.5</td>\n",
       "      <td>60.3</td>\n",
       "      <td>77.0</td>\n",
       "      <td>78.9</td>\n",
       "      <td>69.8</td>\n",
       "      <td>55.0</td>\n",
       "      <td>50.7</td>\n",
       "      <td>66.2</td>\n",
       "      <td>43.3</td>\n",
       "      <td>47.3</td>\n",
       "    </tr>\n",
       "    <tr>\n",
       "      <th>5</th>\n",
       "      <td>2017</td>\n",
       "      <td>FOOD SECURITY ENVIRONMENT</td>\n",
       "      <td>58.3</td>\n",
       "      <td>39.2</td>\n",
       "      <td>64.0</td>\n",
       "      <td>76.1</td>\n",
       "      <td>78.0</td>\n",
       "      <td>59.0</td>\n",
       "      <td>66.1</td>\n",
       "      <td>57.1</td>\n",
       "      <td>...</td>\n",
       "      <td>54.5</td>\n",
       "      <td>63.9</td>\n",
       "      <td>77.7</td>\n",
       "      <td>79.3</td>\n",
       "      <td>70.5</td>\n",
       "      <td>57.7</td>\n",
       "      <td>48.2</td>\n",
       "      <td>64.0</td>\n",
       "      <td>39.4</td>\n",
       "      <td>41.5</td>\n",
       "    </tr>\n",
       "    <tr>\n",
       "      <th>6</th>\n",
       "      <td>2018</td>\n",
       "      <td>FOOD SECURITY ENVIRONMENT</td>\n",
       "      <td>58.5</td>\n",
       "      <td>40.6</td>\n",
       "      <td>64.5</td>\n",
       "      <td>77.1</td>\n",
       "      <td>77.5</td>\n",
       "      <td>58.2</td>\n",
       "      <td>69.5</td>\n",
       "      <td>56.5</td>\n",
       "      <td>...</td>\n",
       "      <td>52.4</td>\n",
       "      <td>71.6</td>\n",
       "      <td>76.9</td>\n",
       "      <td>78.9</td>\n",
       "      <td>75.3</td>\n",
       "      <td>52.1</td>\n",
       "      <td>47.5</td>\n",
       "      <td>67.3</td>\n",
       "      <td>38.9</td>\n",
       "      <td>45.5</td>\n",
       "    </tr>\n",
       "    <tr>\n",
       "      <th>7</th>\n",
       "      <td>2019</td>\n",
       "      <td>FOOD SECURITY ENVIRONMENT</td>\n",
       "      <td>58.1</td>\n",
       "      <td>42.4</td>\n",
       "      <td>62.3</td>\n",
       "      <td>75.7</td>\n",
       "      <td>78.2</td>\n",
       "      <td>62.4</td>\n",
       "      <td>69.4</td>\n",
       "      <td>54.8</td>\n",
       "      <td>...</td>\n",
       "      <td>55.5</td>\n",
       "      <td>72.9</td>\n",
       "      <td>78.4</td>\n",
       "      <td>78.7</td>\n",
       "      <td>74.2</td>\n",
       "      <td>51.4</td>\n",
       "      <td>45.4</td>\n",
       "      <td>65.6</td>\n",
       "      <td>38.1</td>\n",
       "      <td>45.5</td>\n",
       "    </tr>\n",
       "    <tr>\n",
       "      <th>8</th>\n",
       "      <td>2020</td>\n",
       "      <td>FOOD SECURITY ENVIRONMENT</td>\n",
       "      <td>61.1</td>\n",
       "      <td>43.6</td>\n",
       "      <td>65.5</td>\n",
       "      <td>73.8</td>\n",
       "      <td>78.9</td>\n",
       "      <td>63.3</td>\n",
       "      <td>68.6</td>\n",
       "      <td>54.2</td>\n",
       "      <td>...</td>\n",
       "      <td>57.8</td>\n",
       "      <td>73.7</td>\n",
       "      <td>78.8</td>\n",
       "      <td>79.1</td>\n",
       "      <td>74.1</td>\n",
       "      <td>53.1</td>\n",
       "      <td>45.3</td>\n",
       "      <td>65.5</td>\n",
       "      <td>39.9</td>\n",
       "      <td>46.6</td>\n",
       "    </tr>\n",
       "    <tr>\n",
       "      <th>9</th>\n",
       "      <td>2021</td>\n",
       "      <td>FOOD SECURITY ENVIRONMENT</td>\n",
       "      <td>62.5</td>\n",
       "      <td>45.5</td>\n",
       "      <td>64.7</td>\n",
       "      <td>70.7</td>\n",
       "      <td>77.7</td>\n",
       "      <td>60.8</td>\n",
       "      <td>69.3</td>\n",
       "      <td>53.6</td>\n",
       "      <td>...</td>\n",
       "      <td>60.6</td>\n",
       "      <td>73.6</td>\n",
       "      <td>79.3</td>\n",
       "      <td>78.7</td>\n",
       "      <td>69.2</td>\n",
       "      <td>54.5</td>\n",
       "      <td>44.0</td>\n",
       "      <td>62.7</td>\n",
       "      <td>39.8</td>\n",
       "      <td>44.7</td>\n",
       "    </tr>\n",
       "    <tr>\n",
       "      <th>10</th>\n",
       "      <td>2022</td>\n",
       "      <td>FOOD SECURITY ENVIRONMENT</td>\n",
       "      <td>58.9</td>\n",
       "      <td>43.7</td>\n",
       "      <td>64.8</td>\n",
       "      <td>75.4</td>\n",
       "      <td>78.1</td>\n",
       "      <td>59.8</td>\n",
       "      <td>70.3</td>\n",
       "      <td>54.0</td>\n",
       "      <td>...</td>\n",
       "      <td>57.9</td>\n",
       "      <td>75.2</td>\n",
       "      <td>78.8</td>\n",
       "      <td>78.0</td>\n",
       "      <td>71.8</td>\n",
       "      <td>57.5</td>\n",
       "      <td>42.6</td>\n",
       "      <td>67.9</td>\n",
       "      <td>40.1</td>\n",
       "      <td>43.5</td>\n",
       "    </tr>\n",
       "  </tbody>\n",
       "</table>\n",
       "<p>11 rows × 115 columns</p>\n",
       "</div>"
      ],
      "text/plain": [
       "    year                      index  Algeria  Angola  Argentina  Australia  \\\n",
       "0   2012  FOOD SECURITY ENVIRONMENT     50.5    42.9       63.5       70.8   \n",
       "1   2013  FOOD SECURITY ENVIRONMENT     47.8    41.9       63.4       73.8   \n",
       "2   2014  FOOD SECURITY ENVIRONMENT     52.7    41.9       63.6       76.1   \n",
       "3   2015  FOOD SECURITY ENVIRONMENT     54.9    43.3       60.0       74.8   \n",
       "4   2016  FOOD SECURITY ENVIRONMENT     57.9    42.4       64.4       75.6   \n",
       "5   2017  FOOD SECURITY ENVIRONMENT     58.3    39.2       64.0       76.1   \n",
       "6   2018  FOOD SECURITY ENVIRONMENT     58.5    40.6       64.5       77.1   \n",
       "7   2019  FOOD SECURITY ENVIRONMENT     58.1    42.4       62.3       75.7   \n",
       "8   2020  FOOD SECURITY ENVIRONMENT     61.1    43.6       65.5       73.8   \n",
       "9   2021  FOOD SECURITY ENVIRONMENT     62.5    45.5       64.7       70.7   \n",
       "10  2022  FOOD SECURITY ENVIRONMENT     58.9    43.7       64.8       75.4   \n",
       "\n",
       "    Austria  Azerbaijan  Bahrain  Bangladesh  ...  Ukraine  \\\n",
       "0      74.4        56.9     64.7        47.1  ...     55.8   \n",
       "1      74.0        61.6     64.5        51.9  ...     54.3   \n",
       "2      76.0        63.8     65.9        53.0  ...     56.8   \n",
       "3      77.6        65.4     65.2        52.9  ...     53.1   \n",
       "4      77.4        62.8     65.5        54.2  ...     49.5   \n",
       "5      78.0        59.0     66.1        57.1  ...     54.5   \n",
       "6      77.5        58.2     69.5        56.5  ...     52.4   \n",
       "7      78.2        62.4     69.4        54.8  ...     55.5   \n",
       "8      78.9        63.3     68.6        54.2  ...     57.8   \n",
       "9      77.7        60.8     69.3        53.6  ...     60.6   \n",
       "10     78.1        59.8     70.3        54.0  ...     57.9   \n",
       "\n",
       "    United Arab Emirates  United Kingdom  United States  Uruguay  Uzbekistan  \\\n",
       "0                   63.2            71.6           76.7     60.9        50.4   \n",
       "1                   61.4            74.9           77.3     66.9        51.4   \n",
       "2                   62.1            73.9           78.1     67.0        49.9   \n",
       "3                   61.5            76.5           76.5     68.6        52.3   \n",
       "4                   60.3            77.0           78.9     69.8        55.0   \n",
       "5                   63.9            77.7           79.3     70.5        57.7   \n",
       "6                   71.6            76.9           78.9     75.3        52.1   \n",
       "7                   72.9            78.4           78.7     74.2        51.4   \n",
       "8                   73.7            78.8           79.1     74.1        53.1   \n",
       "9                   73.6            79.3           78.7     69.2        54.5   \n",
       "10                  75.2            78.8           78.0     71.8        57.5   \n",
       "\n",
       "    Venezuela  Vietnam  Yemen  Zambia  \n",
       "0        47.5     54.5   40.0    45.3  \n",
       "1        48.4     60.8   42.5    46.5  \n",
       "2        47.3     64.6   41.2    46.0  \n",
       "3        47.7     64.7   46.2    45.6  \n",
       "4        50.7     66.2   43.3    47.3  \n",
       "5        48.2     64.0   39.4    41.5  \n",
       "6        47.5     67.3   38.9    45.5  \n",
       "7        45.4     65.6   38.1    45.5  \n",
       "8        45.3     65.5   39.9    46.6  \n",
       "9        44.0     62.7   39.8    44.7  \n",
       "10       42.6     67.9   40.1    43.5  \n",
       "\n",
       "[11 rows x 115 columns]"
      ]
     },
     "execution_count": 61,
     "metadata": {},
     "output_type": "execute_result"
    }
   ],
   "source": [
    "fsi = pd.read_excel(\"fsi.xlsx\")\n",
    "fsi"
   ]
  },
  {
   "cell_type": "markdown",
   "id": "47051737",
   "metadata": {},
   "source": [
    "## Explanation: Transforming the Global Food Security Index Dataset\n",
    "\n",
    "The Global Food Security Index dataset is currently stored in a **wide format**, where each country is represented as a separate column. However, to perform effective data analysis, we need to transform the dataset into a **long format**, where countries are represented as values in a single column, making it easier to analyze and manipulate the data."
   ]
  },
  {
   "cell_type": "code",
   "execution_count": 62,
   "id": "7e7002ca",
   "metadata": {},
   "outputs": [
    {
     "data": {
      "text/html": [
       "<div>\n",
       "<style scoped>\n",
       "    .dataframe tbody tr th:only-of-type {\n",
       "        vertical-align: middle;\n",
       "    }\n",
       "\n",
       "    .dataframe tbody tr th {\n",
       "        vertical-align: top;\n",
       "    }\n",
       "\n",
       "    .dataframe thead th {\n",
       "        text-align: right;\n",
       "    }\n",
       "</style>\n",
       "<table border=\"1\" class=\"dataframe\">\n",
       "  <thead>\n",
       "    <tr style=\"text-align: right;\">\n",
       "      <th></th>\n",
       "      <th>year</th>\n",
       "      <th>index</th>\n",
       "      <th>country_1</th>\n",
       "      <th>Value</th>\n",
       "    </tr>\n",
       "  </thead>\n",
       "  <tbody>\n",
       "    <tr>\n",
       "      <th>0</th>\n",
       "      <td>2012</td>\n",
       "      <td>FOOD SECURITY ENVIRONMENT</td>\n",
       "      <td>Algeria</td>\n",
       "      <td>50.5</td>\n",
       "    </tr>\n",
       "    <tr>\n",
       "      <th>1</th>\n",
       "      <td>2013</td>\n",
       "      <td>FOOD SECURITY ENVIRONMENT</td>\n",
       "      <td>Algeria</td>\n",
       "      <td>47.8</td>\n",
       "    </tr>\n",
       "    <tr>\n",
       "      <th>2</th>\n",
       "      <td>2014</td>\n",
       "      <td>FOOD SECURITY ENVIRONMENT</td>\n",
       "      <td>Algeria</td>\n",
       "      <td>52.7</td>\n",
       "    </tr>\n",
       "    <tr>\n",
       "      <th>3</th>\n",
       "      <td>2015</td>\n",
       "      <td>FOOD SECURITY ENVIRONMENT</td>\n",
       "      <td>Algeria</td>\n",
       "      <td>54.9</td>\n",
       "    </tr>\n",
       "    <tr>\n",
       "      <th>4</th>\n",
       "      <td>2016</td>\n",
       "      <td>FOOD SECURITY ENVIRONMENT</td>\n",
       "      <td>Algeria</td>\n",
       "      <td>57.9</td>\n",
       "    </tr>\n",
       "    <tr>\n",
       "      <th>...</th>\n",
       "      <td>...</td>\n",
       "      <td>...</td>\n",
       "      <td>...</td>\n",
       "      <td>...</td>\n",
       "    </tr>\n",
       "    <tr>\n",
       "      <th>1238</th>\n",
       "      <td>2018</td>\n",
       "      <td>FOOD SECURITY ENVIRONMENT</td>\n",
       "      <td>Zambia</td>\n",
       "      <td>45.5</td>\n",
       "    </tr>\n",
       "    <tr>\n",
       "      <th>1239</th>\n",
       "      <td>2019</td>\n",
       "      <td>FOOD SECURITY ENVIRONMENT</td>\n",
       "      <td>Zambia</td>\n",
       "      <td>45.5</td>\n",
       "    </tr>\n",
       "    <tr>\n",
       "      <th>1240</th>\n",
       "      <td>2020</td>\n",
       "      <td>FOOD SECURITY ENVIRONMENT</td>\n",
       "      <td>Zambia</td>\n",
       "      <td>46.6</td>\n",
       "    </tr>\n",
       "    <tr>\n",
       "      <th>1241</th>\n",
       "      <td>2021</td>\n",
       "      <td>FOOD SECURITY ENVIRONMENT</td>\n",
       "      <td>Zambia</td>\n",
       "      <td>44.7</td>\n",
       "    </tr>\n",
       "    <tr>\n",
       "      <th>1242</th>\n",
       "      <td>2022</td>\n",
       "      <td>FOOD SECURITY ENVIRONMENT</td>\n",
       "      <td>Zambia</td>\n",
       "      <td>43.5</td>\n",
       "    </tr>\n",
       "  </tbody>\n",
       "</table>\n",
       "<p>1243 rows × 4 columns</p>\n",
       "</div>"
      ],
      "text/plain": [
       "      year                      index country_1  Value\n",
       "0     2012  FOOD SECURITY ENVIRONMENT   Algeria   50.5\n",
       "1     2013  FOOD SECURITY ENVIRONMENT   Algeria   47.8\n",
       "2     2014  FOOD SECURITY ENVIRONMENT   Algeria   52.7\n",
       "3     2015  FOOD SECURITY ENVIRONMENT   Algeria   54.9\n",
       "4     2016  FOOD SECURITY ENVIRONMENT   Algeria   57.9\n",
       "...    ...                        ...       ...    ...\n",
       "1238  2018  FOOD SECURITY ENVIRONMENT    Zambia   45.5\n",
       "1239  2019  FOOD SECURITY ENVIRONMENT    Zambia   45.5\n",
       "1240  2020  FOOD SECURITY ENVIRONMENT    Zambia   46.6\n",
       "1241  2021  FOOD SECURITY ENVIRONMENT    Zambia   44.7\n",
       "1242  2022  FOOD SECURITY ENVIRONMENT    Zambia   43.5\n",
       "\n",
       "[1243 rows x 4 columns]"
      ]
     },
     "execution_count": 62,
     "metadata": {},
     "output_type": "execute_result"
    }
   ],
   "source": [
    "fsi_long = pd.melt(\n",
    "    fsi,\n",
    "    id_vars=[\"year\", \"index\"],\n",
    "    var_name=\"country_1\",\n",
    "    value_name=\"Value\"\n",
    ")\n",
    "fsi_long"
   ]
  },
  {
   "cell_type": "markdown",
   "id": "2328c762",
   "metadata": {},
   "source": [
    "## Load the **Deforestation Data**"
   ]
  },
  {
   "cell_type": "code",
   "execution_count": 80,
   "id": "546d7249",
   "metadata": {},
   "outputs": [
    {
     "data": {
      "text/html": [
       "<div>\n",
       "<style scoped>\n",
       "    .dataframe tbody tr th:only-of-type {\n",
       "        vertical-align: middle;\n",
       "    }\n",
       "\n",
       "    .dataframe tbody tr th {\n",
       "        vertical-align: top;\n",
       "    }\n",
       "\n",
       "    .dataframe thead th {\n",
       "        text-align: right;\n",
       "    }\n",
       "</style>\n",
       "<table border=\"1\" class=\"dataframe\">\n",
       "  <thead>\n",
       "    <tr style=\"text-align: right;\">\n",
       "      <th></th>\n",
       "      <th>iso</th>\n",
       "      <th>umd_tree_cover_loss__year</th>\n",
       "      <th>umd_tree_cover_loss__ha</th>\n",
       "      <th>gfw_gross_emissions_co2e_all_gases__Mg</th>\n",
       "    </tr>\n",
       "  </thead>\n",
       "  <tbody>\n",
       "    <tr>\n",
       "      <th>0</th>\n",
       "      <td>AFG</td>\n",
       "      <td>2001</td>\n",
       "      <td>88.092712</td>\n",
       "      <td>2.324262e+04</td>\n",
       "    </tr>\n",
       "    <tr>\n",
       "      <th>1</th>\n",
       "      <td>AGO</td>\n",
       "      <td>2001</td>\n",
       "      <td>101220.621525</td>\n",
       "      <td>3.747955e+07</td>\n",
       "    </tr>\n",
       "    <tr>\n",
       "      <th>2</th>\n",
       "      <td>AIA</td>\n",
       "      <td>2001</td>\n",
       "      <td>3.878461</td>\n",
       "      <td>6.495611e+02</td>\n",
       "    </tr>\n",
       "    <tr>\n",
       "      <th>3</th>\n",
       "      <td>ALA</td>\n",
       "      <td>2001</td>\n",
       "      <td>396.934826</td>\n",
       "      <td>7.429655e+04</td>\n",
       "    </tr>\n",
       "    <tr>\n",
       "      <th>4</th>\n",
       "      <td>ALB</td>\n",
       "      <td>2001</td>\n",
       "      <td>3729.021031</td>\n",
       "      <td>1.365790e+06</td>\n",
       "    </tr>\n",
       "    <tr>\n",
       "      <th>...</th>\n",
       "      <td>...</td>\n",
       "      <td>...</td>\n",
       "      <td>...</td>\n",
       "      <td>...</td>\n",
       "    </tr>\n",
       "    <tr>\n",
       "      <th>4566</th>\n",
       "      <td>XKO</td>\n",
       "      <td>2023</td>\n",
       "      <td>1465.438575</td>\n",
       "      <td>8.512107e+05</td>\n",
       "    </tr>\n",
       "    <tr>\n",
       "      <th>4567</th>\n",
       "      <td>XNC</td>\n",
       "      <td>2023</td>\n",
       "      <td>41.029104</td>\n",
       "      <td>1.414011e+04</td>\n",
       "    </tr>\n",
       "    <tr>\n",
       "      <th>4568</th>\n",
       "      <td>ZAF</td>\n",
       "      <td>2023</td>\n",
       "      <td>29571.219239</td>\n",
       "      <td>2.619368e+07</td>\n",
       "    </tr>\n",
       "    <tr>\n",
       "      <th>4569</th>\n",
       "      <td>ZMB</td>\n",
       "      <td>2023</td>\n",
       "      <td>190416.586825</td>\n",
       "      <td>7.545991e+07</td>\n",
       "    </tr>\n",
       "    <tr>\n",
       "      <th>4570</th>\n",
       "      <td>ZWE</td>\n",
       "      <td>2023</td>\n",
       "      <td>5690.371581</td>\n",
       "      <td>3.272582e+06</td>\n",
       "    </tr>\n",
       "  </tbody>\n",
       "</table>\n",
       "<p>4571 rows × 4 columns</p>\n",
       "</div>"
      ],
      "text/plain": [
       "      iso  umd_tree_cover_loss__year  umd_tree_cover_loss__ha  \\\n",
       "0     AFG                       2001                88.092712   \n",
       "1     AGO                       2001            101220.621525   \n",
       "2     AIA                       2001                 3.878461   \n",
       "3     ALA                       2001               396.934826   \n",
       "4     ALB                       2001              3729.021031   \n",
       "...   ...                        ...                      ...   \n",
       "4566  XKO                       2023              1465.438575   \n",
       "4567  XNC                       2023                41.029104   \n",
       "4568  ZAF                       2023             29571.219239   \n",
       "4569  ZMB                       2023            190416.586825   \n",
       "4570  ZWE                       2023              5690.371581   \n",
       "\n",
       "      gfw_gross_emissions_co2e_all_gases__Mg  \n",
       "0                               2.324262e+04  \n",
       "1                               3.747955e+07  \n",
       "2                               6.495611e+02  \n",
       "3                               7.429655e+04  \n",
       "4                               1.365790e+06  \n",
       "...                                      ...  \n",
       "4566                            8.512107e+05  \n",
       "4567                            1.414011e+04  \n",
       "4568                            2.619368e+07  \n",
       "4569                            7.545991e+07  \n",
       "4570                            3.272582e+06  \n",
       "\n",
       "[4571 rows x 4 columns]"
      ]
     },
     "execution_count": 80,
     "metadata": {},
     "output_type": "execute_result"
    }
   ],
   "source": [
    "deforestation = pd.read_csv('treecover_loss__ha.csv')\n",
    "deforestation"
   ]
  },
  {
   "cell_type": "markdown",
   "id": "127cd248",
   "metadata": {},
   "source": [
    "### Data Preprocessing:\n",
    "\n",
    "- The forest dataset from **Global Forest Watch** includes a column named `iso`, which contains country codes following the International Organization for Standardization (ISO) standard. However, it does not include country names or additional specifications.\n",
    "- To address this, we need to identify and load an additional dataset containing ISO codes alongside country names and specifications. This will allow us to link the forest data to corresponding countries for further analysis.\n",
    "- Based on the output of the `info()` function, we can confirm that the data types for each column are appropriately formatted for analysis.\n",
    "- To improve readability, we need to rename the column `umd_tree_cover_loss__year` to `year`."
   ]
  },
  {
   "cell_type": "code",
   "execution_count": 77,
   "id": "0569d3ab",
   "metadata": {},
   "outputs": [
    {
     "data": {
      "text/html": [
       "<div>\n",
       "<style scoped>\n",
       "    .dataframe tbody tr th:only-of-type {\n",
       "        vertical-align: middle;\n",
       "    }\n",
       "\n",
       "    .dataframe tbody tr th {\n",
       "        vertical-align: top;\n",
       "    }\n",
       "\n",
       "    .dataframe thead th {\n",
       "        text-align: right;\n",
       "    }\n",
       "</style>\n",
       "<table border=\"1\" class=\"dataframe\">\n",
       "  <thead>\n",
       "    <tr style=\"text-align: right;\">\n",
       "      <th></th>\n",
       "      <th>iso</th>\n",
       "      <th>year</th>\n",
       "      <th>umd_tree_cover_loss__ha</th>\n",
       "      <th>gfw_gross_emissions_co2e_all_gases__Mg</th>\n",
       "    </tr>\n",
       "  </thead>\n",
       "  <tbody>\n",
       "    <tr>\n",
       "      <th>0</th>\n",
       "      <td>AFG</td>\n",
       "      <td>2001</td>\n",
       "      <td>88.092712</td>\n",
       "      <td>2.324262e+04</td>\n",
       "    </tr>\n",
       "    <tr>\n",
       "      <th>1</th>\n",
       "      <td>AGO</td>\n",
       "      <td>2001</td>\n",
       "      <td>101220.621525</td>\n",
       "      <td>3.747955e+07</td>\n",
       "    </tr>\n",
       "    <tr>\n",
       "      <th>2</th>\n",
       "      <td>AIA</td>\n",
       "      <td>2001</td>\n",
       "      <td>3.878461</td>\n",
       "      <td>6.495611e+02</td>\n",
       "    </tr>\n",
       "    <tr>\n",
       "      <th>3</th>\n",
       "      <td>ALA</td>\n",
       "      <td>2001</td>\n",
       "      <td>396.934826</td>\n",
       "      <td>7.429655e+04</td>\n",
       "    </tr>\n",
       "    <tr>\n",
       "      <th>4</th>\n",
       "      <td>ALB</td>\n",
       "      <td>2001</td>\n",
       "      <td>3729.021031</td>\n",
       "      <td>1.365790e+06</td>\n",
       "    </tr>\n",
       "    <tr>\n",
       "      <th>...</th>\n",
       "      <td>...</td>\n",
       "      <td>...</td>\n",
       "      <td>...</td>\n",
       "      <td>...</td>\n",
       "    </tr>\n",
       "    <tr>\n",
       "      <th>4566</th>\n",
       "      <td>XKO</td>\n",
       "      <td>2023</td>\n",
       "      <td>1465.438575</td>\n",
       "      <td>8.512107e+05</td>\n",
       "    </tr>\n",
       "    <tr>\n",
       "      <th>4567</th>\n",
       "      <td>XNC</td>\n",
       "      <td>2023</td>\n",
       "      <td>41.029104</td>\n",
       "      <td>1.414011e+04</td>\n",
       "    </tr>\n",
       "    <tr>\n",
       "      <th>4568</th>\n",
       "      <td>ZAF</td>\n",
       "      <td>2023</td>\n",
       "      <td>29571.219239</td>\n",
       "      <td>2.619368e+07</td>\n",
       "    </tr>\n",
       "    <tr>\n",
       "      <th>4569</th>\n",
       "      <td>ZMB</td>\n",
       "      <td>2023</td>\n",
       "      <td>190416.586825</td>\n",
       "      <td>7.545991e+07</td>\n",
       "    </tr>\n",
       "    <tr>\n",
       "      <th>4570</th>\n",
       "      <td>ZWE</td>\n",
       "      <td>2023</td>\n",
       "      <td>5690.371581</td>\n",
       "      <td>3.272582e+06</td>\n",
       "    </tr>\n",
       "  </tbody>\n",
       "</table>\n",
       "<p>4571 rows × 4 columns</p>\n",
       "</div>"
      ],
      "text/plain": [
       "      iso  year  umd_tree_cover_loss__ha  \\\n",
       "0     AFG  2001                88.092712   \n",
       "1     AGO  2001            101220.621525   \n",
       "2     AIA  2001                 3.878461   \n",
       "3     ALA  2001               396.934826   \n",
       "4     ALB  2001              3729.021031   \n",
       "...   ...   ...                      ...   \n",
       "4566  XKO  2023              1465.438575   \n",
       "4567  XNC  2023                41.029104   \n",
       "4568  ZAF  2023             29571.219239   \n",
       "4569  ZMB  2023            190416.586825   \n",
       "4570  ZWE  2023              5690.371581   \n",
       "\n",
       "      gfw_gross_emissions_co2e_all_gases__Mg  \n",
       "0                               2.324262e+04  \n",
       "1                               3.747955e+07  \n",
       "2                               6.495611e+02  \n",
       "3                               7.429655e+04  \n",
       "4                               1.365790e+06  \n",
       "...                                      ...  \n",
       "4566                            8.512107e+05  \n",
       "4567                            1.414011e+04  \n",
       "4568                            2.619368e+07  \n",
       "4569                            7.545991e+07  \n",
       "4570                            3.272582e+06  \n",
       "\n",
       "[4571 rows x 4 columns]"
      ]
     },
     "execution_count": 77,
     "metadata": {},
     "output_type": "execute_result"
    }
   ],
   "source": [
    "deforestation.rename(columns={\n",
    "    'umd_tree_cover_loss__year': 'year',\n",
    "}, inplace=True)\n",
    "deforestation"
   ]
  },
  {
   "cell_type": "markdown",
   "id": "d4a21101",
   "metadata": {},
   "source": [
    "### Preparing Data for Sub-Region Analysis\n",
    "\n",
    "To analyze the relationship between deforestation and food security at the sub-region level, we need data that includes sub-region information. Since our deforestation dataset contains ISO codes, we can load a dataset with ISO code mappings to sub-regions and merge it with our deforestation data to include the necessary sub-region details."
   ]
  },
  {
   "cell_type": "code",
   "execution_count": 81,
   "id": "d7efe41f",
   "metadata": {},
   "outputs": [
    {
     "data": {
      "text/html": [
       "<div>\n",
       "<style scoped>\n",
       "    .dataframe tbody tr th:only-of-type {\n",
       "        vertical-align: middle;\n",
       "    }\n",
       "\n",
       "    .dataframe tbody tr th {\n",
       "        vertical-align: top;\n",
       "    }\n",
       "\n",
       "    .dataframe thead th {\n",
       "        text-align: right;\n",
       "    }\n",
       "</style>\n",
       "<table border=\"1\" class=\"dataframe\">\n",
       "  <thead>\n",
       "    <tr style=\"text-align: right;\">\n",
       "      <th></th>\n",
       "      <th>alpha-3</th>\n",
       "      <th>name</th>\n",
       "      <th>continent_region</th>\n",
       "      <th>continent_sub_region</th>\n",
       "    </tr>\n",
       "  </thead>\n",
       "  <tbody>\n",
       "    <tr>\n",
       "      <th>0</th>\n",
       "      <td>AFG</td>\n",
       "      <td>Afghanistan</td>\n",
       "      <td>Asia</td>\n",
       "      <td>Southern Asia</td>\n",
       "    </tr>\n",
       "    <tr>\n",
       "      <th>1</th>\n",
       "      <td>ALA</td>\n",
       "      <td>Åland Islands</td>\n",
       "      <td>Europe</td>\n",
       "      <td>Northern Europe</td>\n",
       "    </tr>\n",
       "    <tr>\n",
       "      <th>2</th>\n",
       "      <td>ALB</td>\n",
       "      <td>Albania</td>\n",
       "      <td>Europe</td>\n",
       "      <td>Southern Europe</td>\n",
       "    </tr>\n",
       "    <tr>\n",
       "      <th>3</th>\n",
       "      <td>DZA</td>\n",
       "      <td>Algeria</td>\n",
       "      <td>Africa</td>\n",
       "      <td>Northern Africa</td>\n",
       "    </tr>\n",
       "    <tr>\n",
       "      <th>4</th>\n",
       "      <td>ASM</td>\n",
       "      <td>American Samoa</td>\n",
       "      <td>Oceania</td>\n",
       "      <td>Polynesia</td>\n",
       "    </tr>\n",
       "    <tr>\n",
       "      <th>...</th>\n",
       "      <td>...</td>\n",
       "      <td>...</td>\n",
       "      <td>...</td>\n",
       "      <td>...</td>\n",
       "    </tr>\n",
       "    <tr>\n",
       "      <th>244</th>\n",
       "      <td>WLF</td>\n",
       "      <td>Wallis and Futuna</td>\n",
       "      <td>Oceania</td>\n",
       "      <td>Polynesia</td>\n",
       "    </tr>\n",
       "    <tr>\n",
       "      <th>245</th>\n",
       "      <td>ESH</td>\n",
       "      <td>Western Sahara</td>\n",
       "      <td>Africa</td>\n",
       "      <td>Northern Africa</td>\n",
       "    </tr>\n",
       "    <tr>\n",
       "      <th>246</th>\n",
       "      <td>YEM</td>\n",
       "      <td>Yemen</td>\n",
       "      <td>Asia</td>\n",
       "      <td>Western Asia</td>\n",
       "    </tr>\n",
       "    <tr>\n",
       "      <th>247</th>\n",
       "      <td>ZMB</td>\n",
       "      <td>Zambia</td>\n",
       "      <td>Africa</td>\n",
       "      <td>Sub-Saharan Africa</td>\n",
       "    </tr>\n",
       "    <tr>\n",
       "      <th>248</th>\n",
       "      <td>ZWE</td>\n",
       "      <td>Zimbabwe</td>\n",
       "      <td>Africa</td>\n",
       "      <td>Sub-Saharan Africa</td>\n",
       "    </tr>\n",
       "  </tbody>\n",
       "</table>\n",
       "<p>249 rows × 4 columns</p>\n",
       "</div>"
      ],
      "text/plain": [
       "    alpha-3               name continent_region continent_sub_region\n",
       "0       AFG        Afghanistan             Asia        Southern Asia\n",
       "1       ALA      Åland Islands           Europe      Northern Europe\n",
       "2       ALB            Albania           Europe      Southern Europe\n",
       "3       DZA            Algeria           Africa      Northern Africa\n",
       "4       ASM     American Samoa          Oceania            Polynesia\n",
       "..      ...                ...              ...                  ...\n",
       "244     WLF  Wallis and Futuna          Oceania            Polynesia\n",
       "245     ESH     Western Sahara           Africa      Northern Africa\n",
       "246     YEM              Yemen             Asia         Western Asia\n",
       "247     ZMB             Zambia           Africa   Sub-Saharan Africa\n",
       "248     ZWE           Zimbabwe           Africa   Sub-Saharan Africa\n",
       "\n",
       "[249 rows x 4 columns]"
      ]
     },
     "execution_count": 81,
     "metadata": {},
     "output_type": "execute_result"
    }
   ],
   "source": [
    "iso = pd.read_csv(\"continents_region.csv\")\n",
    "iso"
   ]
  },
  {
   "cell_type": "code",
   "execution_count": 84,
   "id": "182eef8c",
   "metadata": {},
   "outputs": [
    {
     "data": {
      "text/html": [
       "<div>\n",
       "<style scoped>\n",
       "    .dataframe tbody tr th:only-of-type {\n",
       "        vertical-align: middle;\n",
       "    }\n",
       "\n",
       "    .dataframe tbody tr th {\n",
       "        vertical-align: top;\n",
       "    }\n",
       "\n",
       "    .dataframe thead th {\n",
       "        text-align: right;\n",
       "    }\n",
       "</style>\n",
       "<table border=\"1\" class=\"dataframe\">\n",
       "  <thead>\n",
       "    <tr style=\"text-align: right;\">\n",
       "      <th></th>\n",
       "      <th>alpha-3</th>\n",
       "      <th>country</th>\n",
       "      <th>continent_region</th>\n",
       "      <th>continent_sub_region</th>\n",
       "    </tr>\n",
       "  </thead>\n",
       "  <tbody>\n",
       "    <tr>\n",
       "      <th>0</th>\n",
       "      <td>AFG</td>\n",
       "      <td>Afghanistan</td>\n",
       "      <td>Asia</td>\n",
       "      <td>Southern Asia</td>\n",
       "    </tr>\n",
       "    <tr>\n",
       "      <th>1</th>\n",
       "      <td>ALA</td>\n",
       "      <td>Åland Islands</td>\n",
       "      <td>Europe</td>\n",
       "      <td>Northern Europe</td>\n",
       "    </tr>\n",
       "    <tr>\n",
       "      <th>2</th>\n",
       "      <td>ALB</td>\n",
       "      <td>Albania</td>\n",
       "      <td>Europe</td>\n",
       "      <td>Southern Europe</td>\n",
       "    </tr>\n",
       "    <tr>\n",
       "      <th>3</th>\n",
       "      <td>DZA</td>\n",
       "      <td>Algeria</td>\n",
       "      <td>Africa</td>\n",
       "      <td>Northern Africa</td>\n",
       "    </tr>\n",
       "    <tr>\n",
       "      <th>4</th>\n",
       "      <td>ASM</td>\n",
       "      <td>American Samoa</td>\n",
       "      <td>Oceania</td>\n",
       "      <td>Polynesia</td>\n",
       "    </tr>\n",
       "    <tr>\n",
       "      <th>...</th>\n",
       "      <td>...</td>\n",
       "      <td>...</td>\n",
       "      <td>...</td>\n",
       "      <td>...</td>\n",
       "    </tr>\n",
       "    <tr>\n",
       "      <th>244</th>\n",
       "      <td>WLF</td>\n",
       "      <td>Wallis and Futuna</td>\n",
       "      <td>Oceania</td>\n",
       "      <td>Polynesia</td>\n",
       "    </tr>\n",
       "    <tr>\n",
       "      <th>245</th>\n",
       "      <td>ESH</td>\n",
       "      <td>Western Sahara</td>\n",
       "      <td>Africa</td>\n",
       "      <td>Northern Africa</td>\n",
       "    </tr>\n",
       "    <tr>\n",
       "      <th>246</th>\n",
       "      <td>YEM</td>\n",
       "      <td>Yemen</td>\n",
       "      <td>Asia</td>\n",
       "      <td>Western Asia</td>\n",
       "    </tr>\n",
       "    <tr>\n",
       "      <th>247</th>\n",
       "      <td>ZMB</td>\n",
       "      <td>Zambia</td>\n",
       "      <td>Africa</td>\n",
       "      <td>Sub-Saharan Africa</td>\n",
       "    </tr>\n",
       "    <tr>\n",
       "      <th>248</th>\n",
       "      <td>ZWE</td>\n",
       "      <td>Zimbabwe</td>\n",
       "      <td>Africa</td>\n",
       "      <td>Sub-Saharan Africa</td>\n",
       "    </tr>\n",
       "  </tbody>\n",
       "</table>\n",
       "<p>249 rows × 4 columns</p>\n",
       "</div>"
      ],
      "text/plain": [
       "    alpha-3            country continent_region continent_sub_region\n",
       "0       AFG        Afghanistan             Asia        Southern Asia\n",
       "1       ALA      Åland Islands           Europe      Northern Europe\n",
       "2       ALB            Albania           Europe      Southern Europe\n",
       "3       DZA            Algeria           Africa      Northern Africa\n",
       "4       ASM     American Samoa          Oceania            Polynesia\n",
       "..      ...                ...              ...                  ...\n",
       "244     WLF  Wallis and Futuna          Oceania            Polynesia\n",
       "245     ESH     Western Sahara           Africa      Northern Africa\n",
       "246     YEM              Yemen             Asia         Western Asia\n",
       "247     ZMB             Zambia           Africa   Sub-Saharan Africa\n",
       "248     ZWE           Zimbabwe           Africa   Sub-Saharan Africa\n",
       "\n",
       "[249 rows x 4 columns]"
      ]
     },
     "execution_count": 84,
     "metadata": {},
     "output_type": "execute_result"
    }
   ],
   "source": [
    "iso.rename(columns={\n",
    "    'name': 'country',\n",
    "}, inplace=True)\n",
    "iso"
   ]
  },
  {
   "cell_type": "markdown",
   "id": "b13494bb",
   "metadata": {},
   "source": [
    "####  We are now ready to merge the deforestation dataset with the continent data to include detailed regional information."
   ]
  },
  {
   "cell_type": "code",
   "execution_count": 85,
   "id": "05e359f2",
   "metadata": {},
   "outputs": [
    {
     "data": {
      "text/html": [
       "<div>\n",
       "<style scoped>\n",
       "    .dataframe tbody tr th:only-of-type {\n",
       "        vertical-align: middle;\n",
       "    }\n",
       "\n",
       "    .dataframe tbody tr th {\n",
       "        vertical-align: top;\n",
       "    }\n",
       "\n",
       "    .dataframe thead th {\n",
       "        text-align: right;\n",
       "    }\n",
       "</style>\n",
       "<table border=\"1\" class=\"dataframe\">\n",
       "  <thead>\n",
       "    <tr style=\"text-align: right;\">\n",
       "      <th></th>\n",
       "      <th>iso</th>\n",
       "      <th>umd_tree_cover_loss__year</th>\n",
       "      <th>umd_tree_cover_loss__ha</th>\n",
       "      <th>gfw_gross_emissions_co2e_all_gases__Mg</th>\n",
       "      <th>alpha-3</th>\n",
       "      <th>country</th>\n",
       "      <th>continent_region</th>\n",
       "      <th>continent_sub_region</th>\n",
       "    </tr>\n",
       "  </thead>\n",
       "  <tbody>\n",
       "    <tr>\n",
       "      <th>0</th>\n",
       "      <td>AFG</td>\n",
       "      <td>2001</td>\n",
       "      <td>88.092712</td>\n",
       "      <td>2.324262e+04</td>\n",
       "      <td>AFG</td>\n",
       "      <td>Afghanistan</td>\n",
       "      <td>Asia</td>\n",
       "      <td>Southern Asia</td>\n",
       "    </tr>\n",
       "    <tr>\n",
       "      <th>1</th>\n",
       "      <td>AGO</td>\n",
       "      <td>2001</td>\n",
       "      <td>101220.621525</td>\n",
       "      <td>3.747955e+07</td>\n",
       "      <td>AGO</td>\n",
       "      <td>Angola</td>\n",
       "      <td>Africa</td>\n",
       "      <td>Sub-Saharan Africa</td>\n",
       "    </tr>\n",
       "    <tr>\n",
       "      <th>2</th>\n",
       "      <td>AIA</td>\n",
       "      <td>2001</td>\n",
       "      <td>3.878461</td>\n",
       "      <td>6.495611e+02</td>\n",
       "      <td>AIA</td>\n",
       "      <td>Anguilla</td>\n",
       "      <td>Americas</td>\n",
       "      <td>Latin America and the Caribbean</td>\n",
       "    </tr>\n",
       "    <tr>\n",
       "      <th>3</th>\n",
       "      <td>ALA</td>\n",
       "      <td>2001</td>\n",
       "      <td>396.934826</td>\n",
       "      <td>7.429655e+04</td>\n",
       "      <td>ALA</td>\n",
       "      <td>Åland Islands</td>\n",
       "      <td>Europe</td>\n",
       "      <td>Northern Europe</td>\n",
       "    </tr>\n",
       "    <tr>\n",
       "      <th>4</th>\n",
       "      <td>ALB</td>\n",
       "      <td>2001</td>\n",
       "      <td>3729.021031</td>\n",
       "      <td>1.365790e+06</td>\n",
       "      <td>ALB</td>\n",
       "      <td>Albania</td>\n",
       "      <td>Europe</td>\n",
       "      <td>Southern Europe</td>\n",
       "    </tr>\n",
       "    <tr>\n",
       "      <th>...</th>\n",
       "      <td>...</td>\n",
       "      <td>...</td>\n",
       "      <td>...</td>\n",
       "      <td>...</td>\n",
       "      <td>...</td>\n",
       "      <td>...</td>\n",
       "      <td>...</td>\n",
       "      <td>...</td>\n",
       "    </tr>\n",
       "    <tr>\n",
       "      <th>4566</th>\n",
       "      <td>XKO</td>\n",
       "      <td>2023</td>\n",
       "      <td>1465.438575</td>\n",
       "      <td>8.512107e+05</td>\n",
       "      <td>NaN</td>\n",
       "      <td>NaN</td>\n",
       "      <td>NaN</td>\n",
       "      <td>NaN</td>\n",
       "    </tr>\n",
       "    <tr>\n",
       "      <th>4567</th>\n",
       "      <td>XNC</td>\n",
       "      <td>2023</td>\n",
       "      <td>41.029104</td>\n",
       "      <td>1.414011e+04</td>\n",
       "      <td>NaN</td>\n",
       "      <td>NaN</td>\n",
       "      <td>NaN</td>\n",
       "      <td>NaN</td>\n",
       "    </tr>\n",
       "    <tr>\n",
       "      <th>4568</th>\n",
       "      <td>ZAF</td>\n",
       "      <td>2023</td>\n",
       "      <td>29571.219239</td>\n",
       "      <td>2.619368e+07</td>\n",
       "      <td>ZAF</td>\n",
       "      <td>South Africa</td>\n",
       "      <td>Africa</td>\n",
       "      <td>Sub-Saharan Africa</td>\n",
       "    </tr>\n",
       "    <tr>\n",
       "      <th>4569</th>\n",
       "      <td>ZMB</td>\n",
       "      <td>2023</td>\n",
       "      <td>190416.586825</td>\n",
       "      <td>7.545991e+07</td>\n",
       "      <td>ZMB</td>\n",
       "      <td>Zambia</td>\n",
       "      <td>Africa</td>\n",
       "      <td>Sub-Saharan Africa</td>\n",
       "    </tr>\n",
       "    <tr>\n",
       "      <th>4570</th>\n",
       "      <td>ZWE</td>\n",
       "      <td>2023</td>\n",
       "      <td>5690.371581</td>\n",
       "      <td>3.272582e+06</td>\n",
       "      <td>ZWE</td>\n",
       "      <td>Zimbabwe</td>\n",
       "      <td>Africa</td>\n",
       "      <td>Sub-Saharan Africa</td>\n",
       "    </tr>\n",
       "  </tbody>\n",
       "</table>\n",
       "<p>4571 rows × 8 columns</p>\n",
       "</div>"
      ],
      "text/plain": [
       "      iso  umd_tree_cover_loss__year  umd_tree_cover_loss__ha  \\\n",
       "0     AFG                       2001                88.092712   \n",
       "1     AGO                       2001            101220.621525   \n",
       "2     AIA                       2001                 3.878461   \n",
       "3     ALA                       2001               396.934826   \n",
       "4     ALB                       2001              3729.021031   \n",
       "...   ...                        ...                      ...   \n",
       "4566  XKO                       2023              1465.438575   \n",
       "4567  XNC                       2023                41.029104   \n",
       "4568  ZAF                       2023             29571.219239   \n",
       "4569  ZMB                       2023            190416.586825   \n",
       "4570  ZWE                       2023              5690.371581   \n",
       "\n",
       "      gfw_gross_emissions_co2e_all_gases__Mg alpha-3        country  \\\n",
       "0                               2.324262e+04     AFG    Afghanistan   \n",
       "1                               3.747955e+07     AGO         Angola   \n",
       "2                               6.495611e+02     AIA       Anguilla   \n",
       "3                               7.429655e+04     ALA  Åland Islands   \n",
       "4                               1.365790e+06     ALB        Albania   \n",
       "...                                      ...     ...            ...   \n",
       "4566                            8.512107e+05     NaN            NaN   \n",
       "4567                            1.414011e+04     NaN            NaN   \n",
       "4568                            2.619368e+07     ZAF   South Africa   \n",
       "4569                            7.545991e+07     ZMB         Zambia   \n",
       "4570                            3.272582e+06     ZWE       Zimbabwe   \n",
       "\n",
       "     continent_region             continent_sub_region  \n",
       "0                Asia                    Southern Asia  \n",
       "1              Africa               Sub-Saharan Africa  \n",
       "2            Americas  Latin America and the Caribbean  \n",
       "3              Europe                  Northern Europe  \n",
       "4              Europe                  Southern Europe  \n",
       "...               ...                              ...  \n",
       "4566              NaN                              NaN  \n",
       "4567              NaN                              NaN  \n",
       "4568           Africa               Sub-Saharan Africa  \n",
       "4569           Africa               Sub-Saharan Africa  \n",
       "4570           Africa               Sub-Saharan Africa  \n",
       "\n",
       "[4571 rows x 8 columns]"
      ]
     },
     "execution_count": 85,
     "metadata": {},
     "output_type": "execute_result"
    }
   ],
   "source": [
    "deforestation_iso = pd.merge(deforestation,\n",
    "                             iso, left_on=\"iso\", right_on=\"alpha-3\",\n",
    "                             how=\"left\")\n",
    "deforestation_iso"
   ]
  },
  {
   "cell_type": "markdown",
   "id": "8bc1557a",
   "metadata": {},
   "source": [
    "As observed, there are still several ISO codes that are not included in our region dataset. To address this, we need to identify these missing codes. If possible, we should supplement the dataset by filling in the appropriate country names and regional information from other reliable sources."
   ]
  },
  {
   "cell_type": "code",
   "execution_count": 86,
   "id": "87038f34",
   "metadata": {},
   "outputs": [
    {
     "data": {
      "text/html": [
       "<div>\n",
       "<style scoped>\n",
       "    .dataframe tbody tr th:only-of-type {\n",
       "        vertical-align: middle;\n",
       "    }\n",
       "\n",
       "    .dataframe tbody tr th {\n",
       "        vertical-align: top;\n",
       "    }\n",
       "\n",
       "    .dataframe thead th {\n",
       "        text-align: right;\n",
       "    }\n",
       "</style>\n",
       "<table border=\"1\" class=\"dataframe\">\n",
       "  <thead>\n",
       "    <tr style=\"text-align: right;\">\n",
       "      <th></th>\n",
       "      <th>iso</th>\n",
       "      <th>umd_tree_cover_loss__year</th>\n",
       "      <th>umd_tree_cover_loss__ha</th>\n",
       "      <th>gfw_gross_emissions_co2e_all_gases__Mg</th>\n",
       "      <th>alpha-3</th>\n",
       "      <th>country</th>\n",
       "      <th>continent_region</th>\n",
       "      <th>continent_sub_region</th>\n",
       "    </tr>\n",
       "  </thead>\n",
       "  <tbody>\n",
       "    <tr>\n",
       "      <th>200</th>\n",
       "      <td>XAD</td>\n",
       "      <td>2001</td>\n",
       "      <td>1.648989</td>\n",
       "      <td>382.712322</td>\n",
       "      <td>NaN</td>\n",
       "      <td>NaN</td>\n",
       "      <td>NaN</td>\n",
       "      <td>NaN</td>\n",
       "    </tr>\n",
       "    <tr>\n",
       "      <th>201</th>\n",
       "      <td>XCA</td>\n",
       "      <td>2001</td>\n",
       "      <td>9.735251</td>\n",
       "      <td>352.238546</td>\n",
       "      <td>NaN</td>\n",
       "      <td>NaN</td>\n",
       "      <td>NaN</td>\n",
       "      <td>NaN</td>\n",
       "    </tr>\n",
       "    <tr>\n",
       "      <th>202</th>\n",
       "      <td>XKO</td>\n",
       "      <td>2001</td>\n",
       "      <td>1122.205429</td>\n",
       "      <td>444640.900791</td>\n",
       "      <td>NaN</td>\n",
       "      <td>NaN</td>\n",
       "      <td>NaN</td>\n",
       "      <td>NaN</td>\n",
       "    </tr>\n",
       "    <tr>\n",
       "      <th>203</th>\n",
       "      <td>XNC</td>\n",
       "      <td>2001</td>\n",
       "      <td>17.661583</td>\n",
       "      <td>4908.941633</td>\n",
       "      <td>NaN</td>\n",
       "      <td>NaN</td>\n",
       "      <td>NaN</td>\n",
       "      <td>NaN</td>\n",
       "    </tr>\n",
       "    <tr>\n",
       "      <th>407</th>\n",
       "      <td>XAD</td>\n",
       "      <td>2002</td>\n",
       "      <td>0.507202</td>\n",
       "      <td>143.618419</td>\n",
       "      <td>NaN</td>\n",
       "      <td>NaN</td>\n",
       "      <td>NaN</td>\n",
       "      <td>NaN</td>\n",
       "    </tr>\n",
       "    <tr>\n",
       "      <th>...</th>\n",
       "      <td>...</td>\n",
       "      <td>...</td>\n",
       "      <td>...</td>\n",
       "      <td>...</td>\n",
       "      <td>...</td>\n",
       "      <td>...</td>\n",
       "      <td>...</td>\n",
       "      <td>...</td>\n",
       "    </tr>\n",
       "    <tr>\n",
       "      <th>4372</th>\n",
       "      <td>XKO</td>\n",
       "      <td>2022</td>\n",
       "      <td>784.685260</td>\n",
       "      <td>445103.190913</td>\n",
       "      <td>NaN</td>\n",
       "      <td>NaN</td>\n",
       "      <td>NaN</td>\n",
       "      <td>NaN</td>\n",
       "    </tr>\n",
       "    <tr>\n",
       "      <th>4373</th>\n",
       "      <td>XNC</td>\n",
       "      <td>2022</td>\n",
       "      <td>527.159030</td>\n",
       "      <td>75621.874984</td>\n",
       "      <td>NaN</td>\n",
       "      <td>NaN</td>\n",
       "      <td>NaN</td>\n",
       "      <td>NaN</td>\n",
       "    </tr>\n",
       "    <tr>\n",
       "      <th>4565</th>\n",
       "      <td>XCA</td>\n",
       "      <td>2023</td>\n",
       "      <td>0.989440</td>\n",
       "      <td>104.545602</td>\n",
       "      <td>NaN</td>\n",
       "      <td>NaN</td>\n",
       "      <td>NaN</td>\n",
       "      <td>NaN</td>\n",
       "    </tr>\n",
       "    <tr>\n",
       "      <th>4566</th>\n",
       "      <td>XKO</td>\n",
       "      <td>2023</td>\n",
       "      <td>1465.438575</td>\n",
       "      <td>851210.665131</td>\n",
       "      <td>NaN</td>\n",
       "      <td>NaN</td>\n",
       "      <td>NaN</td>\n",
       "      <td>NaN</td>\n",
       "    </tr>\n",
       "    <tr>\n",
       "      <th>4567</th>\n",
       "      <td>XNC</td>\n",
       "      <td>2023</td>\n",
       "      <td>41.029104</td>\n",
       "      <td>14140.107538</td>\n",
       "      <td>NaN</td>\n",
       "      <td>NaN</td>\n",
       "      <td>NaN</td>\n",
       "      <td>NaN</td>\n",
       "    </tr>\n",
       "  </tbody>\n",
       "</table>\n",
       "<p>87 rows × 8 columns</p>\n",
       "</div>"
      ],
      "text/plain": [
       "      iso  umd_tree_cover_loss__year  umd_tree_cover_loss__ha  \\\n",
       "200   XAD                       2001                 1.648989   \n",
       "201   XCA                       2001                 9.735251   \n",
       "202   XKO                       2001              1122.205429   \n",
       "203   XNC                       2001                17.661583   \n",
       "407   XAD                       2002                 0.507202   \n",
       "...   ...                        ...                      ...   \n",
       "4372  XKO                       2022               784.685260   \n",
       "4373  XNC                       2022               527.159030   \n",
       "4565  XCA                       2023                 0.989440   \n",
       "4566  XKO                       2023              1465.438575   \n",
       "4567  XNC                       2023                41.029104   \n",
       "\n",
       "      gfw_gross_emissions_co2e_all_gases__Mg alpha-3 country continent_region  \\\n",
       "200                               382.712322     NaN     NaN              NaN   \n",
       "201                               352.238546     NaN     NaN              NaN   \n",
       "202                            444640.900791     NaN     NaN              NaN   \n",
       "203                              4908.941633     NaN     NaN              NaN   \n",
       "407                               143.618419     NaN     NaN              NaN   \n",
       "...                                      ...     ...     ...              ...   \n",
       "4372                           445103.190913     NaN     NaN              NaN   \n",
       "4373                            75621.874984     NaN     NaN              NaN   \n",
       "4565                              104.545602     NaN     NaN              NaN   \n",
       "4566                           851210.665131     NaN     NaN              NaN   \n",
       "4567                            14140.107538     NaN     NaN              NaN   \n",
       "\n",
       "     continent_sub_region  \n",
       "200                   NaN  \n",
       "201                   NaN  \n",
       "202                   NaN  \n",
       "203                   NaN  \n",
       "407                   NaN  \n",
       "...                   ...  \n",
       "4372                  NaN  \n",
       "4373                  NaN  \n",
       "4565                  NaN  \n",
       "4566                  NaN  \n",
       "4567                  NaN  \n",
       "\n",
       "[87 rows x 8 columns]"
      ]
     },
     "execution_count": 86,
     "metadata": {},
     "output_type": "execute_result"
    }
   ],
   "source": [
    "nan_data = deforestation_iso[deforestation_iso['continent_region'].isna()]\n",
    "nan_data"
   ]
  },
  {
   "cell_type": "code",
   "execution_count": 87,
   "id": "2a922867",
   "metadata": {},
   "outputs": [
    {
     "data": {
      "text/plain": [
       "array(['XAD', 'XCA', 'XKO', 'XNC'], dtype=object)"
      ]
     },
     "execution_count": 87,
     "metadata": {},
     "output_type": "execute_result"
    }
   ],
   "source": [
    "nan_data['iso'].unique()"
   ]
  },
  {
   "cell_type": "markdown",
   "id": "36bcb8cd",
   "metadata": {},
   "source": [
    "According to ISO 3166-1, codes starting with ‘X’ are reserved for user-assigned purposes and do not officially represent recognized countries. However, these codes are often used informally in datasets and applications to denote specific regions or entities. Here’s how the following codes are interpreted:\n",
    "\n",
    "- **XAD**: Commonly used to denote **Andorra**.  \n",
    "- **XKO**: Typically used to represent **Kosovo**.  \n",
    "- **XNC**: Frequently stands for **New Caledonia**.\n",
    "\n",
    "The code **XCA** appears incomplete or undocumented. As a result, I have decided to drop it from the analysis."
   ]
  },
  {
   "cell_type": "code",
   "execution_count": 88,
   "id": "7a787b97",
   "metadata": {},
   "outputs": [
    {
     "data": {
      "text/html": [
       "<div>\n",
       "<style scoped>\n",
       "    .dataframe tbody tr th:only-of-type {\n",
       "        vertical-align: middle;\n",
       "    }\n",
       "\n",
       "    .dataframe tbody tr th {\n",
       "        vertical-align: top;\n",
       "    }\n",
       "\n",
       "    .dataframe thead th {\n",
       "        text-align: right;\n",
       "    }\n",
       "</style>\n",
       "<table border=\"1\" class=\"dataframe\">\n",
       "  <thead>\n",
       "    <tr style=\"text-align: right;\">\n",
       "      <th></th>\n",
       "      <th>iso</th>\n",
       "      <th>umd_tree_cover_loss__year</th>\n",
       "      <th>umd_tree_cover_loss__ha</th>\n",
       "      <th>gfw_gross_emissions_co2e_all_gases__Mg</th>\n",
       "      <th>alpha-3</th>\n",
       "      <th>country</th>\n",
       "      <th>continent_region</th>\n",
       "      <th>continent_sub_region</th>\n",
       "      <th>name</th>\n",
       "    </tr>\n",
       "  </thead>\n",
       "  <tbody>\n",
       "    <tr>\n",
       "      <th>0</th>\n",
       "      <td>AFG</td>\n",
       "      <td>2001</td>\n",
       "      <td>88.092712</td>\n",
       "      <td>2.324262e+04</td>\n",
       "      <td>AFG</td>\n",
       "      <td>Afghanistan</td>\n",
       "      <td>Asia</td>\n",
       "      <td>Southern Asia</td>\n",
       "      <td>NaN</td>\n",
       "    </tr>\n",
       "    <tr>\n",
       "      <th>1</th>\n",
       "      <td>AGO</td>\n",
       "      <td>2001</td>\n",
       "      <td>101220.621525</td>\n",
       "      <td>3.747955e+07</td>\n",
       "      <td>AGO</td>\n",
       "      <td>Angola</td>\n",
       "      <td>Africa</td>\n",
       "      <td>Sub-Saharan Africa</td>\n",
       "      <td>NaN</td>\n",
       "    </tr>\n",
       "    <tr>\n",
       "      <th>2</th>\n",
       "      <td>AIA</td>\n",
       "      <td>2001</td>\n",
       "      <td>3.878461</td>\n",
       "      <td>6.495611e+02</td>\n",
       "      <td>AIA</td>\n",
       "      <td>Anguilla</td>\n",
       "      <td>Americas</td>\n",
       "      <td>Latin America and the Caribbean</td>\n",
       "      <td>NaN</td>\n",
       "    </tr>\n",
       "    <tr>\n",
       "      <th>3</th>\n",
       "      <td>ALA</td>\n",
       "      <td>2001</td>\n",
       "      <td>396.934826</td>\n",
       "      <td>7.429655e+04</td>\n",
       "      <td>ALA</td>\n",
       "      <td>Åland Islands</td>\n",
       "      <td>Europe</td>\n",
       "      <td>Northern Europe</td>\n",
       "      <td>NaN</td>\n",
       "    </tr>\n",
       "    <tr>\n",
       "      <th>4</th>\n",
       "      <td>ALB</td>\n",
       "      <td>2001</td>\n",
       "      <td>3729.021031</td>\n",
       "      <td>1.365790e+06</td>\n",
       "      <td>ALB</td>\n",
       "      <td>Albania</td>\n",
       "      <td>Europe</td>\n",
       "      <td>Southern Europe</td>\n",
       "      <td>NaN</td>\n",
       "    </tr>\n",
       "    <tr>\n",
       "      <th>...</th>\n",
       "      <td>...</td>\n",
       "      <td>...</td>\n",
       "      <td>...</td>\n",
       "      <td>...</td>\n",
       "      <td>...</td>\n",
       "      <td>...</td>\n",
       "      <td>...</td>\n",
       "      <td>...</td>\n",
       "      <td>...</td>\n",
       "    </tr>\n",
       "    <tr>\n",
       "      <th>4566</th>\n",
       "      <td>XKO</td>\n",
       "      <td>2023</td>\n",
       "      <td>1465.438575</td>\n",
       "      <td>8.512107e+05</td>\n",
       "      <td>NaN</td>\n",
       "      <td>NaN</td>\n",
       "      <td>Europe</td>\n",
       "      <td>Southern Europe</td>\n",
       "      <td>Kosovo</td>\n",
       "    </tr>\n",
       "    <tr>\n",
       "      <th>4567</th>\n",
       "      <td>XNC</td>\n",
       "      <td>2023</td>\n",
       "      <td>41.029104</td>\n",
       "      <td>1.414011e+04</td>\n",
       "      <td>NaN</td>\n",
       "      <td>NaN</td>\n",
       "      <td>Oceania</td>\n",
       "      <td>Melanesia</td>\n",
       "      <td>New Caledonia</td>\n",
       "    </tr>\n",
       "    <tr>\n",
       "      <th>4568</th>\n",
       "      <td>ZAF</td>\n",
       "      <td>2023</td>\n",
       "      <td>29571.219239</td>\n",
       "      <td>2.619368e+07</td>\n",
       "      <td>ZAF</td>\n",
       "      <td>South Africa</td>\n",
       "      <td>Africa</td>\n",
       "      <td>Sub-Saharan Africa</td>\n",
       "      <td>NaN</td>\n",
       "    </tr>\n",
       "    <tr>\n",
       "      <th>4569</th>\n",
       "      <td>ZMB</td>\n",
       "      <td>2023</td>\n",
       "      <td>190416.586825</td>\n",
       "      <td>7.545991e+07</td>\n",
       "      <td>ZMB</td>\n",
       "      <td>Zambia</td>\n",
       "      <td>Africa</td>\n",
       "      <td>Sub-Saharan Africa</td>\n",
       "      <td>NaN</td>\n",
       "    </tr>\n",
       "    <tr>\n",
       "      <th>4570</th>\n",
       "      <td>ZWE</td>\n",
       "      <td>2023</td>\n",
       "      <td>5690.371581</td>\n",
       "      <td>3.272582e+06</td>\n",
       "      <td>ZWE</td>\n",
       "      <td>Zimbabwe</td>\n",
       "      <td>Africa</td>\n",
       "      <td>Sub-Saharan Africa</td>\n",
       "      <td>NaN</td>\n",
       "    </tr>\n",
       "  </tbody>\n",
       "</table>\n",
       "<p>4571 rows × 9 columns</p>\n",
       "</div>"
      ],
      "text/plain": [
       "      iso  umd_tree_cover_loss__year  umd_tree_cover_loss__ha  \\\n",
       "0     AFG                       2001                88.092712   \n",
       "1     AGO                       2001            101220.621525   \n",
       "2     AIA                       2001                 3.878461   \n",
       "3     ALA                       2001               396.934826   \n",
       "4     ALB                       2001              3729.021031   \n",
       "...   ...                        ...                      ...   \n",
       "4566  XKO                       2023              1465.438575   \n",
       "4567  XNC                       2023                41.029104   \n",
       "4568  ZAF                       2023             29571.219239   \n",
       "4569  ZMB                       2023            190416.586825   \n",
       "4570  ZWE                       2023              5690.371581   \n",
       "\n",
       "      gfw_gross_emissions_co2e_all_gases__Mg alpha-3        country  \\\n",
       "0                               2.324262e+04     AFG    Afghanistan   \n",
       "1                               3.747955e+07     AGO         Angola   \n",
       "2                               6.495611e+02     AIA       Anguilla   \n",
       "3                               7.429655e+04     ALA  Åland Islands   \n",
       "4                               1.365790e+06     ALB        Albania   \n",
       "...                                      ...     ...            ...   \n",
       "4566                            8.512107e+05     NaN            NaN   \n",
       "4567                            1.414011e+04     NaN            NaN   \n",
       "4568                            2.619368e+07     ZAF   South Africa   \n",
       "4569                            7.545991e+07     ZMB         Zambia   \n",
       "4570                            3.272582e+06     ZWE       Zimbabwe   \n",
       "\n",
       "     continent_region             continent_sub_region           name  \n",
       "0                Asia                    Southern Asia            NaN  \n",
       "1              Africa               Sub-Saharan Africa            NaN  \n",
       "2            Americas  Latin America and the Caribbean            NaN  \n",
       "3              Europe                  Northern Europe            NaN  \n",
       "4              Europe                  Southern Europe            NaN  \n",
       "...               ...                              ...            ...  \n",
       "4566           Europe                  Southern Europe         Kosovo  \n",
       "4567          Oceania                        Melanesia  New Caledonia  \n",
       "4568           Africa               Sub-Saharan Africa            NaN  \n",
       "4569           Africa               Sub-Saharan Africa            NaN  \n",
       "4570           Africa               Sub-Saharan Africa            NaN  \n",
       "\n",
       "[4571 rows x 9 columns]"
      ]
     },
     "execution_count": 88,
     "metadata": {},
     "output_type": "execute_result"
    }
   ],
   "source": [
    "update_values = {\n",
    "    'XAD': {'country': 'Andorra', 'continent_region': 'Europe', 'continent_sub_region': 'Southern Europe'},\n",
    "    'XKO': {'country': 'Kosovo', 'continent_region': 'Europe', 'continent_sub_region': 'Southern Europe'},\n",
    "    'XNC': {'country': 'New Caledonia', 'continent_region': 'Oceania', 'continent_sub_region': 'Melanesia'}\n",
    "}\n",
    "\n",
    "for iso, values in update_values.items():\n",
    "    deforestation_iso.loc[deforestation_iso['iso'] == iso,\n",
    "                      ['name', 'continent_region', 'continent_sub_region']] = values.values()\n",
    "deforestation_iso"
   ]
  },
  {
   "cell_type": "markdown",
   "id": "b164fae7",
   "metadata": {},
   "source": [
    "#### Dropping the XCA Data"
   ]
  },
  {
   "cell_type": "code",
   "execution_count": 95,
   "id": "c89bb41c",
   "metadata": {},
   "outputs": [
    {
     "data": {
      "text/html": [
       "<div>\n",
       "<style scoped>\n",
       "    .dataframe tbody tr th:only-of-type {\n",
       "        vertical-align: middle;\n",
       "    }\n",
       "\n",
       "    .dataframe tbody tr th {\n",
       "        vertical-align: top;\n",
       "    }\n",
       "\n",
       "    .dataframe thead th {\n",
       "        text-align: right;\n",
       "    }\n",
       "</style>\n",
       "<table border=\"1\" class=\"dataframe\">\n",
       "  <thead>\n",
       "    <tr style=\"text-align: right;\">\n",
       "      <th></th>\n",
       "      <th>iso</th>\n",
       "      <th>umd_tree_cover_loss__year</th>\n",
       "      <th>umd_tree_cover_loss__ha</th>\n",
       "      <th>gfw_gross_emissions_co2e_all_gases__Mg</th>\n",
       "      <th>country</th>\n",
       "      <th>continent_region</th>\n",
       "      <th>continent_sub_region</th>\n",
       "      <th>name</th>\n",
       "    </tr>\n",
       "  </thead>\n",
       "  <tbody>\n",
       "    <tr>\n",
       "      <th>0</th>\n",
       "      <td>AFG</td>\n",
       "      <td>2001</td>\n",
       "      <td>88.092712</td>\n",
       "      <td>2.324262e+04</td>\n",
       "      <td>Afghanistan</td>\n",
       "      <td>Asia</td>\n",
       "      <td>Southern Asia</td>\n",
       "      <td>NaN</td>\n",
       "    </tr>\n",
       "    <tr>\n",
       "      <th>1</th>\n",
       "      <td>AGO</td>\n",
       "      <td>2001</td>\n",
       "      <td>101220.621525</td>\n",
       "      <td>3.747955e+07</td>\n",
       "      <td>Angola</td>\n",
       "      <td>Africa</td>\n",
       "      <td>Sub-Saharan Africa</td>\n",
       "      <td>NaN</td>\n",
       "    </tr>\n",
       "    <tr>\n",
       "      <th>2</th>\n",
       "      <td>AIA</td>\n",
       "      <td>2001</td>\n",
       "      <td>3.878461</td>\n",
       "      <td>6.495611e+02</td>\n",
       "      <td>Anguilla</td>\n",
       "      <td>Americas</td>\n",
       "      <td>Latin America and the Caribbean</td>\n",
       "      <td>NaN</td>\n",
       "    </tr>\n",
       "    <tr>\n",
       "      <th>3</th>\n",
       "      <td>ALA</td>\n",
       "      <td>2001</td>\n",
       "      <td>396.934826</td>\n",
       "      <td>7.429655e+04</td>\n",
       "      <td>Åland Islands</td>\n",
       "      <td>Europe</td>\n",
       "      <td>Northern Europe</td>\n",
       "      <td>NaN</td>\n",
       "    </tr>\n",
       "    <tr>\n",
       "      <th>4</th>\n",
       "      <td>ALB</td>\n",
       "      <td>2001</td>\n",
       "      <td>3729.021031</td>\n",
       "      <td>1.365790e+06</td>\n",
       "      <td>Albania</td>\n",
       "      <td>Europe</td>\n",
       "      <td>Southern Europe</td>\n",
       "      <td>NaN</td>\n",
       "    </tr>\n",
       "    <tr>\n",
       "      <th>...</th>\n",
       "      <td>...</td>\n",
       "      <td>...</td>\n",
       "      <td>...</td>\n",
       "      <td>...</td>\n",
       "      <td>...</td>\n",
       "      <td>...</td>\n",
       "      <td>...</td>\n",
       "      <td>...</td>\n",
       "    </tr>\n",
       "    <tr>\n",
       "      <th>4566</th>\n",
       "      <td>XKO</td>\n",
       "      <td>2023</td>\n",
       "      <td>1465.438575</td>\n",
       "      <td>8.512107e+05</td>\n",
       "      <td>NaN</td>\n",
       "      <td>Europe</td>\n",
       "      <td>Southern Europe</td>\n",
       "      <td>Kosovo</td>\n",
       "    </tr>\n",
       "    <tr>\n",
       "      <th>4567</th>\n",
       "      <td>XNC</td>\n",
       "      <td>2023</td>\n",
       "      <td>41.029104</td>\n",
       "      <td>1.414011e+04</td>\n",
       "      <td>NaN</td>\n",
       "      <td>Oceania</td>\n",
       "      <td>Melanesia</td>\n",
       "      <td>New Caledonia</td>\n",
       "    </tr>\n",
       "    <tr>\n",
       "      <th>4568</th>\n",
       "      <td>ZAF</td>\n",
       "      <td>2023</td>\n",
       "      <td>29571.219239</td>\n",
       "      <td>2.619368e+07</td>\n",
       "      <td>South Africa</td>\n",
       "      <td>Africa</td>\n",
       "      <td>Sub-Saharan Africa</td>\n",
       "      <td>NaN</td>\n",
       "    </tr>\n",
       "    <tr>\n",
       "      <th>4569</th>\n",
       "      <td>ZMB</td>\n",
       "      <td>2023</td>\n",
       "      <td>190416.586825</td>\n",
       "      <td>7.545991e+07</td>\n",
       "      <td>Zambia</td>\n",
       "      <td>Africa</td>\n",
       "      <td>Sub-Saharan Africa</td>\n",
       "      <td>NaN</td>\n",
       "    </tr>\n",
       "    <tr>\n",
       "      <th>4570</th>\n",
       "      <td>ZWE</td>\n",
       "      <td>2023</td>\n",
       "      <td>5690.371581</td>\n",
       "      <td>3.272582e+06</td>\n",
       "      <td>Zimbabwe</td>\n",
       "      <td>Africa</td>\n",
       "      <td>Sub-Saharan Africa</td>\n",
       "      <td>NaN</td>\n",
       "    </tr>\n",
       "  </tbody>\n",
       "</table>\n",
       "<p>4551 rows × 8 columns</p>\n",
       "</div>"
      ],
      "text/plain": [
       "      iso  umd_tree_cover_loss__year  umd_tree_cover_loss__ha  \\\n",
       "0     AFG                       2001                88.092712   \n",
       "1     AGO                       2001            101220.621525   \n",
       "2     AIA                       2001                 3.878461   \n",
       "3     ALA                       2001               396.934826   \n",
       "4     ALB                       2001              3729.021031   \n",
       "...   ...                        ...                      ...   \n",
       "4566  XKO                       2023              1465.438575   \n",
       "4567  XNC                       2023                41.029104   \n",
       "4568  ZAF                       2023             29571.219239   \n",
       "4569  ZMB                       2023            190416.586825   \n",
       "4570  ZWE                       2023              5690.371581   \n",
       "\n",
       "      gfw_gross_emissions_co2e_all_gases__Mg        country continent_region  \\\n",
       "0                               2.324262e+04    Afghanistan             Asia   \n",
       "1                               3.747955e+07         Angola           Africa   \n",
       "2                               6.495611e+02       Anguilla         Americas   \n",
       "3                               7.429655e+04  Åland Islands           Europe   \n",
       "4                               1.365790e+06        Albania           Europe   \n",
       "...                                      ...            ...              ...   \n",
       "4566                            8.512107e+05            NaN           Europe   \n",
       "4567                            1.414011e+04            NaN          Oceania   \n",
       "4568                            2.619368e+07   South Africa           Africa   \n",
       "4569                            7.545991e+07         Zambia           Africa   \n",
       "4570                            3.272582e+06       Zimbabwe           Africa   \n",
       "\n",
       "                 continent_sub_region           name  \n",
       "0                       Southern Asia            NaN  \n",
       "1                  Sub-Saharan Africa            NaN  \n",
       "2     Latin America and the Caribbean            NaN  \n",
       "3                     Northern Europe            NaN  \n",
       "4                     Southern Europe            NaN  \n",
       "...                               ...            ...  \n",
       "4566                  Southern Europe         Kosovo  \n",
       "4567                        Melanesia  New Caledonia  \n",
       "4568               Sub-Saharan Africa            NaN  \n",
       "4569               Sub-Saharan Africa            NaN  \n",
       "4570               Sub-Saharan Africa            NaN  \n",
       "\n",
       "[4551 rows x 8 columns]"
      ]
     },
     "execution_count": 95,
     "metadata": {},
     "output_type": "execute_result"
    }
   ],
   "source": [
    "deforestation_iso = deforestation_iso[deforestation_iso['iso'] != 'XCA']\n",
    "deforestation_iso"
   ]
  },
  {
   "cell_type": "code",
   "execution_count": 93,
   "id": "cca92e52",
   "metadata": {},
   "outputs": [
    {
     "name": "stdout",
     "output_type": "stream",
     "text": [
      "['iso', 'umd_tree_cover_loss__year', 'umd_tree_cover_loss__ha', 'gfw_gross_emissions_co2e_all_gases__Mg', 'country', 'continent_region', 'continent_sub_region', 'name']\n"
     ]
    }
   ],
   "source": [
    "print(deforestation_iso.columns.tolist())"
   ]
  },
  {
   "cell_type": "code",
   "execution_count": 94,
   "id": "a501dc59",
   "metadata": {},
   "outputs": [
    {
     "data": {
      "text/html": [
       "<div>\n",
       "<style scoped>\n",
       "    .dataframe tbody tr th:only-of-type {\n",
       "        vertical-align: middle;\n",
       "    }\n",
       "\n",
       "    .dataframe tbody tr th {\n",
       "        vertical-align: top;\n",
       "    }\n",
       "\n",
       "    .dataframe thead th {\n",
       "        text-align: right;\n",
       "    }\n",
       "</style>\n",
       "<table border=\"1\" class=\"dataframe\">\n",
       "  <thead>\n",
       "    <tr style=\"text-align: right;\">\n",
       "      <th></th>\n",
       "      <th>iso</th>\n",
       "      <th>umd_tree_cover_loss__year</th>\n",
       "      <th>umd_tree_cover_loss__ha</th>\n",
       "      <th>gfw_gross_emissions_co2e_all_gases__Mg</th>\n",
       "      <th>country</th>\n",
       "      <th>continent_region</th>\n",
       "      <th>continent_sub_region</th>\n",
       "      <th>name</th>\n",
       "    </tr>\n",
       "  </thead>\n",
       "  <tbody>\n",
       "    <tr>\n",
       "      <th>0</th>\n",
       "      <td>AFG</td>\n",
       "      <td>2001</td>\n",
       "      <td>88.092712</td>\n",
       "      <td>2.324262e+04</td>\n",
       "      <td>Afghanistan</td>\n",
       "      <td>Asia</td>\n",
       "      <td>Southern Asia</td>\n",
       "      <td>NaN</td>\n",
       "    </tr>\n",
       "    <tr>\n",
       "      <th>1</th>\n",
       "      <td>AGO</td>\n",
       "      <td>2001</td>\n",
       "      <td>101220.621525</td>\n",
       "      <td>3.747955e+07</td>\n",
       "      <td>Angola</td>\n",
       "      <td>Africa</td>\n",
       "      <td>Sub-Saharan Africa</td>\n",
       "      <td>NaN</td>\n",
       "    </tr>\n",
       "    <tr>\n",
       "      <th>2</th>\n",
       "      <td>AIA</td>\n",
       "      <td>2001</td>\n",
       "      <td>3.878461</td>\n",
       "      <td>6.495611e+02</td>\n",
       "      <td>Anguilla</td>\n",
       "      <td>Americas</td>\n",
       "      <td>Latin America and the Caribbean</td>\n",
       "      <td>NaN</td>\n",
       "    </tr>\n",
       "    <tr>\n",
       "      <th>3</th>\n",
       "      <td>ALA</td>\n",
       "      <td>2001</td>\n",
       "      <td>396.934826</td>\n",
       "      <td>7.429655e+04</td>\n",
       "      <td>Åland Islands</td>\n",
       "      <td>Europe</td>\n",
       "      <td>Northern Europe</td>\n",
       "      <td>NaN</td>\n",
       "    </tr>\n",
       "    <tr>\n",
       "      <th>4</th>\n",
       "      <td>ALB</td>\n",
       "      <td>2001</td>\n",
       "      <td>3729.021031</td>\n",
       "      <td>1.365790e+06</td>\n",
       "      <td>Albania</td>\n",
       "      <td>Europe</td>\n",
       "      <td>Southern Europe</td>\n",
       "      <td>NaN</td>\n",
       "    </tr>\n",
       "    <tr>\n",
       "      <th>...</th>\n",
       "      <td>...</td>\n",
       "      <td>...</td>\n",
       "      <td>...</td>\n",
       "      <td>...</td>\n",
       "      <td>...</td>\n",
       "      <td>...</td>\n",
       "      <td>...</td>\n",
       "      <td>...</td>\n",
       "    </tr>\n",
       "    <tr>\n",
       "      <th>4566</th>\n",
       "      <td>XKO</td>\n",
       "      <td>2023</td>\n",
       "      <td>1465.438575</td>\n",
       "      <td>8.512107e+05</td>\n",
       "      <td>NaN</td>\n",
       "      <td>Europe</td>\n",
       "      <td>Southern Europe</td>\n",
       "      <td>Kosovo</td>\n",
       "    </tr>\n",
       "    <tr>\n",
       "      <th>4567</th>\n",
       "      <td>XNC</td>\n",
       "      <td>2023</td>\n",
       "      <td>41.029104</td>\n",
       "      <td>1.414011e+04</td>\n",
       "      <td>NaN</td>\n",
       "      <td>Oceania</td>\n",
       "      <td>Melanesia</td>\n",
       "      <td>New Caledonia</td>\n",
       "    </tr>\n",
       "    <tr>\n",
       "      <th>4568</th>\n",
       "      <td>ZAF</td>\n",
       "      <td>2023</td>\n",
       "      <td>29571.219239</td>\n",
       "      <td>2.619368e+07</td>\n",
       "      <td>South Africa</td>\n",
       "      <td>Africa</td>\n",
       "      <td>Sub-Saharan Africa</td>\n",
       "      <td>NaN</td>\n",
       "    </tr>\n",
       "    <tr>\n",
       "      <th>4569</th>\n",
       "      <td>ZMB</td>\n",
       "      <td>2023</td>\n",
       "      <td>190416.586825</td>\n",
       "      <td>7.545991e+07</td>\n",
       "      <td>Zambia</td>\n",
       "      <td>Africa</td>\n",
       "      <td>Sub-Saharan Africa</td>\n",
       "      <td>NaN</td>\n",
       "    </tr>\n",
       "    <tr>\n",
       "      <th>4570</th>\n",
       "      <td>ZWE</td>\n",
       "      <td>2023</td>\n",
       "      <td>5690.371581</td>\n",
       "      <td>3.272582e+06</td>\n",
       "      <td>Zimbabwe</td>\n",
       "      <td>Africa</td>\n",
       "      <td>Sub-Saharan Africa</td>\n",
       "      <td>NaN</td>\n",
       "    </tr>\n",
       "  </tbody>\n",
       "</table>\n",
       "<p>4551 rows × 8 columns</p>\n",
       "</div>"
      ],
      "text/plain": [
       "      iso  umd_tree_cover_loss__year  umd_tree_cover_loss__ha  \\\n",
       "0     AFG                       2001                88.092712   \n",
       "1     AGO                       2001            101220.621525   \n",
       "2     AIA                       2001                 3.878461   \n",
       "3     ALA                       2001               396.934826   \n",
       "4     ALB                       2001              3729.021031   \n",
       "...   ...                        ...                      ...   \n",
       "4566  XKO                       2023              1465.438575   \n",
       "4567  XNC                       2023                41.029104   \n",
       "4568  ZAF                       2023             29571.219239   \n",
       "4569  ZMB                       2023            190416.586825   \n",
       "4570  ZWE                       2023              5690.371581   \n",
       "\n",
       "      gfw_gross_emissions_co2e_all_gases__Mg        country continent_region  \\\n",
       "0                               2.324262e+04    Afghanistan             Asia   \n",
       "1                               3.747955e+07         Angola           Africa   \n",
       "2                               6.495611e+02       Anguilla         Americas   \n",
       "3                               7.429655e+04  Åland Islands           Europe   \n",
       "4                               1.365790e+06        Albania           Europe   \n",
       "...                                      ...            ...              ...   \n",
       "4566                            8.512107e+05            NaN           Europe   \n",
       "4567                            1.414011e+04            NaN          Oceania   \n",
       "4568                            2.619368e+07   South Africa           Africa   \n",
       "4569                            7.545991e+07         Zambia           Africa   \n",
       "4570                            3.272582e+06       Zimbabwe           Africa   \n",
       "\n",
       "                 continent_sub_region           name  \n",
       "0                       Southern Asia            NaN  \n",
       "1                  Sub-Saharan Africa            NaN  \n",
       "2     Latin America and the Caribbean            NaN  \n",
       "3                     Northern Europe            NaN  \n",
       "4                     Southern Europe            NaN  \n",
       "...                               ...            ...  \n",
       "4566                  Southern Europe         Kosovo  \n",
       "4567                        Melanesia  New Caledonia  \n",
       "4568               Sub-Saharan Africa            NaN  \n",
       "4569               Sub-Saharan Africa            NaN  \n",
       "4570               Sub-Saharan Africa            NaN  \n",
       "\n",
       "[4551 rows x 8 columns]"
      ]
     },
     "execution_count": 94,
     "metadata": {},
     "output_type": "execute_result"
    }
   ],
   "source": [
    "deforestation_iso"
   ]
  },
  {
   "cell_type": "code",
   "execution_count": null,
   "id": "e5eac191",
   "metadata": {},
   "outputs": [],
   "source": []
  },
  {
   "cell_type": "code",
   "execution_count": null,
   "id": "e5009151",
   "metadata": {},
   "outputs": [],
   "source": []
  },
  {
   "cell_type": "code",
   "execution_count": 14,
   "id": "661a67f6",
   "metadata": {},
   "outputs": [
    {
     "data": {
      "text/html": [
       "<div>\n",
       "<style scoped>\n",
       "    .dataframe tbody tr th:only-of-type {\n",
       "        vertical-align: middle;\n",
       "    }\n",
       "\n",
       "    .dataframe tbody tr th {\n",
       "        vertical-align: top;\n",
       "    }\n",
       "\n",
       "    .dataframe thead th {\n",
       "        text-align: right;\n",
       "    }\n",
       "</style>\n",
       "<table border=\"1\" class=\"dataframe\">\n",
       "  <thead>\n",
       "    <tr style=\"text-align: right;\">\n",
       "      <th></th>\n",
       "      <th>iso</th>\n",
       "      <th>year</th>\n",
       "      <th>umd_tree_cover_loss__ha</th>\n",
       "      <th>gfw_gross_emissions_co2e_all_gases__Mg</th>\n",
       "      <th>alpha-3</th>\n",
       "      <th>country_1</th>\n",
       "      <th>continent_region</th>\n",
       "      <th>continent_sub_region</th>\n",
       "      <th>index</th>\n",
       "      <th>Value</th>\n",
       "    </tr>\n",
       "  </thead>\n",
       "  <tbody>\n",
       "    <tr>\n",
       "      <th>0</th>\n",
       "      <td>AGO</td>\n",
       "      <td>2012</td>\n",
       "      <td>180754.820684</td>\n",
       "      <td>5.826792e+07</td>\n",
       "      <td>AGO</td>\n",
       "      <td>Angola</td>\n",
       "      <td>Africa</td>\n",
       "      <td>Sub-Saharan Africa</td>\n",
       "      <td>FOOD SECURITY ENVIRONMENT</td>\n",
       "      <td>42.9</td>\n",
       "    </tr>\n",
       "    <tr>\n",
       "      <th>1</th>\n",
       "      <td>ARE</td>\n",
       "      <td>2012</td>\n",
       "      <td>0.000000</td>\n",
       "      <td>7.844774e+00</td>\n",
       "      <td>ARE</td>\n",
       "      <td>United Arab Emirates</td>\n",
       "      <td>Asia</td>\n",
       "      <td>Western Asia</td>\n",
       "      <td>FOOD SECURITY ENVIRONMENT</td>\n",
       "      <td>63.2</td>\n",
       "    </tr>\n",
       "    <tr>\n",
       "      <th>2</th>\n",
       "      <td>ARG</td>\n",
       "      <td>2012</td>\n",
       "      <td>478177.910644</td>\n",
       "      <td>1.164256e+08</td>\n",
       "      <td>ARG</td>\n",
       "      <td>Argentina</td>\n",
       "      <td>Americas</td>\n",
       "      <td>Latin America and the Caribbean</td>\n",
       "      <td>FOOD SECURITY ENVIRONMENT</td>\n",
       "      <td>63.5</td>\n",
       "    </tr>\n",
       "    <tr>\n",
       "      <th>3</th>\n",
       "      <td>AUS</td>\n",
       "      <td>2012</td>\n",
       "      <td>139802.757737</td>\n",
       "      <td>4.699907e+07</td>\n",
       "      <td>AUS</td>\n",
       "      <td>Australia</td>\n",
       "      <td>Oceania</td>\n",
       "      <td>Australia and New Zealand</td>\n",
       "      <td>FOOD SECURITY ENVIRONMENT</td>\n",
       "      <td>70.8</td>\n",
       "    </tr>\n",
       "    <tr>\n",
       "      <th>4</th>\n",
       "      <td>AUT</td>\n",
       "      <td>2012</td>\n",
       "      <td>11158.429234</td>\n",
       "      <td>5.684967e+06</td>\n",
       "      <td>AUT</td>\n",
       "      <td>Austria</td>\n",
       "      <td>Europe</td>\n",
       "      <td>Western Europe</td>\n",
       "      <td>FOOD SECURITY ENVIRONMENT</td>\n",
       "      <td>74.4</td>\n",
       "    </tr>\n",
       "    <tr>\n",
       "      <th>...</th>\n",
       "      <td>...</td>\n",
       "      <td>...</td>\n",
       "      <td>...</td>\n",
       "      <td>...</td>\n",
       "      <td>...</td>\n",
       "      <td>...</td>\n",
       "      <td>...</td>\n",
       "      <td>...</td>\n",
       "      <td>...</td>\n",
       "      <td>...</td>\n",
       "    </tr>\n",
       "    <tr>\n",
       "      <th>1114</th>\n",
       "      <td>UZB</td>\n",
       "      <td>2022</td>\n",
       "      <td>7.489417</td>\n",
       "      <td>2.529865e+03</td>\n",
       "      <td>UZB</td>\n",
       "      <td>Uzbekistan</td>\n",
       "      <td>Asia</td>\n",
       "      <td>Central Asia</td>\n",
       "      <td>FOOD SECURITY ENVIRONMENT</td>\n",
       "      <td>57.5</td>\n",
       "    </tr>\n",
       "    <tr>\n",
       "      <th>1115</th>\n",
       "      <td>VEN</td>\n",
       "      <td>2022</td>\n",
       "      <td>55789.615801</td>\n",
       "      <td>2.981618e+07</td>\n",
       "      <td>VEN</td>\n",
       "      <td>Venezuela</td>\n",
       "      <td>Americas</td>\n",
       "      <td>Latin America and the Caribbean</td>\n",
       "      <td>FOOD SECURITY ENVIRONMENT</td>\n",
       "      <td>42.6</td>\n",
       "    </tr>\n",
       "    <tr>\n",
       "      <th>1116</th>\n",
       "      <td>VNM</td>\n",
       "      <td>2022</td>\n",
       "      <td>165142.058464</td>\n",
       "      <td>1.420704e+08</td>\n",
       "      <td>VNM</td>\n",
       "      <td>Vietnam</td>\n",
       "      <td>Asia</td>\n",
       "      <td>South-eastern Asia</td>\n",
       "      <td>FOOD SECURITY ENVIRONMENT</td>\n",
       "      <td>67.9</td>\n",
       "    </tr>\n",
       "    <tr>\n",
       "      <th>1117</th>\n",
       "      <td>ZAF</td>\n",
       "      <td>2022</td>\n",
       "      <td>40979.718696</td>\n",
       "      <td>3.413527e+07</td>\n",
       "      <td>ZAF</td>\n",
       "      <td>South Africa</td>\n",
       "      <td>Africa</td>\n",
       "      <td>Sub-Saharan Africa</td>\n",
       "      <td>FOOD SECURITY ENVIRONMENT</td>\n",
       "      <td>61.7</td>\n",
       "    </tr>\n",
       "    <tr>\n",
       "      <th>1118</th>\n",
       "      <td>ZMB</td>\n",
       "      <td>2022</td>\n",
       "      <td>179098.261453</td>\n",
       "      <td>7.021107e+07</td>\n",
       "      <td>ZMB</td>\n",
       "      <td>Zambia</td>\n",
       "      <td>Africa</td>\n",
       "      <td>Sub-Saharan Africa</td>\n",
       "      <td>FOOD SECURITY ENVIRONMENT</td>\n",
       "      <td>43.5</td>\n",
       "    </tr>\n",
       "  </tbody>\n",
       "</table>\n",
       "<p>1119 rows × 10 columns</p>\n",
       "</div>"
      ],
      "text/plain": [
       "      iso  year  umd_tree_cover_loss__ha  \\\n",
       "0     AGO  2012            180754.820684   \n",
       "1     ARE  2012                 0.000000   \n",
       "2     ARG  2012            478177.910644   \n",
       "3     AUS  2012            139802.757737   \n",
       "4     AUT  2012             11158.429234   \n",
       "...   ...   ...                      ...   \n",
       "1114  UZB  2022                 7.489417   \n",
       "1115  VEN  2022             55789.615801   \n",
       "1116  VNM  2022            165142.058464   \n",
       "1117  ZAF  2022             40979.718696   \n",
       "1118  ZMB  2022            179098.261453   \n",
       "\n",
       "      gfw_gross_emissions_co2e_all_gases__Mg alpha-3             country_1  \\\n",
       "0                               5.826792e+07     AGO                Angola   \n",
       "1                               7.844774e+00     ARE  United Arab Emirates   \n",
       "2                               1.164256e+08     ARG             Argentina   \n",
       "3                               4.699907e+07     AUS             Australia   \n",
       "4                               5.684967e+06     AUT               Austria   \n",
       "...                                      ...     ...                   ...   \n",
       "1114                            2.529865e+03     UZB            Uzbekistan   \n",
       "1115                            2.981618e+07     VEN             Venezuela   \n",
       "1116                            1.420704e+08     VNM               Vietnam   \n",
       "1117                            3.413527e+07     ZAF          South Africa   \n",
       "1118                            7.021107e+07     ZMB                Zambia   \n",
       "\n",
       "     continent_region             continent_sub_region  \\\n",
       "0              Africa               Sub-Saharan Africa   \n",
       "1                Asia                     Western Asia   \n",
       "2            Americas  Latin America and the Caribbean   \n",
       "3             Oceania        Australia and New Zealand   \n",
       "4              Europe                   Western Europe   \n",
       "...               ...                              ...   \n",
       "1114             Asia                     Central Asia   \n",
       "1115         Americas  Latin America and the Caribbean   \n",
       "1116             Asia               South-eastern Asia   \n",
       "1117           Africa               Sub-Saharan Africa   \n",
       "1118           Africa               Sub-Saharan Africa   \n",
       "\n",
       "                          index  Value  \n",
       "0     FOOD SECURITY ENVIRONMENT   42.9  \n",
       "1     FOOD SECURITY ENVIRONMENT   63.2  \n",
       "2     FOOD SECURITY ENVIRONMENT   63.5  \n",
       "3     FOOD SECURITY ENVIRONMENT   70.8  \n",
       "4     FOOD SECURITY ENVIRONMENT   74.4  \n",
       "...                         ...    ...  \n",
       "1114  FOOD SECURITY ENVIRONMENT   57.5  \n",
       "1115  FOOD SECURITY ENVIRONMENT   42.6  \n",
       "1116  FOOD SECURITY ENVIRONMENT   67.9  \n",
       "1117  FOOD SECURITY ENVIRONMENT   61.7  \n",
       "1118  FOOD SECURITY ENVIRONMENT   43.5  \n",
       "\n",
       "[1119 rows x 10 columns]"
      ]
     },
     "execution_count": 14,
     "metadata": {},
     "output_type": "execute_result"
    }
   ],
   "source": [
    "data = pd.merge(deforestation_iso, fsi_long, on =[\"country_1\", \"year\"], how='inner')\n",
    "data"
   ]
  },
  {
   "cell_type": "code",
   "execution_count": null,
   "id": "fadd2761",
   "metadata": {},
   "outputs": [],
   "source": []
  },
  {
   "cell_type": "code",
   "execution_count": 15,
   "id": "683ea75c",
   "metadata": {},
   "outputs": [
    {
     "data": {
      "text/html": [
       "<div>\n",
       "<style scoped>\n",
       "    .dataframe tbody tr th:only-of-type {\n",
       "        vertical-align: middle;\n",
       "    }\n",
       "\n",
       "    .dataframe tbody tr th {\n",
       "        vertical-align: top;\n",
       "    }\n",
       "\n",
       "    .dataframe thead th {\n",
       "        text-align: right;\n",
       "    }\n",
       "</style>\n",
       "<table border=\"1\" class=\"dataframe\">\n",
       "  <thead>\n",
       "    <tr style=\"text-align: right;\">\n",
       "      <th></th>\n",
       "      <th>iso</th>\n",
       "      <th>year</th>\n",
       "      <th>umd_tree_cover_loss__ha</th>\n",
       "      <th>country_1</th>\n",
       "      <th>continent_region</th>\n",
       "      <th>continent_sub_region</th>\n",
       "      <th>index</th>\n",
       "      <th>Value</th>\n",
       "    </tr>\n",
       "  </thead>\n",
       "  <tbody>\n",
       "    <tr>\n",
       "      <th>0</th>\n",
       "      <td>AGO</td>\n",
       "      <td>2012</td>\n",
       "      <td>180754.820684</td>\n",
       "      <td>Angola</td>\n",
       "      <td>Africa</td>\n",
       "      <td>Sub-Saharan Africa</td>\n",
       "      <td>FOOD SECURITY ENVIRONMENT</td>\n",
       "      <td>42.9</td>\n",
       "    </tr>\n",
       "    <tr>\n",
       "      <th>1</th>\n",
       "      <td>ARE</td>\n",
       "      <td>2012</td>\n",
       "      <td>0.000000</td>\n",
       "      <td>United Arab Emirates</td>\n",
       "      <td>Asia</td>\n",
       "      <td>Western Asia</td>\n",
       "      <td>FOOD SECURITY ENVIRONMENT</td>\n",
       "      <td>63.2</td>\n",
       "    </tr>\n",
       "    <tr>\n",
       "      <th>2</th>\n",
       "      <td>ARG</td>\n",
       "      <td>2012</td>\n",
       "      <td>478177.910644</td>\n",
       "      <td>Argentina</td>\n",
       "      <td>Americas</td>\n",
       "      <td>Latin America and the Caribbean</td>\n",
       "      <td>FOOD SECURITY ENVIRONMENT</td>\n",
       "      <td>63.5</td>\n",
       "    </tr>\n",
       "    <tr>\n",
       "      <th>3</th>\n",
       "      <td>AUS</td>\n",
       "      <td>2012</td>\n",
       "      <td>139802.757737</td>\n",
       "      <td>Australia</td>\n",
       "      <td>Oceania</td>\n",
       "      <td>Australia and New Zealand</td>\n",
       "      <td>FOOD SECURITY ENVIRONMENT</td>\n",
       "      <td>70.8</td>\n",
       "    </tr>\n",
       "    <tr>\n",
       "      <th>4</th>\n",
       "      <td>AUT</td>\n",
       "      <td>2012</td>\n",
       "      <td>11158.429234</td>\n",
       "      <td>Austria</td>\n",
       "      <td>Europe</td>\n",
       "      <td>Western Europe</td>\n",
       "      <td>FOOD SECURITY ENVIRONMENT</td>\n",
       "      <td>74.4</td>\n",
       "    </tr>\n",
       "    <tr>\n",
       "      <th>...</th>\n",
       "      <td>...</td>\n",
       "      <td>...</td>\n",
       "      <td>...</td>\n",
       "      <td>...</td>\n",
       "      <td>...</td>\n",
       "      <td>...</td>\n",
       "      <td>...</td>\n",
       "      <td>...</td>\n",
       "    </tr>\n",
       "    <tr>\n",
       "      <th>1114</th>\n",
       "      <td>UZB</td>\n",
       "      <td>2022</td>\n",
       "      <td>7.489417</td>\n",
       "      <td>Uzbekistan</td>\n",
       "      <td>Asia</td>\n",
       "      <td>Central Asia</td>\n",
       "      <td>FOOD SECURITY ENVIRONMENT</td>\n",
       "      <td>57.5</td>\n",
       "    </tr>\n",
       "    <tr>\n",
       "      <th>1115</th>\n",
       "      <td>VEN</td>\n",
       "      <td>2022</td>\n",
       "      <td>55789.615801</td>\n",
       "      <td>Venezuela</td>\n",
       "      <td>Americas</td>\n",
       "      <td>Latin America and the Caribbean</td>\n",
       "      <td>FOOD SECURITY ENVIRONMENT</td>\n",
       "      <td>42.6</td>\n",
       "    </tr>\n",
       "    <tr>\n",
       "      <th>1116</th>\n",
       "      <td>VNM</td>\n",
       "      <td>2022</td>\n",
       "      <td>165142.058464</td>\n",
       "      <td>Vietnam</td>\n",
       "      <td>Asia</td>\n",
       "      <td>South-eastern Asia</td>\n",
       "      <td>FOOD SECURITY ENVIRONMENT</td>\n",
       "      <td>67.9</td>\n",
       "    </tr>\n",
       "    <tr>\n",
       "      <th>1117</th>\n",
       "      <td>ZAF</td>\n",
       "      <td>2022</td>\n",
       "      <td>40979.718696</td>\n",
       "      <td>South Africa</td>\n",
       "      <td>Africa</td>\n",
       "      <td>Sub-Saharan Africa</td>\n",
       "      <td>FOOD SECURITY ENVIRONMENT</td>\n",
       "      <td>61.7</td>\n",
       "    </tr>\n",
       "    <tr>\n",
       "      <th>1118</th>\n",
       "      <td>ZMB</td>\n",
       "      <td>2022</td>\n",
       "      <td>179098.261453</td>\n",
       "      <td>Zambia</td>\n",
       "      <td>Africa</td>\n",
       "      <td>Sub-Saharan Africa</td>\n",
       "      <td>FOOD SECURITY ENVIRONMENT</td>\n",
       "      <td>43.5</td>\n",
       "    </tr>\n",
       "  </tbody>\n",
       "</table>\n",
       "<p>1119 rows × 8 columns</p>\n",
       "</div>"
      ],
      "text/plain": [
       "      iso  year  umd_tree_cover_loss__ha             country_1  \\\n",
       "0     AGO  2012            180754.820684                Angola   \n",
       "1     ARE  2012                 0.000000  United Arab Emirates   \n",
       "2     ARG  2012            478177.910644             Argentina   \n",
       "3     AUS  2012            139802.757737             Australia   \n",
       "4     AUT  2012             11158.429234               Austria   \n",
       "...   ...   ...                      ...                   ...   \n",
       "1114  UZB  2022                 7.489417            Uzbekistan   \n",
       "1115  VEN  2022             55789.615801             Venezuela   \n",
       "1116  VNM  2022            165142.058464               Vietnam   \n",
       "1117  ZAF  2022             40979.718696          South Africa   \n",
       "1118  ZMB  2022            179098.261453                Zambia   \n",
       "\n",
       "     continent_region             continent_sub_region  \\\n",
       "0              Africa               Sub-Saharan Africa   \n",
       "1                Asia                     Western Asia   \n",
       "2            Americas  Latin America and the Caribbean   \n",
       "3             Oceania        Australia and New Zealand   \n",
       "4              Europe                   Western Europe   \n",
       "...               ...                              ...   \n",
       "1114             Asia                     Central Asia   \n",
       "1115         Americas  Latin America and the Caribbean   \n",
       "1116             Asia               South-eastern Asia   \n",
       "1117           Africa               Sub-Saharan Africa   \n",
       "1118           Africa               Sub-Saharan Africa   \n",
       "\n",
       "                          index  Value  \n",
       "0     FOOD SECURITY ENVIRONMENT   42.9  \n",
       "1     FOOD SECURITY ENVIRONMENT   63.2  \n",
       "2     FOOD SECURITY ENVIRONMENT   63.5  \n",
       "3     FOOD SECURITY ENVIRONMENT   70.8  \n",
       "4     FOOD SECURITY ENVIRONMENT   74.4  \n",
       "...                         ...    ...  \n",
       "1114  FOOD SECURITY ENVIRONMENT   57.5  \n",
       "1115  FOOD SECURITY ENVIRONMENT   42.6  \n",
       "1116  FOOD SECURITY ENVIRONMENT   67.9  \n",
       "1117  FOOD SECURITY ENVIRONMENT   61.7  \n",
       "1118  FOOD SECURITY ENVIRONMENT   43.5  \n",
       "\n",
       "[1119 rows x 8 columns]"
      ]
     },
     "execution_count": 15,
     "metadata": {},
     "output_type": "execute_result"
    }
   ],
   "source": [
    "data.drop(columns=['gfw_gross_emissions_co2e_all_gases__Mg', 'alpha-3'], inplace=True)\n",
    "data"
   ]
  },
  {
   "cell_type": "code",
   "execution_count": 16,
   "id": "345219b0",
   "metadata": {},
   "outputs": [
    {
     "data": {
      "text/html": [
       "<div>\n",
       "<style scoped>\n",
       "    .dataframe tbody tr th:only-of-type {\n",
       "        vertical-align: middle;\n",
       "    }\n",
       "\n",
       "    .dataframe tbody tr th {\n",
       "        vertical-align: top;\n",
       "    }\n",
       "\n",
       "    .dataframe thead th {\n",
       "        text-align: right;\n",
       "    }\n",
       "</style>\n",
       "<table border=\"1\" class=\"dataframe\">\n",
       "  <thead>\n",
       "    <tr style=\"text-align: right;\">\n",
       "      <th></th>\n",
       "      <th>iso</th>\n",
       "      <th>year</th>\n",
       "      <th>umd_tree_cover_loss__ha</th>\n",
       "      <th>country_1</th>\n",
       "      <th>continent_region</th>\n",
       "      <th>continent_sub_region</th>\n",
       "      <th>index</th>\n",
       "      <th>fsi</th>\n",
       "    </tr>\n",
       "  </thead>\n",
       "  <tbody>\n",
       "    <tr>\n",
       "      <th>0</th>\n",
       "      <td>AGO</td>\n",
       "      <td>2012</td>\n",
       "      <td>180754.820684</td>\n",
       "      <td>Angola</td>\n",
       "      <td>Africa</td>\n",
       "      <td>Sub-Saharan Africa</td>\n",
       "      <td>FOOD SECURITY ENVIRONMENT</td>\n",
       "      <td>42.9</td>\n",
       "    </tr>\n",
       "    <tr>\n",
       "      <th>1</th>\n",
       "      <td>ARE</td>\n",
       "      <td>2012</td>\n",
       "      <td>0.000000</td>\n",
       "      <td>United Arab Emirates</td>\n",
       "      <td>Asia</td>\n",
       "      <td>Western Asia</td>\n",
       "      <td>FOOD SECURITY ENVIRONMENT</td>\n",
       "      <td>63.2</td>\n",
       "    </tr>\n",
       "    <tr>\n",
       "      <th>2</th>\n",
       "      <td>ARG</td>\n",
       "      <td>2012</td>\n",
       "      <td>478177.910644</td>\n",
       "      <td>Argentina</td>\n",
       "      <td>Americas</td>\n",
       "      <td>Latin America and the Caribbean</td>\n",
       "      <td>FOOD SECURITY ENVIRONMENT</td>\n",
       "      <td>63.5</td>\n",
       "    </tr>\n",
       "    <tr>\n",
       "      <th>3</th>\n",
       "      <td>AUS</td>\n",
       "      <td>2012</td>\n",
       "      <td>139802.757737</td>\n",
       "      <td>Australia</td>\n",
       "      <td>Oceania</td>\n",
       "      <td>Australia and New Zealand</td>\n",
       "      <td>FOOD SECURITY ENVIRONMENT</td>\n",
       "      <td>70.8</td>\n",
       "    </tr>\n",
       "    <tr>\n",
       "      <th>4</th>\n",
       "      <td>AUT</td>\n",
       "      <td>2012</td>\n",
       "      <td>11158.429234</td>\n",
       "      <td>Austria</td>\n",
       "      <td>Europe</td>\n",
       "      <td>Western Europe</td>\n",
       "      <td>FOOD SECURITY ENVIRONMENT</td>\n",
       "      <td>74.4</td>\n",
       "    </tr>\n",
       "    <tr>\n",
       "      <th>...</th>\n",
       "      <td>...</td>\n",
       "      <td>...</td>\n",
       "      <td>...</td>\n",
       "      <td>...</td>\n",
       "      <td>...</td>\n",
       "      <td>...</td>\n",
       "      <td>...</td>\n",
       "      <td>...</td>\n",
       "    </tr>\n",
       "    <tr>\n",
       "      <th>1114</th>\n",
       "      <td>UZB</td>\n",
       "      <td>2022</td>\n",
       "      <td>7.489417</td>\n",
       "      <td>Uzbekistan</td>\n",
       "      <td>Asia</td>\n",
       "      <td>Central Asia</td>\n",
       "      <td>FOOD SECURITY ENVIRONMENT</td>\n",
       "      <td>57.5</td>\n",
       "    </tr>\n",
       "    <tr>\n",
       "      <th>1115</th>\n",
       "      <td>VEN</td>\n",
       "      <td>2022</td>\n",
       "      <td>55789.615801</td>\n",
       "      <td>Venezuela</td>\n",
       "      <td>Americas</td>\n",
       "      <td>Latin America and the Caribbean</td>\n",
       "      <td>FOOD SECURITY ENVIRONMENT</td>\n",
       "      <td>42.6</td>\n",
       "    </tr>\n",
       "    <tr>\n",
       "      <th>1116</th>\n",
       "      <td>VNM</td>\n",
       "      <td>2022</td>\n",
       "      <td>165142.058464</td>\n",
       "      <td>Vietnam</td>\n",
       "      <td>Asia</td>\n",
       "      <td>South-eastern Asia</td>\n",
       "      <td>FOOD SECURITY ENVIRONMENT</td>\n",
       "      <td>67.9</td>\n",
       "    </tr>\n",
       "    <tr>\n",
       "      <th>1117</th>\n",
       "      <td>ZAF</td>\n",
       "      <td>2022</td>\n",
       "      <td>40979.718696</td>\n",
       "      <td>South Africa</td>\n",
       "      <td>Africa</td>\n",
       "      <td>Sub-Saharan Africa</td>\n",
       "      <td>FOOD SECURITY ENVIRONMENT</td>\n",
       "      <td>61.7</td>\n",
       "    </tr>\n",
       "    <tr>\n",
       "      <th>1118</th>\n",
       "      <td>ZMB</td>\n",
       "      <td>2022</td>\n",
       "      <td>179098.261453</td>\n",
       "      <td>Zambia</td>\n",
       "      <td>Africa</td>\n",
       "      <td>Sub-Saharan Africa</td>\n",
       "      <td>FOOD SECURITY ENVIRONMENT</td>\n",
       "      <td>43.5</td>\n",
       "    </tr>\n",
       "  </tbody>\n",
       "</table>\n",
       "<p>1119 rows × 8 columns</p>\n",
       "</div>"
      ],
      "text/plain": [
       "      iso  year  umd_tree_cover_loss__ha             country_1  \\\n",
       "0     AGO  2012            180754.820684                Angola   \n",
       "1     ARE  2012                 0.000000  United Arab Emirates   \n",
       "2     ARG  2012            478177.910644             Argentina   \n",
       "3     AUS  2012            139802.757737             Australia   \n",
       "4     AUT  2012             11158.429234               Austria   \n",
       "...   ...   ...                      ...                   ...   \n",
       "1114  UZB  2022                 7.489417            Uzbekistan   \n",
       "1115  VEN  2022             55789.615801             Venezuela   \n",
       "1116  VNM  2022            165142.058464               Vietnam   \n",
       "1117  ZAF  2022             40979.718696          South Africa   \n",
       "1118  ZMB  2022            179098.261453                Zambia   \n",
       "\n",
       "     continent_region             continent_sub_region  \\\n",
       "0              Africa               Sub-Saharan Africa   \n",
       "1                Asia                     Western Asia   \n",
       "2            Americas  Latin America and the Caribbean   \n",
       "3             Oceania        Australia and New Zealand   \n",
       "4              Europe                   Western Europe   \n",
       "...               ...                              ...   \n",
       "1114             Asia                     Central Asia   \n",
       "1115         Americas  Latin America and the Caribbean   \n",
       "1116             Asia               South-eastern Asia   \n",
       "1117           Africa               Sub-Saharan Africa   \n",
       "1118           Africa               Sub-Saharan Africa   \n",
       "\n",
       "                          index   fsi  \n",
       "0     FOOD SECURITY ENVIRONMENT  42.9  \n",
       "1     FOOD SECURITY ENVIRONMENT  63.2  \n",
       "2     FOOD SECURITY ENVIRONMENT  63.5  \n",
       "3     FOOD SECURITY ENVIRONMENT  70.8  \n",
       "4     FOOD SECURITY ENVIRONMENT  74.4  \n",
       "...                         ...   ...  \n",
       "1114  FOOD SECURITY ENVIRONMENT  57.5  \n",
       "1115  FOOD SECURITY ENVIRONMENT  42.6  \n",
       "1116  FOOD SECURITY ENVIRONMENT  67.9  \n",
       "1117  FOOD SECURITY ENVIRONMENT  61.7  \n",
       "1118  FOOD SECURITY ENVIRONMENT  43.5  \n",
       "\n",
       "[1119 rows x 8 columns]"
      ]
     },
     "execution_count": 16,
     "metadata": {},
     "output_type": "execute_result"
    }
   ],
   "source": [
    "data.rename(columns={\n",
    "    'Value': 'fsi',\n",
    "}, inplace=True)\n",
    "data"
   ]
  },
  {
   "cell_type": "code",
   "execution_count": 29,
   "id": "44e8c77a",
   "metadata": {},
   "outputs": [
    {
     "data": {
      "application/vnd.plotly.v1+json": {
       "config": {
        "plotlyServerURL": "https://plot.ly"
       },
       "data": [
        {
         "hovertemplate": "continent_sub_region=Australia and New Zealand<br>Year=%{x}<br>Tree Cover Loss (ha)=%{y}<extra></extra>",
         "legendgroup": "Australia and New Zealand",
         "line": {
          "color": "#636efa",
          "dash": "solid"
         },
         "marker": {
          "symbol": "circle"
         },
         "mode": "lines",
         "name": "Australia and New Zealand",
         "orientation": "v",
         "showlegend": true,
         "type": "scatter",
         "x": [
          2012,
          2013,
          2014,
          2015,
          2016,
          2017,
          2018,
          2019,
          2020,
          2021,
          2022
         ],
         "xaxis": "x",
         "y": [
          209301.2736180512,
          337635.6468852725,
          361147.2081880515,
          325578.27405742405,
          511261.50966760085,
          311759.9730856042,
          329979.09929170005,
          1732978.3071247705,
          2417440.801993551,
          327286.53968597983,
          177502.24000161758
         ],
         "yaxis": "y"
        },
        {
         "hovertemplate": "continent_sub_region=Central Asia<br>Year=%{x}<br>Tree Cover Loss (ha)=%{y}<extra></extra>",
         "legendgroup": "Central Asia",
         "line": {
          "color": "#EF553B",
          "dash": "solid"
         },
         "marker": {
          "symbol": "circle"
         },
         "mode": "lines",
         "name": "Central Asia",
         "orientation": "v",
         "showlegend": true,
         "type": "scatter",
         "x": [
          2012,
          2013,
          2014,
          2015,
          2016,
          2017,
          2018,
          2019,
          2020,
          2021,
          2022
         ],
         "xaxis": "x",
         "y": [
          3822.931751672392,
          2889.644410957301,
          679.6277698644251,
          181.1622936768294,
          1288.5506122046118,
          976.9922714999424,
          1139.533973575839,
          1299.424051448815,
          1856.8773010786972,
          721.914802352648,
          3636.707011311444
         ],
         "yaxis": "y"
        },
        {
         "hovertemplate": "continent_sub_region=Eastern Asia<br>Year=%{x}<br>Tree Cover Loss (ha)=%{y}<extra></extra>",
         "legendgroup": "Eastern Asia",
         "line": {
          "color": "#00cc96",
          "dash": "solid"
         },
         "marker": {
          "symbol": "circle"
         },
         "mode": "lines",
         "name": "Eastern Asia",
         "orientation": "v",
         "showlegend": true,
         "type": "scatter",
         "x": [
          2012,
          2013,
          2014,
          2015,
          2016,
          2017,
          2018,
          2019,
          2020,
          2021,
          2022
         ],
         "xaxis": "x",
         "y": [
          667358.1609646664,
          469590.93229424045,
          570762.0413340115,
          532442.5694584734,
          785192.0907352567,
          700374.5377519525,
          627651.6414655485,
          575845.2593248413,
          485047.67137297575,
          598854.0837016038,
          674732.6205816005
         ],
         "yaxis": "y"
        },
        {
         "hovertemplate": "continent_sub_region=Eastern Europe<br>Year=%{x}<br>Tree Cover Loss (ha)=%{y}<extra></extra>",
         "legendgroup": "Eastern Europe",
         "line": {
          "color": "#ab63fa",
          "dash": "solid"
         },
         "marker": {
          "symbol": "circle"
         },
         "mode": "lines",
         "name": "Eastern Europe",
         "orientation": "v",
         "showlegend": true,
         "type": "scatter",
         "x": [
          2012,
          2013,
          2014,
          2015,
          2016,
          2017,
          2018,
          2019,
          2020,
          2021,
          2022
         ],
         "xaxis": "x",
         "y": [
          5616977.358837817,
          5104674.596938862,
          4699598.126166856,
          2499916.350670829,
          5419655.11034745,
          5631529.036161639,
          5918578.652302635,
          3997885.4164842647,
          5821898.196611261,
          6824018.107642293,
          4548371.946952723
         ],
         "yaxis": "y"
        },
        {
         "hovertemplate": "continent_sub_region=Latin America and the Caribbean<br>Year=%{x}<br>Tree Cover Loss (ha)=%{y}<extra></extra>",
         "legendgroup": "Latin America and the Caribbean",
         "line": {
          "color": "#FFA15A",
          "dash": "solid"
         },
         "marker": {
          "symbol": "circle"
         },
         "mode": "lines",
         "name": "Latin America and the Caribbean",
         "orientation": "v",
         "showlegend": true,
         "type": "scatter",
         "x": [
          2012,
          2013,
          2014,
          2015,
          2016,
          2017,
          2018,
          2019,
          2020,
          2021,
          2022
         ],
         "xaxis": "x",
         "y": [
          5429152.654977328,
          3792211.3638869673,
          4617997.7817160515,
          3728074.2671963875,
          8147931.76972636,
          7546836.361023004,
          5026532.605656986,
          5407054.827448972,
          5680867.574032692,
          5139493.426272772,
          5409243.648606473
         ],
         "yaxis": "y"
        },
        {
         "hovertemplate": "continent_sub_region=Northern Africa<br>Year=%{x}<br>Tree Cover Loss (ha)=%{y}<extra></extra>",
         "legendgroup": "Northern Africa",
         "line": {
          "color": "#19d3f3",
          "dash": "solid"
         },
         "marker": {
          "symbol": "circle"
         },
         "mode": "lines",
         "name": "Northern Africa",
         "orientation": "v",
         "showlegend": true,
         "type": "scatter",
         "x": [
          2012,
          2013,
          2014,
          2015,
          2016,
          2017,
          2018,
          2019,
          2020,
          2021,
          2022
         ],
         "xaxis": "x",
         "y": [
          14469.398769136938,
          9169.10374298838,
          13711.337850122349,
          8578.559289112693,
          11571.04758823796,
          57004.03643396204,
          8823.515116790755,
          8191.378622758512,
          17840.55316012616,
          24158.61135439947,
          28457.79037160464
         ],
         "yaxis": "y"
        },
        {
         "hovertemplate": "continent_sub_region=Northern America<br>Year=%{x}<br>Tree Cover Loss (ha)=%{y}<extra></extra>",
         "legendgroup": "Northern America",
         "line": {
          "color": "#FF6692",
          "dash": "solid"
         },
         "marker": {
          "symbol": "circle"
         },
         "mode": "lines",
         "name": "Northern America",
         "orientation": "v",
         "showlegend": true,
         "type": "scatter",
         "x": [
          2012,
          2013,
          2014,
          2015,
          2016,
          2017,
          2018,
          2019,
          2020,
          2021,
          2022
         ],
         "xaxis": "x",
         "y": [
          4509588.5732554775,
          4543783.089669361,
          4380135.348330241,
          5023088.5971892495,
          4348492.424586618,
          4871094.070293757,
          4235296.853175886,
          4285634.109821126,
          3161988.1306873653,
          4569285.409820361,
          4504486.366432138
         ],
         "yaxis": "y"
        },
        {
         "hovertemplate": "continent_sub_region=Northern Europe<br>Year=%{x}<br>Tree Cover Loss (ha)=%{y}<extra></extra>",
         "legendgroup": "Northern Europe",
         "line": {
          "color": "#B6E880",
          "dash": "solid"
         },
         "marker": {
          "symbol": "circle"
         },
         "mode": "lines",
         "name": "Northern Europe",
         "orientation": "v",
         "showlegend": true,
         "type": "scatter",
         "x": [
          2012,
          2013,
          2014,
          2015,
          2016,
          2017,
          2018,
          2019,
          2020,
          2021,
          2022
         ],
         "xaxis": "x",
         "y": [
          471086.676610056,
          414772.9259280921,
          509710.8237796294,
          456373.85222338536,
          653711.1414287466,
          758863.3302995637,
          657119.2730422632,
          735512.7329916696,
          695046.6624988939,
          703784.0838392728,
          696880.8835732958
         ],
         "yaxis": "y"
        },
        {
         "hovertemplate": "continent_sub_region=South-eastern Asia<br>Year=%{x}<br>Tree Cover Loss (ha)=%{y}<extra></extra>",
         "legendgroup": "South-eastern Asia",
         "line": {
          "color": "#FF97FF",
          "dash": "solid"
         },
         "marker": {
          "symbol": "circle"
         },
         "mode": "lines",
         "name": "South-eastern Asia",
         "orientation": "v",
         "showlegend": true,
         "type": "scatter",
         "x": [
          2012,
          2013,
          2014,
          2015,
          2016,
          2017,
          2018,
          2019,
          2020,
          2021,
          2022
         ],
         "xaxis": "x",
         "y": [
          3812154.6696663154,
          2392483.9029567726,
          3734818.4357825825,
          3316592.2106426205,
          4574675.017848845,
          3191390.1198695414,
          2772807.381150236,
          2800585.8399661924,
          2432296.8189967456,
          2249892.2653225684,
          2180259.5466001523
         ],
         "yaxis": "y"
        },
        {
         "hovertemplate": "continent_sub_region=Southern Asia<br>Year=%{x}<br>Tree Cover Loss (ha)=%{y}<extra></extra>",
         "legendgroup": "Southern Asia",
         "line": {
          "color": "#FECB52",
          "dash": "solid"
         },
         "marker": {
          "symbol": "circle"
         },
         "mode": "lines",
         "name": "Southern Asia",
         "orientation": "v",
         "showlegend": true,
         "type": "scatter",
         "x": [
          2012,
          2013,
          2014,
          2015,
          2016,
          2017,
          2018,
          2019,
          2020,
          2021,
          2022
         ],
         "xaxis": "x",
         "y": [
          120139.53232783098,
          95736.13825997364,
          164749.38552023473,
          136896.52380658063,
          215047.2112192816,
          233447.94220145926,
          166484.48224902435,
          155708.38289416907,
          172709.17278455626,
          166446.34119424288,
          146909.75505240884
         ],
         "yaxis": "y"
        },
        {
         "hovertemplate": "continent_sub_region=Southern Europe<br>Year=%{x}<br>Tree Cover Loss (ha)=%{y}<extra></extra>",
         "legendgroup": "Southern Europe",
         "line": {
          "color": "#636efa",
          "dash": "solid"
         },
         "marker": {
          "symbol": "circle"
         },
         "mode": "lines",
         "name": "Southern Europe",
         "orientation": "v",
         "showlegend": true,
         "type": "scatter",
         "x": [
          2012,
          2013,
          2014,
          2015,
          2016,
          2017,
          2018,
          2019,
          2020,
          2021,
          2022
         ],
         "xaxis": "x",
         "y": [
          176941.56681775267,
          140069.6740092023,
          162509.1757718297,
          132290.800236946,
          237641.16051173877,
          318926.71747217857,
          267018.0413269184,
          179179.07137379455,
          202693.40481605014,
          204390.63500799637,
          227676.57754455216
         ],
         "yaxis": "y"
        },
        {
         "hovertemplate": "continent_sub_region=Sub-Saharan Africa<br>Year=%{x}<br>Tree Cover Loss (ha)=%{y}<extra></extra>",
         "legendgroup": "Sub-Saharan Africa",
         "line": {
          "color": "#EF553B",
          "dash": "solid"
         },
         "marker": {
          "symbol": "circle"
         },
         "mode": "lines",
         "name": "Sub-Saharan Africa",
         "orientation": "v",
         "showlegend": true,
         "type": "scatter",
         "x": [
          2012,
          2013,
          2014,
          2015,
          2016,
          2017,
          2018,
          2019,
          2020,
          2021,
          2022
         ],
         "xaxis": "x",
         "y": [
          1091814.2804846286,
          1593860.6815095893,
          2011992.6305328833,
          1585491.2263599338,
          2066793.338124277,
          2750586.5922836335,
          2083913.3995595553,
          1808051.3009330241,
          2047975.3618609887,
          1988919.0261844317,
          1886993.4967025975
         ],
         "yaxis": "y"
        },
        {
         "hovertemplate": "continent_sub_region=Western Asia<br>Year=%{x}<br>Tree Cover Loss (ha)=%{y}<extra></extra>",
         "legendgroup": "Western Asia",
         "line": {
          "color": "#00cc96",
          "dash": "solid"
         },
         "marker": {
          "symbol": "circle"
         },
         "mode": "lines",
         "name": "Western Asia",
         "orientation": "v",
         "showlegend": true,
         "type": "scatter",
         "x": [
          2012,
          2013,
          2014,
          2015,
          2016,
          2017,
          2018,
          2019,
          2020,
          2021,
          2022
         ],
         "xaxis": "x",
         "y": [
          34484.71949360019,
          24008.19722107127,
          23414.91453641653,
          30206.925151728643,
          27536.06794411264,
          36228.3235856956,
          36686.743527097475,
          40361.35409572317,
          48455.69246178428,
          82254.18641377737,
          54087.83660393611
         ],
         "yaxis": "y"
        },
        {
         "hovertemplate": "continent_sub_region=Western Europe<br>Year=%{x}<br>Tree Cover Loss (ha)=%{y}<extra></extra>",
         "legendgroup": "Western Europe",
         "line": {
          "color": "#ab63fa",
          "dash": "solid"
         },
         "marker": {
          "symbol": "circle"
         },
         "mode": "lines",
         "name": "Western Europe",
         "orientation": "v",
         "showlegend": true,
         "type": "scatter",
         "x": [
          2012,
          2013,
          2014,
          2015,
          2016,
          2017,
          2018,
          2019,
          2020,
          2021,
          2022
         ],
         "xaxis": "x",
         "y": [
          112568.39090405434,
          58119.29846731439,
          82016.05617465114,
          63246.768039131515,
          112453.79278145793,
          128667.95211347828,
          156784.97762910652,
          234756.26595387215,
          301880.2686010728,
          346870.9790118102,
          173095.169181774
         ],
         "yaxis": "y"
        }
       ],
       "layout": {
        "legend": {
         "title": {
          "text": "continent_sub_region"
         },
         "tracegroupgap": 0
        },
        "template": {
         "data": {
          "bar": [
           {
            "error_x": {
             "color": "#2a3f5f"
            },
            "error_y": {
             "color": "#2a3f5f"
            },
            "marker": {
             "line": {
              "color": "#E5ECF6",
              "width": 0.5
             },
             "pattern": {
              "fillmode": "overlay",
              "size": 10,
              "solidity": 0.2
             }
            },
            "type": "bar"
           }
          ],
          "barpolar": [
           {
            "marker": {
             "line": {
              "color": "#E5ECF6",
              "width": 0.5
             },
             "pattern": {
              "fillmode": "overlay",
              "size": 10,
              "solidity": 0.2
             }
            },
            "type": "barpolar"
           }
          ],
          "carpet": [
           {
            "aaxis": {
             "endlinecolor": "#2a3f5f",
             "gridcolor": "white",
             "linecolor": "white",
             "minorgridcolor": "white",
             "startlinecolor": "#2a3f5f"
            },
            "baxis": {
             "endlinecolor": "#2a3f5f",
             "gridcolor": "white",
             "linecolor": "white",
             "minorgridcolor": "white",
             "startlinecolor": "#2a3f5f"
            },
            "type": "carpet"
           }
          ],
          "choropleth": [
           {
            "colorbar": {
             "outlinewidth": 0,
             "ticks": ""
            },
            "type": "choropleth"
           }
          ],
          "contour": [
           {
            "colorbar": {
             "outlinewidth": 0,
             "ticks": ""
            },
            "colorscale": [
             [
              0,
              "#0d0887"
             ],
             [
              0.1111111111111111,
              "#46039f"
             ],
             [
              0.2222222222222222,
              "#7201a8"
             ],
             [
              0.3333333333333333,
              "#9c179e"
             ],
             [
              0.4444444444444444,
              "#bd3786"
             ],
             [
              0.5555555555555556,
              "#d8576b"
             ],
             [
              0.6666666666666666,
              "#ed7953"
             ],
             [
              0.7777777777777778,
              "#fb9f3a"
             ],
             [
              0.8888888888888888,
              "#fdca26"
             ],
             [
              1,
              "#f0f921"
             ]
            ],
            "type": "contour"
           }
          ],
          "contourcarpet": [
           {
            "colorbar": {
             "outlinewidth": 0,
             "ticks": ""
            },
            "type": "contourcarpet"
           }
          ],
          "heatmap": [
           {
            "colorbar": {
             "outlinewidth": 0,
             "ticks": ""
            },
            "colorscale": [
             [
              0,
              "#0d0887"
             ],
             [
              0.1111111111111111,
              "#46039f"
             ],
             [
              0.2222222222222222,
              "#7201a8"
             ],
             [
              0.3333333333333333,
              "#9c179e"
             ],
             [
              0.4444444444444444,
              "#bd3786"
             ],
             [
              0.5555555555555556,
              "#d8576b"
             ],
             [
              0.6666666666666666,
              "#ed7953"
             ],
             [
              0.7777777777777778,
              "#fb9f3a"
             ],
             [
              0.8888888888888888,
              "#fdca26"
             ],
             [
              1,
              "#f0f921"
             ]
            ],
            "type": "heatmap"
           }
          ],
          "heatmapgl": [
           {
            "colorbar": {
             "outlinewidth": 0,
             "ticks": ""
            },
            "colorscale": [
             [
              0,
              "#0d0887"
             ],
             [
              0.1111111111111111,
              "#46039f"
             ],
             [
              0.2222222222222222,
              "#7201a8"
             ],
             [
              0.3333333333333333,
              "#9c179e"
             ],
             [
              0.4444444444444444,
              "#bd3786"
             ],
             [
              0.5555555555555556,
              "#d8576b"
             ],
             [
              0.6666666666666666,
              "#ed7953"
             ],
             [
              0.7777777777777778,
              "#fb9f3a"
             ],
             [
              0.8888888888888888,
              "#fdca26"
             ],
             [
              1,
              "#f0f921"
             ]
            ],
            "type": "heatmapgl"
           }
          ],
          "histogram": [
           {
            "marker": {
             "pattern": {
              "fillmode": "overlay",
              "size": 10,
              "solidity": 0.2
             }
            },
            "type": "histogram"
           }
          ],
          "histogram2d": [
           {
            "colorbar": {
             "outlinewidth": 0,
             "ticks": ""
            },
            "colorscale": [
             [
              0,
              "#0d0887"
             ],
             [
              0.1111111111111111,
              "#46039f"
             ],
             [
              0.2222222222222222,
              "#7201a8"
             ],
             [
              0.3333333333333333,
              "#9c179e"
             ],
             [
              0.4444444444444444,
              "#bd3786"
             ],
             [
              0.5555555555555556,
              "#d8576b"
             ],
             [
              0.6666666666666666,
              "#ed7953"
             ],
             [
              0.7777777777777778,
              "#fb9f3a"
             ],
             [
              0.8888888888888888,
              "#fdca26"
             ],
             [
              1,
              "#f0f921"
             ]
            ],
            "type": "histogram2d"
           }
          ],
          "histogram2dcontour": [
           {
            "colorbar": {
             "outlinewidth": 0,
             "ticks": ""
            },
            "colorscale": [
             [
              0,
              "#0d0887"
             ],
             [
              0.1111111111111111,
              "#46039f"
             ],
             [
              0.2222222222222222,
              "#7201a8"
             ],
             [
              0.3333333333333333,
              "#9c179e"
             ],
             [
              0.4444444444444444,
              "#bd3786"
             ],
             [
              0.5555555555555556,
              "#d8576b"
             ],
             [
              0.6666666666666666,
              "#ed7953"
             ],
             [
              0.7777777777777778,
              "#fb9f3a"
             ],
             [
              0.8888888888888888,
              "#fdca26"
             ],
             [
              1,
              "#f0f921"
             ]
            ],
            "type": "histogram2dcontour"
           }
          ],
          "mesh3d": [
           {
            "colorbar": {
             "outlinewidth": 0,
             "ticks": ""
            },
            "type": "mesh3d"
           }
          ],
          "parcoords": [
           {
            "line": {
             "colorbar": {
              "outlinewidth": 0,
              "ticks": ""
             }
            },
            "type": "parcoords"
           }
          ],
          "pie": [
           {
            "automargin": true,
            "type": "pie"
           }
          ],
          "scatter": [
           {
            "fillpattern": {
             "fillmode": "overlay",
             "size": 10,
             "solidity": 0.2
            },
            "type": "scatter"
           }
          ],
          "scatter3d": [
           {
            "line": {
             "colorbar": {
              "outlinewidth": 0,
              "ticks": ""
             }
            },
            "marker": {
             "colorbar": {
              "outlinewidth": 0,
              "ticks": ""
             }
            },
            "type": "scatter3d"
           }
          ],
          "scattercarpet": [
           {
            "marker": {
             "colorbar": {
              "outlinewidth": 0,
              "ticks": ""
             }
            },
            "type": "scattercarpet"
           }
          ],
          "scattergeo": [
           {
            "marker": {
             "colorbar": {
              "outlinewidth": 0,
              "ticks": ""
             }
            },
            "type": "scattergeo"
           }
          ],
          "scattergl": [
           {
            "marker": {
             "colorbar": {
              "outlinewidth": 0,
              "ticks": ""
             }
            },
            "type": "scattergl"
           }
          ],
          "scattermapbox": [
           {
            "marker": {
             "colorbar": {
              "outlinewidth": 0,
              "ticks": ""
             }
            },
            "type": "scattermapbox"
           }
          ],
          "scatterpolar": [
           {
            "marker": {
             "colorbar": {
              "outlinewidth": 0,
              "ticks": ""
             }
            },
            "type": "scatterpolar"
           }
          ],
          "scatterpolargl": [
           {
            "marker": {
             "colorbar": {
              "outlinewidth": 0,
              "ticks": ""
             }
            },
            "type": "scatterpolargl"
           }
          ],
          "scatterternary": [
           {
            "marker": {
             "colorbar": {
              "outlinewidth": 0,
              "ticks": ""
             }
            },
            "type": "scatterternary"
           }
          ],
          "surface": [
           {
            "colorbar": {
             "outlinewidth": 0,
             "ticks": ""
            },
            "colorscale": [
             [
              0,
              "#0d0887"
             ],
             [
              0.1111111111111111,
              "#46039f"
             ],
             [
              0.2222222222222222,
              "#7201a8"
             ],
             [
              0.3333333333333333,
              "#9c179e"
             ],
             [
              0.4444444444444444,
              "#bd3786"
             ],
             [
              0.5555555555555556,
              "#d8576b"
             ],
             [
              0.6666666666666666,
              "#ed7953"
             ],
             [
              0.7777777777777778,
              "#fb9f3a"
             ],
             [
              0.8888888888888888,
              "#fdca26"
             ],
             [
              1,
              "#f0f921"
             ]
            ],
            "type": "surface"
           }
          ],
          "table": [
           {
            "cells": {
             "fill": {
              "color": "#EBF0F8"
             },
             "line": {
              "color": "white"
             }
            },
            "header": {
             "fill": {
              "color": "#C8D4E3"
             },
             "line": {
              "color": "white"
             }
            },
            "type": "table"
           }
          ]
         },
         "layout": {
          "annotationdefaults": {
           "arrowcolor": "#2a3f5f",
           "arrowhead": 0,
           "arrowwidth": 1
          },
          "autotypenumbers": "strict",
          "coloraxis": {
           "colorbar": {
            "outlinewidth": 0,
            "ticks": ""
           }
          },
          "colorscale": {
           "diverging": [
            [
             0,
             "#8e0152"
            ],
            [
             0.1,
             "#c51b7d"
            ],
            [
             0.2,
             "#de77ae"
            ],
            [
             0.3,
             "#f1b6da"
            ],
            [
             0.4,
             "#fde0ef"
            ],
            [
             0.5,
             "#f7f7f7"
            ],
            [
             0.6,
             "#e6f5d0"
            ],
            [
             0.7,
             "#b8e186"
            ],
            [
             0.8,
             "#7fbc41"
            ],
            [
             0.9,
             "#4d9221"
            ],
            [
             1,
             "#276419"
            ]
           ],
           "sequential": [
            [
             0,
             "#0d0887"
            ],
            [
             0.1111111111111111,
             "#46039f"
            ],
            [
             0.2222222222222222,
             "#7201a8"
            ],
            [
             0.3333333333333333,
             "#9c179e"
            ],
            [
             0.4444444444444444,
             "#bd3786"
            ],
            [
             0.5555555555555556,
             "#d8576b"
            ],
            [
             0.6666666666666666,
             "#ed7953"
            ],
            [
             0.7777777777777778,
             "#fb9f3a"
            ],
            [
             0.8888888888888888,
             "#fdca26"
            ],
            [
             1,
             "#f0f921"
            ]
           ],
           "sequentialminus": [
            [
             0,
             "#0d0887"
            ],
            [
             0.1111111111111111,
             "#46039f"
            ],
            [
             0.2222222222222222,
             "#7201a8"
            ],
            [
             0.3333333333333333,
             "#9c179e"
            ],
            [
             0.4444444444444444,
             "#bd3786"
            ],
            [
             0.5555555555555556,
             "#d8576b"
            ],
            [
             0.6666666666666666,
             "#ed7953"
            ],
            [
             0.7777777777777778,
             "#fb9f3a"
            ],
            [
             0.8888888888888888,
             "#fdca26"
            ],
            [
             1,
             "#f0f921"
            ]
           ]
          },
          "colorway": [
           "#636efa",
           "#EF553B",
           "#00cc96",
           "#ab63fa",
           "#FFA15A",
           "#19d3f3",
           "#FF6692",
           "#B6E880",
           "#FF97FF",
           "#FECB52"
          ],
          "font": {
           "color": "#2a3f5f"
          },
          "geo": {
           "bgcolor": "white",
           "lakecolor": "white",
           "landcolor": "#E5ECF6",
           "showlakes": true,
           "showland": true,
           "subunitcolor": "white"
          },
          "hoverlabel": {
           "align": "left"
          },
          "hovermode": "closest",
          "mapbox": {
           "style": "light"
          },
          "paper_bgcolor": "white",
          "plot_bgcolor": "#E5ECF6",
          "polar": {
           "angularaxis": {
            "gridcolor": "white",
            "linecolor": "white",
            "ticks": ""
           },
           "bgcolor": "#E5ECF6",
           "radialaxis": {
            "gridcolor": "white",
            "linecolor": "white",
            "ticks": ""
           }
          },
          "scene": {
           "xaxis": {
            "backgroundcolor": "#E5ECF6",
            "gridcolor": "white",
            "gridwidth": 2,
            "linecolor": "white",
            "showbackground": true,
            "ticks": "",
            "zerolinecolor": "white"
           },
           "yaxis": {
            "backgroundcolor": "#E5ECF6",
            "gridcolor": "white",
            "gridwidth": 2,
            "linecolor": "white",
            "showbackground": true,
            "ticks": "",
            "zerolinecolor": "white"
           },
           "zaxis": {
            "backgroundcolor": "#E5ECF6",
            "gridcolor": "white",
            "gridwidth": 2,
            "linecolor": "white",
            "showbackground": true,
            "ticks": "",
            "zerolinecolor": "white"
           }
          },
          "shapedefaults": {
           "line": {
            "color": "#2a3f5f"
           }
          },
          "ternary": {
           "aaxis": {
            "gridcolor": "white",
            "linecolor": "white",
            "ticks": ""
           },
           "baxis": {
            "gridcolor": "white",
            "linecolor": "white",
            "ticks": ""
           },
           "bgcolor": "#E5ECF6",
           "caxis": {
            "gridcolor": "white",
            "linecolor": "white",
            "ticks": ""
           }
          },
          "title": {
           "x": 0.05
          },
          "xaxis": {
           "automargin": true,
           "gridcolor": "white",
           "linecolor": "white",
           "ticks": "",
           "title": {
            "standoff": 15
           },
           "zerolinecolor": "white",
           "zerolinewidth": 2
          },
          "yaxis": {
           "automargin": true,
           "gridcolor": "white",
           "linecolor": "white",
           "ticks": "",
           "title": {
            "standoff": 15
           },
           "zerolinecolor": "white",
           "zerolinewidth": 2
          }
         }
        },
        "title": {
         "text": "Deforestation by Region Over Time"
        },
        "xaxis": {
         "anchor": "y",
         "domain": [
          0,
          1
         ],
         "title": {
          "text": "Year"
         }
        },
        "yaxis": {
         "anchor": "x",
         "domain": [
          0,
          1
         ],
         "title": {
          "text": "Tree Cover Loss (ha)"
         }
        }
       }
      },
      "text/html": [
       "<div>                            <div id=\"9335d4ef-96bd-4f8b-8ab5-420602f9dd79\" class=\"plotly-graph-div\" style=\"height:525px; width:100%;\"></div>            <script type=\"text/javascript\">                require([\"plotly\"], function(Plotly) {                    window.PLOTLYENV=window.PLOTLYENV || {};                                    if (document.getElementById(\"9335d4ef-96bd-4f8b-8ab5-420602f9dd79\")) {                    Plotly.newPlot(                        \"9335d4ef-96bd-4f8b-8ab5-420602f9dd79\",                        [{\"hovertemplate\":\"continent_sub_region=Australia and New Zealand<br>Year=%{x}<br>Tree Cover Loss (ha)=%{y}<extra></extra>\",\"legendgroup\":\"Australia and New Zealand\",\"line\":{\"color\":\"#636efa\",\"dash\":\"solid\"},\"marker\":{\"symbol\":\"circle\"},\"mode\":\"lines\",\"name\":\"Australia and New Zealand\",\"orientation\":\"v\",\"showlegend\":true,\"x\":[2012,2013,2014,2015,2016,2017,2018,2019,2020,2021,2022],\"xaxis\":\"x\",\"y\":[209301.2736180512,337635.6468852725,361147.2081880515,325578.27405742405,511261.50966760085,311759.9730856042,329979.09929170005,1732978.3071247705,2417440.801993551,327286.53968597983,177502.24000161758],\"yaxis\":\"y\",\"type\":\"scatter\"},{\"hovertemplate\":\"continent_sub_region=Central Asia<br>Year=%{x}<br>Tree Cover Loss (ha)=%{y}<extra></extra>\",\"legendgroup\":\"Central Asia\",\"line\":{\"color\":\"#EF553B\",\"dash\":\"solid\"},\"marker\":{\"symbol\":\"circle\"},\"mode\":\"lines\",\"name\":\"Central Asia\",\"orientation\":\"v\",\"showlegend\":true,\"x\":[2012,2013,2014,2015,2016,2017,2018,2019,2020,2021,2022],\"xaxis\":\"x\",\"y\":[3822.931751672392,2889.644410957301,679.6277698644251,181.1622936768294,1288.5506122046118,976.9922714999424,1139.533973575839,1299.424051448815,1856.8773010786972,721.914802352648,3636.707011311444],\"yaxis\":\"y\",\"type\":\"scatter\"},{\"hovertemplate\":\"continent_sub_region=Eastern Asia<br>Year=%{x}<br>Tree Cover Loss (ha)=%{y}<extra></extra>\",\"legendgroup\":\"Eastern Asia\",\"line\":{\"color\":\"#00cc96\",\"dash\":\"solid\"},\"marker\":{\"symbol\":\"circle\"},\"mode\":\"lines\",\"name\":\"Eastern Asia\",\"orientation\":\"v\",\"showlegend\":true,\"x\":[2012,2013,2014,2015,2016,2017,2018,2019,2020,2021,2022],\"xaxis\":\"x\",\"y\":[667358.1609646664,469590.93229424045,570762.0413340115,532442.5694584734,785192.0907352567,700374.5377519525,627651.6414655485,575845.2593248413,485047.67137297575,598854.0837016038,674732.6205816005],\"yaxis\":\"y\",\"type\":\"scatter\"},{\"hovertemplate\":\"continent_sub_region=Eastern Europe<br>Year=%{x}<br>Tree Cover Loss (ha)=%{y}<extra></extra>\",\"legendgroup\":\"Eastern Europe\",\"line\":{\"color\":\"#ab63fa\",\"dash\":\"solid\"},\"marker\":{\"symbol\":\"circle\"},\"mode\":\"lines\",\"name\":\"Eastern Europe\",\"orientation\":\"v\",\"showlegend\":true,\"x\":[2012,2013,2014,2015,2016,2017,2018,2019,2020,2021,2022],\"xaxis\":\"x\",\"y\":[5616977.358837817,5104674.596938862,4699598.126166856,2499916.350670829,5419655.11034745,5631529.036161639,5918578.652302635,3997885.4164842647,5821898.196611261,6824018.107642293,4548371.946952723],\"yaxis\":\"y\",\"type\":\"scatter\"},{\"hovertemplate\":\"continent_sub_region=Latin America and the Caribbean<br>Year=%{x}<br>Tree Cover Loss (ha)=%{y}<extra></extra>\",\"legendgroup\":\"Latin America and the Caribbean\",\"line\":{\"color\":\"#FFA15A\",\"dash\":\"solid\"},\"marker\":{\"symbol\":\"circle\"},\"mode\":\"lines\",\"name\":\"Latin America and the Caribbean\",\"orientation\":\"v\",\"showlegend\":true,\"x\":[2012,2013,2014,2015,2016,2017,2018,2019,2020,2021,2022],\"xaxis\":\"x\",\"y\":[5429152.654977328,3792211.3638869673,4617997.7817160515,3728074.2671963875,8147931.76972636,7546836.361023004,5026532.605656986,5407054.827448972,5680867.574032692,5139493.426272772,5409243.648606473],\"yaxis\":\"y\",\"type\":\"scatter\"},{\"hovertemplate\":\"continent_sub_region=Northern Africa<br>Year=%{x}<br>Tree Cover Loss (ha)=%{y}<extra></extra>\",\"legendgroup\":\"Northern Africa\",\"line\":{\"color\":\"#19d3f3\",\"dash\":\"solid\"},\"marker\":{\"symbol\":\"circle\"},\"mode\":\"lines\",\"name\":\"Northern Africa\",\"orientation\":\"v\",\"showlegend\":true,\"x\":[2012,2013,2014,2015,2016,2017,2018,2019,2020,2021,2022],\"xaxis\":\"x\",\"y\":[14469.398769136938,9169.10374298838,13711.337850122349,8578.559289112693,11571.04758823796,57004.03643396204,8823.515116790755,8191.378622758512,17840.55316012616,24158.61135439947,28457.79037160464],\"yaxis\":\"y\",\"type\":\"scatter\"},{\"hovertemplate\":\"continent_sub_region=Northern America<br>Year=%{x}<br>Tree Cover Loss (ha)=%{y}<extra></extra>\",\"legendgroup\":\"Northern America\",\"line\":{\"color\":\"#FF6692\",\"dash\":\"solid\"},\"marker\":{\"symbol\":\"circle\"},\"mode\":\"lines\",\"name\":\"Northern America\",\"orientation\":\"v\",\"showlegend\":true,\"x\":[2012,2013,2014,2015,2016,2017,2018,2019,2020,2021,2022],\"xaxis\":\"x\",\"y\":[4509588.5732554775,4543783.089669361,4380135.348330241,5023088.5971892495,4348492.424586618,4871094.070293757,4235296.853175886,4285634.109821126,3161988.1306873653,4569285.409820361,4504486.366432138],\"yaxis\":\"y\",\"type\":\"scatter\"},{\"hovertemplate\":\"continent_sub_region=Northern Europe<br>Year=%{x}<br>Tree Cover Loss (ha)=%{y}<extra></extra>\",\"legendgroup\":\"Northern Europe\",\"line\":{\"color\":\"#B6E880\",\"dash\":\"solid\"},\"marker\":{\"symbol\":\"circle\"},\"mode\":\"lines\",\"name\":\"Northern Europe\",\"orientation\":\"v\",\"showlegend\":true,\"x\":[2012,2013,2014,2015,2016,2017,2018,2019,2020,2021,2022],\"xaxis\":\"x\",\"y\":[471086.676610056,414772.9259280921,509710.8237796294,456373.85222338536,653711.1414287466,758863.3302995637,657119.2730422632,735512.7329916696,695046.6624988939,703784.0838392728,696880.8835732958],\"yaxis\":\"y\",\"type\":\"scatter\"},{\"hovertemplate\":\"continent_sub_region=South-eastern Asia<br>Year=%{x}<br>Tree Cover Loss (ha)=%{y}<extra></extra>\",\"legendgroup\":\"South-eastern Asia\",\"line\":{\"color\":\"#FF97FF\",\"dash\":\"solid\"},\"marker\":{\"symbol\":\"circle\"},\"mode\":\"lines\",\"name\":\"South-eastern Asia\",\"orientation\":\"v\",\"showlegend\":true,\"x\":[2012,2013,2014,2015,2016,2017,2018,2019,2020,2021,2022],\"xaxis\":\"x\",\"y\":[3812154.6696663154,2392483.9029567726,3734818.4357825825,3316592.2106426205,4574675.017848845,3191390.1198695414,2772807.381150236,2800585.8399661924,2432296.8189967456,2249892.2653225684,2180259.5466001523],\"yaxis\":\"y\",\"type\":\"scatter\"},{\"hovertemplate\":\"continent_sub_region=Southern Asia<br>Year=%{x}<br>Tree Cover Loss (ha)=%{y}<extra></extra>\",\"legendgroup\":\"Southern Asia\",\"line\":{\"color\":\"#FECB52\",\"dash\":\"solid\"},\"marker\":{\"symbol\":\"circle\"},\"mode\":\"lines\",\"name\":\"Southern Asia\",\"orientation\":\"v\",\"showlegend\":true,\"x\":[2012,2013,2014,2015,2016,2017,2018,2019,2020,2021,2022],\"xaxis\":\"x\",\"y\":[120139.53232783098,95736.13825997364,164749.38552023473,136896.52380658063,215047.2112192816,233447.94220145926,166484.48224902435,155708.38289416907,172709.17278455626,166446.34119424288,146909.75505240884],\"yaxis\":\"y\",\"type\":\"scatter\"},{\"hovertemplate\":\"continent_sub_region=Southern Europe<br>Year=%{x}<br>Tree Cover Loss (ha)=%{y}<extra></extra>\",\"legendgroup\":\"Southern Europe\",\"line\":{\"color\":\"#636efa\",\"dash\":\"solid\"},\"marker\":{\"symbol\":\"circle\"},\"mode\":\"lines\",\"name\":\"Southern Europe\",\"orientation\":\"v\",\"showlegend\":true,\"x\":[2012,2013,2014,2015,2016,2017,2018,2019,2020,2021,2022],\"xaxis\":\"x\",\"y\":[176941.56681775267,140069.6740092023,162509.1757718297,132290.800236946,237641.16051173877,318926.71747217857,267018.0413269184,179179.07137379455,202693.40481605014,204390.63500799637,227676.57754455216],\"yaxis\":\"y\",\"type\":\"scatter\"},{\"hovertemplate\":\"continent_sub_region=Sub-Saharan Africa<br>Year=%{x}<br>Tree Cover Loss (ha)=%{y}<extra></extra>\",\"legendgroup\":\"Sub-Saharan Africa\",\"line\":{\"color\":\"#EF553B\",\"dash\":\"solid\"},\"marker\":{\"symbol\":\"circle\"},\"mode\":\"lines\",\"name\":\"Sub-Saharan Africa\",\"orientation\":\"v\",\"showlegend\":true,\"x\":[2012,2013,2014,2015,2016,2017,2018,2019,2020,2021,2022],\"xaxis\":\"x\",\"y\":[1091814.2804846286,1593860.6815095893,2011992.6305328833,1585491.2263599338,2066793.338124277,2750586.5922836335,2083913.3995595553,1808051.3009330241,2047975.3618609887,1988919.0261844317,1886993.4967025975],\"yaxis\":\"y\",\"type\":\"scatter\"},{\"hovertemplate\":\"continent_sub_region=Western Asia<br>Year=%{x}<br>Tree Cover Loss (ha)=%{y}<extra></extra>\",\"legendgroup\":\"Western Asia\",\"line\":{\"color\":\"#00cc96\",\"dash\":\"solid\"},\"marker\":{\"symbol\":\"circle\"},\"mode\":\"lines\",\"name\":\"Western Asia\",\"orientation\":\"v\",\"showlegend\":true,\"x\":[2012,2013,2014,2015,2016,2017,2018,2019,2020,2021,2022],\"xaxis\":\"x\",\"y\":[34484.71949360019,24008.19722107127,23414.91453641653,30206.925151728643,27536.06794411264,36228.3235856956,36686.743527097475,40361.35409572317,48455.69246178428,82254.18641377737,54087.83660393611],\"yaxis\":\"y\",\"type\":\"scatter\"},{\"hovertemplate\":\"continent_sub_region=Western Europe<br>Year=%{x}<br>Tree Cover Loss (ha)=%{y}<extra></extra>\",\"legendgroup\":\"Western Europe\",\"line\":{\"color\":\"#ab63fa\",\"dash\":\"solid\"},\"marker\":{\"symbol\":\"circle\"},\"mode\":\"lines\",\"name\":\"Western Europe\",\"orientation\":\"v\",\"showlegend\":true,\"x\":[2012,2013,2014,2015,2016,2017,2018,2019,2020,2021,2022],\"xaxis\":\"x\",\"y\":[112568.39090405434,58119.29846731439,82016.05617465114,63246.768039131515,112453.79278145793,128667.95211347828,156784.97762910652,234756.26595387215,301880.2686010728,346870.9790118102,173095.169181774],\"yaxis\":\"y\",\"type\":\"scatter\"}],                        {\"template\":{\"data\":{\"histogram2dcontour\":[{\"type\":\"histogram2dcontour\",\"colorbar\":{\"outlinewidth\":0,\"ticks\":\"\"},\"colorscale\":[[0.0,\"#0d0887\"],[0.1111111111111111,\"#46039f\"],[0.2222222222222222,\"#7201a8\"],[0.3333333333333333,\"#9c179e\"],[0.4444444444444444,\"#bd3786\"],[0.5555555555555556,\"#d8576b\"],[0.6666666666666666,\"#ed7953\"],[0.7777777777777778,\"#fb9f3a\"],[0.8888888888888888,\"#fdca26\"],[1.0,\"#f0f921\"]]}],\"choropleth\":[{\"type\":\"choropleth\",\"colorbar\":{\"outlinewidth\":0,\"ticks\":\"\"}}],\"histogram2d\":[{\"type\":\"histogram2d\",\"colorbar\":{\"outlinewidth\":0,\"ticks\":\"\"},\"colorscale\":[[0.0,\"#0d0887\"],[0.1111111111111111,\"#46039f\"],[0.2222222222222222,\"#7201a8\"],[0.3333333333333333,\"#9c179e\"],[0.4444444444444444,\"#bd3786\"],[0.5555555555555556,\"#d8576b\"],[0.6666666666666666,\"#ed7953\"],[0.7777777777777778,\"#fb9f3a\"],[0.8888888888888888,\"#fdca26\"],[1.0,\"#f0f921\"]]}],\"heatmap\":[{\"type\":\"heatmap\",\"colorbar\":{\"outlinewidth\":0,\"ticks\":\"\"},\"colorscale\":[[0.0,\"#0d0887\"],[0.1111111111111111,\"#46039f\"],[0.2222222222222222,\"#7201a8\"],[0.3333333333333333,\"#9c179e\"],[0.4444444444444444,\"#bd3786\"],[0.5555555555555556,\"#d8576b\"],[0.6666666666666666,\"#ed7953\"],[0.7777777777777778,\"#fb9f3a\"],[0.8888888888888888,\"#fdca26\"],[1.0,\"#f0f921\"]]}],\"heatmapgl\":[{\"type\":\"heatmapgl\",\"colorbar\":{\"outlinewidth\":0,\"ticks\":\"\"},\"colorscale\":[[0.0,\"#0d0887\"],[0.1111111111111111,\"#46039f\"],[0.2222222222222222,\"#7201a8\"],[0.3333333333333333,\"#9c179e\"],[0.4444444444444444,\"#bd3786\"],[0.5555555555555556,\"#d8576b\"],[0.6666666666666666,\"#ed7953\"],[0.7777777777777778,\"#fb9f3a\"],[0.8888888888888888,\"#fdca26\"],[1.0,\"#f0f921\"]]}],\"contourcarpet\":[{\"type\":\"contourcarpet\",\"colorbar\":{\"outlinewidth\":0,\"ticks\":\"\"}}],\"contour\":[{\"type\":\"contour\",\"colorbar\":{\"outlinewidth\":0,\"ticks\":\"\"},\"colorscale\":[[0.0,\"#0d0887\"],[0.1111111111111111,\"#46039f\"],[0.2222222222222222,\"#7201a8\"],[0.3333333333333333,\"#9c179e\"],[0.4444444444444444,\"#bd3786\"],[0.5555555555555556,\"#d8576b\"],[0.6666666666666666,\"#ed7953\"],[0.7777777777777778,\"#fb9f3a\"],[0.8888888888888888,\"#fdca26\"],[1.0,\"#f0f921\"]]}],\"surface\":[{\"type\":\"surface\",\"colorbar\":{\"outlinewidth\":0,\"ticks\":\"\"},\"colorscale\":[[0.0,\"#0d0887\"],[0.1111111111111111,\"#46039f\"],[0.2222222222222222,\"#7201a8\"],[0.3333333333333333,\"#9c179e\"],[0.4444444444444444,\"#bd3786\"],[0.5555555555555556,\"#d8576b\"],[0.6666666666666666,\"#ed7953\"],[0.7777777777777778,\"#fb9f3a\"],[0.8888888888888888,\"#fdca26\"],[1.0,\"#f0f921\"]]}],\"mesh3d\":[{\"type\":\"mesh3d\",\"colorbar\":{\"outlinewidth\":0,\"ticks\":\"\"}}],\"scatter\":[{\"fillpattern\":{\"fillmode\":\"overlay\",\"size\":10,\"solidity\":0.2},\"type\":\"scatter\"}],\"parcoords\":[{\"type\":\"parcoords\",\"line\":{\"colorbar\":{\"outlinewidth\":0,\"ticks\":\"\"}}}],\"scatterpolargl\":[{\"type\":\"scatterpolargl\",\"marker\":{\"colorbar\":{\"outlinewidth\":0,\"ticks\":\"\"}}}],\"bar\":[{\"error_x\":{\"color\":\"#2a3f5f\"},\"error_y\":{\"color\":\"#2a3f5f\"},\"marker\":{\"line\":{\"color\":\"#E5ECF6\",\"width\":0.5},\"pattern\":{\"fillmode\":\"overlay\",\"size\":10,\"solidity\":0.2}},\"type\":\"bar\"}],\"scattergeo\":[{\"type\":\"scattergeo\",\"marker\":{\"colorbar\":{\"outlinewidth\":0,\"ticks\":\"\"}}}],\"scatterpolar\":[{\"type\":\"scatterpolar\",\"marker\":{\"colorbar\":{\"outlinewidth\":0,\"ticks\":\"\"}}}],\"histogram\":[{\"marker\":{\"pattern\":{\"fillmode\":\"overlay\",\"size\":10,\"solidity\":0.2}},\"type\":\"histogram\"}],\"scattergl\":[{\"type\":\"scattergl\",\"marker\":{\"colorbar\":{\"outlinewidth\":0,\"ticks\":\"\"}}}],\"scatter3d\":[{\"type\":\"scatter3d\",\"line\":{\"colorbar\":{\"outlinewidth\":0,\"ticks\":\"\"}},\"marker\":{\"colorbar\":{\"outlinewidth\":0,\"ticks\":\"\"}}}],\"scattermapbox\":[{\"type\":\"scattermapbox\",\"marker\":{\"colorbar\":{\"outlinewidth\":0,\"ticks\":\"\"}}}],\"scatterternary\":[{\"type\":\"scatterternary\",\"marker\":{\"colorbar\":{\"outlinewidth\":0,\"ticks\":\"\"}}}],\"scattercarpet\":[{\"type\":\"scattercarpet\",\"marker\":{\"colorbar\":{\"outlinewidth\":0,\"ticks\":\"\"}}}],\"carpet\":[{\"aaxis\":{\"endlinecolor\":\"#2a3f5f\",\"gridcolor\":\"white\",\"linecolor\":\"white\",\"minorgridcolor\":\"white\",\"startlinecolor\":\"#2a3f5f\"},\"baxis\":{\"endlinecolor\":\"#2a3f5f\",\"gridcolor\":\"white\",\"linecolor\":\"white\",\"minorgridcolor\":\"white\",\"startlinecolor\":\"#2a3f5f\"},\"type\":\"carpet\"}],\"table\":[{\"cells\":{\"fill\":{\"color\":\"#EBF0F8\"},\"line\":{\"color\":\"white\"}},\"header\":{\"fill\":{\"color\":\"#C8D4E3\"},\"line\":{\"color\":\"white\"}},\"type\":\"table\"}],\"barpolar\":[{\"marker\":{\"line\":{\"color\":\"#E5ECF6\",\"width\":0.5},\"pattern\":{\"fillmode\":\"overlay\",\"size\":10,\"solidity\":0.2}},\"type\":\"barpolar\"}],\"pie\":[{\"automargin\":true,\"type\":\"pie\"}]},\"layout\":{\"autotypenumbers\":\"strict\",\"colorway\":[\"#636efa\",\"#EF553B\",\"#00cc96\",\"#ab63fa\",\"#FFA15A\",\"#19d3f3\",\"#FF6692\",\"#B6E880\",\"#FF97FF\",\"#FECB52\"],\"font\":{\"color\":\"#2a3f5f\"},\"hovermode\":\"closest\",\"hoverlabel\":{\"align\":\"left\"},\"paper_bgcolor\":\"white\",\"plot_bgcolor\":\"#E5ECF6\",\"polar\":{\"bgcolor\":\"#E5ECF6\",\"angularaxis\":{\"gridcolor\":\"white\",\"linecolor\":\"white\",\"ticks\":\"\"},\"radialaxis\":{\"gridcolor\":\"white\",\"linecolor\":\"white\",\"ticks\":\"\"}},\"ternary\":{\"bgcolor\":\"#E5ECF6\",\"aaxis\":{\"gridcolor\":\"white\",\"linecolor\":\"white\",\"ticks\":\"\"},\"baxis\":{\"gridcolor\":\"white\",\"linecolor\":\"white\",\"ticks\":\"\"},\"caxis\":{\"gridcolor\":\"white\",\"linecolor\":\"white\",\"ticks\":\"\"}},\"coloraxis\":{\"colorbar\":{\"outlinewidth\":0,\"ticks\":\"\"}},\"colorscale\":{\"sequential\":[[0.0,\"#0d0887\"],[0.1111111111111111,\"#46039f\"],[0.2222222222222222,\"#7201a8\"],[0.3333333333333333,\"#9c179e\"],[0.4444444444444444,\"#bd3786\"],[0.5555555555555556,\"#d8576b\"],[0.6666666666666666,\"#ed7953\"],[0.7777777777777778,\"#fb9f3a\"],[0.8888888888888888,\"#fdca26\"],[1.0,\"#f0f921\"]],\"sequentialminus\":[[0.0,\"#0d0887\"],[0.1111111111111111,\"#46039f\"],[0.2222222222222222,\"#7201a8\"],[0.3333333333333333,\"#9c179e\"],[0.4444444444444444,\"#bd3786\"],[0.5555555555555556,\"#d8576b\"],[0.6666666666666666,\"#ed7953\"],[0.7777777777777778,\"#fb9f3a\"],[0.8888888888888888,\"#fdca26\"],[1.0,\"#f0f921\"]],\"diverging\":[[0,\"#8e0152\"],[0.1,\"#c51b7d\"],[0.2,\"#de77ae\"],[0.3,\"#f1b6da\"],[0.4,\"#fde0ef\"],[0.5,\"#f7f7f7\"],[0.6,\"#e6f5d0\"],[0.7,\"#b8e186\"],[0.8,\"#7fbc41\"],[0.9,\"#4d9221\"],[1,\"#276419\"]]},\"xaxis\":{\"gridcolor\":\"white\",\"linecolor\":\"white\",\"ticks\":\"\",\"title\":{\"standoff\":15},\"zerolinecolor\":\"white\",\"automargin\":true,\"zerolinewidth\":2},\"yaxis\":{\"gridcolor\":\"white\",\"linecolor\":\"white\",\"ticks\":\"\",\"title\":{\"standoff\":15},\"zerolinecolor\":\"white\",\"automargin\":true,\"zerolinewidth\":2},\"scene\":{\"xaxis\":{\"backgroundcolor\":\"#E5ECF6\",\"gridcolor\":\"white\",\"linecolor\":\"white\",\"showbackground\":true,\"ticks\":\"\",\"zerolinecolor\":\"white\",\"gridwidth\":2},\"yaxis\":{\"backgroundcolor\":\"#E5ECF6\",\"gridcolor\":\"white\",\"linecolor\":\"white\",\"showbackground\":true,\"ticks\":\"\",\"zerolinecolor\":\"white\",\"gridwidth\":2},\"zaxis\":{\"backgroundcolor\":\"#E5ECF6\",\"gridcolor\":\"white\",\"linecolor\":\"white\",\"showbackground\":true,\"ticks\":\"\",\"zerolinecolor\":\"white\",\"gridwidth\":2}},\"shapedefaults\":{\"line\":{\"color\":\"#2a3f5f\"}},\"annotationdefaults\":{\"arrowcolor\":\"#2a3f5f\",\"arrowhead\":0,\"arrowwidth\":1},\"geo\":{\"bgcolor\":\"white\",\"landcolor\":\"#E5ECF6\",\"subunitcolor\":\"white\",\"showland\":true,\"showlakes\":true,\"lakecolor\":\"white\"},\"title\":{\"x\":0.05},\"mapbox\":{\"style\":\"light\"}}},\"xaxis\":{\"anchor\":\"y\",\"domain\":[0.0,1.0],\"title\":{\"text\":\"Year\"}},\"yaxis\":{\"anchor\":\"x\",\"domain\":[0.0,1.0],\"title\":{\"text\":\"Tree Cover Loss (ha)\"}},\"legend\":{\"title\":{\"text\":\"continent_sub_region\"},\"tracegroupgap\":0},\"title\":{\"text\":\"Deforestation by Region Over Time\"}},                        {\"responsive\": true}                    ).then(function(){\n",
       "                            \n",
       "var gd = document.getElementById('9335d4ef-96bd-4f8b-8ab5-420602f9dd79');\n",
       "var x = new MutationObserver(function (mutations, observer) {{\n",
       "        var display = window.getComputedStyle(gd).display;\n",
       "        if (!display || display === 'none') {{\n",
       "            console.log([gd, 'removed!']);\n",
       "            Plotly.purge(gd);\n",
       "            observer.disconnect();\n",
       "        }}\n",
       "}});\n",
       "\n",
       "// Listen for the removal of the full notebook cells\n",
       "var notebookContainer = gd.closest('#notebook-container');\n",
       "if (notebookContainer) {{\n",
       "    x.observe(notebookContainer, {childList: true});\n",
       "}}\n",
       "\n",
       "// Listen for the clearing of the current output cell\n",
       "var outputEl = gd.closest('.output');\n",
       "if (outputEl) {{\n",
       "    x.observe(outputEl, {childList: true});\n",
       "}}\n",
       "\n",
       "                        })                };                });            </script>        </div>"
      ]
     },
     "metadata": {},
     "output_type": "display_data"
    }
   ],
   "source": [
    "deforest_agg = data.groupby(['year', 'continent_sub_region']).agg(\n",
    "    {'umd_tree_cover_loss__ha': 'sum', 'fsi': 'mean'}\n",
    ").reset_index()\n",
    "\n",
    "fig = px.line(\n",
    "    deforest_agg,\n",
    "    x=\"year\", \n",
    "    y=\"umd_tree_cover_loss__ha\", \n",
    "    color=\"continent_sub_region\",\n",
    "    labels={\"year\": \"Year\",\n",
    "        \"umd_tree_cover_loss__ha\": \"Tree Cover Loss (ha)\",\n",
    "        \"continent_region\": \"Continent\",\n",
    "    },\n",
    "    title=\"Deforestation by Region Over Time\"\n",
    ")\n",
    "fig.show()"
   ]
  },
  {
   "cell_type": "code",
   "execution_count": 30,
   "id": "a52e5d44",
   "metadata": {},
   "outputs": [
    {
     "data": {
      "text/html": [
       "<div>\n",
       "<style scoped>\n",
       "    .dataframe tbody tr th:only-of-type {\n",
       "        vertical-align: middle;\n",
       "    }\n",
       "\n",
       "    .dataframe tbody tr th {\n",
       "        vertical-align: top;\n",
       "    }\n",
       "\n",
       "    .dataframe thead th {\n",
       "        text-align: right;\n",
       "    }\n",
       "</style>\n",
       "<table border=\"1\" class=\"dataframe\">\n",
       "  <thead>\n",
       "    <tr style=\"text-align: right;\">\n",
       "      <th></th>\n",
       "      <th>year</th>\n",
       "      <th>continent_sub_region</th>\n",
       "      <th>umd_tree_cover_loss__ha</th>\n",
       "      <th>fsi</th>\n",
       "    </tr>\n",
       "  </thead>\n",
       "  <tbody>\n",
       "    <tr>\n",
       "      <th>0</th>\n",
       "      <td>2012</td>\n",
       "      <td>Australia and New Zealand</td>\n",
       "      <td>2.093013e+05</td>\n",
       "      <td>71.700000</td>\n",
       "    </tr>\n",
       "    <tr>\n",
       "      <th>1</th>\n",
       "      <td>2012</td>\n",
       "      <td>Central Asia</td>\n",
       "      <td>3.822932e+03</td>\n",
       "      <td>53.400000</td>\n",
       "    </tr>\n",
       "    <tr>\n",
       "      <th>2</th>\n",
       "      <td>2012</td>\n",
       "      <td>Eastern Asia</td>\n",
       "      <td>6.673582e+05</td>\n",
       "      <td>66.333333</td>\n",
       "    </tr>\n",
       "    <tr>\n",
       "      <th>3</th>\n",
       "      <td>2012</td>\n",
       "      <td>Eastern Europe</td>\n",
       "      <td>5.616977e+06</td>\n",
       "      <td>64.066667</td>\n",
       "    </tr>\n",
       "    <tr>\n",
       "      <th>4</th>\n",
       "      <td>2012</td>\n",
       "      <td>Latin America and the Caribbean</td>\n",
       "      <td>5.429153e+06</td>\n",
       "      <td>58.533333</td>\n",
       "    </tr>\n",
       "    <tr>\n",
       "      <th>...</th>\n",
       "      <td>...</td>\n",
       "      <td>...</td>\n",
       "      <td>...</td>\n",
       "      <td>...</td>\n",
       "    </tr>\n",
       "    <tr>\n",
       "      <th>149</th>\n",
       "      <td>2022</td>\n",
       "      <td>Southern Asia</td>\n",
       "      <td>1.469098e+05</td>\n",
       "      <td>55.440000</td>\n",
       "    </tr>\n",
       "    <tr>\n",
       "      <th>150</th>\n",
       "      <td>2022</td>\n",
       "      <td>Southern Europe</td>\n",
       "      <td>2.276766e+05</td>\n",
       "      <td>72.400000</td>\n",
       "    </tr>\n",
       "    <tr>\n",
       "      <th>151</th>\n",
       "      <td>2022</td>\n",
       "      <td>Sub-Saharan Africa</td>\n",
       "      <td>1.886993e+06</td>\n",
       "      <td>47.384000</td>\n",
       "    </tr>\n",
       "    <tr>\n",
       "      <th>152</th>\n",
       "      <td>2022</td>\n",
       "      <td>Western Asia</td>\n",
       "      <td>5.408784e+04</td>\n",
       "      <td>59.050000</td>\n",
       "    </tr>\n",
       "    <tr>\n",
       "      <th>153</th>\n",
       "      <td>2022</td>\n",
       "      <td>Western Europe</td>\n",
       "      <td>1.730952e+05</td>\n",
       "      <td>78.516667</td>\n",
       "    </tr>\n",
       "  </tbody>\n",
       "</table>\n",
       "<p>154 rows × 4 columns</p>\n",
       "</div>"
      ],
      "text/plain": [
       "     year             continent_sub_region  umd_tree_cover_loss__ha        fsi\n",
       "0    2012        Australia and New Zealand             2.093013e+05  71.700000\n",
       "1    2012                     Central Asia             3.822932e+03  53.400000\n",
       "2    2012                     Eastern Asia             6.673582e+05  66.333333\n",
       "3    2012                   Eastern Europe             5.616977e+06  64.066667\n",
       "4    2012  Latin America and the Caribbean             5.429153e+06  58.533333\n",
       "..    ...                              ...                      ...        ...\n",
       "149  2022                    Southern Asia             1.469098e+05  55.440000\n",
       "150  2022                  Southern Europe             2.276766e+05  72.400000\n",
       "151  2022               Sub-Saharan Africa             1.886993e+06  47.384000\n",
       "152  2022                     Western Asia             5.408784e+04  59.050000\n",
       "153  2022                   Western Europe             1.730952e+05  78.516667\n",
       "\n",
       "[154 rows x 4 columns]"
      ]
     },
     "execution_count": 30,
     "metadata": {},
     "output_type": "execute_result"
    }
   ],
   "source": [
    "deforest_agg"
   ]
  },
  {
   "cell_type": "code",
   "execution_count": 31,
   "id": "86997ea9",
   "metadata": {},
   "outputs": [
    {
     "data": {
      "application/vnd.plotly.v1+json": {
       "config": {
        "plotlyServerURL": "https://plot.ly"
       },
       "data": [
        {
         "hovertemplate": "continent_sub_region=Australia and New Zealand<br>Year=%{x}<br>Average of Food Security Index=%{y}<extra></extra>",
         "legendgroup": "Australia and New Zealand",
         "line": {
          "color": "#636efa",
          "dash": "solid"
         },
         "marker": {
          "symbol": "circle"
         },
         "mode": "lines",
         "name": "Australia and New Zealand",
         "orientation": "v",
         "showlegend": true,
         "type": "scatter",
         "x": [
          2012,
          2013,
          2014,
          2015,
          2016,
          2017,
          2018,
          2019,
          2020,
          2021,
          2022
         ],
         "xaxis": "x",
         "y": [
          71.69999999999999,
          74,
          76.15,
          75.25,
          76.4,
          77.05,
          77.05,
          76.65,
          75.85,
          74.05000000000001,
          76.6
         ],
         "yaxis": "y"
        },
        {
         "hovertemplate": "continent_sub_region=Central Asia<br>Year=%{x}<br>Average of Food Security Index=%{y}<extra></extra>",
         "legendgroup": "Central Asia",
         "line": {
          "color": "#EF553B",
          "dash": "solid"
         },
         "marker": {
          "symbol": "circle"
         },
         "mode": "lines",
         "name": "Central Asia",
         "orientation": "v",
         "showlegend": true,
         "type": "scatter",
         "x": [
          2012,
          2013,
          2014,
          2015,
          2016,
          2017,
          2018,
          2019,
          2020,
          2021,
          2022
         ],
         "xaxis": "x",
         "y": [
          53.4,
          55.03333333333333,
          55.26666666666667,
          64.2,
          66.1,
          58.9,
          57.53333333333333,
          59.53333333333333,
          59.9,
          59.86666666666667,
          62.1
         ],
         "yaxis": "y"
        },
        {
         "hovertemplate": "continent_sub_region=Eastern Asia<br>Year=%{x}<br>Average of Food Security Index=%{y}<extra></extra>",
         "legendgroup": "Eastern Asia",
         "line": {
          "color": "#00cc96",
          "dash": "solid"
         },
         "marker": {
          "symbol": "circle"
         },
         "mode": "lines",
         "name": "Eastern Asia",
         "orientation": "v",
         "showlegend": true,
         "type": "scatter",
         "x": [
          2012,
          2013,
          2014,
          2015,
          2016,
          2017,
          2018,
          2019,
          2020,
          2021,
          2022
         ],
         "xaxis": "x",
         "y": [
          66.33333333333333,
          69.56666666666666,
          70.53333333333335,
          71.13333333333334,
          72.16666666666667,
          72.33333333333333,
          73.26666666666667,
          74.10000000000001,
          73.5,
          73,
          74.63333333333334
         ],
         "yaxis": "y"
        },
        {
         "hovertemplate": "continent_sub_region=Eastern Europe<br>Year=%{x}<br>Average of Food Security Index=%{y}<extra></extra>",
         "legendgroup": "Eastern Europe",
         "line": {
          "color": "#ab63fa",
          "dash": "solid"
         },
         "marker": {
          "symbol": "circle"
         },
         "mode": "lines",
         "name": "Eastern Europe",
         "orientation": "v",
         "showlegend": true,
         "type": "scatter",
         "x": [
          2012,
          2013,
          2014,
          2015,
          2016,
          2017,
          2018,
          2019,
          2020,
          2021,
          2022
         ],
         "xaxis": "x",
         "y": [
          64.06666666666666,
          64.78888888888889,
          66.56666666666666,
          67.11111111111111,
          67.95555555555556,
          69.62222222222222,
          68.88888888888889,
          70.27777777777777,
          70.27777777777777,
          70.44444444444444,
          69.88888888888889
         ],
         "yaxis": "y"
        },
        {
         "hovertemplate": "continent_sub_region=Latin America and the Caribbean<br>Year=%{x}<br>Average of Food Security Index=%{y}<extra></extra>",
         "legendgroup": "Latin America and the Caribbean",
         "line": {
          "color": "#FFA15A",
          "dash": "solid"
         },
         "marker": {
          "symbol": "circle"
         },
         "mode": "lines",
         "name": "Latin America and the Caribbean",
         "orientation": "v",
         "showlegend": true,
         "type": "scatter",
         "x": [
          2012,
          2013,
          2014,
          2015,
          2016,
          2017,
          2018,
          2019,
          2020,
          2021,
          2022
         ],
         "xaxis": "x",
         "y": [
          58.53333333333333,
          60.87222222222223,
          61.74444444444445,
          62.27777777777778,
          63.01111111111111,
          63.88333333333334,
          65.08888888888889,
          64.73888888888888,
          64.45555555555556,
          63.96666666666667,
          63.26111111111111
         ],
         "yaxis": "y"
        },
        {
         "hovertemplate": "continent_sub_region=Northern Africa<br>Year=%{x}<br>Average of Food Security Index=%{y}<extra></extra>",
         "legendgroup": "Northern Africa",
         "line": {
          "color": "#19d3f3",
          "dash": "solid"
         },
         "marker": {
          "symbol": "circle"
         },
         "mode": "lines",
         "name": "Northern Africa",
         "orientation": "v",
         "showlegend": true,
         "type": "scatter",
         "x": [
          2012,
          2013,
          2014,
          2015,
          2016,
          2017,
          2018,
          2019,
          2020,
          2021,
          2022
         ],
         "xaxis": "x",
         "y": [
          49.94,
          49.42,
          51.279999999999994,
          52.839999999999996,
          53.54,
          54.06,
          54.42,
          54.879999999999995,
          55.98,
          56.9,
          56.2
         ],
         "yaxis": "y"
        },
        {
         "hovertemplate": "continent_sub_region=Northern America<br>Year=%{x}<br>Average of Food Security Index=%{y}<extra></extra>",
         "legendgroup": "Northern America",
         "line": {
          "color": "#FF6692",
          "dash": "solid"
         },
         "marker": {
          "symbol": "circle"
         },
         "mode": "lines",
         "name": "Northern America",
         "orientation": "v",
         "showlegend": true,
         "type": "scatter",
         "x": [
          2012,
          2013,
          2014,
          2015,
          2016,
          2017,
          2018,
          2019,
          2020,
          2021,
          2022
         ],
         "xaxis": "x",
         "y": [
          74.4,
          75.05,
          75.3,
          73.8,
          75.75,
          76.65,
          77.5,
          78.25,
          78.35,
          79.1,
          78.55
         ],
         "yaxis": "y"
        },
        {
         "hovertemplate": "continent_sub_region=Northern Europe<br>Year=%{x}<br>Average of Food Security Index=%{y}<extra></extra>",
         "legendgroup": "Northern Europe",
         "line": {
          "color": "#B6E880",
          "dash": "solid"
         },
         "marker": {
          "symbol": "circle"
         },
         "mode": "lines",
         "name": "Northern Europe",
         "orientation": "v",
         "showlegend": true,
         "type": "scatter",
         "x": [
          2012,
          2013,
          2014,
          2015,
          2016,
          2017,
          2018,
          2019,
          2020,
          2021,
          2022
         ],
         "xaxis": "x",
         "y": [
          76.15,
          77.10000000000001,
          77.48333333333333,
          78.89999999999999,
          79.71666666666667,
          80.66666666666667,
          80.66666666666667,
          80.56666666666666,
          80.3,
          79.5,
          80.26666666666667
         ],
         "yaxis": "y"
        },
        {
         "hovertemplate": "continent_sub_region=South-eastern Asia<br>Year=%{x}<br>Average of Food Security Index=%{y}<extra></extra>",
         "legendgroup": "South-eastern Asia",
         "line": {
          "color": "#FF97FF",
          "dash": "solid"
         },
         "marker": {
          "symbol": "circle"
         },
         "mode": "lines",
         "name": "South-eastern Asia",
         "orientation": "v",
         "showlegend": true,
         "type": "scatter",
         "x": [
          2012,
          2013,
          2014,
          2015,
          2016,
          2017,
          2018,
          2019,
          2020,
          2021,
          2022
         ],
         "xaxis": "x",
         "y": [
          54.21111111111111,
          56.58888888888889,
          58.266666666666666,
          59.1888888888889,
          59.74444444444445,
          60.3111111111111,
          62.44444444444444,
          61.91111111111112,
          61.366666666666674,
          61.199999999999996,
          61.87777777777777
         ],
         "yaxis": "y"
        },
        {
         "hovertemplate": "continent_sub_region=Southern Asia<br>Year=%{x}<br>Average of Food Security Index=%{y}<extra></extra>",
         "legendgroup": "Southern Asia",
         "line": {
          "color": "#FECB52",
          "dash": "solid"
         },
         "marker": {
          "symbol": "circle"
         },
         "mode": "lines",
         "name": "Southern Asia",
         "orientation": "v",
         "showlegend": true,
         "type": "scatter",
         "x": [
          2012,
          2013,
          2014,
          2015,
          2016,
          2017,
          2018,
          2019,
          2020,
          2021,
          2022
         ],
         "xaxis": "x",
         "y": [
          48.62,
          50.92,
          51.36,
          52.9,
          56.075,
          56.839999999999996,
          57.17999999999999,
          57.239999999999995,
          55.8,
          54.52,
          55.44
         ],
         "yaxis": "y"
        },
        {
         "hovertemplate": "continent_sub_region=Southern Europe<br>Year=%{x}<br>Average of Food Security Index=%{y}<extra></extra>",
         "legendgroup": "Southern Europe",
         "line": {
          "color": "#636efa",
          "dash": "solid"
         },
         "marker": {
          "symbol": "circle"
         },
         "mode": "lines",
         "name": "Southern Europe",
         "orientation": "v",
         "showlegend": true,
         "type": "scatter",
         "x": [
          2012,
          2013,
          2014,
          2015,
          2016,
          2017,
          2018,
          2019,
          2020,
          2021,
          2022
         ],
         "xaxis": "x",
         "y": [
          68.42,
          69.46000000000001,
          70.53999999999999,
          72.86,
          72.58,
          73.53999999999999,
          73.6,
          73.44,
          73.8,
          72.44,
          72.4
         ],
         "yaxis": "y"
        },
        {
         "hovertemplate": "continent_sub_region=Sub-Saharan Africa<br>Year=%{x}<br>Average of Food Security Index=%{y}<extra></extra>",
         "legendgroup": "Sub-Saharan Africa",
         "line": {
          "color": "#EF553B",
          "dash": "solid"
         },
         "marker": {
          "symbol": "circle"
         },
         "mode": "lines",
         "name": "Sub-Saharan Africa",
         "orientation": "v",
         "showlegend": true,
         "type": "scatter",
         "x": [
          2012,
          2013,
          2014,
          2015,
          2016,
          2017,
          2018,
          2019,
          2020,
          2021,
          2022
         ],
         "xaxis": "x",
         "y": [
          42.93600000000001,
          43.82083333333333,
          45.67916666666667,
          46.81666666666666,
          46.732,
          46.35833333333333,
          46.525,
          48.00833333333333,
          48.4,
          47.943999999999996,
          47.38399999999999
         ],
         "yaxis": "y"
        },
        {
         "hovertemplate": "continent_sub_region=Western Asia<br>Year=%{x}<br>Average of Food Security Index=%{y}<extra></extra>",
         "legendgroup": "Western Asia",
         "line": {
          "color": "#00cc96",
          "dash": "solid"
         },
         "marker": {
          "symbol": "circle"
         },
         "mode": "lines",
         "name": "Western Asia",
         "orientation": "v",
         "showlegend": true,
         "type": "scatter",
         "x": [
          2012,
          2013,
          2014,
          2015,
          2016,
          2017,
          2018,
          2019,
          2020,
          2021,
          2022
         ],
         "xaxis": "x",
         "y": [
          59.93333333333333,
          58.98,
          60.583333333333336,
          61.56,
          59.849999999999994,
          60.48,
          59.35,
          61.879999999999995,
          60.3,
          58.925,
          59.05
         ],
         "yaxis": "y"
        },
        {
         "hovertemplate": "continent_sub_region=Western Europe<br>Year=%{x}<br>Average of Food Security Index=%{y}<extra></extra>",
         "legendgroup": "Western Europe",
         "line": {
          "color": "#ab63fa",
          "dash": "solid"
         },
         "marker": {
          "symbol": "circle"
         },
         "mode": "lines",
         "name": "Western Europe",
         "orientation": "v",
         "showlegend": true,
         "type": "scatter",
         "x": [
          2012,
          2013,
          2014,
          2015,
          2016,
          2017,
          2018,
          2019,
          2020,
          2021,
          2022
         ],
         "xaxis": "x",
         "y": [
          74.13333333333334,
          74.75,
          75.75,
          76.28333333333333,
          76.45,
          77.35,
          78.41666666666667,
          78.18333333333334,
          78.26666666666667,
          77.61666666666666,
          78.51666666666667
         ],
         "yaxis": "y"
        }
       ],
       "layout": {
        "legend": {
         "title": {
          "text": "continent_sub_region"
         },
         "tracegroupgap": 0
        },
        "template": {
         "data": {
          "bar": [
           {
            "error_x": {
             "color": "#2a3f5f"
            },
            "error_y": {
             "color": "#2a3f5f"
            },
            "marker": {
             "line": {
              "color": "#E5ECF6",
              "width": 0.5
             },
             "pattern": {
              "fillmode": "overlay",
              "size": 10,
              "solidity": 0.2
             }
            },
            "type": "bar"
           }
          ],
          "barpolar": [
           {
            "marker": {
             "line": {
              "color": "#E5ECF6",
              "width": 0.5
             },
             "pattern": {
              "fillmode": "overlay",
              "size": 10,
              "solidity": 0.2
             }
            },
            "type": "barpolar"
           }
          ],
          "carpet": [
           {
            "aaxis": {
             "endlinecolor": "#2a3f5f",
             "gridcolor": "white",
             "linecolor": "white",
             "minorgridcolor": "white",
             "startlinecolor": "#2a3f5f"
            },
            "baxis": {
             "endlinecolor": "#2a3f5f",
             "gridcolor": "white",
             "linecolor": "white",
             "minorgridcolor": "white",
             "startlinecolor": "#2a3f5f"
            },
            "type": "carpet"
           }
          ],
          "choropleth": [
           {
            "colorbar": {
             "outlinewidth": 0,
             "ticks": ""
            },
            "type": "choropleth"
           }
          ],
          "contour": [
           {
            "colorbar": {
             "outlinewidth": 0,
             "ticks": ""
            },
            "colorscale": [
             [
              0,
              "#0d0887"
             ],
             [
              0.1111111111111111,
              "#46039f"
             ],
             [
              0.2222222222222222,
              "#7201a8"
             ],
             [
              0.3333333333333333,
              "#9c179e"
             ],
             [
              0.4444444444444444,
              "#bd3786"
             ],
             [
              0.5555555555555556,
              "#d8576b"
             ],
             [
              0.6666666666666666,
              "#ed7953"
             ],
             [
              0.7777777777777778,
              "#fb9f3a"
             ],
             [
              0.8888888888888888,
              "#fdca26"
             ],
             [
              1,
              "#f0f921"
             ]
            ],
            "type": "contour"
           }
          ],
          "contourcarpet": [
           {
            "colorbar": {
             "outlinewidth": 0,
             "ticks": ""
            },
            "type": "contourcarpet"
           }
          ],
          "heatmap": [
           {
            "colorbar": {
             "outlinewidth": 0,
             "ticks": ""
            },
            "colorscale": [
             [
              0,
              "#0d0887"
             ],
             [
              0.1111111111111111,
              "#46039f"
             ],
             [
              0.2222222222222222,
              "#7201a8"
             ],
             [
              0.3333333333333333,
              "#9c179e"
             ],
             [
              0.4444444444444444,
              "#bd3786"
             ],
             [
              0.5555555555555556,
              "#d8576b"
             ],
             [
              0.6666666666666666,
              "#ed7953"
             ],
             [
              0.7777777777777778,
              "#fb9f3a"
             ],
             [
              0.8888888888888888,
              "#fdca26"
             ],
             [
              1,
              "#f0f921"
             ]
            ],
            "type": "heatmap"
           }
          ],
          "heatmapgl": [
           {
            "colorbar": {
             "outlinewidth": 0,
             "ticks": ""
            },
            "colorscale": [
             [
              0,
              "#0d0887"
             ],
             [
              0.1111111111111111,
              "#46039f"
             ],
             [
              0.2222222222222222,
              "#7201a8"
             ],
             [
              0.3333333333333333,
              "#9c179e"
             ],
             [
              0.4444444444444444,
              "#bd3786"
             ],
             [
              0.5555555555555556,
              "#d8576b"
             ],
             [
              0.6666666666666666,
              "#ed7953"
             ],
             [
              0.7777777777777778,
              "#fb9f3a"
             ],
             [
              0.8888888888888888,
              "#fdca26"
             ],
             [
              1,
              "#f0f921"
             ]
            ],
            "type": "heatmapgl"
           }
          ],
          "histogram": [
           {
            "marker": {
             "pattern": {
              "fillmode": "overlay",
              "size": 10,
              "solidity": 0.2
             }
            },
            "type": "histogram"
           }
          ],
          "histogram2d": [
           {
            "colorbar": {
             "outlinewidth": 0,
             "ticks": ""
            },
            "colorscale": [
             [
              0,
              "#0d0887"
             ],
             [
              0.1111111111111111,
              "#46039f"
             ],
             [
              0.2222222222222222,
              "#7201a8"
             ],
             [
              0.3333333333333333,
              "#9c179e"
             ],
             [
              0.4444444444444444,
              "#bd3786"
             ],
             [
              0.5555555555555556,
              "#d8576b"
             ],
             [
              0.6666666666666666,
              "#ed7953"
             ],
             [
              0.7777777777777778,
              "#fb9f3a"
             ],
             [
              0.8888888888888888,
              "#fdca26"
             ],
             [
              1,
              "#f0f921"
             ]
            ],
            "type": "histogram2d"
           }
          ],
          "histogram2dcontour": [
           {
            "colorbar": {
             "outlinewidth": 0,
             "ticks": ""
            },
            "colorscale": [
             [
              0,
              "#0d0887"
             ],
             [
              0.1111111111111111,
              "#46039f"
             ],
             [
              0.2222222222222222,
              "#7201a8"
             ],
             [
              0.3333333333333333,
              "#9c179e"
             ],
             [
              0.4444444444444444,
              "#bd3786"
             ],
             [
              0.5555555555555556,
              "#d8576b"
             ],
             [
              0.6666666666666666,
              "#ed7953"
             ],
             [
              0.7777777777777778,
              "#fb9f3a"
             ],
             [
              0.8888888888888888,
              "#fdca26"
             ],
             [
              1,
              "#f0f921"
             ]
            ],
            "type": "histogram2dcontour"
           }
          ],
          "mesh3d": [
           {
            "colorbar": {
             "outlinewidth": 0,
             "ticks": ""
            },
            "type": "mesh3d"
           }
          ],
          "parcoords": [
           {
            "line": {
             "colorbar": {
              "outlinewidth": 0,
              "ticks": ""
             }
            },
            "type": "parcoords"
           }
          ],
          "pie": [
           {
            "automargin": true,
            "type": "pie"
           }
          ],
          "scatter": [
           {
            "fillpattern": {
             "fillmode": "overlay",
             "size": 10,
             "solidity": 0.2
            },
            "type": "scatter"
           }
          ],
          "scatter3d": [
           {
            "line": {
             "colorbar": {
              "outlinewidth": 0,
              "ticks": ""
             }
            },
            "marker": {
             "colorbar": {
              "outlinewidth": 0,
              "ticks": ""
             }
            },
            "type": "scatter3d"
           }
          ],
          "scattercarpet": [
           {
            "marker": {
             "colorbar": {
              "outlinewidth": 0,
              "ticks": ""
             }
            },
            "type": "scattercarpet"
           }
          ],
          "scattergeo": [
           {
            "marker": {
             "colorbar": {
              "outlinewidth": 0,
              "ticks": ""
             }
            },
            "type": "scattergeo"
           }
          ],
          "scattergl": [
           {
            "marker": {
             "colorbar": {
              "outlinewidth": 0,
              "ticks": ""
             }
            },
            "type": "scattergl"
           }
          ],
          "scattermapbox": [
           {
            "marker": {
             "colorbar": {
              "outlinewidth": 0,
              "ticks": ""
             }
            },
            "type": "scattermapbox"
           }
          ],
          "scatterpolar": [
           {
            "marker": {
             "colorbar": {
              "outlinewidth": 0,
              "ticks": ""
             }
            },
            "type": "scatterpolar"
           }
          ],
          "scatterpolargl": [
           {
            "marker": {
             "colorbar": {
              "outlinewidth": 0,
              "ticks": ""
             }
            },
            "type": "scatterpolargl"
           }
          ],
          "scatterternary": [
           {
            "marker": {
             "colorbar": {
              "outlinewidth": 0,
              "ticks": ""
             }
            },
            "type": "scatterternary"
           }
          ],
          "surface": [
           {
            "colorbar": {
             "outlinewidth": 0,
             "ticks": ""
            },
            "colorscale": [
             [
              0,
              "#0d0887"
             ],
             [
              0.1111111111111111,
              "#46039f"
             ],
             [
              0.2222222222222222,
              "#7201a8"
             ],
             [
              0.3333333333333333,
              "#9c179e"
             ],
             [
              0.4444444444444444,
              "#bd3786"
             ],
             [
              0.5555555555555556,
              "#d8576b"
             ],
             [
              0.6666666666666666,
              "#ed7953"
             ],
             [
              0.7777777777777778,
              "#fb9f3a"
             ],
             [
              0.8888888888888888,
              "#fdca26"
             ],
             [
              1,
              "#f0f921"
             ]
            ],
            "type": "surface"
           }
          ],
          "table": [
           {
            "cells": {
             "fill": {
              "color": "#EBF0F8"
             },
             "line": {
              "color": "white"
             }
            },
            "header": {
             "fill": {
              "color": "#C8D4E3"
             },
             "line": {
              "color": "white"
             }
            },
            "type": "table"
           }
          ]
         },
         "layout": {
          "annotationdefaults": {
           "arrowcolor": "#2a3f5f",
           "arrowhead": 0,
           "arrowwidth": 1
          },
          "autotypenumbers": "strict",
          "coloraxis": {
           "colorbar": {
            "outlinewidth": 0,
            "ticks": ""
           }
          },
          "colorscale": {
           "diverging": [
            [
             0,
             "#8e0152"
            ],
            [
             0.1,
             "#c51b7d"
            ],
            [
             0.2,
             "#de77ae"
            ],
            [
             0.3,
             "#f1b6da"
            ],
            [
             0.4,
             "#fde0ef"
            ],
            [
             0.5,
             "#f7f7f7"
            ],
            [
             0.6,
             "#e6f5d0"
            ],
            [
             0.7,
             "#b8e186"
            ],
            [
             0.8,
             "#7fbc41"
            ],
            [
             0.9,
             "#4d9221"
            ],
            [
             1,
             "#276419"
            ]
           ],
           "sequential": [
            [
             0,
             "#0d0887"
            ],
            [
             0.1111111111111111,
             "#46039f"
            ],
            [
             0.2222222222222222,
             "#7201a8"
            ],
            [
             0.3333333333333333,
             "#9c179e"
            ],
            [
             0.4444444444444444,
             "#bd3786"
            ],
            [
             0.5555555555555556,
             "#d8576b"
            ],
            [
             0.6666666666666666,
             "#ed7953"
            ],
            [
             0.7777777777777778,
             "#fb9f3a"
            ],
            [
             0.8888888888888888,
             "#fdca26"
            ],
            [
             1,
             "#f0f921"
            ]
           ],
           "sequentialminus": [
            [
             0,
             "#0d0887"
            ],
            [
             0.1111111111111111,
             "#46039f"
            ],
            [
             0.2222222222222222,
             "#7201a8"
            ],
            [
             0.3333333333333333,
             "#9c179e"
            ],
            [
             0.4444444444444444,
             "#bd3786"
            ],
            [
             0.5555555555555556,
             "#d8576b"
            ],
            [
             0.6666666666666666,
             "#ed7953"
            ],
            [
             0.7777777777777778,
             "#fb9f3a"
            ],
            [
             0.8888888888888888,
             "#fdca26"
            ],
            [
             1,
             "#f0f921"
            ]
           ]
          },
          "colorway": [
           "#636efa",
           "#EF553B",
           "#00cc96",
           "#ab63fa",
           "#FFA15A",
           "#19d3f3",
           "#FF6692",
           "#B6E880",
           "#FF97FF",
           "#FECB52"
          ],
          "font": {
           "color": "#2a3f5f"
          },
          "geo": {
           "bgcolor": "white",
           "lakecolor": "white",
           "landcolor": "#E5ECF6",
           "showlakes": true,
           "showland": true,
           "subunitcolor": "white"
          },
          "hoverlabel": {
           "align": "left"
          },
          "hovermode": "closest",
          "mapbox": {
           "style": "light"
          },
          "paper_bgcolor": "white",
          "plot_bgcolor": "#E5ECF6",
          "polar": {
           "angularaxis": {
            "gridcolor": "white",
            "linecolor": "white",
            "ticks": ""
           },
           "bgcolor": "#E5ECF6",
           "radialaxis": {
            "gridcolor": "white",
            "linecolor": "white",
            "ticks": ""
           }
          },
          "scene": {
           "xaxis": {
            "backgroundcolor": "#E5ECF6",
            "gridcolor": "white",
            "gridwidth": 2,
            "linecolor": "white",
            "showbackground": true,
            "ticks": "",
            "zerolinecolor": "white"
           },
           "yaxis": {
            "backgroundcolor": "#E5ECF6",
            "gridcolor": "white",
            "gridwidth": 2,
            "linecolor": "white",
            "showbackground": true,
            "ticks": "",
            "zerolinecolor": "white"
           },
           "zaxis": {
            "backgroundcolor": "#E5ECF6",
            "gridcolor": "white",
            "gridwidth": 2,
            "linecolor": "white",
            "showbackground": true,
            "ticks": "",
            "zerolinecolor": "white"
           }
          },
          "shapedefaults": {
           "line": {
            "color": "#2a3f5f"
           }
          },
          "ternary": {
           "aaxis": {
            "gridcolor": "white",
            "linecolor": "white",
            "ticks": ""
           },
           "baxis": {
            "gridcolor": "white",
            "linecolor": "white",
            "ticks": ""
           },
           "bgcolor": "#E5ECF6",
           "caxis": {
            "gridcolor": "white",
            "linecolor": "white",
            "ticks": ""
           }
          },
          "title": {
           "x": 0.05
          },
          "xaxis": {
           "automargin": true,
           "gridcolor": "white",
           "linecolor": "white",
           "ticks": "",
           "title": {
            "standoff": 15
           },
           "zerolinecolor": "white",
           "zerolinewidth": 2
          },
          "yaxis": {
           "automargin": true,
           "gridcolor": "white",
           "linecolor": "white",
           "ticks": "",
           "title": {
            "standoff": 15
           },
           "zerolinecolor": "white",
           "zerolinewidth": 2
          }
         }
        },
        "title": {
         "text": "Food Security Index by Region Over Time"
        },
        "xaxis": {
         "anchor": "y",
         "domain": [
          0,
          1
         ],
         "title": {
          "text": "Year"
         }
        },
        "yaxis": {
         "anchor": "x",
         "domain": [
          0,
          1
         ],
         "title": {
          "text": "Average of Food Security Index"
         }
        }
       }
      },
      "text/html": [
       "<div>                            <div id=\"b9b9d065-85c7-4a7e-813a-a6ece61e629e\" class=\"plotly-graph-div\" style=\"height:525px; width:100%;\"></div>            <script type=\"text/javascript\">                require([\"plotly\"], function(Plotly) {                    window.PLOTLYENV=window.PLOTLYENV || {};                                    if (document.getElementById(\"b9b9d065-85c7-4a7e-813a-a6ece61e629e\")) {                    Plotly.newPlot(                        \"b9b9d065-85c7-4a7e-813a-a6ece61e629e\",                        [{\"hovertemplate\":\"continent_sub_region=Australia and New Zealand<br>Year=%{x}<br>Average of Food Security Index=%{y}<extra></extra>\",\"legendgroup\":\"Australia and New Zealand\",\"line\":{\"color\":\"#636efa\",\"dash\":\"solid\"},\"marker\":{\"symbol\":\"circle\"},\"mode\":\"lines\",\"name\":\"Australia and New Zealand\",\"orientation\":\"v\",\"showlegend\":true,\"x\":[2012,2013,2014,2015,2016,2017,2018,2019,2020,2021,2022],\"xaxis\":\"x\",\"y\":[71.69999999999999,74.0,76.15,75.25,76.4,77.05,77.05,76.65,75.85,74.05000000000001,76.6],\"yaxis\":\"y\",\"type\":\"scatter\"},{\"hovertemplate\":\"continent_sub_region=Central Asia<br>Year=%{x}<br>Average of Food Security Index=%{y}<extra></extra>\",\"legendgroup\":\"Central Asia\",\"line\":{\"color\":\"#EF553B\",\"dash\":\"solid\"},\"marker\":{\"symbol\":\"circle\"},\"mode\":\"lines\",\"name\":\"Central Asia\",\"orientation\":\"v\",\"showlegend\":true,\"x\":[2012,2013,2014,2015,2016,2017,2018,2019,2020,2021,2022],\"xaxis\":\"x\",\"y\":[53.4,55.03333333333333,55.26666666666667,64.2,66.1,58.9,57.53333333333333,59.53333333333333,59.9,59.86666666666667,62.1],\"yaxis\":\"y\",\"type\":\"scatter\"},{\"hovertemplate\":\"continent_sub_region=Eastern Asia<br>Year=%{x}<br>Average of Food Security Index=%{y}<extra></extra>\",\"legendgroup\":\"Eastern Asia\",\"line\":{\"color\":\"#00cc96\",\"dash\":\"solid\"},\"marker\":{\"symbol\":\"circle\"},\"mode\":\"lines\",\"name\":\"Eastern Asia\",\"orientation\":\"v\",\"showlegend\":true,\"x\":[2012,2013,2014,2015,2016,2017,2018,2019,2020,2021,2022],\"xaxis\":\"x\",\"y\":[66.33333333333333,69.56666666666666,70.53333333333335,71.13333333333334,72.16666666666667,72.33333333333333,73.26666666666667,74.10000000000001,73.5,73.0,74.63333333333334],\"yaxis\":\"y\",\"type\":\"scatter\"},{\"hovertemplate\":\"continent_sub_region=Eastern Europe<br>Year=%{x}<br>Average of Food Security Index=%{y}<extra></extra>\",\"legendgroup\":\"Eastern Europe\",\"line\":{\"color\":\"#ab63fa\",\"dash\":\"solid\"},\"marker\":{\"symbol\":\"circle\"},\"mode\":\"lines\",\"name\":\"Eastern Europe\",\"orientation\":\"v\",\"showlegend\":true,\"x\":[2012,2013,2014,2015,2016,2017,2018,2019,2020,2021,2022],\"xaxis\":\"x\",\"y\":[64.06666666666666,64.78888888888889,66.56666666666666,67.11111111111111,67.95555555555556,69.62222222222222,68.88888888888889,70.27777777777777,70.27777777777777,70.44444444444444,69.88888888888889],\"yaxis\":\"y\",\"type\":\"scatter\"},{\"hovertemplate\":\"continent_sub_region=Latin America and the Caribbean<br>Year=%{x}<br>Average of Food Security Index=%{y}<extra></extra>\",\"legendgroup\":\"Latin America and the Caribbean\",\"line\":{\"color\":\"#FFA15A\",\"dash\":\"solid\"},\"marker\":{\"symbol\":\"circle\"},\"mode\":\"lines\",\"name\":\"Latin America and the Caribbean\",\"orientation\":\"v\",\"showlegend\":true,\"x\":[2012,2013,2014,2015,2016,2017,2018,2019,2020,2021,2022],\"xaxis\":\"x\",\"y\":[58.53333333333333,60.87222222222223,61.74444444444445,62.27777777777778,63.01111111111111,63.88333333333334,65.08888888888889,64.73888888888888,64.45555555555556,63.96666666666667,63.26111111111111],\"yaxis\":\"y\",\"type\":\"scatter\"},{\"hovertemplate\":\"continent_sub_region=Northern Africa<br>Year=%{x}<br>Average of Food Security Index=%{y}<extra></extra>\",\"legendgroup\":\"Northern Africa\",\"line\":{\"color\":\"#19d3f3\",\"dash\":\"solid\"},\"marker\":{\"symbol\":\"circle\"},\"mode\":\"lines\",\"name\":\"Northern Africa\",\"orientation\":\"v\",\"showlegend\":true,\"x\":[2012,2013,2014,2015,2016,2017,2018,2019,2020,2021,2022],\"xaxis\":\"x\",\"y\":[49.94,49.42,51.279999999999994,52.839999999999996,53.54,54.06,54.42,54.879999999999995,55.98,56.9,56.2],\"yaxis\":\"y\",\"type\":\"scatter\"},{\"hovertemplate\":\"continent_sub_region=Northern America<br>Year=%{x}<br>Average of Food Security Index=%{y}<extra></extra>\",\"legendgroup\":\"Northern America\",\"line\":{\"color\":\"#FF6692\",\"dash\":\"solid\"},\"marker\":{\"symbol\":\"circle\"},\"mode\":\"lines\",\"name\":\"Northern America\",\"orientation\":\"v\",\"showlegend\":true,\"x\":[2012,2013,2014,2015,2016,2017,2018,2019,2020,2021,2022],\"xaxis\":\"x\",\"y\":[74.4,75.05,75.3,73.8,75.75,76.65,77.5,78.25,78.35,79.1,78.55],\"yaxis\":\"y\",\"type\":\"scatter\"},{\"hovertemplate\":\"continent_sub_region=Northern Europe<br>Year=%{x}<br>Average of Food Security Index=%{y}<extra></extra>\",\"legendgroup\":\"Northern Europe\",\"line\":{\"color\":\"#B6E880\",\"dash\":\"solid\"},\"marker\":{\"symbol\":\"circle\"},\"mode\":\"lines\",\"name\":\"Northern Europe\",\"orientation\":\"v\",\"showlegend\":true,\"x\":[2012,2013,2014,2015,2016,2017,2018,2019,2020,2021,2022],\"xaxis\":\"x\",\"y\":[76.15,77.10000000000001,77.48333333333333,78.89999999999999,79.71666666666667,80.66666666666667,80.66666666666667,80.56666666666666,80.3,79.5,80.26666666666667],\"yaxis\":\"y\",\"type\":\"scatter\"},{\"hovertemplate\":\"continent_sub_region=South-eastern Asia<br>Year=%{x}<br>Average of Food Security Index=%{y}<extra></extra>\",\"legendgroup\":\"South-eastern Asia\",\"line\":{\"color\":\"#FF97FF\",\"dash\":\"solid\"},\"marker\":{\"symbol\":\"circle\"},\"mode\":\"lines\",\"name\":\"South-eastern Asia\",\"orientation\":\"v\",\"showlegend\":true,\"x\":[2012,2013,2014,2015,2016,2017,2018,2019,2020,2021,2022],\"xaxis\":\"x\",\"y\":[54.21111111111111,56.58888888888889,58.266666666666666,59.1888888888889,59.74444444444445,60.3111111111111,62.44444444444444,61.91111111111112,61.366666666666674,61.199999999999996,61.87777777777777],\"yaxis\":\"y\",\"type\":\"scatter\"},{\"hovertemplate\":\"continent_sub_region=Southern Asia<br>Year=%{x}<br>Average of Food Security Index=%{y}<extra></extra>\",\"legendgroup\":\"Southern Asia\",\"line\":{\"color\":\"#FECB52\",\"dash\":\"solid\"},\"marker\":{\"symbol\":\"circle\"},\"mode\":\"lines\",\"name\":\"Southern Asia\",\"orientation\":\"v\",\"showlegend\":true,\"x\":[2012,2013,2014,2015,2016,2017,2018,2019,2020,2021,2022],\"xaxis\":\"x\",\"y\":[48.62,50.92,51.36,52.9,56.075,56.839999999999996,57.17999999999999,57.239999999999995,55.8,54.52,55.44],\"yaxis\":\"y\",\"type\":\"scatter\"},{\"hovertemplate\":\"continent_sub_region=Southern Europe<br>Year=%{x}<br>Average of Food Security Index=%{y}<extra></extra>\",\"legendgroup\":\"Southern Europe\",\"line\":{\"color\":\"#636efa\",\"dash\":\"solid\"},\"marker\":{\"symbol\":\"circle\"},\"mode\":\"lines\",\"name\":\"Southern Europe\",\"orientation\":\"v\",\"showlegend\":true,\"x\":[2012,2013,2014,2015,2016,2017,2018,2019,2020,2021,2022],\"xaxis\":\"x\",\"y\":[68.42,69.46000000000001,70.53999999999999,72.86,72.58,73.53999999999999,73.6,73.44,73.8,72.44,72.4],\"yaxis\":\"y\",\"type\":\"scatter\"},{\"hovertemplate\":\"continent_sub_region=Sub-Saharan Africa<br>Year=%{x}<br>Average of Food Security Index=%{y}<extra></extra>\",\"legendgroup\":\"Sub-Saharan Africa\",\"line\":{\"color\":\"#EF553B\",\"dash\":\"solid\"},\"marker\":{\"symbol\":\"circle\"},\"mode\":\"lines\",\"name\":\"Sub-Saharan Africa\",\"orientation\":\"v\",\"showlegend\":true,\"x\":[2012,2013,2014,2015,2016,2017,2018,2019,2020,2021,2022],\"xaxis\":\"x\",\"y\":[42.93600000000001,43.82083333333333,45.67916666666667,46.81666666666666,46.732,46.35833333333333,46.525,48.00833333333333,48.4,47.943999999999996,47.38399999999999],\"yaxis\":\"y\",\"type\":\"scatter\"},{\"hovertemplate\":\"continent_sub_region=Western Asia<br>Year=%{x}<br>Average of Food Security Index=%{y}<extra></extra>\",\"legendgroup\":\"Western Asia\",\"line\":{\"color\":\"#00cc96\",\"dash\":\"solid\"},\"marker\":{\"symbol\":\"circle\"},\"mode\":\"lines\",\"name\":\"Western Asia\",\"orientation\":\"v\",\"showlegend\":true,\"x\":[2012,2013,2014,2015,2016,2017,2018,2019,2020,2021,2022],\"xaxis\":\"x\",\"y\":[59.93333333333333,58.98,60.583333333333336,61.56,59.849999999999994,60.48,59.35,61.879999999999995,60.3,58.925,59.05],\"yaxis\":\"y\",\"type\":\"scatter\"},{\"hovertemplate\":\"continent_sub_region=Western Europe<br>Year=%{x}<br>Average of Food Security Index=%{y}<extra></extra>\",\"legendgroup\":\"Western Europe\",\"line\":{\"color\":\"#ab63fa\",\"dash\":\"solid\"},\"marker\":{\"symbol\":\"circle\"},\"mode\":\"lines\",\"name\":\"Western Europe\",\"orientation\":\"v\",\"showlegend\":true,\"x\":[2012,2013,2014,2015,2016,2017,2018,2019,2020,2021,2022],\"xaxis\":\"x\",\"y\":[74.13333333333334,74.75,75.75,76.28333333333333,76.45,77.35,78.41666666666667,78.18333333333334,78.26666666666667,77.61666666666666,78.51666666666667],\"yaxis\":\"y\",\"type\":\"scatter\"}],                        {\"template\":{\"data\":{\"histogram2dcontour\":[{\"type\":\"histogram2dcontour\",\"colorbar\":{\"outlinewidth\":0,\"ticks\":\"\"},\"colorscale\":[[0.0,\"#0d0887\"],[0.1111111111111111,\"#46039f\"],[0.2222222222222222,\"#7201a8\"],[0.3333333333333333,\"#9c179e\"],[0.4444444444444444,\"#bd3786\"],[0.5555555555555556,\"#d8576b\"],[0.6666666666666666,\"#ed7953\"],[0.7777777777777778,\"#fb9f3a\"],[0.8888888888888888,\"#fdca26\"],[1.0,\"#f0f921\"]]}],\"choropleth\":[{\"type\":\"choropleth\",\"colorbar\":{\"outlinewidth\":0,\"ticks\":\"\"}}],\"histogram2d\":[{\"type\":\"histogram2d\",\"colorbar\":{\"outlinewidth\":0,\"ticks\":\"\"},\"colorscale\":[[0.0,\"#0d0887\"],[0.1111111111111111,\"#46039f\"],[0.2222222222222222,\"#7201a8\"],[0.3333333333333333,\"#9c179e\"],[0.4444444444444444,\"#bd3786\"],[0.5555555555555556,\"#d8576b\"],[0.6666666666666666,\"#ed7953\"],[0.7777777777777778,\"#fb9f3a\"],[0.8888888888888888,\"#fdca26\"],[1.0,\"#f0f921\"]]}],\"heatmap\":[{\"type\":\"heatmap\",\"colorbar\":{\"outlinewidth\":0,\"ticks\":\"\"},\"colorscale\":[[0.0,\"#0d0887\"],[0.1111111111111111,\"#46039f\"],[0.2222222222222222,\"#7201a8\"],[0.3333333333333333,\"#9c179e\"],[0.4444444444444444,\"#bd3786\"],[0.5555555555555556,\"#d8576b\"],[0.6666666666666666,\"#ed7953\"],[0.7777777777777778,\"#fb9f3a\"],[0.8888888888888888,\"#fdca26\"],[1.0,\"#f0f921\"]]}],\"heatmapgl\":[{\"type\":\"heatmapgl\",\"colorbar\":{\"outlinewidth\":0,\"ticks\":\"\"},\"colorscale\":[[0.0,\"#0d0887\"],[0.1111111111111111,\"#46039f\"],[0.2222222222222222,\"#7201a8\"],[0.3333333333333333,\"#9c179e\"],[0.4444444444444444,\"#bd3786\"],[0.5555555555555556,\"#d8576b\"],[0.6666666666666666,\"#ed7953\"],[0.7777777777777778,\"#fb9f3a\"],[0.8888888888888888,\"#fdca26\"],[1.0,\"#f0f921\"]]}],\"contourcarpet\":[{\"type\":\"contourcarpet\",\"colorbar\":{\"outlinewidth\":0,\"ticks\":\"\"}}],\"contour\":[{\"type\":\"contour\",\"colorbar\":{\"outlinewidth\":0,\"ticks\":\"\"},\"colorscale\":[[0.0,\"#0d0887\"],[0.1111111111111111,\"#46039f\"],[0.2222222222222222,\"#7201a8\"],[0.3333333333333333,\"#9c179e\"],[0.4444444444444444,\"#bd3786\"],[0.5555555555555556,\"#d8576b\"],[0.6666666666666666,\"#ed7953\"],[0.7777777777777778,\"#fb9f3a\"],[0.8888888888888888,\"#fdca26\"],[1.0,\"#f0f921\"]]}],\"surface\":[{\"type\":\"surface\",\"colorbar\":{\"outlinewidth\":0,\"ticks\":\"\"},\"colorscale\":[[0.0,\"#0d0887\"],[0.1111111111111111,\"#46039f\"],[0.2222222222222222,\"#7201a8\"],[0.3333333333333333,\"#9c179e\"],[0.4444444444444444,\"#bd3786\"],[0.5555555555555556,\"#d8576b\"],[0.6666666666666666,\"#ed7953\"],[0.7777777777777778,\"#fb9f3a\"],[0.8888888888888888,\"#fdca26\"],[1.0,\"#f0f921\"]]}],\"mesh3d\":[{\"type\":\"mesh3d\",\"colorbar\":{\"outlinewidth\":0,\"ticks\":\"\"}}],\"scatter\":[{\"fillpattern\":{\"fillmode\":\"overlay\",\"size\":10,\"solidity\":0.2},\"type\":\"scatter\"}],\"parcoords\":[{\"type\":\"parcoords\",\"line\":{\"colorbar\":{\"outlinewidth\":0,\"ticks\":\"\"}}}],\"scatterpolargl\":[{\"type\":\"scatterpolargl\",\"marker\":{\"colorbar\":{\"outlinewidth\":0,\"ticks\":\"\"}}}],\"bar\":[{\"error_x\":{\"color\":\"#2a3f5f\"},\"error_y\":{\"color\":\"#2a3f5f\"},\"marker\":{\"line\":{\"color\":\"#E5ECF6\",\"width\":0.5},\"pattern\":{\"fillmode\":\"overlay\",\"size\":10,\"solidity\":0.2}},\"type\":\"bar\"}],\"scattergeo\":[{\"type\":\"scattergeo\",\"marker\":{\"colorbar\":{\"outlinewidth\":0,\"ticks\":\"\"}}}],\"scatterpolar\":[{\"type\":\"scatterpolar\",\"marker\":{\"colorbar\":{\"outlinewidth\":0,\"ticks\":\"\"}}}],\"histogram\":[{\"marker\":{\"pattern\":{\"fillmode\":\"overlay\",\"size\":10,\"solidity\":0.2}},\"type\":\"histogram\"}],\"scattergl\":[{\"type\":\"scattergl\",\"marker\":{\"colorbar\":{\"outlinewidth\":0,\"ticks\":\"\"}}}],\"scatter3d\":[{\"type\":\"scatter3d\",\"line\":{\"colorbar\":{\"outlinewidth\":0,\"ticks\":\"\"}},\"marker\":{\"colorbar\":{\"outlinewidth\":0,\"ticks\":\"\"}}}],\"scattermapbox\":[{\"type\":\"scattermapbox\",\"marker\":{\"colorbar\":{\"outlinewidth\":0,\"ticks\":\"\"}}}],\"scatterternary\":[{\"type\":\"scatterternary\",\"marker\":{\"colorbar\":{\"outlinewidth\":0,\"ticks\":\"\"}}}],\"scattercarpet\":[{\"type\":\"scattercarpet\",\"marker\":{\"colorbar\":{\"outlinewidth\":0,\"ticks\":\"\"}}}],\"carpet\":[{\"aaxis\":{\"endlinecolor\":\"#2a3f5f\",\"gridcolor\":\"white\",\"linecolor\":\"white\",\"minorgridcolor\":\"white\",\"startlinecolor\":\"#2a3f5f\"},\"baxis\":{\"endlinecolor\":\"#2a3f5f\",\"gridcolor\":\"white\",\"linecolor\":\"white\",\"minorgridcolor\":\"white\",\"startlinecolor\":\"#2a3f5f\"},\"type\":\"carpet\"}],\"table\":[{\"cells\":{\"fill\":{\"color\":\"#EBF0F8\"},\"line\":{\"color\":\"white\"}},\"header\":{\"fill\":{\"color\":\"#C8D4E3\"},\"line\":{\"color\":\"white\"}},\"type\":\"table\"}],\"barpolar\":[{\"marker\":{\"line\":{\"color\":\"#E5ECF6\",\"width\":0.5},\"pattern\":{\"fillmode\":\"overlay\",\"size\":10,\"solidity\":0.2}},\"type\":\"barpolar\"}],\"pie\":[{\"automargin\":true,\"type\":\"pie\"}]},\"layout\":{\"autotypenumbers\":\"strict\",\"colorway\":[\"#636efa\",\"#EF553B\",\"#00cc96\",\"#ab63fa\",\"#FFA15A\",\"#19d3f3\",\"#FF6692\",\"#B6E880\",\"#FF97FF\",\"#FECB52\"],\"font\":{\"color\":\"#2a3f5f\"},\"hovermode\":\"closest\",\"hoverlabel\":{\"align\":\"left\"},\"paper_bgcolor\":\"white\",\"plot_bgcolor\":\"#E5ECF6\",\"polar\":{\"bgcolor\":\"#E5ECF6\",\"angularaxis\":{\"gridcolor\":\"white\",\"linecolor\":\"white\",\"ticks\":\"\"},\"radialaxis\":{\"gridcolor\":\"white\",\"linecolor\":\"white\",\"ticks\":\"\"}},\"ternary\":{\"bgcolor\":\"#E5ECF6\",\"aaxis\":{\"gridcolor\":\"white\",\"linecolor\":\"white\",\"ticks\":\"\"},\"baxis\":{\"gridcolor\":\"white\",\"linecolor\":\"white\",\"ticks\":\"\"},\"caxis\":{\"gridcolor\":\"white\",\"linecolor\":\"white\",\"ticks\":\"\"}},\"coloraxis\":{\"colorbar\":{\"outlinewidth\":0,\"ticks\":\"\"}},\"colorscale\":{\"sequential\":[[0.0,\"#0d0887\"],[0.1111111111111111,\"#46039f\"],[0.2222222222222222,\"#7201a8\"],[0.3333333333333333,\"#9c179e\"],[0.4444444444444444,\"#bd3786\"],[0.5555555555555556,\"#d8576b\"],[0.6666666666666666,\"#ed7953\"],[0.7777777777777778,\"#fb9f3a\"],[0.8888888888888888,\"#fdca26\"],[1.0,\"#f0f921\"]],\"sequentialminus\":[[0.0,\"#0d0887\"],[0.1111111111111111,\"#46039f\"],[0.2222222222222222,\"#7201a8\"],[0.3333333333333333,\"#9c179e\"],[0.4444444444444444,\"#bd3786\"],[0.5555555555555556,\"#d8576b\"],[0.6666666666666666,\"#ed7953\"],[0.7777777777777778,\"#fb9f3a\"],[0.8888888888888888,\"#fdca26\"],[1.0,\"#f0f921\"]],\"diverging\":[[0,\"#8e0152\"],[0.1,\"#c51b7d\"],[0.2,\"#de77ae\"],[0.3,\"#f1b6da\"],[0.4,\"#fde0ef\"],[0.5,\"#f7f7f7\"],[0.6,\"#e6f5d0\"],[0.7,\"#b8e186\"],[0.8,\"#7fbc41\"],[0.9,\"#4d9221\"],[1,\"#276419\"]]},\"xaxis\":{\"gridcolor\":\"white\",\"linecolor\":\"white\",\"ticks\":\"\",\"title\":{\"standoff\":15},\"zerolinecolor\":\"white\",\"automargin\":true,\"zerolinewidth\":2},\"yaxis\":{\"gridcolor\":\"white\",\"linecolor\":\"white\",\"ticks\":\"\",\"title\":{\"standoff\":15},\"zerolinecolor\":\"white\",\"automargin\":true,\"zerolinewidth\":2},\"scene\":{\"xaxis\":{\"backgroundcolor\":\"#E5ECF6\",\"gridcolor\":\"white\",\"linecolor\":\"white\",\"showbackground\":true,\"ticks\":\"\",\"zerolinecolor\":\"white\",\"gridwidth\":2},\"yaxis\":{\"backgroundcolor\":\"#E5ECF6\",\"gridcolor\":\"white\",\"linecolor\":\"white\",\"showbackground\":true,\"ticks\":\"\",\"zerolinecolor\":\"white\",\"gridwidth\":2},\"zaxis\":{\"backgroundcolor\":\"#E5ECF6\",\"gridcolor\":\"white\",\"linecolor\":\"white\",\"showbackground\":true,\"ticks\":\"\",\"zerolinecolor\":\"white\",\"gridwidth\":2}},\"shapedefaults\":{\"line\":{\"color\":\"#2a3f5f\"}},\"annotationdefaults\":{\"arrowcolor\":\"#2a3f5f\",\"arrowhead\":0,\"arrowwidth\":1},\"geo\":{\"bgcolor\":\"white\",\"landcolor\":\"#E5ECF6\",\"subunitcolor\":\"white\",\"showland\":true,\"showlakes\":true,\"lakecolor\":\"white\"},\"title\":{\"x\":0.05},\"mapbox\":{\"style\":\"light\"}}},\"xaxis\":{\"anchor\":\"y\",\"domain\":[0.0,1.0],\"title\":{\"text\":\"Year\"}},\"yaxis\":{\"anchor\":\"x\",\"domain\":[0.0,1.0],\"title\":{\"text\":\"Average of Food Security Index\"}},\"legend\":{\"title\":{\"text\":\"continent_sub_region\"},\"tracegroupgap\":0},\"title\":{\"text\":\"Food Security Index by Region Over Time\"}},                        {\"responsive\": true}                    ).then(function(){\n",
       "                            \n",
       "var gd = document.getElementById('b9b9d065-85c7-4a7e-813a-a6ece61e629e');\n",
       "var x = new MutationObserver(function (mutations, observer) {{\n",
       "        var display = window.getComputedStyle(gd).display;\n",
       "        if (!display || display === 'none') {{\n",
       "            console.log([gd, 'removed!']);\n",
       "            Plotly.purge(gd);\n",
       "            observer.disconnect();\n",
       "        }}\n",
       "}});\n",
       "\n",
       "// Listen for the removal of the full notebook cells\n",
       "var notebookContainer = gd.closest('#notebook-container');\n",
       "if (notebookContainer) {{\n",
       "    x.observe(notebookContainer, {childList: true});\n",
       "}}\n",
       "\n",
       "// Listen for the clearing of the current output cell\n",
       "var outputEl = gd.closest('.output');\n",
       "if (outputEl) {{\n",
       "    x.observe(outputEl, {childList: true});\n",
       "}}\n",
       "\n",
       "                        })                };                });            </script>        </div>"
      ]
     },
     "metadata": {},
     "output_type": "display_data"
    }
   ],
   "source": [
    "fig = px.line(\n",
    "    deforest_agg,\n",
    "    x=\"year\", \n",
    "    y=\"fsi\", \n",
    "    color=\"continent_sub_region\",\n",
    "    labels={\"year\": \"Year\",\n",
    "        \"fsi\": \"Average of Food Security Index\",\n",
    "        \"continent_region\": \"Continent\",\n",
    "    },\n",
    "    title=\"Food Security Index by Region Over Time\"\n",
    ")\n",
    "fig.show()"
   ]
  },
  {
   "cell_type": "code",
   "execution_count": 32,
   "id": "909dd723",
   "metadata": {},
   "outputs": [
    {
     "data": {
      "application/vnd.plotly.v1+json": {
       "config": {
        "plotlyServerURL": "https://plot.ly"
       },
       "data": [
        {
         "hovertemplate": "continent_sub_region=Sub-Saharan Africa<br>Tree Cover Loss (ha)=%{x}<br>Food Security Index=%{y}<extra></extra>",
         "legendgroup": "Sub-Saharan Africa",
         "marker": {
          "color": "#636efa",
          "symbol": "circle"
         },
         "mode": "markers",
         "name": "Sub-Saharan Africa",
         "showlegend": true,
         "type": "scattergl",
         "x": [
          180754.8206844684,
          871.1629204077029,
          2865.4117545877243,
          0.3777338635649956,
          15.787236763055557,
          51267.60247466839,
          41631.93539087004,
          36625.86841506728,
          24485.568322533505,
          17899.13670322952,
          128468.16279301148,
          78.92125094870275,
          139946.21504134737,
          12173.047066392359,
          0.0747634261300998,
          34970.91983791005,
          1090.4517418078958,
          84.50333117818357,
          16356.215663015895,
          2491.109581364759,
          1746.8677357084612,
          154433.35486971043,
          29141.305589132335,
          84896.58285684518,
          129518.87672637017,
          168841.2541977206,
          1405.6460466674678,
          1312.9031231645984,
          0.2264842866476779,
          14.121863518476564,
          84612.41502935754,
          30851.23115281145,
          81228.4588268489,
          146183.88431169893,
          13563.766202895968,
          299350.3243925694,
          409.7811716142811,
          162655.52171325072,
          10562.321448242594,
          43434.897396620014,
          2472.624874820702,
          374.7376722588208,
          170277.65691576048,
          2895.2470925461253,
          2952.616231994278,
          181510.4286108913,
          47750.03594454088,
          56368.99849528773,
          84831.58231022148,
          212662.07671471435,
          2047.2401820416287,
          1358.2719822693912,
          0,
          15.524350105646702,
          181851.00450453648,
          32725.072633472493,
          120298.11708457308,
          132716.19830816227,
          15356.83931634388,
          416682.1829565138,
          270.33774791043135,
          200500.70270738855,
          18587.0426724615,
          68637.35128005287,
          2889.358676402073,
          326.71520470969296,
          161512.80780539237,
          3000.6658731544508,
          2526.1772203037285,
          198227.5618178294,
          54913.20190867275,
          69667.22996157112,
          115220.9496243014,
          161718.9696110516,
          1458.3785204173241,
          598.3973628617001,
          0,
          0,
          78969.88322629039,
          10276.470946594009,
          57407.38759222371,
          161820.01803398927,
          15615.500860817492,
          301788.6583490081,
          204.1535159302508,
          181386.84236310076,
          10785.179991408531,
          40927.546110110474,
          2216.721227539673,
          293.4962398181977,
          232761.35360077705,
          2591.3684614965446,
          940.295810156712,
          111961.29550804324,
          54021.49583856927,
          70156.9944774945,
          87590.81871223505,
          229710.4874359257,
          1575.874450056596,
          2015.9778176710029,
          0,
          0.7276476864485678,
          116619.23002656717,
          19581.64310748037,
          119244.56175707425,
          216012.26550661065,
          19048.306961092865,
          383655.62498675205,
          204.82831103208292,
          250552.81216452984,
          13509.331561989207,
          0,
          72189.38696621971,
          2777.6719175266444,
          254.557353876696,
          177686.75680965203,
          3165.9632290539707,
          3463.788822609242,
          152854.22932995047,
          67486.04452067493,
          73546.06795382734,
          141637.19948641793,
          280456.3210513023,
          1775.1927772758752,
          2238.446401346203,
          0,
          1.1571796533897567,
          187281.05196284704,
          35403.50582711626,
          115285.96497551251,
          231588.02093249428,
          22163.388146004083,
          510356.8561372868,
          331.9850058325042,
          359011.1368018562,
          15307.694079994428,
          171045.4466235777,
          2728.8183060839347,
          391.7954826634386,
          232752.74797354988,
          6765.138653660815,
          7186.209751414214,
          194875.86110892872,
          116902.45448787548,
          94055.92503461392,
          162681.4735827436,
          242552.49738953833,
          2874.575194787588,
          1825.9708077704477,
          0,
          2.624943872811415,
          120813.96433339977,
          18894.243222749534,
          151445.59492735632,
          182895.35655218904,
          15908.41523844701,
          366619.93619631056,
          298.7991857720194,
          172397.98182822112,
          15487.128009125476,
          119822.45678833692,
          4290.998467040876,
          300.9440967649576,
          188217.43912998683,
          6931.783337327733,
          6783.649723290039,
          171708.21639600626,
          86229.84192432962,
          63666.75379640914,
          143944.2280705229,
          175098.37018363233,
          2386.3299282645394,
          774.9856744760264,
          0,
          0.0721906673253038,
          121800.96870431768,
          25582.398386151657,
          88256.57865966979,
          193690.00896904193,
          15950.244924833272,
          254242.73728300468,
          210.75723679909072,
          235658.0519143073,
          12134.422154001137,
          86894.81903568226,
          2515.986112189697,
          277.64000257541977,
          175466.68831212854,
          5058.926738728641,
          5230.015876782089,
          142772.9924530332,
          63267.764106670635,
          76139.76106722641,
          124640.78101884048,
          248028.43177844412,
          1856.851774590565,
          1605.5614207301203,
          0,
          1.8152580918836807,
          202795.6686739493,
          17980.782343289007,
          136599.4770551558,
          178406.6324398319,
          19044.834370066765,
          241112.07861872547,
          148.84741201595267,
          232509.07048768297,
          16067.716569048524,
          99199.51538891146,
          3187.3171008675386,
          758.4581610040675,
          154640.5160687572,
          3433.489615853736,
          5506.80026101198,
          186212.53169466436,
          73603.22694610558,
          62247.30063131986,
          163028.4377908704,
          298294.0696450904,
          2272.251753279853,
          1704.9511176151225,
          0,
          1.4247808028776043,
          168797.79974126606,
          19751.438277588994,
          101378.95468906626,
          167376.74593969327,
          7564.226606595743,
          234879.89400163677,
          130.30924230515132,
          278039.3501620224,
          16564.31077866071,
          0,
          97193.04938927731,
          2922.131627324489,
          176.62630635852284,
          113032.5736874954,
          5095.147735339833,
          5897.96423071061,
          165076.8303450739,
          49244.9906995042,
          52067.375092260074,
          201456.61033546372,
          266942.2367238344,
          1609.96687256175,
          1673.9073489425652,
          0,
          2.080606771569011,
          147809.50010893343,
          19941.379415555315,
          118632.27886689085,
          130216.23608651132,
          6639.031071623617,
          256379.43620821027,
          159.19620831946702,
          237826.3116737553,
          14857.925024587912,
          0,
          106189.39590792074,
          2536.450579440612,
          289.1091311744621,
          119929.38987663711,
          5444.712377561845,
          5034.044033643248,
          160668.22644673105,
          64134.70198475245,
          40979.71869567929,
          179098.2614525588
         ],
         "xaxis": "x",
         "y": [
          42.9,
          42,
          39.2,
          38.9,
          50.2,
          43.6,
          38.7,
          50.5,
          35.8,
          43,
          39.4,
          44.5,
          43.8,
          45.5,
          42.1,
          42.9,
          45.9,
          42.5,
          41.5,
          35.5,
          42.7,
          38.9,
          41,
          57.1,
          45.3,
          41.9,
          41.1,
          39.8,
          42.4,
          50.1,
          42.1,
          41,
          53.1,
          38.6,
          47.6,
          40.4,
          45.6,
          48.7,
          39.6,
          44.1,
          42.1,
          44.4,
          42.6,
          33.2,
          43.3,
          39.6,
          43.1,
          60.8,
          46.5,
          41.9,
          41.9,
          41.3,
          44.1,
          50.5,
          43,
          46.1,
          52.7,
          43.7,
          49.6,
          40,
          47.5,
          48.4,
          39.4,
          44.7,
          44.9,
          46.6,
          46.7,
          38.6,
          46.2,
          43.5,
          47.5,
          61.5,
          46,
          43.3,
          43,
          44.7,
          45.1,
          51.2,
          47,
          44.5,
          53.8,
          45.3,
          49.7,
          40.2,
          48.2,
          49.2,
          41.4,
          45.4,
          46.9,
          49.7,
          48,
          41.1,
          47.1,
          42.8,
          49,
          61.4,
          45.6,
          42.4,
          41.9,
          45.5,
          48.3,
          52.2,
          46.3,
          43.9,
          54.3,
          42.7,
          49.1,
          39.5,
          45.2,
          46.5,
          40.3,
          50.6,
          47.7,
          44,
          48.6,
          46.6,
          41.6,
          42.7,
          46.9,
          47.8,
          66.4,
          47.3,
          39.2,
          42.4,
          46.7,
          50,
          53,
          46,
          48,
          54,
          43.7,
          51.2,
          39.1,
          47.9,
          42,
          39.7,
          46.7,
          41,
          47.3,
          44.5,
          42.4,
          47.3,
          46.9,
          47.8,
          64.3,
          41.5,
          40.6,
          32.8,
          46.4,
          50.6,
          54.7,
          48.1,
          46.5,
          56.5,
          44.1,
          50.7,
          38.4,
          49.7,
          44.3,
          44.7,
          44.7,
          42.4,
          50,
          40.1,
          42.3,
          47.8,
          45.2,
          44.7,
          65.8,
          45.5,
          42.4,
          39.4,
          46.4,
          51.1,
          56.4,
          47.4,
          45.8,
          55.4,
          44.5,
          53.4,
          37.6,
          50.1,
          49.9,
          46.6,
          47.4,
          47,
          50.4,
          42.4,
          43.9,
          48.2,
          46.9,
          48,
          66.1,
          45.5,
          43.6,
          41.9,
          48.6,
          50.8,
          56.8,
          47.4,
          41.7,
          56.6,
          45.4,
          51.9,
          41.8,
          50.8,
          48,
          46.2,
          45.8,
          48.5,
          50.9,
          45.7,
          42.7,
          49.1,
          48.6,
          47.7,
          64.5,
          46.6,
          45.5,
          39.3,
          46.6,
          51.8,
          54.7,
          48.4,
          42.7,
          54.2,
          46.4,
          52.6,
          43.3,
          52,
          45.3,
          45.3,
          49.7,
          46.8,
          44.6,
          50.8,
          42.9,
          42.4,
          48.5,
          48.2,
          47,
          64.9,
          44.7,
          43.7,
          40.6,
          48.1,
          49.6,
          51.1,
          46.4,
          44.5,
          52.6,
          45.1,
          53,
          40.6,
          51.9,
          47.3,
          48.1,
          46.3,
          42,
          50.6,
          51.2,
          40.5,
          43.2,
          46.2,
          49.1,
          47.7,
          61.7,
          43.5
         ],
         "yaxis": "y"
        },
        {
         "hovertemplate": "<b>OLS trendline</b><br>fsi = -1.03456e-05 * umd_tree_cover_loss__ha + 47.2235<br>R<sup>2</sup>=0.031847<br><br>continent_sub_region=Sub-Saharan Africa<br>Tree Cover Loss (ha)=%{x}<br>Food Security Index=%{y} <b>(trend)</b><extra></extra>",
         "legendgroup": "Sub-Saharan Africa",
         "marker": {
          "color": "#636efa",
          "symbol": "circle"
         },
         "mode": "lines",
         "name": "Sub-Saharan Africa",
         "showlegend": false,
         "type": "scattergl",
         "x": [
          0,
          0,
          0,
          0,
          0,
          0,
          0,
          0,
          0,
          0,
          0,
          0,
          0,
          0.0721906673253038,
          0.0747634261300998,
          0.2264842866476779,
          0.3777338635649956,
          0.7276476864485678,
          1.1571796533897567,
          1.4247808028776043,
          1.8152580918836807,
          2.080606771569011,
          2.624943872811415,
          14.121863518476564,
          15.524350105646702,
          15.787236763055557,
          78.92125094870275,
          84.50333117818357,
          130.30924230515132,
          148.84741201595267,
          159.19620831946702,
          176.62630635852284,
          204.1535159302508,
          204.82831103208292,
          210.75723679909072,
          254.557353876696,
          270.33774791043135,
          277.64000257541977,
          289.1091311744621,
          293.4962398181977,
          298.7991857720194,
          300.9440967649576,
          326.71520470969296,
          331.9850058325042,
          374.7376722588208,
          391.7954826634386,
          409.7811716142811,
          598.3973628617001,
          758.4581610040675,
          774.9856744760264,
          871.1629204077029,
          940.295810156712,
          1090.4517418078958,
          1312.9031231645984,
          1358.2719822693912,
          1405.6460466674678,
          1458.3785204173241,
          1575.874450056596,
          1605.5614207301203,
          1609.96687256175,
          1673.9073489425652,
          1704.9511176151225,
          1746.8677357084612,
          1775.1927772758752,
          1825.9708077704477,
          1856.851774590565,
          2015.9778176710029,
          2047.2401820416287,
          2216.721227539673,
          2238.446401346203,
          2272.251753279853,
          2386.3299282645394,
          2472.624874820702,
          2491.109581364759,
          2515.986112189697,
          2526.1772203037285,
          2536.450579440612,
          2591.3684614965446,
          2728.8183060839347,
          2777.6719175266444,
          2865.4117545877243,
          2874.575194787588,
          2889.358676402073,
          2895.2470925461253,
          2922.131627324489,
          2952.616231994278,
          3000.6658731544508,
          3165.9632290539707,
          3187.3171008675386,
          3433.489615853736,
          3463.788822609242,
          4290.998467040876,
          5034.044033643248,
          5058.926738728641,
          5095.147735339833,
          5230.015876782089,
          5444.712377561845,
          5506.80026101198,
          5897.96423071061,
          6639.031071623617,
          6765.138653660815,
          6783.649723290039,
          6931.783337327733,
          7186.209751414214,
          7564.226606595743,
          10276.470946594009,
          10562.321448242594,
          10785.179991408531,
          12134.422154001137,
          12173.047066392359,
          13509.331561989207,
          13563.766202895968,
          14857.925024587912,
          15307.694079994428,
          15356.83931634388,
          15487.128009125476,
          15615.500860817492,
          15908.41523844701,
          15950.244924833272,
          16067.716569048524,
          16356.215663015895,
          16564.31077866071,
          17899.13670322952,
          17980.782343289007,
          18587.0426724615,
          18894.243222749534,
          19044.834370066765,
          19048.306961092865,
          19581.64310748037,
          19751.438277588994,
          19941.379415555315,
          22163.388146004083,
          24485.568322533505,
          25582.398386151657,
          29141.305589132335,
          30851.23115281145,
          32725.072633472493,
          34970.91983791005,
          35403.50582711626,
          36625.86841506728,
          40927.546110110474,
          40979.71869567929,
          41631.93539087004,
          43434.897396620014,
          47750.03594454088,
          49244.9906995042,
          51267.60247466839,
          52067.375092260074,
          54021.49583856927,
          54913.20190867275,
          56368.99849528773,
          57407.38759222371,
          62247.30063131986,
          63267.764106670635,
          63666.75379640914,
          64134.70198475245,
          67486.04452067493,
          68637.35128005287,
          69667.22996157112,
          70156.9944774945,
          72189.38696621971,
          73546.06795382734,
          73603.22694610558,
          76139.76106722641,
          78969.88322629039,
          81228.4588268489,
          84612.41502935754,
          84831.58231022148,
          84896.58285684518,
          86229.84192432962,
          86894.81903568226,
          87590.81871223505,
          88256.57865966979,
          94055.92503461392,
          97193.04938927731,
          99199.51538891146,
          101378.95468906626,
          106189.39590792074,
          111961.29550804324,
          113032.5736874954,
          115220.9496243014,
          115285.96497551251,
          116619.23002656717,
          116902.45448787548,
          118632.27886689085,
          119244.56175707425,
          119822.45678833692,
          119929.38987663711,
          120298.11708457308,
          120813.96433339977,
          121800.96870431768,
          124640.78101884048,
          128468.16279301148,
          129518.87672637017,
          130216.23608651132,
          132716.19830816227,
          136599.4770551558,
          139946.21504134737,
          141637.19948641793,
          142772.9924530332,
          143944.2280705229,
          146183.88431169893,
          147809.50010893343,
          151445.59492735632,
          152854.22932995047,
          154433.35486971043,
          154640.5160687572,
          160668.22644673105,
          161512.80780539237,
          161718.9696110516,
          161820.01803398927,
          162655.52171325072,
          162681.4735827436,
          163028.4377908704,
          165076.8303450739,
          167376.74593969327,
          168797.79974126606,
          168841.2541977206,
          170277.65691576048,
          171045.4466235777,
          171708.21639600626,
          172397.98182822112,
          175098.37018363233,
          175466.68831212854,
          177686.75680965203,
          178406.6324398319,
          179098.2614525588,
          180754.8206844684,
          181386.84236310076,
          181510.4286108913,
          181851.00450453648,
          182895.35655218904,
          186212.53169466436,
          187281.05196284704,
          188217.43912998683,
          193690.00896904193,
          194875.86110892872,
          198227.5618178294,
          200500.70270738855,
          201456.61033546372,
          202795.6686739493,
          212662.07671471435,
          216012.26550661065,
          229710.4874359257,
          231588.02093249428,
          232509.07048768297,
          232752.74797354988,
          232761.35360077705,
          234879.89400163677,
          235658.0519143073,
          237826.3116737553,
          241112.07861872547,
          242552.49738953833,
          248028.43177844412,
          250552.81216452984,
          254242.73728300468,
          256379.43620821027,
          266942.2367238344,
          278039.3501620224,
          280456.3210513023,
          298294.0696450904,
          299350.3243925694,
          301788.6583490081,
          359011.1368018562,
          366619.93619631056,
          383655.62498675205,
          416682.1829565138,
          510356.8561372868
         ],
         "xaxis": "x",
         "y": [
          47.223478231968016,
          47.223478231968016,
          47.223478231968016,
          47.223478231968016,
          47.223478231968016,
          47.223478231968016,
          47.223478231968016,
          47.223478231968016,
          47.223478231968016,
          47.223478231968016,
          47.223478231968016,
          47.223478231968016,
          47.223478231968016,
          47.22347748511381,
          47.22347745849713,
          47.223475888857074,
          47.22347432409272,
          47.22347070403184,
          47.2234662602752,
          47.22346349178653,
          47.22345945207313,
          47.22345670688757,
          47.223451075405414,
          47.223332133121986,
          47.22331762358706,
          47.223314903872534,
          47.222661745979764,
          47.22260399613118,
          47.22213010748693,
          47.221938319399,
          47.22183125511561,
          47.221650930670016,
          47.22136614576556,
          47.22135916461994,
          47.22129782645365,
          47.220844688908976,
          47.22068143160549,
          47.22060588555744,
          47.220487230788464,
          47.220441843612086,
          47.22038698156903,
          47.22036479122421,
          47.2200981742068,
          47.220043655066185,
          47.21960135400433,
          47.219424881089644,
          47.21923880873472,
          47.21728746514273,
          47.21563154360854,
          47.21546055692234,
          47.21446554768531,
          47.21375032795515,
          47.21219687799367,
          47.20989548979009,
          47.2094261227018,
          47.208936010604965,
          47.208390462664134,
          47.20717489931366,
          47.20686777043142,
          47.20682219348416,
          47.20616069227353,
          47.205839526531236,
          47.205405874872945,
          47.20511283593504,
          47.20458750784012,
          47.20426802637715,
          47.20262177542472,
          47.2022983481835,
          47.20054496874184,
          47.200320209253206,
          47.19997047333481,
          47.198790268633026,
          47.19789749749885,
          47.1977062625183,
          47.1974489004186,
          47.197343467510734,
          47.19723718366847,
          47.196669026414696,
          47.19524702827296,
          47.19474160940619,
          47.19383389004403,
          47.19373908895513,
          47.19358614528722,
          47.193525226216416,
          47.193247090154415,
          47.192931709287144,
          47.192434607957956,
          47.190724511205,
          47.19050359305024,
          47.18795679599922,
          47.1876433331806,
          47.17908537095996,
          47.17139813480404,
          47.17114070882805,
          47.170765981668275,
          47.1693706927388,
          47.16714953326013,
          47.166507198194886,
          47.1624603806834,
          47.15479361558921,
          47.15348895971379,
          47.153297451991875,
          47.1517649240758,
          47.14913273566462,
          47.14522193265696,
          47.117162196227255,
          47.1142049074549,
          47.11189930692691,
          47.097940616368,
          47.097541019309084,
          47.08371638330982,
          47.08315322546524,
          47.06976440392754,
          47.06511128290787,
          47.064602847012765,
          47.06325493512839,
          47.06192684372819,
          47.05889647507314,
          47.05846372277364,
          47.05724841066992,
          47.054263720678115,
          47.05211085634683,
          47.03830131010847,
          47.03745663873911,
          47.03118452497949,
          47.02800635760532,
          47.02644840508606,
          47.02641247912339,
          47.02089480821322,
          47.01913817897078,
          47.01717312803864,
          46.99418516253664,
          46.97016086548686,
          46.958813524084235,
          46.92199457063645,
          46.90430440167797,
          46.88491842775114,
          46.86168383944781,
          46.85720848718647,
          46.844562439212986,
          46.8000590954145,
          46.799519339840735,
          46.79277178089399,
          46.77411909613103,
          46.72947649202391,
          46.71401032041836,
          46.69308523174779,
          46.68481112143908,
          46.66459461207647,
          46.65536939702823,
          46.64030833932289,
          46.62956560352221,
          46.57949390378007,
          46.56893661890266,
          46.564808839791056,
          46.559967645126534,
          46.5252960682126,
          46.51338513388361,
          46.50273044325276,
          46.4976635460611,
          46.47663727025168,
          46.46260162074545,
          46.462010277910196,
          46.435768365323646,
          46.40648911467647,
          46.3831228437533,
          46.348113859595145,
          46.34584644731065,
          46.34517397906023,
          46.33138064286466,
          46.324501070032234,
          46.3173005508197,
          46.31041287909523,
          46.25041528656801,
          46.217959920640645,
          46.19720186935647,
          46.174654309232544,
          46.12488751251698,
          46.0651738727502,
          46.0540908803682,
          46.03145086556927,
          46.03077824415682,
          46.01698484605776,
          46.0140547251916,
          45.99615869147921,
          45.98982427084254,
          45.98384561249597,
          45.98273932784858,
          45.9789246316147,
          45.973587893465194,
          45.963376762375525,
          45.93399726146545,
          45.89440078329595,
          45.88353053993392,
          45.87631595400825,
          45.850452398874495,
          45.81027763419095,
          45.775653694007204,
          45.75815948187606,
          45.74640904670622,
          45.734291936813435,
          45.71112139760582,
          45.69430346194506,
          45.65668595797106,
          45.64211282033751,
          45.62577585327978,
          45.62363265085587,
          45.56127250063406,
          45.5525348179821,
          45.550401954860824,
          45.54935655048023,
          45.5407127816721,
          45.54044429457192,
          45.53685474915855,
          45.515662943417496,
          45.49186898634517,
          45.47716736284594,
          45.47671780136034,
          45.46185738444261,
          45.453914155834084,
          45.44705741919953,
          45.4399213968505,
          45.41198431743872,
          45.408173853368254,
          45.38520596069807,
          45.37775843093568,
          45.37060312876837,
          45.35346506537855,
          45.346926435558686,
          45.34564786434436,
          45.34212440973923,
          45.33131998376448,
          45.2970018882978,
          45.28594742810303,
          45.27625996126289,
          45.2196430610034,
          45.20737473473238,
          45.172699452311825,
          45.14918249504954,
          45.1392930777506,
          45.12543974474229,
          45.02336604693822,
          44.98870640617355,
          44.84699037741324,
          44.82756620744643,
          44.81803741707303,
          44.815516432541344,
          44.81542740235028,
          44.79350987656282,
          44.78545938287823,
          44.76302748156904,
          44.72903432207171,
          44.71413235676521,
          44.657480648291504,
          44.631364473123476,
          44.59319006356058,
          44.571084677336074,
          44.46180639659381,
          44.347000339626874,
          44.32199537782778,
          44.13745355146662,
          44.12652598517777,
          44.10130001009276,
          43.509300373643214,
          43.430582943061346,
          43.25433888926841,
          42.9126600448718,
          41.94354137041167
         ],
         "yaxis": "y"
        },
        {
         "hovertemplate": "continent_sub_region=Western Asia<br>Tree Cover Loss (ha)=%{x}<br>Food Security Index=%{y}<extra></extra>",
         "legendgroup": "Western Asia",
         "marker": {
          "color": "#EF553B",
          "symbol": "circle"
         },
         "mode": "markers",
         "name": "Western Asia",
         "showlegend": true,
         "type": "scattergl",
         "x": [
          0,
          597.6319686933407,
          49.23018969847438,
          0.1305532826942274,
          5370.641727538369,
          28467.085054387313,
          149.07599370587673,
          45.730708194968535,
          0,
          1270.4328503517113,
          22542.957668818715,
          328.246022802264,
          122.08486946058048,
          0.8478206387890626,
          0,
          958.2943361194723,
          22005.441487395423,
          26.74519296005212,
          51.332728029528006,
          0.3915837515668403,
          2393.171169198786,
          27735.28447778871,
          25.47520986746094,
          64.8712980901888,
          1812.673701455694,
          25633.047734699296,
          80.10105221121529,
          99.54904099372828,
          0.98052545507704,
          2146.569603502313,
          33901.12336353327,
          75.32863975567062,
          39.655153583592664,
          903.4288938592664,
          35668.33083989895,
          11.949763429166667,
          54.35792290111433,
          0.5873644681976996,
          1176.5202747761423,
          39117.93877014855,
          22.77496149437284,
          46.46654973852539,
          0.1957948364453125,
          3037.670360481399,
          45348.58479523354,
          85.22633726126303,
          28.61547411162544,
          2856.1150676344887,
          79284.22953476998,
          146.17824737043188,
          80.11602118536682,
          457.7730892983095,
          53403.769246082
         ],
         "xaxis": "x",
         "y": [
          63.2,
          56.9,
          67,
          63.3,
          46.8,
          62.4,
          61.6,
          68.1,
          61,
          42.4,
          61.8,
          63.8,
          68.6,
          60.3,
          64.6,
          42,
          64.2,
          65.4,
          71,
          66.5,
          41.7,
          63.2,
          62.8,
          71.6,
          40,
          65,
          59,
          71.9,
          65.9,
          38.3,
          67.3,
          58.2,
          74.1,
          39.9,
          65.2,
          62.4,
          73.5,
          64.1,
          45,
          64.4,
          63.3,
          72.9,
          65.3,
          38.5,
          61.5,
          60.8,
          73.1,
          36.2,
          65.6,
          59.8,
          74.8,
          36.3,
          65.3
         ],
         "yaxis": "y"
        },
        {
         "hovertemplate": "<b>OLS trendline</b><br>fsi = 9.06805e-05 * umd_tree_cover_loss__ha + 59.3982<br>R<sup>2</sup>=0.019569<br><br>continent_sub_region=Western Asia<br>Tree Cover Loss (ha)=%{x}<br>Food Security Index=%{y} <b>(trend)</b><extra></extra>",
         "legendgroup": "Western Asia",
         "marker": {
          "color": "#EF553B",
          "symbol": "circle"
         },
         "mode": "lines",
         "name": "Western Asia",
         "showlegend": false,
         "type": "scattergl",
         "x": [
          0,
          0,
          0,
          0.1305532826942274,
          0.1957948364453125,
          0.3915837515668403,
          0.5873644681976996,
          0.8478206387890626,
          0.98052545507704,
          11.949763429166667,
          22.77496149437284,
          25.47520986746094,
          26.74519296005212,
          28.61547411162544,
          39.655153583592664,
          45.730708194968535,
          46.46654973852539,
          49.23018969847438,
          51.332728029528006,
          54.35792290111433,
          64.8712980901888,
          75.32863975567062,
          80.10105221121529,
          80.11602118536682,
          85.22633726126303,
          99.54904099372828,
          122.08486946058048,
          146.17824737043188,
          149.07599370587673,
          328.246022802264,
          457.7730892983095,
          597.6319686933407,
          903.4288938592664,
          958.2943361194723,
          1176.5202747761423,
          1270.4328503517113,
          1812.673701455694,
          2146.569603502313,
          2393.171169198786,
          2856.1150676344887,
          3037.670360481399,
          5370.641727538369,
          22005.441487395423,
          22542.957668818715,
          25633.047734699296,
          27735.28447778871,
          28467.085054387313,
          33901.12336353327,
          35668.33083989895,
          39117.93877014855,
          45348.58479523354,
          53403.769246082,
          79284.22953476998
         ],
         "xaxis": "x",
         "y": [
          59.398243147498675,
          59.398243147498675,
          59.398243147498675,
          59.39825498613409,
          59.39826090227004,
          59.39827865650445,
          59.398296409995424,
          59.39832002828814,
          59.39833206202567,
          59.399326757880814,
          59.40030839212669,
          59.40055325196754,
          59.40066841465443,
          59.400838012662405,
          59.40183909618697,
          59.40239003044547,
          59.40245675691591,
          59.402707365136806,
          59.40289802433921,
          59.403172350487196,
          59.40412570848242,
          59.40507398533036,
          59.40550675002193,
          59.40550810741581,
          59.40597151337265,
          59.40727030314006,
          59.409313863068384,
          59.411498662340655,
          59.41176143139316,
          59.42800865711004,
          59.43975423474051,
          59.452436706209106,
          59.4801665206862,
          59.485141745777995,
          59.504930580442554,
          59.513446618647855,
          59.56261728377098,
          59.59289512719074,
          59.61525707756945,
          59.65723705630848,
          59.673700578906846,
          59.8852555615273,
          61.39370732556707,
          61.44244955533677,
          61.722660431224064,
          61.9132922854887,
          61.979652319070794,
          62.4724135660725,
          62.6326648028551,
          62.94547693421528,
          63.51047495783607,
          64.24092301672226,
          66.58777579164067
         ],
         "yaxis": "y"
        },
        {
         "hovertemplate": "continent_sub_region=Latin America and the Caribbean<br>Tree Cover Loss (ha)=%{x}<br>Food Security Index=%{y}<extra></extra>",
         "legendgroup": "Latin America and the Caribbean",
         "marker": {
          "color": "#00cc96",
          "symbol": "circle"
         },
         "mode": "markers",
         "name": "Latin America and the Caribbean",
         "showlegend": true,
         "type": "scattergl",
         "x": [
          478177.9106441489,
          273544.01074463467,
          2918633.141023961,
          174809.51185030024,
          227707.04511266304,
          10367.071752753523,
          74205.96549568871,
          84044.4408750312,
          32305.495196559557,
          4272.74683475898,
          174753.0637534297,
          33723.437772384095,
          17044.26955052024,
          275458.1338934831,
          510219.7904901138,
          2535.746181414077,
          31387.530319124413,
          105963.34348635888,
          376776.5932908873,
          179822.51096087287,
          1945506.2526936333,
          102242.7718702078,
          138898.1159684329,
          7785.587051841822,
          48383.148229945094,
          55148.92227273921,
          43631.8432750308,
          3181.2113731036766,
          219047.82660333012,
          44038.05970401634,
          14041.086957320964,
          209306.87164921305,
          318563.8864007876,
          2053.4886329528376,
          19263.214394086343,
          64519.972558565365,
          241102.80766098603,
          256901.39817858388,
          2693134.2954895324,
          119335.12525514716,
          202027.8897357832,
          10934.447209003862,
          30904.970224875735,
          61831.29024407654,
          57481.62250849145,
          3858.86579151854,
          170749.77378089592,
          75563.10046903635,
          14035.498450036668,
          205452.2866580048,
          345746.4966335473,
          2319.726964005032,
          25643.07886865719,
          100975.10759386988,
          180233.1054998676,
          166275.253662096,
          2222772.4175309334,
          106106.68365240592,
          140855.70319021944,
          3299.6049326079856,
          30077.598651060027,
          54147.33930250972,
          50242.48684736946,
          3087.564795692968,
          197650.88075586344,
          35523.97516550108,
          10553.676857624716,
          166499.94089565368,
          279375.43627150654,
          2388.8341969571584,
          17547.921210597706,
          61435.843777920665,
          230189.42112731808,
          470600.8213763454,
          5378844.034540812,
          113904.39378438768,
          290956.30576804414,
          13791.39423996238,
          44042.95668030242,
          178396.80403784767,
          188442.86732845768,
          17267.08006364784,
          274182.5820595212,
          142443.74875645016,
          17316.703240049123,
          230961.62885485784,
          319823.3132474956,
          5743.541113567425,
          23688.348605526768,
          207335.82490176728,
          233919.6777671888,
          463194.4713748532,
          4519833.171433705,
          214837.4809277481,
          424870.2839479048,
          22095.55522014411,
          71107.75580191192,
          79731.60581807286,
          113473.7329235318,
          5498.831192215347,
          298787.538059464,
          211681.2540539006,
          30878.79187619112,
          303280.519697526,
          360058.4072555756,
          4745.634264791624,
          21859.347396050656,
          166982.30201222864,
          172958.0945770225,
          301855.8180608052,
          2948462.0802693786,
          76897.64000245367,
          352434.0102758261,
          12337.858868098652,
          38709.38273219657,
          71160.90213538363,
          76254.10503903561,
          4131.551804991395,
          267150.7210744853,
          71374.94319401974,
          27960.872489813577,
          211726.0288916184,
          258779.6618091868,
          2703.6464456855974,
          19527.970310041543,
          112107.31767694316,
          145444.27078467977,
          852089.8685028125,
          2696748.7992548263,
          78735.46830367435,
          268409.88136648946,
          11485.677126173472,
          35645.826871169054,
          90198.05534363468,
          81416.23140407905,
          4395.440810626464,
          327437.78332858585,
          77848.283482264,
          33993.58827529981,
          231257.3813194232,
          314372.6880680738,
          2249.0091127046735,
          14519.353917604785,
          140807.2201768503,
          197379.02491541795,
          429780.29848051094,
          3291391.786526117,
          70591.90966233145,
          324169.44048265886,
          8260.967071026846,
          48915.08232123945,
          98556.32770037152,
          93648.71909049922,
          3802.056739111456,
          299526.2895909649,
          111303.31279444844,
          27314.294959158877,
          278656.68030099786,
          243379.14794353695,
          2208.2752416278636,
          12682.121207215288,
          139301.8390054571,
          201881.84105082488,
          558393.1162655704,
          2991909.305950562,
          71610.47119418073,
          265167.7356581792,
          7847.994494054424,
          30273.220974761374,
          49896.23234698507,
          69497.94967541099,
          2413.744532876757,
          189079.41914535628,
          91850.90685556794,
          24390.43732371524,
          225203.94411172383,
          277165.38429032895,
          1488.7058388566172,
          16999.256774411635,
          64423.759789405995,
          232223.66291948024,
          595996.4068946196,
          3308930.3915435243,
          67883.10424786207,
          265769.2621903444,
          8563.14253083939,
          52577.07301558743,
          46396.105819108605,
          57342.82976013681,
          1844.3271602284988,
          178857.8794493737,
          48987.42681663329,
          17327.31252391123,
          236121.87208292476,
          217142.2122023575,
          1632.422167210458,
          15858.60148127584,
          55789.61580105468
         ],
         "xaxis": "x",
         "y": [
          63.5,
          52.8,
          63.8,
          68.3,
          62.3,
          71.7,
          59.4,
          56.2,
          54.1,
          43.9,
          61.8,
          50.3,
          61.2,
          63.1,
          54,
          58.8,
          60.9,
          47.5,
          63.4,
          59.1,
          66.5,
          69.6,
          61.7,
          74.5,
          59.4,
          58.5,
          56.9,
          46,
          61.4,
          52.6,
          63.6,
          67,
          58.5,
          61.7,
          66.9,
          48.4,
          63.6,
          59.7,
          66.9,
          71.6,
          66.1,
          74.4,
          61.8,
          59.8,
          56.9,
          46.5,
          64.6,
          52.8,
          64.8,
          68.6,
          57.9,
          61.1,
          67,
          47.3,
          60,
          62.5,
          68.5,
          69.5,
          67.9,
          74.2,
          61.2,
          61,
          58.4,
          48.5,
          63.4,
          53.9,
          65.1,
          71.3,
          55.7,
          63.6,
          68.6,
          47.7,
          64.4,
          64,
          70.2,
          69.6,
          67,
          74.7,
          62,
          62.9,
          58.8,
          45.4,
          65.4,
          54.4,
          65.1,
          71.2,
          59.2,
          59.4,
          69.8,
          50.7,
          64,
          65.4,
          69.9,
          73.6,
          67.4,
          74.5,
          64.1,
          62.5,
          59.8,
          42.4,
          68.2,
          56.3,
          70.4,
          72.2,
          59.7,
          60.8,
          70.5,
          48.2,
          64.5,
          65.4,
          73.6,
          75.4,
          72,
          76.7,
          66.4,
          62,
          61.8,
          41.7,
          65.6,
          56.8,
          71.5,
          71.9,
          60.6,
          62.9,
          75.3,
          47.5,
          62.3,
          65.6,
          71.8,
          75.7,
          71,
          74.9,
          66.2,
          59.7,
          62.1,
          37.9,
          68.8,
          55.7,
          74.5,
          74.7,
          62,
          62.8,
          74.2,
          45.4,
          65.5,
          64.8,
          68.1,
          74.1,
          64.9,
          76.3,
          65.3,
          61.3,
          61.7,
          36.2,
          70.4,
          57.6,
          74.9,
          73,
          65.9,
          60.8,
          74.1,
          45.3,
          64.7,
          64.7,
          66.2,
          74.4,
          63,
          77.7,
          64.9,
          59.1,
          62.3,
          38.5,
          70.9,
          57.6,
          74.2,
          73.1,
          64.6,
          62.3,
          69.2,
          44,
          64.8,
          65,
          65.1,
          74.2,
          60.1,
          77.4,
          65.6,
          62.8,
          61.5,
          38.5,
          69.1,
          56.6,
          70,
          70.8,
          58.6,
          64.2,
          71.8,
          42.6
         ],
         "yaxis": "y"
        },
        {
         "hovertemplate": "<b>OLS trendline</b><br>fsi = 1.91766e-06 * umd_tree_cover_loss__ha + 62.3136<br>R<sup>2</sup>=0.026766<br><br>continent_sub_region=Latin America and the Caribbean<br>Tree Cover Loss (ha)=%{x}<br>Food Security Index=%{y} <b>(trend)</b><extra></extra>",
         "legendgroup": "Latin America and the Caribbean",
         "marker": {
          "color": "#00cc96",
          "symbol": "circle"
         },
         "mode": "lines",
         "name": "Latin America and the Caribbean",
         "showlegend": false,
         "type": "scattergl",
         "x": [
          1488.7058388566172,
          1632.422167210458,
          1844.3271602284988,
          2053.4886329528376,
          2208.2752416278636,
          2249.0091127046735,
          2319.726964005032,
          2388.8341969571584,
          2413.744532876757,
          2535.746181414077,
          2703.6464456855974,
          3087.564795692968,
          3181.2113731036766,
          3299.6049326079856,
          3802.056739111456,
          3858.86579151854,
          4131.551804991395,
          4272.74683475898,
          4395.440810626464,
          4745.634264791624,
          5498.831192215347,
          5743.541113567425,
          7785.587051841822,
          7847.994494054424,
          8260.967071026846,
          8563.14253083939,
          10367.071752753523,
          10553.676857624716,
          10934.447209003862,
          11485.677126173472,
          12337.858868098652,
          12682.121207215288,
          13791.39423996238,
          14035.498450036668,
          14041.086957320964,
          14519.353917604785,
          15858.60148127584,
          16999.256774411635,
          17044.26955052024,
          17267.08006364784,
          17316.703240049123,
          17327.31252391123,
          17547.921210597706,
          19263.214394086343,
          19527.970310041543,
          21859.347396050656,
          22095.55522014411,
          23688.348605526768,
          24390.43732371524,
          25643.07886865719,
          27314.294959158877,
          27960.872489813577,
          30077.598651060027,
          30273.220974761374,
          30878.79187619112,
          30904.970224875735,
          31387.530319124413,
          32305.495196559557,
          33723.437772384095,
          33993.58827529981,
          35523.97516550108,
          35645.826871169054,
          38709.38273219657,
          43631.8432750308,
          44038.05970401634,
          44042.95668030242,
          46396.105819108605,
          48383.148229945094,
          48915.08232123945,
          48987.42681663329,
          49896.23234698507,
          50242.48684736946,
          52577.07301558743,
          54147.33930250972,
          55148.92227273921,
          55789.61580105468,
          57342.82976013681,
          57481.62250849145,
          61435.843777920665,
          61831.29024407654,
          64423.759789405995,
          64519.972558565365,
          67883.10424786207,
          69497.94967541099,
          70591.90966233145,
          71107.75580191192,
          71160.90213538363,
          71374.94319401974,
          71610.47119418073,
          74205.96549568871,
          75563.10046903635,
          76254.10503903561,
          76897.64000245367,
          77848.283482264,
          78735.46830367435,
          79731.60581807286,
          81416.23140407905,
          84044.4408750312,
          90198.05534363468,
          91850.90685556794,
          93648.71909049922,
          98556.32770037152,
          100975.10759386988,
          102242.7718702078,
          105963.34348635888,
          106106.68365240592,
          111303.31279444844,
          112107.31767694316,
          113473.7329235318,
          113904.39378438768,
          119335.12525514716,
          138898.1159684329,
          139301.8390054571,
          140807.2201768503,
          140855.70319021944,
          142443.74875645016,
          145444.27078467977,
          166275.253662096,
          166499.94089565368,
          166982.30201222864,
          170749.77378089592,
          172958.0945770225,
          174753.0637534297,
          174809.51185030024,
          178396.80403784767,
          178857.8794493737,
          179822.51096087287,
          180233.1054998676,
          188442.86732845768,
          189079.41914535628,
          197379.02491541795,
          197650.88075586344,
          201881.84105082488,
          202027.8897357832,
          205452.2866580048,
          207335.82490176728,
          209306.87164921305,
          211681.2540539006,
          211726.0288916184,
          214837.4809277481,
          217142.2122023575,
          219047.82660333012,
          225203.94411172383,
          227707.04511266304,
          230189.42112731808,
          230961.62885485784,
          231257.3813194232,
          232223.66291948024,
          233919.6777671888,
          236121.87208292476,
          241102.80766098603,
          243379.14794353695,
          256901.39817858388,
          258779.6618091868,
          265167.7356581792,
          265769.2621903444,
          267150.7210744853,
          268409.88136648946,
          273544.01074463467,
          274182.5820595212,
          275458.1338934831,
          277165.38429032895,
          278656.68030099786,
          279375.43627150654,
          290956.30576804414,
          298787.538059464,
          299526.2895909649,
          301855.8180608052,
          303280.519697526,
          314372.6880680738,
          318563.8864007876,
          319823.3132474956,
          324169.44048265886,
          327437.78332858585,
          345746.4966335473,
          352434.0102758261,
          360058.4072555756,
          376776.5932908873,
          424870.2839479048,
          429780.29848051094,
          463194.4713748532,
          470600.8213763454,
          478177.9106441489,
          510219.7904901138,
          558393.1162655704,
          595996.4068946196,
          852089.8685028125,
          1945506.2526936333,
          2222772.4175309334,
          2693134.2954895324,
          2696748.7992548263,
          2918633.141023961,
          2948462.0802693786,
          2991909.305950562,
          3291391.786526117,
          3308930.3915435243,
          4519833.171433705,
          5378844.034540812
         ],
         "xaxis": "x",
         "y": [
          62.31640698833581,
          62.31668258772153,
          62.31708894993921,
          62.31749005101145,
          62.31778687945646,
          62.31786499326563,
          62.31800060622347,
          62.31813313055921,
          62.31818090017145,
          62.31841485813419,
          62.31873683414225,
          62.31947305989086,
          62.3196526424025,
          62.31987968126891,
          62.32084321415911,
          62.32095215473758,
          62.32147507442715,
          62.32174583881361,
          62.32198112442638,
          62.32265267721344,
          62.324097054570586,
          62.32456632556281,
          62.32848228008694,
          62.32860195648652,
          62.32939389843103,
          62.329973368920285,
          62.33343269599288,
          62.33379054156871,
          62.33452073051902,
          62.33557780335343,
          62.337212000158274,
          62.33787217906957,
          62.33999939015217,
          62.34046749959471,
          62.340478216464476,
          62.341395370986696,
          62.34396359555872,
          62.34615098721917,
          62.34623730652322,
          62.34666458184576,
          62.34675974234067,
          62.346780087364436,
          62.3472031403274,
          62.35049249341011,
          62.351000205850575,
          62.355470999810834,
          62.355923966651616,
          62.35897840648893,
          62.360324775559675,
          62.36272691903406,
          62.36593174713696,
          62.36717166449578,
          62.37123083046855,
          62.37160596802504,
          62.372767248516666,
          62.372817449749185,
          62.37374283705259,
          62.37550318369681,
          62.37822231872736,
          62.378740376163904,
          62.38167514141772,
          62.381908811840674,
          62.38778367743946,
          62.39722329447807,
          62.39800228041224,
          62.39801167115908,
          62.40252421656433,
          62.40633469289716,
          62.40735476285362,
          62.407493495165525,
          62.40923627727509,
          62.40990027647896,
          62.41437722437521,
          62.417388464844926,
          62.41930916275385,
          62.42053779658317,
          62.423516336446546,
          62.42378249406849,
          62.43136535514874,
          62.43212368793116,
          62.43709516905919,
          62.43727967266002,
          62.44372902353264,
          62.44682575174,
          62.44892359757182,
          62.44991281626969,
          62.45001473299012,
          62.450425191460326,
          62.450876854628376,
          62.45585413621731,
          62.45845666280064,
          62.4597817762182,
          62.461015858960515,
          62.462838872128735,
          62.46454019301972,
          62.466450448383256,
          62.46968099137023,
          62.47472100960647,
          62.48652156412212,
          62.48969117516492,
          62.493138771922155,
          62.50254990796874,
          62.50718831099841,
          62.50961926299854,
          62.51675406294575,
          62.5170289409792,
          62.52699432080616,
          62.528536130663625,
          62.531156453677134,
          62.53198231577692,
          62.54239662481554,
          62.57991183471033,
          62.58068603916073,
          62.58357285189014,
          62.58366582593739,
          62.586711161060876,
          62.59246514905447,
          62.63241193972745,
          62.63284281396601,
          62.633767819697425,
          62.640992558299295,
          62.64522737185086,
          62.64866951658192,
          62.648777764969566,
          62.65565697998031,
          62.65654116691748,
          62.658391004406816,
          62.659178386077535,
          62.6749219368822,
          62.67614262830765,
          62.69205846945235,
          62.692579797150394,
          62.70069335022867,
          62.70097342228674,
          62.70754025918724,
          62.7111522494803,
          62.71493205153238,
          62.719485315171255,
          62.719571178189824,
          62.725537892478236,
          62.72995758877035,
          62.73361191367796,
          62.74541726817867,
          62.750217370617726,
          62.75497772953178,
          62.756458563183735,
          62.75702571653711,
          62.758878718339076,
          62.76213110208392,
          62.76635416711497,
          62.775905919524504,
          62.780271171481296,
          62.80620228105715,
          62.809804156423375,
          62.82205432485522,
          62.823207849612366,
          62.82585702124257,
          62.828271665472485,
          62.838117191858046,
          62.83934175599866,
          62.841787833670736,
          62.84506176340466,
          62.84792156555227,
          62.84929989678454,
          62.87150809369544,
          62.88652575267475,
          62.887942428640635,
          62.892409677579344,
          62.8951417742062,
          62.91641280738862,
          62.92445011045065,
          62.92686526584247,
          62.93519967022094,
          62.941467248101546,
          62.9765771774884,
          62.98940157032492,
          63.00402258902337,
          63.03608242421763,
          63.12830988197479,
          63.13772563176872,
          63.20180273163366,
          63.216005609860844,
          63.23053590834328,
          63.29198141355577,
          63.38436158457784,
          63.45647199762044,
          63.94757277590741,
          66.04437616126432,
          66.5760790344621,
          67.47807427827428,
          67.48500567590197,
          67.91050491453238,
          67.9677067469685,
          68.05102385398267,
          68.62533011846273,
          68.65896324021456,
          70.98106585813979,
          72.62835861126082
         ],
         "yaxis": "y"
        },
        {
         "hovertemplate": "continent_sub_region=Australia and New Zealand<br>Tree Cover Loss (ha)=%{x}<br>Food Security Index=%{y}<extra></extra>",
         "legendgroup": "Australia and New Zealand",
         "marker": {
          "color": "#ab63fa",
          "symbol": "circle"
         },
         "mode": "markers",
         "name": "Australia and New Zealand",
         "showlegend": true,
         "type": "scattergl",
         "x": [
          139802.7577370091,
          69498.51588104213,
          260094.1395706371,
          77541.50731463541,
          281737.5240963331,
          79409.68409171843,
          261575.00418152497,
          64003.26987589908,
          430902.9031266533,
          80358.60654094756,
          236876.4575849116,
          74883.5155006926,
          250750.69872333956,
          79228.4005683605,
          1661547.6033871556,
          71430.70373761501,
          2356516.287662322,
          60924.51433122912,
          261043.55347213044,
          66242.98621384938,
          118987.43487408588,
          58514.80512753168
         ],
         "xaxis": "x",
         "y": [
          70.8,
          72.6,
          73.8,
          74.2,
          76.1,
          76.2,
          74.8,
          75.7,
          75.6,
          77.2,
          76.1,
          78,
          77.1,
          77,
          75.7,
          77.6,
          73.8,
          77.9,
          70.7,
          77.4,
          75.4,
          77.8
         ],
         "yaxis": "y"
        },
        {
         "hovertemplate": "<b>OLS trendline</b><br>fsi = -7.21307e-07 * umd_tree_cover_loss__ha + 75.7536<br>R<sup>2</sup>=0.036587<br><br>continent_sub_region=Australia and New Zealand<br>Tree Cover Loss (ha)=%{x}<br>Food Security Index=%{y} <b>(trend)</b><extra></extra>",
         "legendgroup": "Australia and New Zealand",
         "marker": {
          "color": "#ab63fa",
          "symbol": "circle"
         },
         "mode": "lines",
         "name": "Australia and New Zealand",
         "showlegend": false,
         "type": "scattergl",
         "x": [
          58514.80512753168,
          60924.51433122912,
          64003.26987589908,
          66242.98621384938,
          69498.51588104213,
          71430.70373761501,
          74883.5155006926,
          77541.50731463541,
          79228.4005683605,
          79409.68409171843,
          80358.60654094756,
          118987.43487408588,
          139802.7577370091,
          236876.4575849116,
          250750.69872333956,
          260094.1395706371,
          261043.55347213044,
          261575.00418152497,
          281737.5240963331,
          430902.9031266533,
          1661547.6033871556,
          2356516.287662322
         ],
         "xaxis": "x",
         "y": [
          75.71139973503048,
          75.70966159471944,
          75.70744086654533,
          75.705825343292,
          75.70347710669164,
          75.70208340590946,
          75.69959286833644,
          75.6976756400206,
          75.69645887197231,
          75.6963281108833,
          75.69564364640165,
          75.66778039900592,
          75.65276615923791,
          75.58274621218817,
          75.57273862381572,
          75.5659991337745,
          75.56531431480484,
          75.56493097564511,
          75.55038760726588,
          75.44279356317647,
          74.5551208270565,
          74.05383499422622
         ],
         "yaxis": "y"
        },
        {
         "hovertemplate": "continent_sub_region=Western Europe<br>Tree Cover Loss (ha)=%{x}<br>Food Security Index=%{y}<extra></extra>",
         "legendgroup": "Western Europe",
         "marker": {
          "color": "#FFA15A",
          "symbol": "circle"
         },
         "mode": "markers",
         "name": "Western Europe",
         "showlegend": true,
         "type": "scattergl",
         "x": [
          11158.429233729768,
          5635.167607287301,
          1518.0646772473156,
          26007.35395144319,
          67302.61843209922,
          946.7570022475476,
          7645.341812653412,
          3314.9495059606284,
          793.6246757030883,
          15499.368519916106,
          30351.836932722596,
          514.1770203585546,
          9869.568611267568,
          4239.266548530063,
          1503.5526584378129,
          21169.343208059134,
          44359.06365581656,
          875.2614925399978,
          7937.704883540017,
          3420.2739244388213,
          772.5663227746635,
          12929.492897561811,
          37292.530327609515,
          894.1996832066883,
          17210.293187755593,
          4512.342534065936,
          1678.990098717602,
          26877.05920368375,
          60768.46950601913,
          1406.6382512159182,
          18405.689726019773,
          4137.322685933485,
          2542.414850989004,
          33000.27868155027,
          69249.04325346301,
          1333.2029155227303,
          26310.09294368676,
          4630.608123143865,
          3134.386774605056,
          52237.2254555559,
          69201.43579091608,
          1271.22854119887,
          33642.43079561187,
          5577.118212720532,
          3518.709265741343,
          108232.51080714707,
          81304.16863515151,
          2481.3282374998207,
          25936.51506640435,
          5408.631203496722,
          3927.891163453767,
          186939.6371939696,
          77745.73713942208,
          1921.856834326272,
          16651.641552676934,
          9142.899488178287,
          3455.912140181973,
          202277.81779273736,
          112886.03476979009,
          2456.673268245564,
          19865.062230405576,
          4833.58905360579,
          1974.953453649401,
          86449.97609982068,
          58785.38077697959,
          1186.2075673129605
         ],
         "xaxis": "x",
         "y": [
          74.4,
          73.6,
          73.2,
          73.4,
          76.8,
          73.4,
          74,
          73.9,
          72.8,
          74.8,
          76.3,
          76.7,
          76,
          74.6,
          74.3,
          76.2,
          77.2,
          76.2,
          77.6,
          76.2,
          73.4,
          77,
          77.5,
          76,
          77.4,
          75.5,
          74.2,
          78.5,
          76.9,
          76.2,
          78,
          77,
          74.8,
          79.1,
          78.6,
          76.6,
          77.5,
          77.2,
          78.5,
          78.2,
          78.4,
          80.7,
          78.2,
          75.8,
          77.8,
          78.5,
          77.9,
          80.9,
          78.9,
          76.5,
          78.4,
          78.3,
          78,
          79.5,
          77.7,
          74.5,
          78,
          77.3,
          78.3,
          79.9,
          78.1,
          77.5,
          78.2,
          77,
          80.2,
          80.1
         ],
         "yaxis": "y"
        },
        {
         "hovertemplate": "<b>OLS trendline</b><br>fsi = 1.30396e-05 * umd_tree_cover_loss__ha + 76.5335<br>R<sup>2</sup>=0.073313<br><br>continent_sub_region=Western Europe<br>Tree Cover Loss (ha)=%{x}<br>Food Security Index=%{y} <b>(trend)</b><extra></extra>",
         "legendgroup": "Western Europe",
         "marker": {
          "color": "#FFA15A",
          "symbol": "circle"
         },
         "mode": "lines",
         "name": "Western Europe",
         "showlegend": false,
         "type": "scattergl",
         "x": [
          514.1770203585546,
          772.5663227746635,
          793.6246757030883,
          875.2614925399978,
          894.1996832066883,
          946.7570022475476,
          1186.2075673129605,
          1271.22854119887,
          1333.2029155227303,
          1406.6382512159182,
          1503.5526584378129,
          1518.0646772473156,
          1678.990098717602,
          1921.856834326272,
          1974.953453649401,
          2456.673268245564,
          2481.3282374998207,
          2542.414850989004,
          3134.386774605056,
          3314.9495059606284,
          3420.2739244388213,
          3455.912140181973,
          3518.709265741343,
          3927.891163453767,
          4137.322685933485,
          4239.266548530063,
          4512.342534065936,
          4630.608123143865,
          4833.58905360579,
          5408.631203496722,
          5577.118212720532,
          5635.167607287301,
          7645.341812653412,
          7937.704883540017,
          9142.899488178287,
          9869.568611267568,
          11158.429233729768,
          12929.492897561811,
          15499.368519916106,
          16651.641552676934,
          17210.293187755593,
          18405.689726019773,
          19865.062230405576,
          21169.343208059134,
          25936.51506640435,
          26007.35395144319,
          26310.09294368676,
          26877.05920368375,
          30351.836932722596,
          33000.27868155027,
          33642.43079561187,
          37292.530327609515,
          44359.06365581656,
          52237.2254555559,
          58785.38077697959,
          60768.46950601913,
          67302.61843209922,
          69201.43579091608,
          69249.04325346301,
          77745.73713942208,
          81304.16863515151,
          86449.97609982068,
          108232.51080714707,
          112886.03476979009,
          186939.6371939696,
          202277.81779273736
         ],
         "xaxis": "x",
         "y": [
          76.54024880072464,
          76.54361809353477,
          76.54389268600609,
          76.54495719733625,
          76.54520414374251,
          76.5458894700912,
          76.54901180936652,
          76.5501204487465,
          76.55092856971694,
          76.55188613702428,
          76.55314986200206,
          76.55333909290356,
          76.55543749581906,
          76.55860438058734,
          76.55929673919529,
          76.56557817226019,
          76.56589966316507,
          76.56669620809049,
          76.57441528441211,
          76.57676974996794,
          76.5781431381175,
          76.57860784614893,
          76.5794266954653,
          76.58476226320401,
          76.58749316621086,
          76.58882247326837,
          76.59238327453251,
          76.59392541035331,
          76.5965722002289,
          76.60407051909517,
          76.60626752208047,
          76.60702446289001,
          76.63323632783148,
          76.63704862494856,
          76.65276387894029,
          76.66223935268815,
          76.67904557797655,
          76.70213953741309,
          76.73564968422012,
          76.75067486215235,
          76.7579594552831,
          76.77354694642135,
          76.79257657822248,
          76.8095838787543,
          76.87174588668879,
          76.87266959732158,
          76.87661719228923,
          76.88401020479219,
          76.92931991192704,
          76.96385452949416,
          76.97222793536153,
          77.01982376844914,
          77.11196852720131,
          77.21469659551028,
          77.30008191308261,
          77.32594059428236,
          77.41114327408026,
          77.43590309043098,
          77.4365238726374,
          77.54731735112955,
          77.59371786981123,
          77.66081713410316,
          77.94485264520812,
          78.00553273019032,
          78.97116198758988,
          79.17116570728214
         ],
         "yaxis": "y"
        },
        {
         "hovertemplate": "continent_sub_region=Southern Asia<br>Tree Cover Loss (ha)=%{x}<br>Food Security Index=%{y}<extra></extra>",
         "legendgroup": "Southern Asia",
         "marker": {
          "color": "#19d3f3",
          "symbol": "circle"
         },
         "mode": "markers",
         "name": "Southern Asia",
         "showlegend": true,
         "type": "scattergl",
         "x": [
          5359.457805823136,
          95068.55768095674,
          14427.63468578113,
          5045.045215032829,
          238.83694023714187,
          6021.926531623392,
          80865.7358998361,
          7952.996077814989,
          835.4692511480027,
          60.010499551154496,
          12060.763150253853,
          139137.7521737692,
          12350.44427858598,
          1161.8113421425812,
          38.61457548311198,
          12603.761754377743,
          116308.1170230435,
          7402.862736102643,
          579.3662047962544,
          2.416088260494791,
          21196.22801576379,
          175362.34456264263,
          17490.12522395625,
          998.5134169189314,
          28376.5472330222,
          189420.9659002936,
          13066.098394564797,
          2394.083932419387,
          190.24674115926,
          19342.872848941304,
          132232.99302253957,
          13160.938077798131,
          1672.1166105124612,
          75.56168923288516,
          22078.75978651096,
          121154.43715050587,
          10306.91387645887,
          2087.02899610764,
          81.24308458574656,
          21475.16881457316,
          137715.5413806828,
          11216.449417225818,
          2232.811563511528,
          69.20160856297746,
          17587.280231247005,
          132747.58574099743,
          13295.782357459337,
          2752.51013305627,
          63.182731482822255,
          13798.248282807883,
          122628.75560780943,
          8411.632278952084,
          2022.4874957057827,
          48.63138713367729
         ],
         "xaxis": "x",
         "y": [
          47.1,
          53.8,
          52.9,
          45.8,
          43.5,
          51.9,
          54,
          55.5,
          47.9,
          45.3,
          53,
          53.4,
          54.2,
          50.3,
          45.9,
          52.9,
          56.3,
          55.2,
          51.5,
          48.6,
          54.2,
          59.3,
          58.4,
          52.4,
          57.1,
          60.8,
          60.1,
          54.1,
          52.1,
          56.5,
          61.8,
          57.4,
          56.8,
          53.4,
          54.8,
          61.1,
          59.7,
          56.5,
          54.1,
          54.2,
          60.1,
          57.3,
          56,
          51.4,
          53.6,
          58.4,
          55.5,
          55.1,
          50,
          54,
          58.9,
          55.2,
          56.9,
          52.2
         ],
         "yaxis": "y"
        },
        {
         "hovertemplate": "<b>OLS trendline</b><br>fsi = 4.30448e-05 * umd_tree_cover_loss__ha + 52.8153<br>R<sup>2</sup>=0.291703<br><br>continent_sub_region=Southern Asia<br>Tree Cover Loss (ha)=%{x}<br>Food Security Index=%{y} <b>(trend)</b><extra></extra>",
         "legendgroup": "Southern Asia",
         "marker": {
          "color": "#19d3f3",
          "symbol": "circle"
         },
         "mode": "lines",
         "name": "Southern Asia",
         "showlegend": false,
         "type": "scattergl",
         "x": [
          2.416088260494791,
          38.61457548311198,
          48.63138713367729,
          60.010499551154496,
          63.182731482822255,
          69.20160856297746,
          75.56168923288516,
          81.24308458574656,
          190.24674115926,
          238.83694023714187,
          579.3662047962544,
          835.4692511480027,
          998.5134169189314,
          1161.8113421425812,
          1672.1166105124612,
          2022.4874957057827,
          2087.02899610764,
          2232.811563511528,
          2394.083932419387,
          2752.51013305627,
          5045.045215032829,
          5359.457805823136,
          6021.926531623392,
          7402.862736102643,
          7952.996077814989,
          8411.632278952084,
          10306.91387645887,
          11216.449417225818,
          12060.763150253853,
          12350.44427858598,
          12603.761754377743,
          13066.098394564797,
          13160.938077798131,
          13295.782357459337,
          13798.248282807883,
          14427.63468578113,
          17490.12522395625,
          17587.280231247005,
          19342.872848941304,
          21196.22801576379,
          21475.16881457316,
          22078.75978651096,
          28376.5472330222,
          80865.7358998361,
          95068.55768095674,
          116308.1170230435,
          121154.43715050587,
          122628.75560780943,
          132232.99302253957,
          132747.58574099743,
          137715.5413806828,
          139137.7521737692,
          175362.34456264263,
          189420.9659002936
         ],
         "xaxis": "x",
         "y": [
          52.81541350191918,
          52.81697165815557,
          52.817402829697244,
          52.817892641187676,
          52.818029189241116,
          52.81828827053368,
          52.818562038862694,
          52.81880659332559,
          52.82349863269826,
          52.825590187554,
          52.8402481978179,
          52.85127209935218,
          52.858290301028426,
          52.86531942572672,
          52.887285408213344,
          52.90236704895863,
          52.90514522421051,
          52.91142040403116,
          52.91836233908569,
          52.93379071918274,
          53.032472407540645,
          53.04600623109872,
          53.07452205746938,
          53.1339641646999,
          53.15764453819078,
          53.17738643659228,
          53.258968432621934,
          53.2981191978556,
          53.33446250415176,
          53.34693176713228,
          53.35783576437019,
          53.377736947388975,
          53.38181930152103,
          53.387623645056266,
          53.40925218467842,
          53.436343989450876,
          53.568168247785316,
          53.57235026455236,
          53.6479193779521,
          53.72769665962894,
          53.73970360739381,
          53.765685053286035,
          54.03677198365709,
          56.29615802267558,
          56.9075154862216,
          57.82176783172901,
          58.030376657940984,
          58.09383838451945,
          58.5072507553603,
          58.52940129023034,
          58.74324589137322,
          58.80446465455202,
          60.363744582311746,
          60.968894968227666
         ],
         "yaxis": "y"
        },
        {
         "hovertemplate": "continent_sub_region=Eastern Europe<br>Tree Cover Loss (ha)=%{x}<br>Food Security Index=%{y}<extra></extra>",
         "legendgroup": "Eastern Europe",
         "marker": {
          "color": "#FF6692",
          "symbol": "circle"
         },
         "mode": "markers",
         "name": "Eastern Europe",
         "showlegend": true,
         "type": "scattergl",
         "x": [
          9977.505725370367,
          39591.09204589144,
          14006.252809278652,
          11921.858273256898,
          54896.16800436906,
          30649.652474193288,
          5391244.136038502,
          9169.581603317996,
          55521.11186363816,
          3692.763140061784,
          28084.697365520875,
          7658.876842158663,
          8951.92866828118,
          35014.59256410198,
          12946.155842228776,
          4965537.343060015,
          5076.417439793476,
          37711.82201670088,
          6688.564139720333,
          33626.20474902458,
          13939.610159580936,
          15139.947880058842,
          56279.47319571337,
          19481.707053253846,
          4489888.985174263,
          17366.378528836583,
          47187.25528640407,
          7293.179858870197,
          33899.29607935086,
          8046.992556702243,
          10720.01287279902,
          42742.666729365905,
          10906.349848186504,
          2332111.35796511,
          5282.688760733925,
          48913.80599971024,
          7394.538858111801,
          90486.83568614336,
          22808.49165202696,
          14020.675000517727,
          86510.33713259728,
          23045.154078596053,
          5051685.722775864,
          16942.84432520365,
          106760.51083838788,
          7687.856635044794,
          78767.08865605737,
          26511.922830659445,
          14108.816914520898,
          96251.75379675842,
          19187.033120951717,
          5288940.641140038,
          14213.008150308406,
          85860.91491729961,
          9753.980071150569,
          87446.57021168509,
          39206.389179753955,
          13798.781036617464,
          96845.84624405165,
          18974.177551254645,
          5560430.925395683,
          17698.550916022617,
          74423.43169641624,
          4125.248047772258,
          75048.52508074063,
          73295.19926394413,
          14397.954788962696,
          76720.94128777205,
          12265.85886491166,
          3686557.0413906686,
          10330.871943857928,
          45143.77581563438,
          4795.0999525939,
          68932.1249936564,
          100258.23550055572,
          12013.566203978791,
          74958.89001430915,
          27445.57389021103,
          5442086.35024786,
          11947.178874957026,
          79461.17693313921,
          6683.899225262673,
          63478.97779745741,
          56292.53564444026,
          13752.899198139728,
          77568.08842322195,
          14699.441095117332,
          6518851.583361313,
          6097.650247552321,
          66593.03264978789,
          4093.21249176922,
          64994.775353023346,
          34756.36289018975,
          14805.458161895767,
          72193.1183891896,
          16515.81412281516,
          4287816.829438801,
          5206.699885010092,
          47989.67622002896
         ],
         "xaxis": "x",
         "y": [
          63.5,
          60.2,
          72.3,
          66.1,
          68.5,
          63,
          63,
          64.2,
          55.8,
          64.5,
          60.5,
          71.3,
          66.1,
          71.3,
          64.5,
          64.6,
          66,
          54.3,
          65.1,
          63.9,
          73.5,
          68.5,
          72.3,
          66.6,
          63.7,
          68.7,
          56.8,
          67.3,
          61.1,
          74.5,
          71.4,
          71.5,
          67.7,
          63.8,
          73.6,
          53.1,
          68.1,
          65.6,
          78.9,
          72.6,
          72.9,
          68.7,
          61.1,
          74.2,
          49.5,
          68.3,
          65.1,
          79.4,
          72.7,
          73.2,
          70.9,
          67.8,
          74.7,
          54.5,
          66.4,
          69.7,
          77.4,
          71.1,
          73,
          69.2,
          70.9,
          69.9,
          52.4,
          68.2,
          71.6,
          79,
          71,
          75.5,
          70.5,
          70.9,
          70.3,
          55.5,
          68.7,
          69.4,
          77.8,
          71.1,
          75,
          71.7,
          71.2,
          69.8,
          57.8,
          72.2,
          69.1,
          76.6,
          68.5,
          75,
          69.3,
          71.7,
          71,
          60.6,
          73,
          64.5,
          77.7,
          71.4,
          75.5,
          68.8,
          69.1,
          71.1,
          57.9
         ],
         "yaxis": "y"
        },
        {
         "hovertemplate": "<b>OLS trendline</b><br>fsi = -1.99002e-07 * umd_tree_cover_loss__ha + 68.2845<br>R<sup>2</sup>=0.002440<br><br>continent_sub_region=Eastern Europe<br>Tree Cover Loss (ha)=%{x}<br>Food Security Index=%{y} <b>(trend)</b><extra></extra>",
         "legendgroup": "Eastern Europe",
         "marker": {
          "color": "#FF6692",
          "symbol": "circle"
         },
         "mode": "lines",
         "name": "Eastern Europe",
         "showlegend": false,
         "type": "scattergl",
         "x": [
          3692.763140061784,
          4093.21249176922,
          4125.248047772258,
          4795.0999525939,
          5076.417439793476,
          5206.699885010092,
          5282.688760733925,
          6097.650247552321,
          6683.899225262673,
          6688.564139720333,
          7293.179858870197,
          7394.538858111801,
          7658.876842158663,
          7687.856635044794,
          8046.992556702243,
          8951.92866828118,
          9169.581603317996,
          9753.980071150569,
          9977.505725370367,
          10330.871943857928,
          10720.01287279902,
          10906.349848186504,
          11921.858273256898,
          11947.178874957026,
          12013.566203978791,
          12265.85886491166,
          12946.155842228776,
          13752.899198139728,
          13798.781036617464,
          13939.610159580936,
          14006.252809278652,
          14020.675000517727,
          14108.816914520898,
          14213.008150308406,
          14397.954788962696,
          14699.441095117332,
          14805.458161895767,
          15139.947880058842,
          16515.81412281516,
          16942.84432520365,
          17366.378528836583,
          17698.550916022617,
          18974.177551254645,
          19187.033120951717,
          19481.707053253846,
          22808.49165202696,
          23045.154078596053,
          26511.922830659445,
          27445.57389021103,
          28084.697365520875,
          30649.652474193288,
          33626.20474902458,
          33899.29607935086,
          34756.36289018975,
          35014.59256410198,
          37711.82201670088,
          39206.389179753955,
          39591.09204589144,
          42742.666729365905,
          45143.77581563438,
          47187.25528640407,
          47989.67622002896,
          48913.80599971024,
          54896.16800436906,
          55521.11186363816,
          56279.47319571337,
          56292.53564444026,
          63478.97779745741,
          64994.775353023346,
          66593.03264978789,
          68932.1249936564,
          72193.1183891896,
          73295.19926394413,
          74423.43169641624,
          74958.89001430915,
          75048.52508074063,
          76720.94128777205,
          77568.08842322195,
          78767.08865605737,
          79461.17693313921,
          85860.91491729961,
          86510.33713259728,
          87446.57021168509,
          90486.83568614336,
          96251.75379675842,
          96845.84624405165,
          100258.23550055572,
          106760.51083838788,
          2332111.35796511,
          3686557.0413906686,
          4287816.829438801,
          4489888.985174263,
          4965537.343060015,
          5051685.722775864,
          5288940.641140038,
          5391244.136038502,
          5442086.35024786,
          5560430.925395683,
          6518851.583361313
         ],
         "xaxis": "x",
         "y": [
          68.2837163489859,
          68.28363665861478,
          68.28363028346313,
          68.28349698134473,
          68.2834409984973,
          68.28341507198158,
          68.28339995001502,
          68.28323777074552,
          68.28312110580796,
          68.28312017747892,
          68.28299985751626,
          68.28297968683492,
          68.2829270829489,
          68.28292131590136,
          68.28284984700085,
          68.28266976256752,
          68.28262644911703,
          68.28251015243535,
          68.2824656702998,
          68.28239534958391,
          68.28231790961574,
          68.28228082811552,
          68.28207873952947,
          68.28207370066966,
          68.28206048943366,
          68.28201028259552,
          68.28187490188292,
          68.28171435804096,
          68.28170522744624,
          68.28167720211663,
          68.28166394007121,
          68.28166107002095,
          68.28164352957093,
          68.2816227952678,
          68.28158599044788,
          68.28152599395763,
          68.2815048963098,
          68.28143833206225,
          68.28116453141546,
          68.28107955139198,
          68.28099526708056,
          68.28092916398737,
          68.28067531126031,
          68.28063295249692,
          68.28057431168521,
          68.2799122736567,
          68.27986517727228,
          68.27917528206513,
          68.27898948328904,
          68.27886229620101,
          68.2783518640486,
          68.27775952308353,
          68.27770517726084,
          68.27753461893195,
          68.27748323061414,
          68.27694647555344,
          68.27664905314188,
          68.27657249635874,
          68.27594532551909,
          68.27546749911387,
          68.27506084185069,
          68.27490115818102,
          68.27471725416221,
          68.2735267499291,
          68.27340238461832,
          68.2732514689139,
          68.27324886945561,
          68.2718187504161,
          68.27151710310606,
          68.27119904611186,
          68.27073356118554,
          68.27008461576257,
          68.26986529905362,
          68.26964077812264,
          68.2695342206469,
          68.26951638305601,
          68.26918356826272,
          68.26901498397277,
          68.26877638008159,
          68.26863825486761,
          68.2673646918243,
          68.2672354552626,
          68.26704914265848,
          68.26644412261551,
          68.26529689023324,
          68.26517866442666,
          68.26449959086813,
          68.26320562264814,
          67.820355524046,
          67.55081761939121,
          67.43116549497837,
          67.39095265653641,
          67.29629750476039,
          67.27915377279524,
          67.23193948111306,
          67.2115808428958,
          67.20146312163632,
          67.17791227038924,
          66.98718428543782
         ],
         "yaxis": "y"
        },
        {
         "hovertemplate": "continent_sub_region=Northern America<br>Tree Cover Loss (ha)=%{x}<br>Food Security Index=%{y}<extra></extra>",
         "legendgroup": "Northern America",
         "marker": {
          "color": "#B6E880",
          "symbol": "circle"
         },
         "mode": "markers",
         "name": "Northern America",
         "showlegend": true,
         "type": "scattergl",
         "x": [
          2545494.223989908,
          1964094.349265569,
          2807337.591589396,
          1736445.498079965,
          2643608.5411798847,
          1736526.8071503565,
          2733439.469266111,
          2289649.127923138,
          2084425.6748787367,
          2264066.7497078814,
          2559736.0398636474,
          2311358.0304301097,
          2142937.380732713,
          2092359.4724431727,
          2175715.827192218,
          2109918.2826289074,
          1195271.7557688633,
          1966716.3749185023,
          2524986.4914715015,
          2044298.91834886,
          2299843.8454220886,
          2204642.5210100487
         ],
         "xaxis": "x",
         "y": [
          72.1,
          76.7,
          72.8,
          77.3,
          72.5,
          78.1,
          71.1,
          76.5,
          72.6,
          78.9,
          74,
          79.3,
          76.1,
          78.9,
          77.8,
          78.7,
          77.6,
          79.1,
          79.5,
          78.7,
          79.1,
          78
         ],
         "yaxis": "y"
        },
        {
         "hovertemplate": "<b>OLS trendline</b><br>fsi = -3.80652e-06 * umd_tree_cover_loss__ha + 84.9891<br>R<sup>2</sup>=0.258827<br><br>continent_sub_region=Northern America<br>Tree Cover Loss (ha)=%{x}<br>Food Security Index=%{y} <b>(trend)</b><extra></extra>",
         "legendgroup": "Northern America",
         "marker": {
          "color": "#B6E880",
          "symbol": "circle"
         },
         "mode": "lines",
         "name": "Northern America",
         "showlegend": false,
         "type": "scattergl",
         "x": [
          1195271.7557688633,
          1736445.498079965,
          1736526.8071503565,
          1964094.349265569,
          1966716.3749185023,
          2044298.91834886,
          2084425.6748787367,
          2092359.4724431727,
          2109918.2826289074,
          2142937.380732713,
          2175715.827192218,
          2204642.5210100487,
          2264066.7497078814,
          2289649.127923138,
          2299843.8454220886,
          2311358.0304301097,
          2524986.4914715015,
          2545494.223989908,
          2559736.0398636474,
          2643608.5411798847,
          2733439.469266111,
          2807337.591589396
         ],
         "xaxis": "x",
         "y": [
          80.43929571876618,
          78.3793076625705,
          78.37899815806064,
          77.51275801726375,
          77.50277722716663,
          77.20745781245648,
          77.05471455696811,
          77.02451440691424,
          76.95767646479763,
          76.83198864515265,
          76.7072168705302,
          76.59710686497914,
          76.37090741774912,
          76.27352761261028,
          76.2347212281866,
          76.19089226580557,
          75.37771149999571,
          75.29964842940555,
          75.24543668869332,
          74.92617443066717,
          74.58423130877006,
          74.3029367124891
         ],
         "yaxis": "y"
        },
        {
         "hovertemplate": "continent_sub_region=Eastern Asia<br>Tree Cover Loss (ha)=%{x}<br>Food Security Index=%{y}<extra></extra>",
         "legendgroup": "Eastern Asia",
         "marker": {
          "color": "#FF97FF",
          "symbol": "circle"
         },
         "mode": "markers",
         "name": "Eastern Asia",
         "showlegend": true,
         "type": "scattergl",
         "x": [
          605004.418745607,
          45672.06361016815,
          16681.678608891227,
          441325.87171365577,
          23234.078476401573,
          5030.982104183115,
          531643.2997455434,
          28175.666668859656,
          10943.074919608416,
          490444.5825312704,
          31145.402758702807,
          10852.5841685002,
          718689.1051536285,
          54993.73162252561,
          11509.253959102532,
          644239.3395882472,
          47612.45979526472,
          8522.738368440605,
          569452.9735806625,
          50506.949507055906,
          7691.718377830073,
          496972.43539861456,
          51380.583208418546,
          27492.24071780823,
          422214.35280897614,
          48057.78631595111,
          14775.532248048512,
          536655.745896402,
          48455.78434750044,
          13742.553457701331,
          611895.7548458257,
          53789.93785532151,
          9046.927880453197
         ],
         "xaxis": "x",
         "y": [
          60.5,
          75.4,
          63.1,
          66,
          77.6,
          65.1,
          67.9,
          77.3,
          66.4,
          69.8,
          77.2,
          66.4,
          70.7,
          77.8,
          68,
          70.4,
          78.5,
          68.1,
          71.6,
          79.8,
          68.4,
          73.4,
          79.7,
          69.2,
          70.3,
          80.1,
          70.1,
          70.6,
          79.5,
          68.9,
          74.2,
          79.5,
          70.2
         ],
         "yaxis": "y"
        },
        {
         "hovertemplate": "<b>OLS trendline</b><br>fsi = -5.25529e-06 * umd_tree_cover_loss__ha + 72.9347<br>R<sup>2</sup>=0.061890<br><br>continent_sub_region=Eastern Asia<br>Tree Cover Loss (ha)=%{x}<br>Food Security Index=%{y} <b>(trend)</b><extra></extra>",
         "legendgroup": "Eastern Asia",
         "marker": {
          "color": "#FF97FF",
          "symbol": "circle"
         },
         "mode": "lines",
         "name": "Eastern Asia",
         "showlegend": false,
         "type": "scattergl",
         "x": [
          5030.982104183115,
          7691.718377830073,
          8522.738368440605,
          9046.927880453197,
          10852.5841685002,
          10943.074919608416,
          11509.253959102532,
          13742.553457701331,
          14775.532248048512,
          16681.678608891227,
          23234.078476401573,
          27492.24071780823,
          28175.666668859656,
          31145.402758702807,
          45672.06361016815,
          47612.45979526472,
          48057.78631595111,
          48455.78434750044,
          50506.949507055906,
          51380.583208418546,
          53789.93785532151,
          54993.73162252561,
          422214.35280897614,
          441325.87171365577,
          490444.5825312704,
          496972.43539861456,
          531643.2997455434,
          536655.745896402,
          569452.9735806625,
          605004.418745607,
          611895.7548458257,
          644239.3395882472,
          718689.1051536285
         ],
         "xaxis": "x",
         "y": [
          72.90830534831724,
          72.89432241871508,
          72.88995517114462,
          72.88720040543663,
          72.87771116555535,
          72.87723561079446,
          72.87426017811822,
          72.86252355093771,
          72.85709495215136,
          72.84707760821574,
          72.8126428741235,
          72.79026501448898,
          72.78667341578132,
          72.77106660382759,
          72.69472484908385,
          72.6845275125326,
          72.68218719438443,
          72.68009560097396,
          72.66931614180224,
          72.66472494700206,
          72.65206309969763,
          72.64573681938603,
          70.71588749708772,
          70.61545100284313,
          70.357318138525,
          70.32301240593459,
          70.1408071042627,
          70.1144652670967,
          69.94210646160468,
          69.75527345604898,
          69.71905751518007,
          69.54908273300636,
          69.15782793593802
         ],
         "yaxis": "y"
        },
        {
         "hovertemplate": "continent_sub_region=Northern Europe<br>Tree Cover Loss (ha)=%{x}<br>Food Security Index=%{y}<extra></extra>",
         "legendgroup": "Northern Europe",
         "marker": {
          "color": "#FECB52",
          "symbol": "circle"
         },
         "mode": "markers",
         "name": "Northern Europe",
         "showlegend": true,
         "type": "scattergl",
         "x": [
          4451.952352689336,
          160310.48672554636,
          35668.66624656016,
          5825.90258767864,
          29947.088158776944,
          234882.58053880456,
          2015.366626496424,
          148660.8607567591,
          28596.145209641003,
          4772.826758496737,
          33069.38260280393,
          197658.34397389487,
          5320.770494625853,
          186628.8680418758,
          30371.65766742287,
          5717.749943504219,
          39149.00058712956,
          242522.77704507113,
          2583.2304257546375,
          172639.43121398432,
          23996.896016895927,
          4484.169137730237,
          36638.88559082291,
          216031.23983819727,
          4656.340520046438,
          240428.38527361033,
          28808.246988817195,
          9388.156921343025,
          60081.68602966732,
          310348.32569526235,
          4360.353965592222,
          336198.66820488486,
          23041.72584935992,
          6128.753455844697,
          57916.603684443675,
          331217.2251394383,
          3161.62525342265,
          269954.7991734523,
          26251.46690184897,
          8380.343070775258,
          59219.62514172436,
          290151.4135010396,
          9180.33362716724,
          289910.39897583047,
          28376.643735602785,
          10370.413528595189,
          64784.05595490627,
          332890.8871695677,
          3193.5934822034146,
          254472.5924187548,
          22842.457302684285,
          6206.876041186951,
          68362.91362995247,
          339968.2296241121,
          4795.048927643729,
          266899.12619095406,
          26215.795338670083,
          8779.724237015678,
          63937.43260355628,
          333156.95654143306,
          3366.075160139065,
          255377.9727320257,
          34168.6236942954,
          6759.387953394061,
          67306.35124392471,
          329902.47278951685
         ],
         "xaxis": "x",
         "y": [
          73.4,
          78.4,
          71.6,
          76.9,
          80.9,
          75.7,
          74.2,
          78.2,
          74.9,
          78,
          81.5,
          75.8,
          77.4,
          78.3,
          73.9,
          78.2,
          81.9,
          75.2,
          78.2,
          80.7,
          76.5,
          78.5,
          82,
          77.5,
          77.7,
          83,
          77,
          80.7,
          81.2,
          78.7,
          78.7,
          84,
          77.7,
          81.6,
          81.6,
          80.4,
          77.7,
          83.8,
          76.9,
          82.4,
          82.3,
          80.9,
          76.6,
          83.6,
          78.4,
          82.7,
          81.7,
          80.4,
          76.1,
          84.3,
          78.8,
          82.4,
          80.9,
          79.3,
          77.3,
          82.7,
          79.3,
          81.6,
          78.4,
          77.7,
          77.8,
          83.7,
          78.8,
          81.7,
          80.5,
          79.1
         ],
         "yaxis": "y"
        },
        {
         "hovertemplate": "<b>OLS trendline</b><br>fsi = 6.73445e-06 * umd_tree_cover_loss__ha + 78.5216<br>R<sup>2</sup>=0.080743<br><br>continent_sub_region=Northern Europe<br>Tree Cover Loss (ha)=%{x}<br>Food Security Index=%{y} <b>(trend)</b><extra></extra>",
         "legendgroup": "Northern Europe",
         "marker": {
          "color": "#FECB52",
          "symbol": "circle"
         },
         "mode": "lines",
         "name": "Northern Europe",
         "showlegend": false,
         "type": "scattergl",
         "x": [
          2015.366626496424,
          2583.2304257546375,
          3161.62525342265,
          3193.5934822034146,
          3366.075160139065,
          4360.353965592222,
          4451.952352689336,
          4484.169137730237,
          4656.340520046438,
          4772.826758496737,
          4795.048927643729,
          5320.770494625853,
          5717.749943504219,
          5825.90258767864,
          6128.753455844697,
          6206.876041186951,
          6759.387953394061,
          8380.343070775258,
          8779.724237015678,
          9180.33362716724,
          9388.156921343025,
          10370.413528595189,
          22842.457302684285,
          23041.72584935992,
          23996.896016895927,
          26215.795338670083,
          26251.46690184897,
          28376.643735602785,
          28596.145209641003,
          28808.246988817195,
          29947.088158776944,
          30371.65766742287,
          33069.38260280393,
          34168.6236942954,
          35668.66624656016,
          36638.88559082291,
          39149.00058712956,
          57916.603684443675,
          59219.62514172436,
          60081.68602966732,
          63937.43260355628,
          64784.05595490627,
          67306.35124392471,
          68362.91362995247,
          148660.8607567591,
          160310.48672554636,
          172639.43121398432,
          186628.8680418758,
          197658.34397389487,
          216031.23983819727,
          234882.58053880456,
          240428.38527361033,
          242522.77704507113,
          254472.5924187548,
          255377.9727320257,
          266899.12619095406,
          269954.7991734523,
          289910.39897583047,
          290151.4135010396,
          310348.32569526235,
          329902.47278951685,
          331217.2251394383,
          332890.8871695677,
          333156.95654143306,
          336198.66820488486,
          339968.2296241121
         ],
         "xaxis": "x",
         "y": [
          78.535135391506,
          78.53895964423008,
          78.54285481768221,
          78.54307010625344,
          78.54423167620659,
          78.55092760124215,
          78.551544466381,
          78.55176142884298,
          78.5529209091245,
          78.55370538035737,
          78.55385503453678,
          78.55739548232948,
          78.5600689222296,
          78.56079727125386,
          78.56283680654222,
          78.56336291951192,
          78.5670837856564,
          78.57800003358652,
          78.58068964774212,
          78.58338753331535,
          78.58478710976293,
          78.59140207185582,
          78.67539447890856,
          78.67673644380127,
          78.6831689935076,
          78.69811206927123,
          78.6983522977782,
          78.71266420374269,
          78.7141424263572,
          78.71557081606589,
          78.72324028971818,
          78.72609953361103,
          78.74426723851916,
          78.75167002725836,
          78.76177199506158,
          78.76830589275868,
          78.78521014713253,
          78.91159970984627,
          78.92037484811718,
          78.92618035764839,
          78.95214670619498,
          78.95784825234371,
          78.97483453434046,
          78.98194990529419,
          79.52271274919835,
          79.60116662124258,
          79.68419533271606,
          79.77840655372924,
          79.8526840537798,
          79.976415478727,
          80.10336896849142,
          80.140716936247,
          80.15482152162072,
          80.23529700545093,
          80.24139424766618,
          80.31898292748221,
          80.33956121710457,
          80.47395128916838,
          80.4755743904398,
          80.61158956974424,
          80.7432760769486,
          80.75213021637822,
          80.76340141659605,
          80.76519324858373,
          80.78567751634299,
          80.81106345491641
         ],
         "yaxis": "y"
        },
        {
         "hovertemplate": "continent_sub_region=Northern Africa<br>Tree Cover Loss (ha)=%{x}<br>Food Security Index=%{y}<extra></extra>",
         "legendgroup": "Northern Africa",
         "marker": {
          "color": "#636efa",
          "symbol": "circle"
         },
         "mode": "markers",
         "name": "Northern Africa",
         "showlegend": true,
         "type": "scattergl",
         "x": [
          10912.733208613025,
          438.8534280508324,
          1689.8901709058268,
          13.204749787551,
          1414.717211779704,
          6926.529269715531,
          96.99929436334851,
          835.8379944714242,
          9.403742597347005,
          1300.3334418407292,
          9523.348572127392,
          115.00307506226892,
          1682.3079496686976,
          5.617398402150066,
          2385.0608548618397,
          5706.845700000831,
          31.64314849886176,
          951.9919859005182,
          8.055737397889539,
          1880.022717314592,
          8011.4837787387905,
          36.72802966209092,
          2041.2025672203897,
          26.677106912379543,
          1454.9561057043088,
          45978.55509639048,
          58.43038358912544,
          2366.567118586977,
          74.64733217465938,
          8525.836503220795,
          5763.909736466067,
          62.738151497385,
          2078.081118424953,
          16.115762821757816,
          902.6703475805916,
          6291.288201750728,
          20.90405680939561,
          1250.01748588565,
          56.39586824043023,
          572.773010072308,
          13072.666601759738,
          18.13907616891276,
          3620.7796543920176,
          66.80291179048831,
          1062.164916015003,
          20472.892620484366,
          17.81208130640408,
          1538.4621175180407,
          50.32012086562556,
          2079.124414225032,
          13442.613636502403,
          11.943498406008032,
          12016.34706657088,
          43.32917425217882,
          2943.5569958731694
         ],
         "xaxis": "x",
         "y": [
          50.5,
          53.8,
          53.9,
          35.5,
          56,
          47.8,
          54.8,
          54.8,
          34.8,
          54.9,
          52.7,
          55.3,
          56,
          36.8,
          55.6,
          54.9,
          56.9,
          59.2,
          36.9,
          56.3,
          57.9,
          55.3,
          58.2,
          39.1,
          57.2,
          58.3,
          53.2,
          57.9,
          40.5,
          60.4,
          58.5,
          50.9,
          63.5,
          40.1,
          59.1,
          58.1,
          54.8,
          61.4,
          40.9,
          59.2,
          61.1,
          55.5,
          64.9,
          39.1,
          59.3,
          62.5,
          58.5,
          64.3,
          38.8,
          60.4,
          58.9,
          56,
          63,
          42.8,
          60.3
         ],
         "yaxis": "y"
        },
        {
         "hovertemplate": "<b>OLS trendline</b><br>fsi = 0.000328655 * umd_tree_cover_loss__ha + 52.3804<br>R<sup>2</sup>=0.083411<br><br>continent_sub_region=Northern Africa<br>Tree Cover Loss (ha)=%{x}<br>Food Security Index=%{y} <b>(trend)</b><extra></extra>",
         "legendgroup": "Northern Africa",
         "marker": {
          "color": "#636efa",
          "symbol": "circle"
         },
         "mode": "lines",
         "name": "Northern Africa",
         "showlegend": false,
         "type": "scattergl",
         "x": [
          5.617398402150066,
          8.055737397889539,
          9.403742597347005,
          11.943498406008032,
          13.204749787551,
          16.115762821757816,
          17.81208130640408,
          18.13907616891276,
          20.90405680939561,
          26.677106912379543,
          31.64314849886176,
          36.72802966209092,
          43.32917425217882,
          50.32012086562556,
          56.39586824043023,
          58.43038358912544,
          62.738151497385,
          66.80291179048831,
          74.64733217465938,
          96.99929436334851,
          115.00307506226892,
          438.8534280508324,
          572.773010072308,
          835.8379944714242,
          902.6703475805916,
          951.9919859005182,
          1062.164916015003,
          1250.01748588565,
          1300.3334418407292,
          1414.717211779704,
          1454.9561057043088,
          1538.4621175180407,
          1682.3079496686976,
          1689.8901709058268,
          1880.022717314592,
          2041.2025672203897,
          2078.081118424953,
          2079.124414225032,
          2366.567118586977,
          2385.0608548618397,
          2943.5569958731694,
          3620.7796543920176,
          5706.845700000831,
          5763.909736466067,
          6291.288201750728,
          6926.529269715531,
          8011.4837787387905,
          8525.836503220795,
          9523.348572127392,
          10912.733208613025,
          12016.34706657088,
          13072.666601759738,
          13442.613636502403,
          20472.892620484366,
          45978.55509639048
         ],
         "xaxis": "x",
         "y": [
          52.38220573574813,
          52.38300710831594,
          52.38345013711136,
          52.38428484083285,
          52.384699357542814,
          52.385656076848136,
          52.38621358058418,
          52.38632104911628,
          52.387229774129366,
          52.38912711653877,
          52.39075923147643,
          52.392430403648106,
          52.394599903541234,
          52.39689751386073,
          52.39889433927493,
          52.399562993138105,
          52.40097876306846,
          52.40231466730463,
          52.40489277613906,
          52.412238862702935,
          52.41815589720643,
          52.52459097018626,
          52.568604324979134,
          52.65506197603486,
          52.6770267703139,
          52.693236578719606,
          52.72944547504757,
          52.79118418182717,
          52.80772077780339,
          52.8453135881518,
          52.85853830621053,
          52.88598298360435,
          52.9332586512129,
          52.93575058695815,
          52.99823861967483,
          53.05121120077376,
          53.06333152503039,
          53.06367440952503,
          53.15814392278618,
          53.16422198369277,
          53.347774593652694,
          53.57034728013544,
          54.25594354321241,
          54.274697930322546,
          54.44802355718251,
          54.65679877945625,
          55.013374621606914,
          55.18241927220684,
          55.510256709691696,
          55.966885068489944,
          56.329593400993886,
          56.67675821270498,
          56.79834319563967,
          59.10888029965544,
          67.49144657438738
         ],
         "yaxis": "y"
        },
        {
         "hovertemplate": "continent_sub_region=Southern Europe<br>Tree Cover Loss (ha)=%{x}<br>Food Security Index=%{y}<extra></extra>",
         "legendgroup": "Southern Europe",
         "marker": {
          "color": "#EF553B",
          "symbol": "circle"
         },
         "mode": "markers",
         "name": "Southern Europe",
         "showlegend": true,
         "type": "scattergl",
         "x": [
          80495.82971442404,
          13242.08454018614,
          21489.45265845689,
          58236.135175199925,
          3478.0647294856894,
          63955.87065962319,
          5906.555994044033,
          15524.723526807014,
          51884.196073471634,
          2798.3277552564286,
          74226.43456367607,
          3803.2117289538014,
          19832.76406076299,
          60258.85595576957,
          4387.909462667266,
          65413.86919736356,
          3840.0029775523935,
          14124.462450124694,
          46097.025436850025,
          2815.4401750553247,
          107562.3649272352,
          6034.1999031917285,
          24721.59097566753,
          94646.72428966829,
          4676.280415976025,
          98458.97696127863,
          8906.940785319368,
          34095.34985295774,
          173894.80786369005,
          3570.6420089327894,
          119649.00225149644,
          7122.1926176831785,
          38843.51052161197,
          97436.8977953596,
          3966.438140767206,
          71021.86482833137,
          7604.301812483616,
          59704.92032610425,
          36885.7725042267,
          3962.211902648627,
          101988.1180994087,
          5427.35619974866,
          28246.48629847476,
          62044.38836630668,
          4987.05585211132,
          85791.95758110215,
          49038.5192080328,
          28263.995843053508,
          37223.92353317916,
          4072.238842628751,
          137821.37787553505,
          9793.825040283473,
          28680.064181813003,
          46875.52148331238,
          4505.788963608253
         ],
         "xaxis": "x",
         "y": [
          74.9,
          67.5,
          71.5,
          74.8,
          53.4,
          75.1,
          70.9,
          70.3,
          74.4,
          56.6,
          74.4,
          72.7,
          74.2,
          73.6,
          57.8,
          76.8,
          75.5,
          74.5,
          76.7,
          60.8,
          77.4,
          75.3,
          74.2,
          77.3,
          58.7,
          77.1,
          76.4,
          74.8,
          78.1,
          61.3,
          78,
          76.4,
          74.2,
          79.2,
          60.2,
          77.2,
          75.7,
          74.6,
          78.8,
          60.9,
          77.4,
          75.6,
          75.1,
          79.7,
          61.2,
          76.6,
          72.5,
          74.1,
          77,
          62,
          75.7,
          72.2,
          74,
          78.7,
          61.4
         ],
         "yaxis": "y"
        },
        {
         "hovertemplate": "<b>OLS trendline</b><br>fsi = 9.72711e-05 * umd_tree_cover_loss__ha + 68.1201<br>R<sup>2</sup>=0.333469<br><br>continent_sub_region=Southern Europe<br>Tree Cover Loss (ha)=%{x}<br>Food Security Index=%{y} <b>(trend)</b><extra></extra>",
         "legendgroup": "Southern Europe",
         "marker": {
          "color": "#EF553B",
          "symbol": "circle"
         },
         "mode": "lines",
         "name": "Southern Europe",
         "showlegend": false,
         "type": "scattergl",
         "x": [
          2798.3277552564286,
          2815.4401750553247,
          3478.0647294856894,
          3570.6420089327894,
          3803.2117289538014,
          3840.0029775523935,
          3962.211902648627,
          3966.438140767206,
          4072.238842628751,
          4387.909462667266,
          4505.788963608253,
          4676.280415976025,
          4987.05585211132,
          5427.35619974866,
          5906.555994044033,
          6034.1999031917285,
          7122.1926176831785,
          7604.301812483616,
          8906.940785319368,
          9793.825040283473,
          13242.08454018614,
          14124.462450124694,
          15524.723526807014,
          19832.76406076299,
          21489.45265845689,
          24721.59097566753,
          28246.48629847476,
          28263.995843053508,
          28680.064181813003,
          34095.34985295774,
          36885.7725042267,
          37223.92353317916,
          38843.51052161197,
          46097.025436850025,
          46875.52148331238,
          49038.5192080328,
          51884.196073471634,
          58236.135175199925,
          59704.92032610425,
          60258.85595576957,
          62044.38836630668,
          63955.87065962319,
          65413.86919736356,
          71021.86482833137,
          74226.43456367607,
          80495.82971442404,
          85791.95758110215,
          94646.72428966829,
          97436.8977953596,
          98458.97696127863,
          101988.1180994087,
          107562.3649272352,
          119649.00225149644,
          137821.37787553505,
          173894.80786369005
         ],
         "xaxis": "x",
         "y": [
          68.3922776431896,
          68.3939421876215,
          68.45839642761082,
          68.46740152430871,
          68.49002384406468,
          68.49360257043519,
          68.50548997082552,
          68.50590106178817,
          68.51619241574302,
          68.54689805404982,
          68.558364326455,
          68.57494822289163,
          68.6051777011226,
          68.64800621401764,
          68.69461852009329,
          68.70703458753053,
          68.81286486963764,
          68.8597601763916,
          68.98646934286187,
          69.0727375776111,
          69.40815367993655,
          69.49398357740743,
          69.63018855635177,
          70.04923653246853,
          70.2103845064598,
          70.52477825686233,
          70.86764881237436,
          70.86935198558282,
          70.90982342356239,
          71.4365743867209,
          71.70800195461587,
          71.74089428772821,
          71.89843334621627,
          72.60399094740532,
          72.67971613850173,
          72.89011337403028,
          73.1669155818427,
          73.78477588376327,
          73.92764627692357,
          73.98152822224897,
          74.15520897966732,
          74.34114102466174,
          74.48296219175747,
          75.02845827070699,
          75.34017039396505,
          75.9500015523977,
          76.46516190112102,
          77.32647507562899,
          77.59787840885178,
          77.69729720552596,
          78.04058075629742,
          78.58279405098779,
          79.75847493626904,
          81.52612247033113,
          85.0350258125763
         ],
         "yaxis": "y"
        },
        {
         "hovertemplate": "continent_sub_region=South-eastern Asia<br>Tree Cover Loss (ha)=%{x}<br>Food Security Index=%{y}<extra></extra>",
         "legendgroup": "South-eastern Asia",
         "marker": {
          "color": "#00cc96",
          "symbol": "circle"
         },
         "mode": "markers",
         "name": "South-eastern Asia",
         "showlegend": true,
         "type": "scattergl",
         "x": [
          2260260.504603911,
          195568.95713088728,
          147537.12349925487,
          225188.7122988084,
          628171.0442860551,
          59586.54123127349,
          92.13825498833894,
          114508.12073492366,
          181241.5276262132,
          1139298.6687667277,
          190096.39840991964,
          205606.5378278922,
          248186.4487222324,
          333221.1537748232,
          58871.140399340664,
          25.918481198038876,
          84754.4124611542,
          132423.22411348444,
          1894360.7272287677,
          161796.87482928543,
          243833.42557567637,
          331444.58843174693,
          645779.1168368884,
          102456.18780278822,
          191.35197143343692,
          137614.63374225152,
          217341.5293637444,
          1746470.5346029974,
          132701.14361586949,
          285028.8419335204,
          293305.1696370313,
          454345.0340698113,
          65895.64633830024,
          154.97480247525723,
          120807.65603115835,
          217883.20961145704,
          2422071.536672208,
          182417.9536314076,
          388035.2543847976,
          362552.38855431566,
          565249.1817730699,
          129109.70705168512,
          154.3596279687154,
          171638.61546868196,
          353446.02068470966,
          1300719.3759037352,
          118333.26745054004,
          349136.62572704366,
          341844.69552616565,
          483416.1086135704,
          114280.59778671536,
          262.65034720572874,
          196456.506277438,
          286940.29223712726,
          1218732.5160552235,
          113205.22828334484,
          294666.25123518024,
          278708.79704301734,
          437984.51802192646,
          70533.57132282293,
          289.02683051019665,
          133532.5810415836,
          225154.8913166269,
          1176884.143702294,
          143306.85199863487,
          364709.5483277709,
          309418.1611194609,
          395367.2182092159,
          64038.614961349085,
          287.8738498075863,
          129794.03169619873,
          216779.39610146033,
          961587.943140165,
          143487.81091304196,
          357546.687762664,
          310005.30740475765,
          268721.4917352333,
          63727.597060107415,
          165.20300355552445,
          119414.18620691977,
          207640.59177030087,
          841391.3909846384,
          144246.3399037853,
          317575.3886834191,
          304151.74589417025,
          277553.73267606954,
          48882.82363354203,
          200.9646094100659,
          122815.81153643856,
          193074.06740109532,
          885238.4162738138,
          103843.24644680068,
          321699.07275939983,
          260937.85448564787,
          248089.04301658468,
          84543.47276301778,
          103.05905582149536,
          110663.32333475782,
          165142.05846430812
         ],
         "xaxis": "x",
         "y": [
          55.4,
          44.3,
          44.1,
          49.4,
          64.2,
          52.1,
          68.4,
          55.5,
          54.5,
          57.6,
          47.1,
          47.8,
          50.3,
          65.2,
          53,
          70.1,
          57.4,
          60.8,
          56.9,
          51.4,
          47.2,
          52.7,
          67,
          54.4,
          72.3,
          57.9,
          64.6,
          57.9,
          54.2,
          51.4,
          51.8,
          68.1,
          55.5,
          72.1,
          57,
          64.7,
          58.5,
          55.1,
          51.8,
          53,
          66.3,
          57,
          70.8,
          59,
          66.2,
          60,
          56.1,
          53.5,
          54,
          66.8,
          57.5,
          70.2,
          60.7,
          64,
          63.6,
          58.9,
          54.4,
          57.2,
          67.2,
          59.3,
          72.4,
          61.7,
          67.3,
          61.5,
          56.2,
          52.3,
          56.2,
          68.6,
          59.7,
          74.7,
          62.4,
          65.6,
          61.6,
          52.7,
          53.2,
          54.7,
          67.9,
          60.6,
          74.7,
          61.4,
          65.5,
          59.8,
          55,
          49,
          58.3,
          71.5,
          59.6,
          72.8,
          62.1,
          62.7,
          60.2,
          55.7,
          53.1,
          57.6,
          69.9,
          59.3,
          73.1,
          60.1,
          67.9
         ],
         "yaxis": "y"
        },
        {
         "hovertemplate": "<b>OLS trendline</b><br>fsi = -1.40996e-06 * umd_tree_cover_loss__ha + 60.2139<br>R<sup>2</sup>=0.007799<br><br>continent_sub_region=South-eastern Asia<br>Tree Cover Loss (ha)=%{x}<br>Food Security Index=%{y} <b>(trend)</b><extra></extra>",
         "legendgroup": "South-eastern Asia",
         "marker": {
          "color": "#00cc96",
          "symbol": "circle"
         },
         "mode": "lines",
         "name": "South-eastern Asia",
         "showlegend": false,
         "type": "scattergl",
         "x": [
          25.918481198038876,
          92.13825498833894,
          103.05905582149536,
          154.3596279687154,
          154.97480247525723,
          165.20300355552445,
          191.35197143343692,
          200.9646094100659,
          262.65034720572874,
          287.8738498075863,
          289.02683051019665,
          48882.82363354203,
          58871.140399340664,
          59586.54123127349,
          63727.597060107415,
          64038.614961349085,
          65895.64633830024,
          70533.57132282293,
          84543.47276301778,
          84754.4124611542,
          102456.18780278822,
          103843.24644680068,
          110663.32333475782,
          113205.22828334484,
          114280.59778671536,
          114508.12073492366,
          118333.26745054004,
          119414.18620691977,
          120807.65603115835,
          122815.81153643856,
          129109.70705168512,
          129794.03169619873,
          132423.22411348444,
          132701.14361586949,
          133532.5810415836,
          137614.63374225152,
          143306.85199863487,
          143487.81091304196,
          144246.3399037853,
          147537.12349925487,
          161796.87482928543,
          165142.05846430812,
          171638.61546868196,
          181241.5276262132,
          182417.9536314076,
          190096.39840991964,
          193074.06740109532,
          195568.95713088728,
          196456.506277438,
          205606.5378278922,
          207640.59177030087,
          216779.39610146033,
          217341.5293637444,
          217883.20961145704,
          225154.8913166269,
          225188.7122988084,
          243833.42557567637,
          248089.04301658468,
          248186.4487222324,
          260937.85448564787,
          268721.4917352333,
          277553.73267606954,
          278708.79704301734,
          285028.8419335204,
          286940.29223712726,
          293305.1696370313,
          294666.25123518024,
          304151.74589417025,
          309418.1611194609,
          310005.30740475765,
          317575.3886834191,
          321699.07275939983,
          331444.58843174693,
          333221.1537748232,
          341844.69552616565,
          349136.62572704366,
          353446.02068470966,
          357546.687762664,
          362552.38855431566,
          364709.5483277709,
          388035.2543847976,
          395367.2182092159,
          437984.51802192646,
          454345.0340698113,
          483416.1086135704,
          565249.1817730699,
          628171.0442860551,
          645779.1168368884,
          841391.3909846384,
          885238.4162738138,
          961587.943140165,
          1139298.6687667277,
          1176884.143702294,
          1218732.5160552235,
          1300719.3759037352,
          1746470.5346029974,
          1894360.7272287677,
          2260260.504603911,
          2422071.536672208
         ],
         "xaxis": "x",
         "y": [
          60.21384664603528,
          60.21375327869242,
          60.213737880781835,
          60.21366554894144,
          60.21366468156897,
          60.21365026019749,
          60.213613391155064,
          60.21359983770397,
          60.213512863178074,
          60.213477299006215,
          60.21347567334762,
          60.144960282442526,
          60.13087713865225,
          60.12986845090035,
          60.12402972090725,
          60.12359119758773,
          60.120972854525746,
          60.11443355806799,
          60.09468013403307,
          60.09438271714396,
          60.06942389241655,
          60.06746819289408,
          60.057852145893776,
          60.054268157346804,
          60.05275192756567,
          60.05243112892959,
          60.047037818677424,
          60.04551376466225,
          60.0435490256214,
          60.04071760333102,
          60.03184345189784,
          60.03087858037906,
          60.027171519846924,
          60.02677966400114,
          60.02560736909966,
          60.0198518312557,
          60.0118260216954,
          60.01157087656219,
          60.010501379759454,
          60.0058615010247,
          59.98575579822179,
          59.9810392175164,
          59.97187932115152,
          59.95833958308644,
          59.95668086751121,
          59.945854554686235,
          59.94165615554193,
          59.93813845665137,
          59.93688704637426,
          59.92398585260637,
          59.921117914512315,
          59.9082325506933,
          59.90743996433989,
          59.90667621595308,
          59.896423423470395,
          59.89637573718187,
          59.87008740610834,
          59.86408714863333,
          59.863949810321905,
          59.84597081695345,
          59.83499618677626,
          59.8225430655871,
          59.82091446910301,
          59.81200344805303,
          59.80930837639031,
          59.80033414322049,
          59.79841507033699,
          59.78504088644428,
          59.777615442836904,
          59.776787589079795,
          59.766114064636064,
          59.76029982814863,
          59.74655902459362,
          59.74405413555516,
          59.7318952722238,
          59.7216139301383,
          59.71553784842594,
          59.70975606502349,
          59.70269821877443,
          59.69965670617721,
          59.66676835470485,
          59.656430566744625,
          59.596341807518364,
          59.57327410698503,
          59.53228500616481,
          59.416903509649636,
          59.32818609528442,
          59.303359387900436,
          59.02755357911805,
          58.96573095410501,
          58.85808104768032,
          58.60751573615126,
          58.55452165713327,
          58.495517056152515,
          58.37991872630044,
          57.75142667805669,
          57.54290717504572,
          57.027002513786975,
          56.79885516074408
         ],
         "yaxis": "y"
        },
        {
         "hovertemplate": "continent_sub_region=Central Asia<br>Tree Cover Loss (ha)=%{x}<br>Food Security Index=%{y}<extra></extra>",
         "legendgroup": "Central Asia",
         "marker": {
          "color": "#ab63fa",
          "symbol": "circle"
         },
         "mode": "markers",
         "name": "Central Asia",
         "showlegend": true,
         "type": "scattergl",
         "x": [
          3741.5142676435617,
          26.041278952884113,
          55.376205075946174,
          2863.6388754513114,
          1.3190362559787323,
          24.68649925001086,
          595.7158179973264,
          0.7830429886284721,
          83.12890887847023,
          181.1622936768294,
          1288.5506122046118,
          975.1769845813334,
          0.1211538718901909,
          1.69413304671875,
          1138.8878148571127,
          0.1800544646527778,
          0.4661042540733507,
          1281.7255839891252,
          0.0595659437912326,
          17.638901515898436,
          1853.2676791752076,
          0.4276713535351563,
          3.181950549954427,
          718.4090624070013,
          0,
          3.5057399456467007,
          3629.0951866856585,
          0.122407742157118,
          7.489416883628484
         ],
         "xaxis": "x",
         "y": [
          62.7,
          47.1,
          50.4,
          61.7,
          52,
          51.4,
          64.4,
          51.5,
          49.9,
          64.2,
          66.1,
          66,
          53,
          57.7,
          68.2,
          52.3,
          52.1,
          71.2,
          56,
          51.4,
          71.6,
          55,
          53.1,
          70.7,
          54.4,
          54.5,
          72.1,
          56.7,
          57.5
         ],
         "yaxis": "y"
        },
        {
         "hovertemplate": "<b>OLS trendline</b><br>fsi = 0.00464351 * umd_tree_cover_loss__ha + 55.4837<br>R<sup>2</sup>=0.443810<br><br>continent_sub_region=Central Asia<br>Tree Cover Loss (ha)=%{x}<br>Food Security Index=%{y} <b>(trend)</b><extra></extra>",
         "legendgroup": "Central Asia",
         "marker": {
          "color": "#ab63fa",
          "symbol": "circle"
         },
         "mode": "lines",
         "name": "Central Asia",
         "showlegend": false,
         "type": "scattergl",
         "x": [
          0,
          0.0595659437912326,
          0.1211538718901909,
          0.122407742157118,
          0.1800544646527778,
          0.4276713535351563,
          0.4661042540733507,
          0.7830429886284721,
          1.3190362559787323,
          1.69413304671875,
          3.181950549954427,
          3.5057399456467007,
          7.489416883628484,
          17.638901515898436,
          24.68649925001086,
          26.041278952884113,
          55.376205075946174,
          83.12890887847023,
          181.1622936768294,
          595.7158179973264,
          718.4090624070013,
          975.1769845813334,
          1138.8878148571127,
          1281.7255839891252,
          1288.5506122046118,
          1853.2676791752076,
          2863.6388754513114,
          3629.0951866856585,
          3741.5142676435617
         ],
         "xaxis": "x",
         "y": [
          55.483650105019876,
          55.48392670012655,
          55.48421268433931,
          55.484218506699506,
          55.48448618988126,
          55.48563600159305,
          55.48581446518395,
          55.48728617363872,
          55.4897750641947,
          55.491516830214756,
          55.498425526943606,
          55.499929046517735,
          55.51842729362826,
          55.56555653570661,
          55.598282132297584,
          55.604573066556114,
          55.740790114484724,
          55.86966009589044,
          56.32487918250623,
          58.249862973310655,
          58.81959038575266,
          60.011895019983655,
          60.7720880377045,
          61.43535676939477,
          61.46704886200966,
          64.08931869336824,
          68.78098831242451,
          72.335393003858,
          72.85741222676971
         ],
         "yaxis": "y"
        }
       ],
       "layout": {
        "legend": {
         "title": {
          "text": "continent_sub_region"
         },
         "tracegroupgap": 0
        },
        "template": {
         "data": {
          "bar": [
           {
            "error_x": {
             "color": "#2a3f5f"
            },
            "error_y": {
             "color": "#2a3f5f"
            },
            "marker": {
             "line": {
              "color": "#E5ECF6",
              "width": 0.5
             },
             "pattern": {
              "fillmode": "overlay",
              "size": 10,
              "solidity": 0.2
             }
            },
            "type": "bar"
           }
          ],
          "barpolar": [
           {
            "marker": {
             "line": {
              "color": "#E5ECF6",
              "width": 0.5
             },
             "pattern": {
              "fillmode": "overlay",
              "size": 10,
              "solidity": 0.2
             }
            },
            "type": "barpolar"
           }
          ],
          "carpet": [
           {
            "aaxis": {
             "endlinecolor": "#2a3f5f",
             "gridcolor": "white",
             "linecolor": "white",
             "minorgridcolor": "white",
             "startlinecolor": "#2a3f5f"
            },
            "baxis": {
             "endlinecolor": "#2a3f5f",
             "gridcolor": "white",
             "linecolor": "white",
             "minorgridcolor": "white",
             "startlinecolor": "#2a3f5f"
            },
            "type": "carpet"
           }
          ],
          "choropleth": [
           {
            "colorbar": {
             "outlinewidth": 0,
             "ticks": ""
            },
            "type": "choropleth"
           }
          ],
          "contour": [
           {
            "colorbar": {
             "outlinewidth": 0,
             "ticks": ""
            },
            "colorscale": [
             [
              0,
              "#0d0887"
             ],
             [
              0.1111111111111111,
              "#46039f"
             ],
             [
              0.2222222222222222,
              "#7201a8"
             ],
             [
              0.3333333333333333,
              "#9c179e"
             ],
             [
              0.4444444444444444,
              "#bd3786"
             ],
             [
              0.5555555555555556,
              "#d8576b"
             ],
             [
              0.6666666666666666,
              "#ed7953"
             ],
             [
              0.7777777777777778,
              "#fb9f3a"
             ],
             [
              0.8888888888888888,
              "#fdca26"
             ],
             [
              1,
              "#f0f921"
             ]
            ],
            "type": "contour"
           }
          ],
          "contourcarpet": [
           {
            "colorbar": {
             "outlinewidth": 0,
             "ticks": ""
            },
            "type": "contourcarpet"
           }
          ],
          "heatmap": [
           {
            "colorbar": {
             "outlinewidth": 0,
             "ticks": ""
            },
            "colorscale": [
             [
              0,
              "#0d0887"
             ],
             [
              0.1111111111111111,
              "#46039f"
             ],
             [
              0.2222222222222222,
              "#7201a8"
             ],
             [
              0.3333333333333333,
              "#9c179e"
             ],
             [
              0.4444444444444444,
              "#bd3786"
             ],
             [
              0.5555555555555556,
              "#d8576b"
             ],
             [
              0.6666666666666666,
              "#ed7953"
             ],
             [
              0.7777777777777778,
              "#fb9f3a"
             ],
             [
              0.8888888888888888,
              "#fdca26"
             ],
             [
              1,
              "#f0f921"
             ]
            ],
            "type": "heatmap"
           }
          ],
          "heatmapgl": [
           {
            "colorbar": {
             "outlinewidth": 0,
             "ticks": ""
            },
            "colorscale": [
             [
              0,
              "#0d0887"
             ],
             [
              0.1111111111111111,
              "#46039f"
             ],
             [
              0.2222222222222222,
              "#7201a8"
             ],
             [
              0.3333333333333333,
              "#9c179e"
             ],
             [
              0.4444444444444444,
              "#bd3786"
             ],
             [
              0.5555555555555556,
              "#d8576b"
             ],
             [
              0.6666666666666666,
              "#ed7953"
             ],
             [
              0.7777777777777778,
              "#fb9f3a"
             ],
             [
              0.8888888888888888,
              "#fdca26"
             ],
             [
              1,
              "#f0f921"
             ]
            ],
            "type": "heatmapgl"
           }
          ],
          "histogram": [
           {
            "marker": {
             "pattern": {
              "fillmode": "overlay",
              "size": 10,
              "solidity": 0.2
             }
            },
            "type": "histogram"
           }
          ],
          "histogram2d": [
           {
            "colorbar": {
             "outlinewidth": 0,
             "ticks": ""
            },
            "colorscale": [
             [
              0,
              "#0d0887"
             ],
             [
              0.1111111111111111,
              "#46039f"
             ],
             [
              0.2222222222222222,
              "#7201a8"
             ],
             [
              0.3333333333333333,
              "#9c179e"
             ],
             [
              0.4444444444444444,
              "#bd3786"
             ],
             [
              0.5555555555555556,
              "#d8576b"
             ],
             [
              0.6666666666666666,
              "#ed7953"
             ],
             [
              0.7777777777777778,
              "#fb9f3a"
             ],
             [
              0.8888888888888888,
              "#fdca26"
             ],
             [
              1,
              "#f0f921"
             ]
            ],
            "type": "histogram2d"
           }
          ],
          "histogram2dcontour": [
           {
            "colorbar": {
             "outlinewidth": 0,
             "ticks": ""
            },
            "colorscale": [
             [
              0,
              "#0d0887"
             ],
             [
              0.1111111111111111,
              "#46039f"
             ],
             [
              0.2222222222222222,
              "#7201a8"
             ],
             [
              0.3333333333333333,
              "#9c179e"
             ],
             [
              0.4444444444444444,
              "#bd3786"
             ],
             [
              0.5555555555555556,
              "#d8576b"
             ],
             [
              0.6666666666666666,
              "#ed7953"
             ],
             [
              0.7777777777777778,
              "#fb9f3a"
             ],
             [
              0.8888888888888888,
              "#fdca26"
             ],
             [
              1,
              "#f0f921"
             ]
            ],
            "type": "histogram2dcontour"
           }
          ],
          "mesh3d": [
           {
            "colorbar": {
             "outlinewidth": 0,
             "ticks": ""
            },
            "type": "mesh3d"
           }
          ],
          "parcoords": [
           {
            "line": {
             "colorbar": {
              "outlinewidth": 0,
              "ticks": ""
             }
            },
            "type": "parcoords"
           }
          ],
          "pie": [
           {
            "automargin": true,
            "type": "pie"
           }
          ],
          "scatter": [
           {
            "fillpattern": {
             "fillmode": "overlay",
             "size": 10,
             "solidity": 0.2
            },
            "type": "scatter"
           }
          ],
          "scatter3d": [
           {
            "line": {
             "colorbar": {
              "outlinewidth": 0,
              "ticks": ""
             }
            },
            "marker": {
             "colorbar": {
              "outlinewidth": 0,
              "ticks": ""
             }
            },
            "type": "scatter3d"
           }
          ],
          "scattercarpet": [
           {
            "marker": {
             "colorbar": {
              "outlinewidth": 0,
              "ticks": ""
             }
            },
            "type": "scattercarpet"
           }
          ],
          "scattergeo": [
           {
            "marker": {
             "colorbar": {
              "outlinewidth": 0,
              "ticks": ""
             }
            },
            "type": "scattergeo"
           }
          ],
          "scattergl": [
           {
            "marker": {
             "colorbar": {
              "outlinewidth": 0,
              "ticks": ""
             }
            },
            "type": "scattergl"
           }
          ],
          "scattermapbox": [
           {
            "marker": {
             "colorbar": {
              "outlinewidth": 0,
              "ticks": ""
             }
            },
            "type": "scattermapbox"
           }
          ],
          "scatterpolar": [
           {
            "marker": {
             "colorbar": {
              "outlinewidth": 0,
              "ticks": ""
             }
            },
            "type": "scatterpolar"
           }
          ],
          "scatterpolargl": [
           {
            "marker": {
             "colorbar": {
              "outlinewidth": 0,
              "ticks": ""
             }
            },
            "type": "scatterpolargl"
           }
          ],
          "scatterternary": [
           {
            "marker": {
             "colorbar": {
              "outlinewidth": 0,
              "ticks": ""
             }
            },
            "type": "scatterternary"
           }
          ],
          "surface": [
           {
            "colorbar": {
             "outlinewidth": 0,
             "ticks": ""
            },
            "colorscale": [
             [
              0,
              "#0d0887"
             ],
             [
              0.1111111111111111,
              "#46039f"
             ],
             [
              0.2222222222222222,
              "#7201a8"
             ],
             [
              0.3333333333333333,
              "#9c179e"
             ],
             [
              0.4444444444444444,
              "#bd3786"
             ],
             [
              0.5555555555555556,
              "#d8576b"
             ],
             [
              0.6666666666666666,
              "#ed7953"
             ],
             [
              0.7777777777777778,
              "#fb9f3a"
             ],
             [
              0.8888888888888888,
              "#fdca26"
             ],
             [
              1,
              "#f0f921"
             ]
            ],
            "type": "surface"
           }
          ],
          "table": [
           {
            "cells": {
             "fill": {
              "color": "#EBF0F8"
             },
             "line": {
              "color": "white"
             }
            },
            "header": {
             "fill": {
              "color": "#C8D4E3"
             },
             "line": {
              "color": "white"
             }
            },
            "type": "table"
           }
          ]
         },
         "layout": {
          "annotationdefaults": {
           "arrowcolor": "#2a3f5f",
           "arrowhead": 0,
           "arrowwidth": 1
          },
          "autotypenumbers": "strict",
          "coloraxis": {
           "colorbar": {
            "outlinewidth": 0,
            "ticks": ""
           }
          },
          "colorscale": {
           "diverging": [
            [
             0,
             "#8e0152"
            ],
            [
             0.1,
             "#c51b7d"
            ],
            [
             0.2,
             "#de77ae"
            ],
            [
             0.3,
             "#f1b6da"
            ],
            [
             0.4,
             "#fde0ef"
            ],
            [
             0.5,
             "#f7f7f7"
            ],
            [
             0.6,
             "#e6f5d0"
            ],
            [
             0.7,
             "#b8e186"
            ],
            [
             0.8,
             "#7fbc41"
            ],
            [
             0.9,
             "#4d9221"
            ],
            [
             1,
             "#276419"
            ]
           ],
           "sequential": [
            [
             0,
             "#0d0887"
            ],
            [
             0.1111111111111111,
             "#46039f"
            ],
            [
             0.2222222222222222,
             "#7201a8"
            ],
            [
             0.3333333333333333,
             "#9c179e"
            ],
            [
             0.4444444444444444,
             "#bd3786"
            ],
            [
             0.5555555555555556,
             "#d8576b"
            ],
            [
             0.6666666666666666,
             "#ed7953"
            ],
            [
             0.7777777777777778,
             "#fb9f3a"
            ],
            [
             0.8888888888888888,
             "#fdca26"
            ],
            [
             1,
             "#f0f921"
            ]
           ],
           "sequentialminus": [
            [
             0,
             "#0d0887"
            ],
            [
             0.1111111111111111,
             "#46039f"
            ],
            [
             0.2222222222222222,
             "#7201a8"
            ],
            [
             0.3333333333333333,
             "#9c179e"
            ],
            [
             0.4444444444444444,
             "#bd3786"
            ],
            [
             0.5555555555555556,
             "#d8576b"
            ],
            [
             0.6666666666666666,
             "#ed7953"
            ],
            [
             0.7777777777777778,
             "#fb9f3a"
            ],
            [
             0.8888888888888888,
             "#fdca26"
            ],
            [
             1,
             "#f0f921"
            ]
           ]
          },
          "colorway": [
           "#636efa",
           "#EF553B",
           "#00cc96",
           "#ab63fa",
           "#FFA15A",
           "#19d3f3",
           "#FF6692",
           "#B6E880",
           "#FF97FF",
           "#FECB52"
          ],
          "font": {
           "color": "#2a3f5f"
          },
          "geo": {
           "bgcolor": "white",
           "lakecolor": "white",
           "landcolor": "#E5ECF6",
           "showlakes": true,
           "showland": true,
           "subunitcolor": "white"
          },
          "hoverlabel": {
           "align": "left"
          },
          "hovermode": "closest",
          "mapbox": {
           "style": "light"
          },
          "paper_bgcolor": "white",
          "plot_bgcolor": "#E5ECF6",
          "polar": {
           "angularaxis": {
            "gridcolor": "white",
            "linecolor": "white",
            "ticks": ""
           },
           "bgcolor": "#E5ECF6",
           "radialaxis": {
            "gridcolor": "white",
            "linecolor": "white",
            "ticks": ""
           }
          },
          "scene": {
           "xaxis": {
            "backgroundcolor": "#E5ECF6",
            "gridcolor": "white",
            "gridwidth": 2,
            "linecolor": "white",
            "showbackground": true,
            "ticks": "",
            "zerolinecolor": "white"
           },
           "yaxis": {
            "backgroundcolor": "#E5ECF6",
            "gridcolor": "white",
            "gridwidth": 2,
            "linecolor": "white",
            "showbackground": true,
            "ticks": "",
            "zerolinecolor": "white"
           },
           "zaxis": {
            "backgroundcolor": "#E5ECF6",
            "gridcolor": "white",
            "gridwidth": 2,
            "linecolor": "white",
            "showbackground": true,
            "ticks": "",
            "zerolinecolor": "white"
           }
          },
          "shapedefaults": {
           "line": {
            "color": "#2a3f5f"
           }
          },
          "ternary": {
           "aaxis": {
            "gridcolor": "white",
            "linecolor": "white",
            "ticks": ""
           },
           "baxis": {
            "gridcolor": "white",
            "linecolor": "white",
            "ticks": ""
           },
           "bgcolor": "#E5ECF6",
           "caxis": {
            "gridcolor": "white",
            "linecolor": "white",
            "ticks": ""
           }
          },
          "title": {
           "x": 0.05
          },
          "xaxis": {
           "automargin": true,
           "gridcolor": "white",
           "linecolor": "white",
           "ticks": "",
           "title": {
            "standoff": 15
           },
           "zerolinecolor": "white",
           "zerolinewidth": 2
          },
          "yaxis": {
           "automargin": true,
           "gridcolor": "white",
           "linecolor": "white",
           "ticks": "",
           "title": {
            "standoff": 15
           },
           "zerolinecolor": "white",
           "zerolinewidth": 2
          }
         }
        },
        "title": {
         "text": "Correlation Between Deforestation and Food Security Index"
        },
        "xaxis": {
         "anchor": "y",
         "domain": [
          0,
          1
         ],
         "title": {
          "text": "Tree Cover Loss (ha)"
         }
        },
        "yaxis": {
         "anchor": "x",
         "domain": [
          0,
          1
         ],
         "title": {
          "text": "Food Security Index"
         }
        }
       }
      },
      "text/html": [
       "<div>                            <div id=\"8c86fb86-86bc-47a4-b096-d2c8aaab170e\" class=\"plotly-graph-div\" style=\"height:525px; width:100%;\"></div>            <script type=\"text/javascript\">                require([\"plotly\"], function(Plotly) {                    window.PLOTLYENV=window.PLOTLYENV || {};                                    if (document.getElementById(\"8c86fb86-86bc-47a4-b096-d2c8aaab170e\")) {                    Plotly.newPlot(                        \"8c86fb86-86bc-47a4-b096-d2c8aaab170e\",                        [{\"hovertemplate\":\"continent_sub_region=Sub-Saharan Africa<br>Tree Cover Loss (ha)=%{x}<br>Food Security Index=%{y}<extra></extra>\",\"legendgroup\":\"Sub-Saharan Africa\",\"marker\":{\"color\":\"#636efa\",\"symbol\":\"circle\"},\"mode\":\"markers\",\"name\":\"Sub-Saharan Africa\",\"showlegend\":true,\"x\":[180754.8206844684,871.1629204077029,2865.4117545877243,0.3777338635649956,15.787236763055557,51267.60247466839,41631.93539087004,36625.86841506728,24485.568322533505,17899.13670322952,128468.16279301148,78.92125094870275,139946.21504134737,12173.047066392359,0.0747634261300998,34970.91983791005,1090.4517418078958,84.50333117818357,16356.215663015895,2491.109581364759,1746.8677357084612,154433.35486971043,29141.305589132335,84896.58285684518,129518.87672637017,168841.2541977206,1405.6460466674678,1312.9031231645984,0.2264842866476779,14.121863518476564,84612.41502935754,30851.23115281145,81228.4588268489,146183.88431169893,13563.766202895968,299350.3243925694,409.7811716142811,162655.52171325072,10562.321448242594,43434.897396620014,2472.624874820702,374.7376722588208,170277.65691576048,2895.2470925461253,2952.616231994278,181510.4286108913,47750.03594454088,56368.99849528773,84831.58231022148,212662.07671471435,2047.2401820416287,1358.2719822693912,0.0,15.524350105646702,181851.00450453648,32725.072633472493,120298.11708457308,132716.19830816227,15356.83931634388,416682.1829565138,270.33774791043135,200500.70270738855,18587.0426724615,68637.35128005287,2889.358676402073,326.71520470969296,161512.80780539237,3000.6658731544508,2526.1772203037285,198227.5618178294,54913.20190867275,69667.22996157112,115220.9496243014,161718.9696110516,1458.3785204173241,598.3973628617001,0.0,0.0,78969.88322629039,10276.470946594009,57407.38759222371,161820.01803398927,15615.500860817492,301788.6583490081,204.1535159302508,181386.84236310076,10785.179991408531,40927.546110110474,2216.721227539673,293.4962398181977,232761.35360077705,2591.3684614965446,940.295810156712,111961.29550804324,54021.49583856927,70156.9944774945,87590.81871223505,229710.4874359257,1575.874450056596,2015.9778176710029,0.0,0.7276476864485678,116619.23002656717,19581.64310748037,119244.56175707425,216012.26550661065,19048.306961092865,383655.62498675205,204.82831103208292,250552.81216452984,13509.331561989207,0.0,72189.38696621971,2777.6719175266444,254.557353876696,177686.75680965203,3165.9632290539707,3463.788822609242,152854.22932995047,67486.04452067493,73546.06795382734,141637.19948641793,280456.3210513023,1775.1927772758752,2238.446401346203,0.0,1.1571796533897567,187281.05196284704,35403.50582711626,115285.96497551251,231588.02093249428,22163.388146004083,510356.8561372868,331.9850058325042,359011.1368018562,15307.694079994428,171045.4466235777,2728.8183060839347,391.7954826634386,232752.74797354988,6765.138653660815,7186.209751414214,194875.86110892872,116902.45448787548,94055.92503461392,162681.4735827436,242552.49738953833,2874.575194787588,1825.9708077704477,0.0,2.624943872811415,120813.96433339977,18894.243222749534,151445.59492735632,182895.35655218904,15908.41523844701,366619.93619631056,298.7991857720194,172397.98182822112,15487.128009125476,119822.45678833692,4290.998467040876,300.9440967649576,188217.43912998683,6931.783337327733,6783.649723290039,171708.21639600626,86229.84192432962,63666.75379640914,143944.2280705229,175098.37018363233,2386.3299282645394,774.9856744760264,0.0,0.0721906673253038,121800.96870431768,25582.398386151657,88256.57865966979,193690.00896904193,15950.244924833272,254242.73728300468,210.75723679909072,235658.0519143073,12134.422154001137,86894.81903568226,2515.986112189697,277.64000257541977,175466.68831212854,5058.926738728641,5230.015876782089,142772.9924530332,63267.764106670635,76139.76106722641,124640.78101884048,248028.43177844412,1856.851774590565,1605.5614207301203,0.0,1.8152580918836807,202795.6686739493,17980.782343289007,136599.4770551558,178406.6324398319,19044.834370066765,241112.07861872547,148.84741201595267,232509.07048768297,16067.716569048524,99199.51538891146,3187.3171008675386,758.4581610040675,154640.5160687572,3433.489615853736,5506.80026101198,186212.53169466436,73603.22694610558,62247.30063131986,163028.4377908704,298294.0696450904,2272.251753279853,1704.9511176151225,0.0,1.4247808028776043,168797.79974126606,19751.438277588994,101378.95468906626,167376.74593969327,7564.226606595743,234879.89400163677,130.30924230515132,278039.3501620224,16564.31077866071,0.0,97193.04938927731,2922.131627324489,176.62630635852284,113032.5736874954,5095.147735339833,5897.96423071061,165076.8303450739,49244.9906995042,52067.375092260074,201456.61033546372,266942.2367238344,1609.96687256175,1673.9073489425652,0.0,2.080606771569011,147809.50010893343,19941.379415555315,118632.27886689085,130216.23608651132,6639.031071623617,256379.43620821027,159.19620831946702,237826.3116737553,14857.925024587912,0.0,106189.39590792074,2536.450579440612,289.1091311744621,119929.38987663711,5444.712377561845,5034.044033643248,160668.22644673105,64134.70198475245,40979.71869567929,179098.2614525588],\"xaxis\":\"x\",\"y\":[42.9,42.0,39.2,38.9,50.2,43.6,38.7,50.5,35.8,43.0,39.4,44.5,43.8,45.5,42.1,42.9,45.9,42.5,41.5,35.5,42.7,38.9,41.0,57.1,45.3,41.9,41.1,39.8,42.4,50.1,42.1,41.0,53.1,38.6,47.6,40.4,45.6,48.7,39.6,44.1,42.1,44.4,42.6,33.2,43.3,39.6,43.1,60.8,46.5,41.9,41.9,41.3,44.1,50.5,43.0,46.1,52.7,43.7,49.6,40.0,47.5,48.4,39.4,44.7,44.9,46.6,46.7,38.6,46.2,43.5,47.5,61.5,46.0,43.3,43.0,44.7,45.1,51.2,47.0,44.5,53.8,45.3,49.7,40.2,48.2,49.2,41.4,45.4,46.9,49.7,48.0,41.1,47.1,42.8,49.0,61.4,45.6,42.4,41.9,45.5,48.3,52.2,46.3,43.9,54.3,42.7,49.1,39.5,45.2,46.5,40.3,50.6,47.7,44.0,48.6,46.6,41.6,42.7,46.9,47.8,66.4,47.3,39.2,42.4,46.7,50.0,53.0,46.0,48.0,54.0,43.7,51.2,39.1,47.9,42.0,39.7,46.7,41.0,47.3,44.5,42.4,47.3,46.9,47.8,64.3,41.5,40.6,32.8,46.4,50.6,54.7,48.1,46.5,56.5,44.1,50.7,38.4,49.7,44.3,44.7,44.7,42.4,50.0,40.1,42.3,47.8,45.2,44.7,65.8,45.5,42.4,39.4,46.4,51.1,56.4,47.4,45.8,55.4,44.5,53.4,37.6,50.1,49.9,46.6,47.4,47.0,50.4,42.4,43.9,48.2,46.9,48.0,66.1,45.5,43.6,41.9,48.6,50.8,56.8,47.4,41.7,56.6,45.4,51.9,41.8,50.8,48.0,46.2,45.8,48.5,50.9,45.7,42.7,49.1,48.6,47.7,64.5,46.6,45.5,39.3,46.6,51.8,54.7,48.4,42.7,54.2,46.4,52.6,43.3,52.0,45.3,45.3,49.7,46.8,44.6,50.8,42.9,42.4,48.5,48.2,47.0,64.9,44.7,43.7,40.6,48.1,49.6,51.1,46.4,44.5,52.6,45.1,53.0,40.6,51.9,47.3,48.1,46.3,42.0,50.6,51.2,40.5,43.2,46.2,49.1,47.7,61.7,43.5],\"yaxis\":\"y\",\"type\":\"scattergl\"},{\"hovertemplate\":\"<b>OLS trendline</b><br>fsi = -1.03456e-05 * umd_tree_cover_loss__ha + 47.2235<br>R<sup>2</sup>=0.031847<br><br>continent_sub_region=Sub-Saharan Africa<br>Tree Cover Loss (ha)=%{x}<br>Food Security Index=%{y} <b>(trend)</b><extra></extra>\",\"legendgroup\":\"Sub-Saharan Africa\",\"marker\":{\"color\":\"#636efa\",\"symbol\":\"circle\"},\"mode\":\"lines\",\"name\":\"Sub-Saharan Africa\",\"showlegend\":false,\"x\":[0.0,0.0,0.0,0.0,0.0,0.0,0.0,0.0,0.0,0.0,0.0,0.0,0.0,0.0721906673253038,0.0747634261300998,0.2264842866476779,0.3777338635649956,0.7276476864485678,1.1571796533897567,1.4247808028776043,1.8152580918836807,2.080606771569011,2.624943872811415,14.121863518476564,15.524350105646702,15.787236763055557,78.92125094870275,84.50333117818357,130.30924230515132,148.84741201595267,159.19620831946702,176.62630635852284,204.1535159302508,204.82831103208292,210.75723679909072,254.557353876696,270.33774791043135,277.64000257541977,289.1091311744621,293.4962398181977,298.7991857720194,300.9440967649576,326.71520470969296,331.9850058325042,374.7376722588208,391.7954826634386,409.7811716142811,598.3973628617001,758.4581610040675,774.9856744760264,871.1629204077029,940.295810156712,1090.4517418078958,1312.9031231645984,1358.2719822693912,1405.6460466674678,1458.3785204173241,1575.874450056596,1605.5614207301203,1609.96687256175,1673.9073489425652,1704.9511176151225,1746.8677357084612,1775.1927772758752,1825.9708077704477,1856.851774590565,2015.9778176710029,2047.2401820416287,2216.721227539673,2238.446401346203,2272.251753279853,2386.3299282645394,2472.624874820702,2491.109581364759,2515.986112189697,2526.1772203037285,2536.450579440612,2591.3684614965446,2728.8183060839347,2777.6719175266444,2865.4117545877243,2874.575194787588,2889.358676402073,2895.2470925461253,2922.131627324489,2952.616231994278,3000.6658731544508,3165.9632290539707,3187.3171008675386,3433.489615853736,3463.788822609242,4290.998467040876,5034.044033643248,5058.926738728641,5095.147735339833,5230.015876782089,5444.712377561845,5506.80026101198,5897.96423071061,6639.031071623617,6765.138653660815,6783.649723290039,6931.783337327733,7186.209751414214,7564.226606595743,10276.470946594009,10562.321448242594,10785.179991408531,12134.422154001137,12173.047066392359,13509.331561989207,13563.766202895968,14857.925024587912,15307.694079994428,15356.83931634388,15487.128009125476,15615.500860817492,15908.41523844701,15950.244924833272,16067.716569048524,16356.215663015895,16564.31077866071,17899.13670322952,17980.782343289007,18587.0426724615,18894.243222749534,19044.834370066765,19048.306961092865,19581.64310748037,19751.438277588994,19941.379415555315,22163.388146004083,24485.568322533505,25582.398386151657,29141.305589132335,30851.23115281145,32725.072633472493,34970.91983791005,35403.50582711626,36625.86841506728,40927.546110110474,40979.71869567929,41631.93539087004,43434.897396620014,47750.03594454088,49244.9906995042,51267.60247466839,52067.375092260074,54021.49583856927,54913.20190867275,56368.99849528773,57407.38759222371,62247.30063131986,63267.764106670635,63666.75379640914,64134.70198475245,67486.04452067493,68637.35128005287,69667.22996157112,70156.9944774945,72189.38696621971,73546.06795382734,73603.22694610558,76139.76106722641,78969.88322629039,81228.4588268489,84612.41502935754,84831.58231022148,84896.58285684518,86229.84192432962,86894.81903568226,87590.81871223505,88256.57865966979,94055.92503461392,97193.04938927731,99199.51538891146,101378.95468906626,106189.39590792074,111961.29550804324,113032.5736874954,115220.9496243014,115285.96497551251,116619.23002656717,116902.45448787548,118632.27886689085,119244.56175707425,119822.45678833692,119929.38987663711,120298.11708457308,120813.96433339977,121800.96870431768,124640.78101884048,128468.16279301148,129518.87672637017,130216.23608651132,132716.19830816227,136599.4770551558,139946.21504134737,141637.19948641793,142772.9924530332,143944.2280705229,146183.88431169893,147809.50010893343,151445.59492735632,152854.22932995047,154433.35486971043,154640.5160687572,160668.22644673105,161512.80780539237,161718.9696110516,161820.01803398927,162655.52171325072,162681.4735827436,163028.4377908704,165076.8303450739,167376.74593969327,168797.79974126606,168841.2541977206,170277.65691576048,171045.4466235777,171708.21639600626,172397.98182822112,175098.37018363233,175466.68831212854,177686.75680965203,178406.6324398319,179098.2614525588,180754.8206844684,181386.84236310076,181510.4286108913,181851.00450453648,182895.35655218904,186212.53169466436,187281.05196284704,188217.43912998683,193690.00896904193,194875.86110892872,198227.5618178294,200500.70270738855,201456.61033546372,202795.6686739493,212662.07671471435,216012.26550661065,229710.4874359257,231588.02093249428,232509.07048768297,232752.74797354988,232761.35360077705,234879.89400163677,235658.0519143073,237826.3116737553,241112.07861872547,242552.49738953833,248028.43177844412,250552.81216452984,254242.73728300468,256379.43620821027,266942.2367238344,278039.3501620224,280456.3210513023,298294.0696450904,299350.3243925694,301788.6583490081,359011.1368018562,366619.93619631056,383655.62498675205,416682.1829565138,510356.8561372868],\"xaxis\":\"x\",\"y\":[47.223478231968016,47.223478231968016,47.223478231968016,47.223478231968016,47.223478231968016,47.223478231968016,47.223478231968016,47.223478231968016,47.223478231968016,47.223478231968016,47.223478231968016,47.223478231968016,47.223478231968016,47.22347748511381,47.22347745849713,47.223475888857074,47.22347432409272,47.22347070403184,47.2234662602752,47.22346349178653,47.22345945207313,47.22345670688757,47.223451075405414,47.223332133121986,47.22331762358706,47.223314903872534,47.222661745979764,47.22260399613118,47.22213010748693,47.221938319399,47.22183125511561,47.221650930670016,47.22136614576556,47.22135916461994,47.22129782645365,47.220844688908976,47.22068143160549,47.22060588555744,47.220487230788464,47.220441843612086,47.22038698156903,47.22036479122421,47.2200981742068,47.220043655066185,47.21960135400433,47.219424881089644,47.21923880873472,47.21728746514273,47.21563154360854,47.21546055692234,47.21446554768531,47.21375032795515,47.21219687799367,47.20989548979009,47.2094261227018,47.208936010604965,47.208390462664134,47.20717489931366,47.20686777043142,47.20682219348416,47.20616069227353,47.205839526531236,47.205405874872945,47.20511283593504,47.20458750784012,47.20426802637715,47.20262177542472,47.2022983481835,47.20054496874184,47.200320209253206,47.19997047333481,47.198790268633026,47.19789749749885,47.1977062625183,47.1974489004186,47.197343467510734,47.19723718366847,47.196669026414696,47.19524702827296,47.19474160940619,47.19383389004403,47.19373908895513,47.19358614528722,47.193525226216416,47.193247090154415,47.192931709287144,47.192434607957956,47.190724511205,47.19050359305024,47.18795679599922,47.1876433331806,47.17908537095996,47.17139813480404,47.17114070882805,47.170765981668275,47.1693706927388,47.16714953326013,47.166507198194886,47.1624603806834,47.15479361558921,47.15348895971379,47.153297451991875,47.1517649240758,47.14913273566462,47.14522193265696,47.117162196227255,47.1142049074549,47.11189930692691,47.097940616368,47.097541019309084,47.08371638330982,47.08315322546524,47.06976440392754,47.06511128290787,47.064602847012765,47.06325493512839,47.06192684372819,47.05889647507314,47.05846372277364,47.05724841066992,47.054263720678115,47.05211085634683,47.03830131010847,47.03745663873911,47.03118452497949,47.02800635760532,47.02644840508606,47.02641247912339,47.02089480821322,47.01913817897078,47.01717312803864,46.99418516253664,46.97016086548686,46.958813524084235,46.92199457063645,46.90430440167797,46.88491842775114,46.86168383944781,46.85720848718647,46.844562439212986,46.8000590954145,46.799519339840735,46.79277178089399,46.77411909613103,46.72947649202391,46.71401032041836,46.69308523174779,46.68481112143908,46.66459461207647,46.65536939702823,46.64030833932289,46.62956560352221,46.57949390378007,46.56893661890266,46.564808839791056,46.559967645126534,46.5252960682126,46.51338513388361,46.50273044325276,46.4976635460611,46.47663727025168,46.46260162074545,46.462010277910196,46.435768365323646,46.40648911467647,46.3831228437533,46.348113859595145,46.34584644731065,46.34517397906023,46.33138064286466,46.324501070032234,46.3173005508197,46.31041287909523,46.25041528656801,46.217959920640645,46.19720186935647,46.174654309232544,46.12488751251698,46.0651738727502,46.0540908803682,46.03145086556927,46.03077824415682,46.01698484605776,46.0140547251916,45.99615869147921,45.98982427084254,45.98384561249597,45.98273932784858,45.9789246316147,45.973587893465194,45.963376762375525,45.93399726146545,45.89440078329595,45.88353053993392,45.87631595400825,45.850452398874495,45.81027763419095,45.775653694007204,45.75815948187606,45.74640904670622,45.734291936813435,45.71112139760582,45.69430346194506,45.65668595797106,45.64211282033751,45.62577585327978,45.62363265085587,45.56127250063406,45.5525348179821,45.550401954860824,45.54935655048023,45.5407127816721,45.54044429457192,45.53685474915855,45.515662943417496,45.49186898634517,45.47716736284594,45.47671780136034,45.46185738444261,45.453914155834084,45.44705741919953,45.4399213968505,45.41198431743872,45.408173853368254,45.38520596069807,45.37775843093568,45.37060312876837,45.35346506537855,45.346926435558686,45.34564786434436,45.34212440973923,45.33131998376448,45.2970018882978,45.28594742810303,45.27625996126289,45.2196430610034,45.20737473473238,45.172699452311825,45.14918249504954,45.1392930777506,45.12543974474229,45.02336604693822,44.98870640617355,44.84699037741324,44.82756620744643,44.81803741707303,44.815516432541344,44.81542740235028,44.79350987656282,44.78545938287823,44.76302748156904,44.72903432207171,44.71413235676521,44.657480648291504,44.631364473123476,44.59319006356058,44.571084677336074,44.46180639659381,44.347000339626874,44.32199537782778,44.13745355146662,44.12652598517777,44.10130001009276,43.509300373643214,43.430582943061346,43.25433888926841,42.9126600448718,41.94354137041167],\"yaxis\":\"y\",\"type\":\"scattergl\"},{\"hovertemplate\":\"continent_sub_region=Western Asia<br>Tree Cover Loss (ha)=%{x}<br>Food Security Index=%{y}<extra></extra>\",\"legendgroup\":\"Western Asia\",\"marker\":{\"color\":\"#EF553B\",\"symbol\":\"circle\"},\"mode\":\"markers\",\"name\":\"Western Asia\",\"showlegend\":true,\"x\":[0.0,597.6319686933407,49.23018969847438,0.1305532826942274,5370.641727538369,28467.085054387313,149.07599370587673,45.730708194968535,0.0,1270.4328503517113,22542.957668818715,328.246022802264,122.08486946058048,0.8478206387890626,0.0,958.2943361194723,22005.441487395423,26.74519296005212,51.332728029528006,0.3915837515668403,2393.171169198786,27735.28447778871,25.47520986746094,64.8712980901888,1812.673701455694,25633.047734699296,80.10105221121529,99.54904099372828,0.98052545507704,2146.569603502313,33901.12336353327,75.32863975567062,39.655153583592664,903.4288938592664,35668.33083989895,11.949763429166667,54.35792290111433,0.5873644681976996,1176.5202747761423,39117.93877014855,22.77496149437284,46.46654973852539,0.1957948364453125,3037.670360481399,45348.58479523354,85.22633726126303,28.61547411162544,2856.1150676344887,79284.22953476998,146.17824737043188,80.11602118536682,457.7730892983095,53403.769246082],\"xaxis\":\"x\",\"y\":[63.2,56.9,67.0,63.3,46.8,62.4,61.6,68.1,61.0,42.4,61.8,63.8,68.6,60.3,64.6,42.0,64.2,65.4,71.0,66.5,41.7,63.2,62.8,71.6,40.0,65.0,59.0,71.9,65.9,38.3,67.3,58.2,74.1,39.9,65.2,62.4,73.5,64.1,45.0,64.4,63.3,72.9,65.3,38.5,61.5,60.8,73.1,36.2,65.6,59.8,74.8,36.3,65.3],\"yaxis\":\"y\",\"type\":\"scattergl\"},{\"hovertemplate\":\"<b>OLS trendline</b><br>fsi = 9.06805e-05 * umd_tree_cover_loss__ha + 59.3982<br>R<sup>2</sup>=0.019569<br><br>continent_sub_region=Western Asia<br>Tree Cover Loss (ha)=%{x}<br>Food Security Index=%{y} <b>(trend)</b><extra></extra>\",\"legendgroup\":\"Western Asia\",\"marker\":{\"color\":\"#EF553B\",\"symbol\":\"circle\"},\"mode\":\"lines\",\"name\":\"Western Asia\",\"showlegend\":false,\"x\":[0.0,0.0,0.0,0.1305532826942274,0.1957948364453125,0.3915837515668403,0.5873644681976996,0.8478206387890626,0.98052545507704,11.949763429166667,22.77496149437284,25.47520986746094,26.74519296005212,28.61547411162544,39.655153583592664,45.730708194968535,46.46654973852539,49.23018969847438,51.332728029528006,54.35792290111433,64.8712980901888,75.32863975567062,80.10105221121529,80.11602118536682,85.22633726126303,99.54904099372828,122.08486946058048,146.17824737043188,149.07599370587673,328.246022802264,457.7730892983095,597.6319686933407,903.4288938592664,958.2943361194723,1176.5202747761423,1270.4328503517113,1812.673701455694,2146.569603502313,2393.171169198786,2856.1150676344887,3037.670360481399,5370.641727538369,22005.441487395423,22542.957668818715,25633.047734699296,27735.28447778871,28467.085054387313,33901.12336353327,35668.33083989895,39117.93877014855,45348.58479523354,53403.769246082,79284.22953476998],\"xaxis\":\"x\",\"y\":[59.398243147498675,59.398243147498675,59.398243147498675,59.39825498613409,59.39826090227004,59.39827865650445,59.398296409995424,59.39832002828814,59.39833206202567,59.399326757880814,59.40030839212669,59.40055325196754,59.40066841465443,59.400838012662405,59.40183909618697,59.40239003044547,59.40245675691591,59.402707365136806,59.40289802433921,59.403172350487196,59.40412570848242,59.40507398533036,59.40550675002193,59.40550810741581,59.40597151337265,59.40727030314006,59.409313863068384,59.411498662340655,59.41176143139316,59.42800865711004,59.43975423474051,59.452436706209106,59.4801665206862,59.485141745777995,59.504930580442554,59.513446618647855,59.56261728377098,59.59289512719074,59.61525707756945,59.65723705630848,59.673700578906846,59.8852555615273,61.39370732556707,61.44244955533677,61.722660431224064,61.9132922854887,61.979652319070794,62.4724135660725,62.6326648028551,62.94547693421528,63.51047495783607,64.24092301672226,66.58777579164067],\"yaxis\":\"y\",\"type\":\"scattergl\"},{\"hovertemplate\":\"continent_sub_region=Latin America and the Caribbean<br>Tree Cover Loss (ha)=%{x}<br>Food Security Index=%{y}<extra></extra>\",\"legendgroup\":\"Latin America and the Caribbean\",\"marker\":{\"color\":\"#00cc96\",\"symbol\":\"circle\"},\"mode\":\"markers\",\"name\":\"Latin America and the Caribbean\",\"showlegend\":true,\"x\":[478177.9106441489,273544.01074463467,2918633.141023961,174809.51185030024,227707.04511266304,10367.071752753523,74205.96549568871,84044.4408750312,32305.495196559557,4272.74683475898,174753.0637534297,33723.437772384095,17044.26955052024,275458.1338934831,510219.7904901138,2535.746181414077,31387.530319124413,105963.34348635888,376776.5932908873,179822.51096087287,1945506.2526936333,102242.7718702078,138898.1159684329,7785.587051841822,48383.148229945094,55148.92227273921,43631.8432750308,3181.2113731036766,219047.82660333012,44038.05970401634,14041.086957320964,209306.87164921305,318563.8864007876,2053.4886329528376,19263.214394086343,64519.972558565365,241102.80766098603,256901.39817858388,2693134.2954895324,119335.12525514716,202027.8897357832,10934.447209003862,30904.970224875735,61831.29024407654,57481.62250849145,3858.86579151854,170749.77378089592,75563.10046903635,14035.498450036668,205452.2866580048,345746.4966335473,2319.726964005032,25643.07886865719,100975.10759386988,180233.1054998676,166275.253662096,2222772.4175309334,106106.68365240592,140855.70319021944,3299.6049326079856,30077.598651060027,54147.33930250972,50242.48684736946,3087.564795692968,197650.88075586344,35523.97516550108,10553.676857624716,166499.94089565368,279375.43627150654,2388.8341969571584,17547.921210597706,61435.843777920665,230189.42112731808,470600.8213763454,5378844.034540812,113904.39378438768,290956.30576804414,13791.39423996238,44042.95668030242,178396.80403784767,188442.86732845768,17267.08006364784,274182.5820595212,142443.74875645016,17316.703240049123,230961.62885485784,319823.3132474956,5743.541113567425,23688.348605526768,207335.82490176728,233919.6777671888,463194.4713748532,4519833.171433705,214837.4809277481,424870.2839479048,22095.55522014411,71107.75580191192,79731.60581807286,113473.7329235318,5498.831192215347,298787.538059464,211681.2540539006,30878.79187619112,303280.519697526,360058.4072555756,4745.634264791624,21859.347396050656,166982.30201222864,172958.0945770225,301855.8180608052,2948462.0802693786,76897.64000245367,352434.0102758261,12337.858868098652,38709.38273219657,71160.90213538363,76254.10503903561,4131.551804991395,267150.7210744853,71374.94319401974,27960.872489813577,211726.0288916184,258779.6618091868,2703.6464456855974,19527.970310041543,112107.31767694316,145444.27078467977,852089.8685028125,2696748.7992548263,78735.46830367435,268409.88136648946,11485.677126173472,35645.826871169054,90198.05534363468,81416.23140407905,4395.440810626464,327437.78332858585,77848.283482264,33993.58827529981,231257.3813194232,314372.6880680738,2249.0091127046735,14519.353917604785,140807.2201768503,197379.02491541795,429780.29848051094,3291391.786526117,70591.90966233145,324169.44048265886,8260.967071026846,48915.08232123945,98556.32770037152,93648.71909049922,3802.056739111456,299526.2895909649,111303.31279444844,27314.294959158877,278656.68030099786,243379.14794353695,2208.2752416278636,12682.121207215288,139301.8390054571,201881.84105082488,558393.1162655704,2991909.305950562,71610.47119418073,265167.7356581792,7847.994494054424,30273.220974761374,49896.23234698507,69497.94967541099,2413.744532876757,189079.41914535628,91850.90685556794,24390.43732371524,225203.94411172383,277165.38429032895,1488.7058388566172,16999.256774411635,64423.759789405995,232223.66291948024,595996.4068946196,3308930.3915435243,67883.10424786207,265769.2621903444,8563.14253083939,52577.07301558743,46396.105819108605,57342.82976013681,1844.3271602284988,178857.8794493737,48987.42681663329,17327.31252391123,236121.87208292476,217142.2122023575,1632.422167210458,15858.60148127584,55789.61580105468],\"xaxis\":\"x\",\"y\":[63.5,52.8,63.8,68.3,62.3,71.7,59.4,56.2,54.1,43.9,61.8,50.3,61.2,63.1,54.0,58.8,60.9,47.5,63.4,59.1,66.5,69.6,61.7,74.5,59.4,58.5,56.9,46.0,61.4,52.6,63.6,67.0,58.5,61.7,66.9,48.4,63.6,59.7,66.9,71.6,66.1,74.4,61.8,59.8,56.9,46.5,64.6,52.8,64.8,68.6,57.9,61.1,67.0,47.3,60.0,62.5,68.5,69.5,67.9,74.2,61.2,61.0,58.4,48.5,63.4,53.9,65.1,71.3,55.7,63.6,68.6,47.7,64.4,64.0,70.2,69.6,67.0,74.7,62.0,62.9,58.8,45.4,65.4,54.4,65.1,71.2,59.2,59.4,69.8,50.7,64.0,65.4,69.9,73.6,67.4,74.5,64.1,62.5,59.8,42.4,68.2,56.3,70.4,72.2,59.7,60.8,70.5,48.2,64.5,65.4,73.6,75.4,72.0,76.7,66.4,62.0,61.8,41.7,65.6,56.8,71.5,71.9,60.6,62.9,75.3,47.5,62.3,65.6,71.8,75.7,71.0,74.9,66.2,59.7,62.1,37.9,68.8,55.7,74.5,74.7,62.0,62.8,74.2,45.4,65.5,64.8,68.1,74.1,64.9,76.3,65.3,61.3,61.7,36.2,70.4,57.6,74.9,73.0,65.9,60.8,74.1,45.3,64.7,64.7,66.2,74.4,63.0,77.7,64.9,59.1,62.3,38.5,70.9,57.6,74.2,73.1,64.6,62.3,69.2,44.0,64.8,65.0,65.1,74.2,60.1,77.4,65.6,62.8,61.5,38.5,69.1,56.6,70.0,70.8,58.6,64.2,71.8,42.6],\"yaxis\":\"y\",\"type\":\"scattergl\"},{\"hovertemplate\":\"<b>OLS trendline</b><br>fsi = 1.91766e-06 * umd_tree_cover_loss__ha + 62.3136<br>R<sup>2</sup>=0.026766<br><br>continent_sub_region=Latin America and the Caribbean<br>Tree Cover Loss (ha)=%{x}<br>Food Security Index=%{y} <b>(trend)</b><extra></extra>\",\"legendgroup\":\"Latin America and the Caribbean\",\"marker\":{\"color\":\"#00cc96\",\"symbol\":\"circle\"},\"mode\":\"lines\",\"name\":\"Latin America and the Caribbean\",\"showlegend\":false,\"x\":[1488.7058388566172,1632.422167210458,1844.3271602284988,2053.4886329528376,2208.2752416278636,2249.0091127046735,2319.726964005032,2388.8341969571584,2413.744532876757,2535.746181414077,2703.6464456855974,3087.564795692968,3181.2113731036766,3299.6049326079856,3802.056739111456,3858.86579151854,4131.551804991395,4272.74683475898,4395.440810626464,4745.634264791624,5498.831192215347,5743.541113567425,7785.587051841822,7847.994494054424,8260.967071026846,8563.14253083939,10367.071752753523,10553.676857624716,10934.447209003862,11485.677126173472,12337.858868098652,12682.121207215288,13791.39423996238,14035.498450036668,14041.086957320964,14519.353917604785,15858.60148127584,16999.256774411635,17044.26955052024,17267.08006364784,17316.703240049123,17327.31252391123,17547.921210597706,19263.214394086343,19527.970310041543,21859.347396050656,22095.55522014411,23688.348605526768,24390.43732371524,25643.07886865719,27314.294959158877,27960.872489813577,30077.598651060027,30273.220974761374,30878.79187619112,30904.970224875735,31387.530319124413,32305.495196559557,33723.437772384095,33993.58827529981,35523.97516550108,35645.826871169054,38709.38273219657,43631.8432750308,44038.05970401634,44042.95668030242,46396.105819108605,48383.148229945094,48915.08232123945,48987.42681663329,49896.23234698507,50242.48684736946,52577.07301558743,54147.33930250972,55148.92227273921,55789.61580105468,57342.82976013681,57481.62250849145,61435.843777920665,61831.29024407654,64423.759789405995,64519.972558565365,67883.10424786207,69497.94967541099,70591.90966233145,71107.75580191192,71160.90213538363,71374.94319401974,71610.47119418073,74205.96549568871,75563.10046903635,76254.10503903561,76897.64000245367,77848.283482264,78735.46830367435,79731.60581807286,81416.23140407905,84044.4408750312,90198.05534363468,91850.90685556794,93648.71909049922,98556.32770037152,100975.10759386988,102242.7718702078,105963.34348635888,106106.68365240592,111303.31279444844,112107.31767694316,113473.7329235318,113904.39378438768,119335.12525514716,138898.1159684329,139301.8390054571,140807.2201768503,140855.70319021944,142443.74875645016,145444.27078467977,166275.253662096,166499.94089565368,166982.30201222864,170749.77378089592,172958.0945770225,174753.0637534297,174809.51185030024,178396.80403784767,178857.8794493737,179822.51096087287,180233.1054998676,188442.86732845768,189079.41914535628,197379.02491541795,197650.88075586344,201881.84105082488,202027.8897357832,205452.2866580048,207335.82490176728,209306.87164921305,211681.2540539006,211726.0288916184,214837.4809277481,217142.2122023575,219047.82660333012,225203.94411172383,227707.04511266304,230189.42112731808,230961.62885485784,231257.3813194232,232223.66291948024,233919.6777671888,236121.87208292476,241102.80766098603,243379.14794353695,256901.39817858388,258779.6618091868,265167.7356581792,265769.2621903444,267150.7210744853,268409.88136648946,273544.01074463467,274182.5820595212,275458.1338934831,277165.38429032895,278656.68030099786,279375.43627150654,290956.30576804414,298787.538059464,299526.2895909649,301855.8180608052,303280.519697526,314372.6880680738,318563.8864007876,319823.3132474956,324169.44048265886,327437.78332858585,345746.4966335473,352434.0102758261,360058.4072555756,376776.5932908873,424870.2839479048,429780.29848051094,463194.4713748532,470600.8213763454,478177.9106441489,510219.7904901138,558393.1162655704,595996.4068946196,852089.8685028125,1945506.2526936333,2222772.4175309334,2693134.2954895324,2696748.7992548263,2918633.141023961,2948462.0802693786,2991909.305950562,3291391.786526117,3308930.3915435243,4519833.171433705,5378844.034540812],\"xaxis\":\"x\",\"y\":[62.31640698833581,62.31668258772153,62.31708894993921,62.31749005101145,62.31778687945646,62.31786499326563,62.31800060622347,62.31813313055921,62.31818090017145,62.31841485813419,62.31873683414225,62.31947305989086,62.3196526424025,62.31987968126891,62.32084321415911,62.32095215473758,62.32147507442715,62.32174583881361,62.32198112442638,62.32265267721344,62.324097054570586,62.32456632556281,62.32848228008694,62.32860195648652,62.32939389843103,62.329973368920285,62.33343269599288,62.33379054156871,62.33452073051902,62.33557780335343,62.337212000158274,62.33787217906957,62.33999939015217,62.34046749959471,62.340478216464476,62.341395370986696,62.34396359555872,62.34615098721917,62.34623730652322,62.34666458184576,62.34675974234067,62.346780087364436,62.3472031403274,62.35049249341011,62.351000205850575,62.355470999810834,62.355923966651616,62.35897840648893,62.360324775559675,62.36272691903406,62.36593174713696,62.36717166449578,62.37123083046855,62.37160596802504,62.372767248516666,62.372817449749185,62.37374283705259,62.37550318369681,62.37822231872736,62.378740376163904,62.38167514141772,62.381908811840674,62.38778367743946,62.39722329447807,62.39800228041224,62.39801167115908,62.40252421656433,62.40633469289716,62.40735476285362,62.407493495165525,62.40923627727509,62.40990027647896,62.41437722437521,62.417388464844926,62.41930916275385,62.42053779658317,62.423516336446546,62.42378249406849,62.43136535514874,62.43212368793116,62.43709516905919,62.43727967266002,62.44372902353264,62.44682575174,62.44892359757182,62.44991281626969,62.45001473299012,62.450425191460326,62.450876854628376,62.45585413621731,62.45845666280064,62.4597817762182,62.461015858960515,62.462838872128735,62.46454019301972,62.466450448383256,62.46968099137023,62.47472100960647,62.48652156412212,62.48969117516492,62.493138771922155,62.50254990796874,62.50718831099841,62.50961926299854,62.51675406294575,62.5170289409792,62.52699432080616,62.528536130663625,62.531156453677134,62.53198231577692,62.54239662481554,62.57991183471033,62.58068603916073,62.58357285189014,62.58366582593739,62.586711161060876,62.59246514905447,62.63241193972745,62.63284281396601,62.633767819697425,62.640992558299295,62.64522737185086,62.64866951658192,62.648777764969566,62.65565697998031,62.65654116691748,62.658391004406816,62.659178386077535,62.6749219368822,62.67614262830765,62.69205846945235,62.692579797150394,62.70069335022867,62.70097342228674,62.70754025918724,62.7111522494803,62.71493205153238,62.719485315171255,62.719571178189824,62.725537892478236,62.72995758877035,62.73361191367796,62.74541726817867,62.750217370617726,62.75497772953178,62.756458563183735,62.75702571653711,62.758878718339076,62.76213110208392,62.76635416711497,62.775905919524504,62.780271171481296,62.80620228105715,62.809804156423375,62.82205432485522,62.823207849612366,62.82585702124257,62.828271665472485,62.838117191858046,62.83934175599866,62.841787833670736,62.84506176340466,62.84792156555227,62.84929989678454,62.87150809369544,62.88652575267475,62.887942428640635,62.892409677579344,62.8951417742062,62.91641280738862,62.92445011045065,62.92686526584247,62.93519967022094,62.941467248101546,62.9765771774884,62.98940157032492,63.00402258902337,63.03608242421763,63.12830988197479,63.13772563176872,63.20180273163366,63.216005609860844,63.23053590834328,63.29198141355577,63.38436158457784,63.45647199762044,63.94757277590741,66.04437616126432,66.5760790344621,67.47807427827428,67.48500567590197,67.91050491453238,67.9677067469685,68.05102385398267,68.62533011846273,68.65896324021456,70.98106585813979,72.62835861126082],\"yaxis\":\"y\",\"type\":\"scattergl\"},{\"hovertemplate\":\"continent_sub_region=Australia and New Zealand<br>Tree Cover Loss (ha)=%{x}<br>Food Security Index=%{y}<extra></extra>\",\"legendgroup\":\"Australia and New Zealand\",\"marker\":{\"color\":\"#ab63fa\",\"symbol\":\"circle\"},\"mode\":\"markers\",\"name\":\"Australia and New Zealand\",\"showlegend\":true,\"x\":[139802.7577370091,69498.51588104213,260094.1395706371,77541.50731463541,281737.5240963331,79409.68409171843,261575.00418152497,64003.26987589908,430902.9031266533,80358.60654094756,236876.4575849116,74883.5155006926,250750.69872333956,79228.4005683605,1661547.6033871556,71430.70373761501,2356516.287662322,60924.51433122912,261043.55347213044,66242.98621384938,118987.43487408588,58514.80512753168],\"xaxis\":\"x\",\"y\":[70.8,72.6,73.8,74.2,76.1,76.2,74.8,75.7,75.6,77.2,76.1,78.0,77.1,77.0,75.7,77.6,73.8,77.9,70.7,77.4,75.4,77.8],\"yaxis\":\"y\",\"type\":\"scattergl\"},{\"hovertemplate\":\"<b>OLS trendline</b><br>fsi = -7.21307e-07 * umd_tree_cover_loss__ha + 75.7536<br>R<sup>2</sup>=0.036587<br><br>continent_sub_region=Australia and New Zealand<br>Tree Cover Loss (ha)=%{x}<br>Food Security Index=%{y} <b>(trend)</b><extra></extra>\",\"legendgroup\":\"Australia and New Zealand\",\"marker\":{\"color\":\"#ab63fa\",\"symbol\":\"circle\"},\"mode\":\"lines\",\"name\":\"Australia and New Zealand\",\"showlegend\":false,\"x\":[58514.80512753168,60924.51433122912,64003.26987589908,66242.98621384938,69498.51588104213,71430.70373761501,74883.5155006926,77541.50731463541,79228.4005683605,79409.68409171843,80358.60654094756,118987.43487408588,139802.7577370091,236876.4575849116,250750.69872333956,260094.1395706371,261043.55347213044,261575.00418152497,281737.5240963331,430902.9031266533,1661547.6033871556,2356516.287662322],\"xaxis\":\"x\",\"y\":[75.71139973503048,75.70966159471944,75.70744086654533,75.705825343292,75.70347710669164,75.70208340590946,75.69959286833644,75.6976756400206,75.69645887197231,75.6963281108833,75.69564364640165,75.66778039900592,75.65276615923791,75.58274621218817,75.57273862381572,75.5659991337745,75.56531431480484,75.56493097564511,75.55038760726588,75.44279356317647,74.5551208270565,74.05383499422622],\"yaxis\":\"y\",\"type\":\"scattergl\"},{\"hovertemplate\":\"continent_sub_region=Western Europe<br>Tree Cover Loss (ha)=%{x}<br>Food Security Index=%{y}<extra></extra>\",\"legendgroup\":\"Western Europe\",\"marker\":{\"color\":\"#FFA15A\",\"symbol\":\"circle\"},\"mode\":\"markers\",\"name\":\"Western Europe\",\"showlegend\":true,\"x\":[11158.429233729768,5635.167607287301,1518.0646772473156,26007.35395144319,67302.61843209922,946.7570022475476,7645.341812653412,3314.9495059606284,793.6246757030883,15499.368519916106,30351.836932722596,514.1770203585546,9869.568611267568,4239.266548530063,1503.5526584378129,21169.343208059134,44359.06365581656,875.2614925399978,7937.704883540017,3420.2739244388213,772.5663227746635,12929.492897561811,37292.530327609515,894.1996832066883,17210.293187755593,4512.342534065936,1678.990098717602,26877.05920368375,60768.46950601913,1406.6382512159182,18405.689726019773,4137.322685933485,2542.414850989004,33000.27868155027,69249.04325346301,1333.2029155227303,26310.09294368676,4630.608123143865,3134.386774605056,52237.2254555559,69201.43579091608,1271.22854119887,33642.43079561187,5577.118212720532,3518.709265741343,108232.51080714707,81304.16863515151,2481.3282374998207,25936.51506640435,5408.631203496722,3927.891163453767,186939.6371939696,77745.73713942208,1921.856834326272,16651.641552676934,9142.899488178287,3455.912140181973,202277.81779273736,112886.03476979009,2456.673268245564,19865.062230405576,4833.58905360579,1974.953453649401,86449.97609982068,58785.38077697959,1186.2075673129605],\"xaxis\":\"x\",\"y\":[74.4,73.6,73.2,73.4,76.8,73.4,74.0,73.9,72.8,74.8,76.3,76.7,76.0,74.6,74.3,76.2,77.2,76.2,77.6,76.2,73.4,77.0,77.5,76.0,77.4,75.5,74.2,78.5,76.9,76.2,78.0,77.0,74.8,79.1,78.6,76.6,77.5,77.2,78.5,78.2,78.4,80.7,78.2,75.8,77.8,78.5,77.9,80.9,78.9,76.5,78.4,78.3,78.0,79.5,77.7,74.5,78.0,77.3,78.3,79.9,78.1,77.5,78.2,77.0,80.2,80.1],\"yaxis\":\"y\",\"type\":\"scattergl\"},{\"hovertemplate\":\"<b>OLS trendline</b><br>fsi = 1.30396e-05 * umd_tree_cover_loss__ha + 76.5335<br>R<sup>2</sup>=0.073313<br><br>continent_sub_region=Western Europe<br>Tree Cover Loss (ha)=%{x}<br>Food Security Index=%{y} <b>(trend)</b><extra></extra>\",\"legendgroup\":\"Western Europe\",\"marker\":{\"color\":\"#FFA15A\",\"symbol\":\"circle\"},\"mode\":\"lines\",\"name\":\"Western Europe\",\"showlegend\":false,\"x\":[514.1770203585546,772.5663227746635,793.6246757030883,875.2614925399978,894.1996832066883,946.7570022475476,1186.2075673129605,1271.22854119887,1333.2029155227303,1406.6382512159182,1503.5526584378129,1518.0646772473156,1678.990098717602,1921.856834326272,1974.953453649401,2456.673268245564,2481.3282374998207,2542.414850989004,3134.386774605056,3314.9495059606284,3420.2739244388213,3455.912140181973,3518.709265741343,3927.891163453767,4137.322685933485,4239.266548530063,4512.342534065936,4630.608123143865,4833.58905360579,5408.631203496722,5577.118212720532,5635.167607287301,7645.341812653412,7937.704883540017,9142.899488178287,9869.568611267568,11158.429233729768,12929.492897561811,15499.368519916106,16651.641552676934,17210.293187755593,18405.689726019773,19865.062230405576,21169.343208059134,25936.51506640435,26007.35395144319,26310.09294368676,26877.05920368375,30351.836932722596,33000.27868155027,33642.43079561187,37292.530327609515,44359.06365581656,52237.2254555559,58785.38077697959,60768.46950601913,67302.61843209922,69201.43579091608,69249.04325346301,77745.73713942208,81304.16863515151,86449.97609982068,108232.51080714707,112886.03476979009,186939.6371939696,202277.81779273736],\"xaxis\":\"x\",\"y\":[76.54024880072464,76.54361809353477,76.54389268600609,76.54495719733625,76.54520414374251,76.5458894700912,76.54901180936652,76.5501204487465,76.55092856971694,76.55188613702428,76.55314986200206,76.55333909290356,76.55543749581906,76.55860438058734,76.55929673919529,76.56557817226019,76.56589966316507,76.56669620809049,76.57441528441211,76.57676974996794,76.5781431381175,76.57860784614893,76.5794266954653,76.58476226320401,76.58749316621086,76.58882247326837,76.59238327453251,76.59392541035331,76.5965722002289,76.60407051909517,76.60626752208047,76.60702446289001,76.63323632783148,76.63704862494856,76.65276387894029,76.66223935268815,76.67904557797655,76.70213953741309,76.73564968422012,76.75067486215235,76.7579594552831,76.77354694642135,76.79257657822248,76.8095838787543,76.87174588668879,76.87266959732158,76.87661719228923,76.88401020479219,76.92931991192704,76.96385452949416,76.97222793536153,77.01982376844914,77.11196852720131,77.21469659551028,77.30008191308261,77.32594059428236,77.41114327408026,77.43590309043098,77.4365238726374,77.54731735112955,77.59371786981123,77.66081713410316,77.94485264520812,78.00553273019032,78.97116198758988,79.17116570728214],\"yaxis\":\"y\",\"type\":\"scattergl\"},{\"hovertemplate\":\"continent_sub_region=Southern Asia<br>Tree Cover Loss (ha)=%{x}<br>Food Security Index=%{y}<extra></extra>\",\"legendgroup\":\"Southern Asia\",\"marker\":{\"color\":\"#19d3f3\",\"symbol\":\"circle\"},\"mode\":\"markers\",\"name\":\"Southern Asia\",\"showlegend\":true,\"x\":[5359.457805823136,95068.55768095674,14427.63468578113,5045.045215032829,238.83694023714187,6021.926531623392,80865.7358998361,7952.996077814989,835.4692511480027,60.010499551154496,12060.763150253853,139137.7521737692,12350.44427858598,1161.8113421425812,38.61457548311198,12603.761754377743,116308.1170230435,7402.862736102643,579.3662047962544,2.416088260494791,21196.22801576379,175362.34456264263,17490.12522395625,998.5134169189314,28376.5472330222,189420.9659002936,13066.098394564797,2394.083932419387,190.24674115926,19342.872848941304,132232.99302253957,13160.938077798131,1672.1166105124612,75.56168923288516,22078.75978651096,121154.43715050587,10306.91387645887,2087.02899610764,81.24308458574656,21475.16881457316,137715.5413806828,11216.449417225818,2232.811563511528,69.20160856297746,17587.280231247005,132747.58574099743,13295.782357459337,2752.51013305627,63.182731482822255,13798.248282807883,122628.75560780943,8411.632278952084,2022.4874957057827,48.63138713367729],\"xaxis\":\"x\",\"y\":[47.1,53.8,52.9,45.8,43.5,51.9,54.0,55.5,47.9,45.3,53.0,53.4,54.2,50.3,45.9,52.9,56.3,55.2,51.5,48.6,54.2,59.3,58.4,52.4,57.1,60.8,60.1,54.1,52.1,56.5,61.8,57.4,56.8,53.4,54.8,61.1,59.7,56.5,54.1,54.2,60.1,57.3,56.0,51.4,53.6,58.4,55.5,55.1,50.0,54.0,58.9,55.2,56.9,52.2],\"yaxis\":\"y\",\"type\":\"scattergl\"},{\"hovertemplate\":\"<b>OLS trendline</b><br>fsi = 4.30448e-05 * umd_tree_cover_loss__ha + 52.8153<br>R<sup>2</sup>=0.291703<br><br>continent_sub_region=Southern Asia<br>Tree Cover Loss (ha)=%{x}<br>Food Security Index=%{y} <b>(trend)</b><extra></extra>\",\"legendgroup\":\"Southern Asia\",\"marker\":{\"color\":\"#19d3f3\",\"symbol\":\"circle\"},\"mode\":\"lines\",\"name\":\"Southern Asia\",\"showlegend\":false,\"x\":[2.416088260494791,38.61457548311198,48.63138713367729,60.010499551154496,63.182731482822255,69.20160856297746,75.56168923288516,81.24308458574656,190.24674115926,238.83694023714187,579.3662047962544,835.4692511480027,998.5134169189314,1161.8113421425812,1672.1166105124612,2022.4874957057827,2087.02899610764,2232.811563511528,2394.083932419387,2752.51013305627,5045.045215032829,5359.457805823136,6021.926531623392,7402.862736102643,7952.996077814989,8411.632278952084,10306.91387645887,11216.449417225818,12060.763150253853,12350.44427858598,12603.761754377743,13066.098394564797,13160.938077798131,13295.782357459337,13798.248282807883,14427.63468578113,17490.12522395625,17587.280231247005,19342.872848941304,21196.22801576379,21475.16881457316,22078.75978651096,28376.5472330222,80865.7358998361,95068.55768095674,116308.1170230435,121154.43715050587,122628.75560780943,132232.99302253957,132747.58574099743,137715.5413806828,139137.7521737692,175362.34456264263,189420.9659002936],\"xaxis\":\"x\",\"y\":[52.81541350191918,52.81697165815557,52.817402829697244,52.817892641187676,52.818029189241116,52.81828827053368,52.818562038862694,52.81880659332559,52.82349863269826,52.825590187554,52.8402481978179,52.85127209935218,52.858290301028426,52.86531942572672,52.887285408213344,52.90236704895863,52.90514522421051,52.91142040403116,52.91836233908569,52.93379071918274,53.032472407540645,53.04600623109872,53.07452205746938,53.1339641646999,53.15764453819078,53.17738643659228,53.258968432621934,53.2981191978556,53.33446250415176,53.34693176713228,53.35783576437019,53.377736947388975,53.38181930152103,53.387623645056266,53.40925218467842,53.436343989450876,53.568168247785316,53.57235026455236,53.6479193779521,53.72769665962894,53.73970360739381,53.765685053286035,54.03677198365709,56.29615802267558,56.9075154862216,57.82176783172901,58.030376657940984,58.09383838451945,58.5072507553603,58.52940129023034,58.74324589137322,58.80446465455202,60.363744582311746,60.968894968227666],\"yaxis\":\"y\",\"type\":\"scattergl\"},{\"hovertemplate\":\"continent_sub_region=Eastern Europe<br>Tree Cover Loss (ha)=%{x}<br>Food Security Index=%{y}<extra></extra>\",\"legendgroup\":\"Eastern Europe\",\"marker\":{\"color\":\"#FF6692\",\"symbol\":\"circle\"},\"mode\":\"markers\",\"name\":\"Eastern Europe\",\"showlegend\":true,\"x\":[9977.505725370367,39591.09204589144,14006.252809278652,11921.858273256898,54896.16800436906,30649.652474193288,5391244.136038502,9169.581603317996,55521.11186363816,3692.763140061784,28084.697365520875,7658.876842158663,8951.92866828118,35014.59256410198,12946.155842228776,4965537.343060015,5076.417439793476,37711.82201670088,6688.564139720333,33626.20474902458,13939.610159580936,15139.947880058842,56279.47319571337,19481.707053253846,4489888.985174263,17366.378528836583,47187.25528640407,7293.179858870197,33899.29607935086,8046.992556702243,10720.01287279902,42742.666729365905,10906.349848186504,2332111.35796511,5282.688760733925,48913.80599971024,7394.538858111801,90486.83568614336,22808.49165202696,14020.675000517727,86510.33713259728,23045.154078596053,5051685.722775864,16942.84432520365,106760.51083838788,7687.856635044794,78767.08865605737,26511.922830659445,14108.816914520898,96251.75379675842,19187.033120951717,5288940.641140038,14213.008150308406,85860.91491729961,9753.980071150569,87446.57021168509,39206.389179753955,13798.781036617464,96845.84624405165,18974.177551254645,5560430.925395683,17698.550916022617,74423.43169641624,4125.248047772258,75048.52508074063,73295.19926394413,14397.954788962696,76720.94128777205,12265.85886491166,3686557.0413906686,10330.871943857928,45143.77581563438,4795.0999525939,68932.1249936564,100258.23550055572,12013.566203978791,74958.89001430915,27445.57389021103,5442086.35024786,11947.178874957026,79461.17693313921,6683.899225262673,63478.97779745741,56292.53564444026,13752.899198139728,77568.08842322195,14699.441095117332,6518851.583361313,6097.650247552321,66593.03264978789,4093.21249176922,64994.775353023346,34756.36289018975,14805.458161895767,72193.1183891896,16515.81412281516,4287816.829438801,5206.699885010092,47989.67622002896],\"xaxis\":\"x\",\"y\":[63.5,60.2,72.3,66.1,68.5,63.0,63.0,64.2,55.8,64.5,60.5,71.3,66.1,71.3,64.5,64.6,66.0,54.3,65.1,63.9,73.5,68.5,72.3,66.6,63.7,68.7,56.8,67.3,61.1,74.5,71.4,71.5,67.7,63.8,73.6,53.1,68.1,65.6,78.9,72.6,72.9,68.7,61.1,74.2,49.5,68.3,65.1,79.4,72.7,73.2,70.9,67.8,74.7,54.5,66.4,69.7,77.4,71.1,73.0,69.2,70.9,69.9,52.4,68.2,71.6,79.0,71.0,75.5,70.5,70.9,70.3,55.5,68.7,69.4,77.8,71.1,75.0,71.7,71.2,69.8,57.8,72.2,69.1,76.6,68.5,75.0,69.3,71.7,71.0,60.6,73.0,64.5,77.7,71.4,75.5,68.8,69.1,71.1,57.9],\"yaxis\":\"y\",\"type\":\"scattergl\"},{\"hovertemplate\":\"<b>OLS trendline</b><br>fsi = -1.99002e-07 * umd_tree_cover_loss__ha + 68.2845<br>R<sup>2</sup>=0.002440<br><br>continent_sub_region=Eastern Europe<br>Tree Cover Loss (ha)=%{x}<br>Food Security Index=%{y} <b>(trend)</b><extra></extra>\",\"legendgroup\":\"Eastern Europe\",\"marker\":{\"color\":\"#FF6692\",\"symbol\":\"circle\"},\"mode\":\"lines\",\"name\":\"Eastern Europe\",\"showlegend\":false,\"x\":[3692.763140061784,4093.21249176922,4125.248047772258,4795.0999525939,5076.417439793476,5206.699885010092,5282.688760733925,6097.650247552321,6683.899225262673,6688.564139720333,7293.179858870197,7394.538858111801,7658.876842158663,7687.856635044794,8046.992556702243,8951.92866828118,9169.581603317996,9753.980071150569,9977.505725370367,10330.871943857928,10720.01287279902,10906.349848186504,11921.858273256898,11947.178874957026,12013.566203978791,12265.85886491166,12946.155842228776,13752.899198139728,13798.781036617464,13939.610159580936,14006.252809278652,14020.675000517727,14108.816914520898,14213.008150308406,14397.954788962696,14699.441095117332,14805.458161895767,15139.947880058842,16515.81412281516,16942.84432520365,17366.378528836583,17698.550916022617,18974.177551254645,19187.033120951717,19481.707053253846,22808.49165202696,23045.154078596053,26511.922830659445,27445.57389021103,28084.697365520875,30649.652474193288,33626.20474902458,33899.29607935086,34756.36289018975,35014.59256410198,37711.82201670088,39206.389179753955,39591.09204589144,42742.666729365905,45143.77581563438,47187.25528640407,47989.67622002896,48913.80599971024,54896.16800436906,55521.11186363816,56279.47319571337,56292.53564444026,63478.97779745741,64994.775353023346,66593.03264978789,68932.1249936564,72193.1183891896,73295.19926394413,74423.43169641624,74958.89001430915,75048.52508074063,76720.94128777205,77568.08842322195,78767.08865605737,79461.17693313921,85860.91491729961,86510.33713259728,87446.57021168509,90486.83568614336,96251.75379675842,96845.84624405165,100258.23550055572,106760.51083838788,2332111.35796511,3686557.0413906686,4287816.829438801,4489888.985174263,4965537.343060015,5051685.722775864,5288940.641140038,5391244.136038502,5442086.35024786,5560430.925395683,6518851.583361313],\"xaxis\":\"x\",\"y\":[68.2837163489859,68.28363665861478,68.28363028346313,68.28349698134473,68.2834409984973,68.28341507198158,68.28339995001502,68.28323777074552,68.28312110580796,68.28312017747892,68.28299985751626,68.28297968683492,68.2829270829489,68.28292131590136,68.28284984700085,68.28266976256752,68.28262644911703,68.28251015243535,68.2824656702998,68.28239534958391,68.28231790961574,68.28228082811552,68.28207873952947,68.28207370066966,68.28206048943366,68.28201028259552,68.28187490188292,68.28171435804096,68.28170522744624,68.28167720211663,68.28166394007121,68.28166107002095,68.28164352957093,68.2816227952678,68.28158599044788,68.28152599395763,68.2815048963098,68.28143833206225,68.28116453141546,68.28107955139198,68.28099526708056,68.28092916398737,68.28067531126031,68.28063295249692,68.28057431168521,68.2799122736567,68.27986517727228,68.27917528206513,68.27898948328904,68.27886229620101,68.2783518640486,68.27775952308353,68.27770517726084,68.27753461893195,68.27748323061414,68.27694647555344,68.27664905314188,68.27657249635874,68.27594532551909,68.27546749911387,68.27506084185069,68.27490115818102,68.27471725416221,68.2735267499291,68.27340238461832,68.2732514689139,68.27324886945561,68.2718187504161,68.27151710310606,68.27119904611186,68.27073356118554,68.27008461576257,68.26986529905362,68.26964077812264,68.2695342206469,68.26951638305601,68.26918356826272,68.26901498397277,68.26877638008159,68.26863825486761,68.2673646918243,68.2672354552626,68.26704914265848,68.26644412261551,68.26529689023324,68.26517866442666,68.26449959086813,68.26320562264814,67.820355524046,67.55081761939121,67.43116549497837,67.39095265653641,67.29629750476039,67.27915377279524,67.23193948111306,67.2115808428958,67.20146312163632,67.17791227038924,66.98718428543782],\"yaxis\":\"y\",\"type\":\"scattergl\"},{\"hovertemplate\":\"continent_sub_region=Northern America<br>Tree Cover Loss (ha)=%{x}<br>Food Security Index=%{y}<extra></extra>\",\"legendgroup\":\"Northern America\",\"marker\":{\"color\":\"#B6E880\",\"symbol\":\"circle\"},\"mode\":\"markers\",\"name\":\"Northern America\",\"showlegend\":true,\"x\":[2545494.223989908,1964094.349265569,2807337.591589396,1736445.498079965,2643608.5411798847,1736526.8071503565,2733439.469266111,2289649.127923138,2084425.6748787367,2264066.7497078814,2559736.0398636474,2311358.0304301097,2142937.380732713,2092359.4724431727,2175715.827192218,2109918.2826289074,1195271.7557688633,1966716.3749185023,2524986.4914715015,2044298.91834886,2299843.8454220886,2204642.5210100487],\"xaxis\":\"x\",\"y\":[72.1,76.7,72.8,77.3,72.5,78.1,71.1,76.5,72.6,78.9,74.0,79.3,76.1,78.9,77.8,78.7,77.6,79.1,79.5,78.7,79.1,78.0],\"yaxis\":\"y\",\"type\":\"scattergl\"},{\"hovertemplate\":\"<b>OLS trendline</b><br>fsi = -3.80652e-06 * umd_tree_cover_loss__ha + 84.9891<br>R<sup>2</sup>=0.258827<br><br>continent_sub_region=Northern America<br>Tree Cover Loss (ha)=%{x}<br>Food Security Index=%{y} <b>(trend)</b><extra></extra>\",\"legendgroup\":\"Northern America\",\"marker\":{\"color\":\"#B6E880\",\"symbol\":\"circle\"},\"mode\":\"lines\",\"name\":\"Northern America\",\"showlegend\":false,\"x\":[1195271.7557688633,1736445.498079965,1736526.8071503565,1964094.349265569,1966716.3749185023,2044298.91834886,2084425.6748787367,2092359.4724431727,2109918.2826289074,2142937.380732713,2175715.827192218,2204642.5210100487,2264066.7497078814,2289649.127923138,2299843.8454220886,2311358.0304301097,2524986.4914715015,2545494.223989908,2559736.0398636474,2643608.5411798847,2733439.469266111,2807337.591589396],\"xaxis\":\"x\",\"y\":[80.43929571876618,78.3793076625705,78.37899815806064,77.51275801726375,77.50277722716663,77.20745781245648,77.05471455696811,77.02451440691424,76.95767646479763,76.83198864515265,76.7072168705302,76.59710686497914,76.37090741774912,76.27352761261028,76.2347212281866,76.19089226580557,75.37771149999571,75.29964842940555,75.24543668869332,74.92617443066717,74.58423130877006,74.3029367124891],\"yaxis\":\"y\",\"type\":\"scattergl\"},{\"hovertemplate\":\"continent_sub_region=Eastern Asia<br>Tree Cover Loss (ha)=%{x}<br>Food Security Index=%{y}<extra></extra>\",\"legendgroup\":\"Eastern Asia\",\"marker\":{\"color\":\"#FF97FF\",\"symbol\":\"circle\"},\"mode\":\"markers\",\"name\":\"Eastern Asia\",\"showlegend\":true,\"x\":[605004.418745607,45672.06361016815,16681.678608891227,441325.87171365577,23234.078476401573,5030.982104183115,531643.2997455434,28175.666668859656,10943.074919608416,490444.5825312704,31145.402758702807,10852.5841685002,718689.1051536285,54993.73162252561,11509.253959102532,644239.3395882472,47612.45979526472,8522.738368440605,569452.9735806625,50506.949507055906,7691.718377830073,496972.43539861456,51380.583208418546,27492.24071780823,422214.35280897614,48057.78631595111,14775.532248048512,536655.745896402,48455.78434750044,13742.553457701331,611895.7548458257,53789.93785532151,9046.927880453197],\"xaxis\":\"x\",\"y\":[60.5,75.4,63.1,66.0,77.6,65.1,67.9,77.3,66.4,69.8,77.2,66.4,70.7,77.8,68.0,70.4,78.5,68.1,71.6,79.8,68.4,73.4,79.7,69.2,70.3,80.1,70.1,70.6,79.5,68.9,74.2,79.5,70.2],\"yaxis\":\"y\",\"type\":\"scattergl\"},{\"hovertemplate\":\"<b>OLS trendline</b><br>fsi = -5.25529e-06 * umd_tree_cover_loss__ha + 72.9347<br>R<sup>2</sup>=0.061890<br><br>continent_sub_region=Eastern Asia<br>Tree Cover Loss (ha)=%{x}<br>Food Security Index=%{y} <b>(trend)</b><extra></extra>\",\"legendgroup\":\"Eastern Asia\",\"marker\":{\"color\":\"#FF97FF\",\"symbol\":\"circle\"},\"mode\":\"lines\",\"name\":\"Eastern Asia\",\"showlegend\":false,\"x\":[5030.982104183115,7691.718377830073,8522.738368440605,9046.927880453197,10852.5841685002,10943.074919608416,11509.253959102532,13742.553457701331,14775.532248048512,16681.678608891227,23234.078476401573,27492.24071780823,28175.666668859656,31145.402758702807,45672.06361016815,47612.45979526472,48057.78631595111,48455.78434750044,50506.949507055906,51380.583208418546,53789.93785532151,54993.73162252561,422214.35280897614,441325.87171365577,490444.5825312704,496972.43539861456,531643.2997455434,536655.745896402,569452.9735806625,605004.418745607,611895.7548458257,644239.3395882472,718689.1051536285],\"xaxis\":\"x\",\"y\":[72.90830534831724,72.89432241871508,72.88995517114462,72.88720040543663,72.87771116555535,72.87723561079446,72.87426017811822,72.86252355093771,72.85709495215136,72.84707760821574,72.8126428741235,72.79026501448898,72.78667341578132,72.77106660382759,72.69472484908385,72.6845275125326,72.68218719438443,72.68009560097396,72.66931614180224,72.66472494700206,72.65206309969763,72.64573681938603,70.71588749708772,70.61545100284313,70.357318138525,70.32301240593459,70.1408071042627,70.1144652670967,69.94210646160468,69.75527345604898,69.71905751518007,69.54908273300636,69.15782793593802],\"yaxis\":\"y\",\"type\":\"scattergl\"},{\"hovertemplate\":\"continent_sub_region=Northern Europe<br>Tree Cover Loss (ha)=%{x}<br>Food Security Index=%{y}<extra></extra>\",\"legendgroup\":\"Northern Europe\",\"marker\":{\"color\":\"#FECB52\",\"symbol\":\"circle\"},\"mode\":\"markers\",\"name\":\"Northern Europe\",\"showlegend\":true,\"x\":[4451.952352689336,160310.48672554636,35668.66624656016,5825.90258767864,29947.088158776944,234882.58053880456,2015.366626496424,148660.8607567591,28596.145209641003,4772.826758496737,33069.38260280393,197658.34397389487,5320.770494625853,186628.8680418758,30371.65766742287,5717.749943504219,39149.00058712956,242522.77704507113,2583.2304257546375,172639.43121398432,23996.896016895927,4484.169137730237,36638.88559082291,216031.23983819727,4656.340520046438,240428.38527361033,28808.246988817195,9388.156921343025,60081.68602966732,310348.32569526235,4360.353965592222,336198.66820488486,23041.72584935992,6128.753455844697,57916.603684443675,331217.2251394383,3161.62525342265,269954.7991734523,26251.46690184897,8380.343070775258,59219.62514172436,290151.4135010396,9180.33362716724,289910.39897583047,28376.643735602785,10370.413528595189,64784.05595490627,332890.8871695677,3193.5934822034146,254472.5924187548,22842.457302684285,6206.876041186951,68362.91362995247,339968.2296241121,4795.048927643729,266899.12619095406,26215.795338670083,8779.724237015678,63937.43260355628,333156.95654143306,3366.075160139065,255377.9727320257,34168.6236942954,6759.387953394061,67306.35124392471,329902.47278951685],\"xaxis\":\"x\",\"y\":[73.4,78.4,71.6,76.9,80.9,75.7,74.2,78.2,74.9,78.0,81.5,75.8,77.4,78.3,73.9,78.2,81.9,75.2,78.2,80.7,76.5,78.5,82.0,77.5,77.7,83.0,77.0,80.7,81.2,78.7,78.7,84.0,77.7,81.6,81.6,80.4,77.7,83.8,76.9,82.4,82.3,80.9,76.6,83.6,78.4,82.7,81.7,80.4,76.1,84.3,78.8,82.4,80.9,79.3,77.3,82.7,79.3,81.6,78.4,77.7,77.8,83.7,78.8,81.7,80.5,79.1],\"yaxis\":\"y\",\"type\":\"scattergl\"},{\"hovertemplate\":\"<b>OLS trendline</b><br>fsi = 6.73445e-06 * umd_tree_cover_loss__ha + 78.5216<br>R<sup>2</sup>=0.080743<br><br>continent_sub_region=Northern Europe<br>Tree Cover Loss (ha)=%{x}<br>Food Security Index=%{y} <b>(trend)</b><extra></extra>\",\"legendgroup\":\"Northern Europe\",\"marker\":{\"color\":\"#FECB52\",\"symbol\":\"circle\"},\"mode\":\"lines\",\"name\":\"Northern Europe\",\"showlegend\":false,\"x\":[2015.366626496424,2583.2304257546375,3161.62525342265,3193.5934822034146,3366.075160139065,4360.353965592222,4451.952352689336,4484.169137730237,4656.340520046438,4772.826758496737,4795.048927643729,5320.770494625853,5717.749943504219,5825.90258767864,6128.753455844697,6206.876041186951,6759.387953394061,8380.343070775258,8779.724237015678,9180.33362716724,9388.156921343025,10370.413528595189,22842.457302684285,23041.72584935992,23996.896016895927,26215.795338670083,26251.46690184897,28376.643735602785,28596.145209641003,28808.246988817195,29947.088158776944,30371.65766742287,33069.38260280393,34168.6236942954,35668.66624656016,36638.88559082291,39149.00058712956,57916.603684443675,59219.62514172436,60081.68602966732,63937.43260355628,64784.05595490627,67306.35124392471,68362.91362995247,148660.8607567591,160310.48672554636,172639.43121398432,186628.8680418758,197658.34397389487,216031.23983819727,234882.58053880456,240428.38527361033,242522.77704507113,254472.5924187548,255377.9727320257,266899.12619095406,269954.7991734523,289910.39897583047,290151.4135010396,310348.32569526235,329902.47278951685,331217.2251394383,332890.8871695677,333156.95654143306,336198.66820488486,339968.2296241121],\"xaxis\":\"x\",\"y\":[78.535135391506,78.53895964423008,78.54285481768221,78.54307010625344,78.54423167620659,78.55092760124215,78.551544466381,78.55176142884298,78.5529209091245,78.55370538035737,78.55385503453678,78.55739548232948,78.5600689222296,78.56079727125386,78.56283680654222,78.56336291951192,78.5670837856564,78.57800003358652,78.58068964774212,78.58338753331535,78.58478710976293,78.59140207185582,78.67539447890856,78.67673644380127,78.6831689935076,78.69811206927123,78.6983522977782,78.71266420374269,78.7141424263572,78.71557081606589,78.72324028971818,78.72609953361103,78.74426723851916,78.75167002725836,78.76177199506158,78.76830589275868,78.78521014713253,78.91159970984627,78.92037484811718,78.92618035764839,78.95214670619498,78.95784825234371,78.97483453434046,78.98194990529419,79.52271274919835,79.60116662124258,79.68419533271606,79.77840655372924,79.8526840537798,79.976415478727,80.10336896849142,80.140716936247,80.15482152162072,80.23529700545093,80.24139424766618,80.31898292748221,80.33956121710457,80.47395128916838,80.4755743904398,80.61158956974424,80.7432760769486,80.75213021637822,80.76340141659605,80.76519324858373,80.78567751634299,80.81106345491641],\"yaxis\":\"y\",\"type\":\"scattergl\"},{\"hovertemplate\":\"continent_sub_region=Northern Africa<br>Tree Cover Loss (ha)=%{x}<br>Food Security Index=%{y}<extra></extra>\",\"legendgroup\":\"Northern Africa\",\"marker\":{\"color\":\"#636efa\",\"symbol\":\"circle\"},\"mode\":\"markers\",\"name\":\"Northern Africa\",\"showlegend\":true,\"x\":[10912.733208613025,438.8534280508324,1689.8901709058268,13.204749787551,1414.717211779704,6926.529269715531,96.99929436334851,835.8379944714242,9.403742597347005,1300.3334418407292,9523.348572127392,115.00307506226892,1682.3079496686976,5.617398402150066,2385.0608548618397,5706.845700000831,31.64314849886176,951.9919859005182,8.055737397889539,1880.022717314592,8011.4837787387905,36.72802966209092,2041.2025672203897,26.677106912379543,1454.9561057043088,45978.55509639048,58.43038358912544,2366.567118586977,74.64733217465938,8525.836503220795,5763.909736466067,62.738151497385,2078.081118424953,16.115762821757816,902.6703475805916,6291.288201750728,20.90405680939561,1250.01748588565,56.39586824043023,572.773010072308,13072.666601759738,18.13907616891276,3620.7796543920176,66.80291179048831,1062.164916015003,20472.892620484366,17.81208130640408,1538.4621175180407,50.32012086562556,2079.124414225032,13442.613636502403,11.943498406008032,12016.34706657088,43.32917425217882,2943.5569958731694],\"xaxis\":\"x\",\"y\":[50.5,53.8,53.9,35.5,56.0,47.8,54.8,54.8,34.8,54.9,52.7,55.3,56.0,36.8,55.6,54.9,56.9,59.2,36.9,56.3,57.9,55.3,58.2,39.1,57.2,58.3,53.2,57.9,40.5,60.4,58.5,50.9,63.5,40.1,59.1,58.1,54.8,61.4,40.9,59.2,61.1,55.5,64.9,39.1,59.3,62.5,58.5,64.3,38.8,60.4,58.9,56.0,63.0,42.8,60.3],\"yaxis\":\"y\",\"type\":\"scattergl\"},{\"hovertemplate\":\"<b>OLS trendline</b><br>fsi = 0.000328655 * umd_tree_cover_loss__ha + 52.3804<br>R<sup>2</sup>=0.083411<br><br>continent_sub_region=Northern Africa<br>Tree Cover Loss (ha)=%{x}<br>Food Security Index=%{y} <b>(trend)</b><extra></extra>\",\"legendgroup\":\"Northern Africa\",\"marker\":{\"color\":\"#636efa\",\"symbol\":\"circle\"},\"mode\":\"lines\",\"name\":\"Northern Africa\",\"showlegend\":false,\"x\":[5.617398402150066,8.055737397889539,9.403742597347005,11.943498406008032,13.204749787551,16.115762821757816,17.81208130640408,18.13907616891276,20.90405680939561,26.677106912379543,31.64314849886176,36.72802966209092,43.32917425217882,50.32012086562556,56.39586824043023,58.43038358912544,62.738151497385,66.80291179048831,74.64733217465938,96.99929436334851,115.00307506226892,438.8534280508324,572.773010072308,835.8379944714242,902.6703475805916,951.9919859005182,1062.164916015003,1250.01748588565,1300.3334418407292,1414.717211779704,1454.9561057043088,1538.4621175180407,1682.3079496686976,1689.8901709058268,1880.022717314592,2041.2025672203897,2078.081118424953,2079.124414225032,2366.567118586977,2385.0608548618397,2943.5569958731694,3620.7796543920176,5706.845700000831,5763.909736466067,6291.288201750728,6926.529269715531,8011.4837787387905,8525.836503220795,9523.348572127392,10912.733208613025,12016.34706657088,13072.666601759738,13442.613636502403,20472.892620484366,45978.55509639048],\"xaxis\":\"x\",\"y\":[52.38220573574813,52.38300710831594,52.38345013711136,52.38428484083285,52.384699357542814,52.385656076848136,52.38621358058418,52.38632104911628,52.387229774129366,52.38912711653877,52.39075923147643,52.392430403648106,52.394599903541234,52.39689751386073,52.39889433927493,52.399562993138105,52.40097876306846,52.40231466730463,52.40489277613906,52.412238862702935,52.41815589720643,52.52459097018626,52.568604324979134,52.65506197603486,52.6770267703139,52.693236578719606,52.72944547504757,52.79118418182717,52.80772077780339,52.8453135881518,52.85853830621053,52.88598298360435,52.9332586512129,52.93575058695815,52.99823861967483,53.05121120077376,53.06333152503039,53.06367440952503,53.15814392278618,53.16422198369277,53.347774593652694,53.57034728013544,54.25594354321241,54.274697930322546,54.44802355718251,54.65679877945625,55.013374621606914,55.18241927220684,55.510256709691696,55.966885068489944,56.329593400993886,56.67675821270498,56.79834319563967,59.10888029965544,67.49144657438738],\"yaxis\":\"y\",\"type\":\"scattergl\"},{\"hovertemplate\":\"continent_sub_region=Southern Europe<br>Tree Cover Loss (ha)=%{x}<br>Food Security Index=%{y}<extra></extra>\",\"legendgroup\":\"Southern Europe\",\"marker\":{\"color\":\"#EF553B\",\"symbol\":\"circle\"},\"mode\":\"markers\",\"name\":\"Southern Europe\",\"showlegend\":true,\"x\":[80495.82971442404,13242.08454018614,21489.45265845689,58236.135175199925,3478.0647294856894,63955.87065962319,5906.555994044033,15524.723526807014,51884.196073471634,2798.3277552564286,74226.43456367607,3803.2117289538014,19832.76406076299,60258.85595576957,4387.909462667266,65413.86919736356,3840.0029775523935,14124.462450124694,46097.025436850025,2815.4401750553247,107562.3649272352,6034.1999031917285,24721.59097566753,94646.72428966829,4676.280415976025,98458.97696127863,8906.940785319368,34095.34985295774,173894.80786369005,3570.6420089327894,119649.00225149644,7122.1926176831785,38843.51052161197,97436.8977953596,3966.438140767206,71021.86482833137,7604.301812483616,59704.92032610425,36885.7725042267,3962.211902648627,101988.1180994087,5427.35619974866,28246.48629847476,62044.38836630668,4987.05585211132,85791.95758110215,49038.5192080328,28263.995843053508,37223.92353317916,4072.238842628751,137821.37787553505,9793.825040283473,28680.064181813003,46875.52148331238,4505.788963608253],\"xaxis\":\"x\",\"y\":[74.9,67.5,71.5,74.8,53.4,75.1,70.9,70.3,74.4,56.6,74.4,72.7,74.2,73.6,57.8,76.8,75.5,74.5,76.7,60.8,77.4,75.3,74.2,77.3,58.7,77.1,76.4,74.8,78.1,61.3,78.0,76.4,74.2,79.2,60.2,77.2,75.7,74.6,78.8,60.9,77.4,75.6,75.1,79.7,61.2,76.6,72.5,74.1,77.0,62.0,75.7,72.2,74.0,78.7,61.4],\"yaxis\":\"y\",\"type\":\"scattergl\"},{\"hovertemplate\":\"<b>OLS trendline</b><br>fsi = 9.72711e-05 * umd_tree_cover_loss__ha + 68.1201<br>R<sup>2</sup>=0.333469<br><br>continent_sub_region=Southern Europe<br>Tree Cover Loss (ha)=%{x}<br>Food Security Index=%{y} <b>(trend)</b><extra></extra>\",\"legendgroup\":\"Southern Europe\",\"marker\":{\"color\":\"#EF553B\",\"symbol\":\"circle\"},\"mode\":\"lines\",\"name\":\"Southern Europe\",\"showlegend\":false,\"x\":[2798.3277552564286,2815.4401750553247,3478.0647294856894,3570.6420089327894,3803.2117289538014,3840.0029775523935,3962.211902648627,3966.438140767206,4072.238842628751,4387.909462667266,4505.788963608253,4676.280415976025,4987.05585211132,5427.35619974866,5906.555994044033,6034.1999031917285,7122.1926176831785,7604.301812483616,8906.940785319368,9793.825040283473,13242.08454018614,14124.462450124694,15524.723526807014,19832.76406076299,21489.45265845689,24721.59097566753,28246.48629847476,28263.995843053508,28680.064181813003,34095.34985295774,36885.7725042267,37223.92353317916,38843.51052161197,46097.025436850025,46875.52148331238,49038.5192080328,51884.196073471634,58236.135175199925,59704.92032610425,60258.85595576957,62044.38836630668,63955.87065962319,65413.86919736356,71021.86482833137,74226.43456367607,80495.82971442404,85791.95758110215,94646.72428966829,97436.8977953596,98458.97696127863,101988.1180994087,107562.3649272352,119649.00225149644,137821.37787553505,173894.80786369005],\"xaxis\":\"x\",\"y\":[68.3922776431896,68.3939421876215,68.45839642761082,68.46740152430871,68.49002384406468,68.49360257043519,68.50548997082552,68.50590106178817,68.51619241574302,68.54689805404982,68.558364326455,68.57494822289163,68.6051777011226,68.64800621401764,68.69461852009329,68.70703458753053,68.81286486963764,68.8597601763916,68.98646934286187,69.0727375776111,69.40815367993655,69.49398357740743,69.63018855635177,70.04923653246853,70.2103845064598,70.52477825686233,70.86764881237436,70.86935198558282,70.90982342356239,71.4365743867209,71.70800195461587,71.74089428772821,71.89843334621627,72.60399094740532,72.67971613850173,72.89011337403028,73.1669155818427,73.78477588376327,73.92764627692357,73.98152822224897,74.15520897966732,74.34114102466174,74.48296219175747,75.02845827070699,75.34017039396505,75.9500015523977,76.46516190112102,77.32647507562899,77.59787840885178,77.69729720552596,78.04058075629742,78.58279405098779,79.75847493626904,81.52612247033113,85.0350258125763],\"yaxis\":\"y\",\"type\":\"scattergl\"},{\"hovertemplate\":\"continent_sub_region=South-eastern Asia<br>Tree Cover Loss (ha)=%{x}<br>Food Security Index=%{y}<extra></extra>\",\"legendgroup\":\"South-eastern Asia\",\"marker\":{\"color\":\"#00cc96\",\"symbol\":\"circle\"},\"mode\":\"markers\",\"name\":\"South-eastern Asia\",\"showlegend\":true,\"x\":[2260260.504603911,195568.95713088728,147537.12349925487,225188.7122988084,628171.0442860551,59586.54123127349,92.13825498833894,114508.12073492366,181241.5276262132,1139298.6687667277,190096.39840991964,205606.5378278922,248186.4487222324,333221.1537748232,58871.140399340664,25.918481198038876,84754.4124611542,132423.22411348444,1894360.7272287677,161796.87482928543,243833.42557567637,331444.58843174693,645779.1168368884,102456.18780278822,191.35197143343692,137614.63374225152,217341.5293637444,1746470.5346029974,132701.14361586949,285028.8419335204,293305.1696370313,454345.0340698113,65895.64633830024,154.97480247525723,120807.65603115835,217883.20961145704,2422071.536672208,182417.9536314076,388035.2543847976,362552.38855431566,565249.1817730699,129109.70705168512,154.3596279687154,171638.61546868196,353446.02068470966,1300719.3759037352,118333.26745054004,349136.62572704366,341844.69552616565,483416.1086135704,114280.59778671536,262.65034720572874,196456.506277438,286940.29223712726,1218732.5160552235,113205.22828334484,294666.25123518024,278708.79704301734,437984.51802192646,70533.57132282293,289.02683051019665,133532.5810415836,225154.8913166269,1176884.143702294,143306.85199863487,364709.5483277709,309418.1611194609,395367.2182092159,64038.614961349085,287.8738498075863,129794.03169619873,216779.39610146033,961587.943140165,143487.81091304196,357546.687762664,310005.30740475765,268721.4917352333,63727.597060107415,165.20300355552445,119414.18620691977,207640.59177030087,841391.3909846384,144246.3399037853,317575.3886834191,304151.74589417025,277553.73267606954,48882.82363354203,200.9646094100659,122815.81153643856,193074.06740109532,885238.4162738138,103843.24644680068,321699.07275939983,260937.85448564787,248089.04301658468,84543.47276301778,103.05905582149536,110663.32333475782,165142.05846430812],\"xaxis\":\"x\",\"y\":[55.4,44.3,44.1,49.4,64.2,52.1,68.4,55.5,54.5,57.6,47.1,47.8,50.3,65.2,53.0,70.1,57.4,60.8,56.9,51.4,47.2,52.7,67.0,54.4,72.3,57.9,64.6,57.9,54.2,51.4,51.8,68.1,55.5,72.1,57.0,64.7,58.5,55.1,51.8,53.0,66.3,57.0,70.8,59.0,66.2,60.0,56.1,53.5,54.0,66.8,57.5,70.2,60.7,64.0,63.6,58.9,54.4,57.2,67.2,59.3,72.4,61.7,67.3,61.5,56.2,52.3,56.2,68.6,59.7,74.7,62.4,65.6,61.6,52.7,53.2,54.7,67.9,60.6,74.7,61.4,65.5,59.8,55.0,49.0,58.3,71.5,59.6,72.8,62.1,62.7,60.2,55.7,53.1,57.6,69.9,59.3,73.1,60.1,67.9],\"yaxis\":\"y\",\"type\":\"scattergl\"},{\"hovertemplate\":\"<b>OLS trendline</b><br>fsi = -1.40996e-06 * umd_tree_cover_loss__ha + 60.2139<br>R<sup>2</sup>=0.007799<br><br>continent_sub_region=South-eastern Asia<br>Tree Cover Loss (ha)=%{x}<br>Food Security Index=%{y} <b>(trend)</b><extra></extra>\",\"legendgroup\":\"South-eastern Asia\",\"marker\":{\"color\":\"#00cc96\",\"symbol\":\"circle\"},\"mode\":\"lines\",\"name\":\"South-eastern Asia\",\"showlegend\":false,\"x\":[25.918481198038876,92.13825498833894,103.05905582149536,154.3596279687154,154.97480247525723,165.20300355552445,191.35197143343692,200.9646094100659,262.65034720572874,287.8738498075863,289.02683051019665,48882.82363354203,58871.140399340664,59586.54123127349,63727.597060107415,64038.614961349085,65895.64633830024,70533.57132282293,84543.47276301778,84754.4124611542,102456.18780278822,103843.24644680068,110663.32333475782,113205.22828334484,114280.59778671536,114508.12073492366,118333.26745054004,119414.18620691977,120807.65603115835,122815.81153643856,129109.70705168512,129794.03169619873,132423.22411348444,132701.14361586949,133532.5810415836,137614.63374225152,143306.85199863487,143487.81091304196,144246.3399037853,147537.12349925487,161796.87482928543,165142.05846430812,171638.61546868196,181241.5276262132,182417.9536314076,190096.39840991964,193074.06740109532,195568.95713088728,196456.506277438,205606.5378278922,207640.59177030087,216779.39610146033,217341.5293637444,217883.20961145704,225154.8913166269,225188.7122988084,243833.42557567637,248089.04301658468,248186.4487222324,260937.85448564787,268721.4917352333,277553.73267606954,278708.79704301734,285028.8419335204,286940.29223712726,293305.1696370313,294666.25123518024,304151.74589417025,309418.1611194609,310005.30740475765,317575.3886834191,321699.07275939983,331444.58843174693,333221.1537748232,341844.69552616565,349136.62572704366,353446.02068470966,357546.687762664,362552.38855431566,364709.5483277709,388035.2543847976,395367.2182092159,437984.51802192646,454345.0340698113,483416.1086135704,565249.1817730699,628171.0442860551,645779.1168368884,841391.3909846384,885238.4162738138,961587.943140165,1139298.6687667277,1176884.143702294,1218732.5160552235,1300719.3759037352,1746470.5346029974,1894360.7272287677,2260260.504603911,2422071.536672208],\"xaxis\":\"x\",\"y\":[60.21384664603528,60.21375327869242,60.213737880781835,60.21366554894144,60.21366468156897,60.21365026019749,60.213613391155064,60.21359983770397,60.213512863178074,60.213477299006215,60.21347567334762,60.144960282442526,60.13087713865225,60.12986845090035,60.12402972090725,60.12359119758773,60.120972854525746,60.11443355806799,60.09468013403307,60.09438271714396,60.06942389241655,60.06746819289408,60.057852145893776,60.054268157346804,60.05275192756567,60.05243112892959,60.047037818677424,60.04551376466225,60.0435490256214,60.04071760333102,60.03184345189784,60.03087858037906,60.027171519846924,60.02677966400114,60.02560736909966,60.0198518312557,60.0118260216954,60.01157087656219,60.010501379759454,60.0058615010247,59.98575579822179,59.9810392175164,59.97187932115152,59.95833958308644,59.95668086751121,59.945854554686235,59.94165615554193,59.93813845665137,59.93688704637426,59.92398585260637,59.921117914512315,59.9082325506933,59.90743996433989,59.90667621595308,59.896423423470395,59.89637573718187,59.87008740610834,59.86408714863333,59.863949810321905,59.84597081695345,59.83499618677626,59.8225430655871,59.82091446910301,59.81200344805303,59.80930837639031,59.80033414322049,59.79841507033699,59.78504088644428,59.777615442836904,59.776787589079795,59.766114064636064,59.76029982814863,59.74655902459362,59.74405413555516,59.7318952722238,59.7216139301383,59.71553784842594,59.70975606502349,59.70269821877443,59.69965670617721,59.66676835470485,59.656430566744625,59.596341807518364,59.57327410698503,59.53228500616481,59.416903509649636,59.32818609528442,59.303359387900436,59.02755357911805,58.96573095410501,58.85808104768032,58.60751573615126,58.55452165713327,58.495517056152515,58.37991872630044,57.75142667805669,57.54290717504572,57.027002513786975,56.79885516074408],\"yaxis\":\"y\",\"type\":\"scattergl\"},{\"hovertemplate\":\"continent_sub_region=Central Asia<br>Tree Cover Loss (ha)=%{x}<br>Food Security Index=%{y}<extra></extra>\",\"legendgroup\":\"Central Asia\",\"marker\":{\"color\":\"#ab63fa\",\"symbol\":\"circle\"},\"mode\":\"markers\",\"name\":\"Central Asia\",\"showlegend\":true,\"x\":[3741.5142676435617,26.041278952884113,55.376205075946174,2863.6388754513114,1.3190362559787323,24.68649925001086,595.7158179973264,0.7830429886284721,83.12890887847023,181.1622936768294,1288.5506122046118,975.1769845813334,0.1211538718901909,1.69413304671875,1138.8878148571127,0.1800544646527778,0.4661042540733507,1281.7255839891252,0.0595659437912326,17.638901515898436,1853.2676791752076,0.4276713535351563,3.181950549954427,718.4090624070013,0.0,3.5057399456467007,3629.0951866856585,0.122407742157118,7.489416883628484],\"xaxis\":\"x\",\"y\":[62.7,47.1,50.4,61.7,52.0,51.4,64.4,51.5,49.9,64.2,66.1,66.0,53.0,57.7,68.2,52.3,52.1,71.2,56.0,51.4,71.6,55.0,53.1,70.7,54.4,54.5,72.1,56.7,57.5],\"yaxis\":\"y\",\"type\":\"scattergl\"},{\"hovertemplate\":\"<b>OLS trendline</b><br>fsi = 0.00464351 * umd_tree_cover_loss__ha + 55.4837<br>R<sup>2</sup>=0.443810<br><br>continent_sub_region=Central Asia<br>Tree Cover Loss (ha)=%{x}<br>Food Security Index=%{y} <b>(trend)</b><extra></extra>\",\"legendgroup\":\"Central Asia\",\"marker\":{\"color\":\"#ab63fa\",\"symbol\":\"circle\"},\"mode\":\"lines\",\"name\":\"Central Asia\",\"showlegend\":false,\"x\":[0.0,0.0595659437912326,0.1211538718901909,0.122407742157118,0.1800544646527778,0.4276713535351563,0.4661042540733507,0.7830429886284721,1.3190362559787323,1.69413304671875,3.181950549954427,3.5057399456467007,7.489416883628484,17.638901515898436,24.68649925001086,26.041278952884113,55.376205075946174,83.12890887847023,181.1622936768294,595.7158179973264,718.4090624070013,975.1769845813334,1138.8878148571127,1281.7255839891252,1288.5506122046118,1853.2676791752076,2863.6388754513114,3629.0951866856585,3741.5142676435617],\"xaxis\":\"x\",\"y\":[55.483650105019876,55.48392670012655,55.48421268433931,55.484218506699506,55.48448618988126,55.48563600159305,55.48581446518395,55.48728617363872,55.4897750641947,55.491516830214756,55.498425526943606,55.499929046517735,55.51842729362826,55.56555653570661,55.598282132297584,55.604573066556114,55.740790114484724,55.86966009589044,56.32487918250623,58.249862973310655,58.81959038575266,60.011895019983655,60.7720880377045,61.43535676939477,61.46704886200966,64.08931869336824,68.78098831242451,72.335393003858,72.85741222676971],\"yaxis\":\"y\",\"type\":\"scattergl\"}],                        {\"template\":{\"data\":{\"histogram2dcontour\":[{\"type\":\"histogram2dcontour\",\"colorbar\":{\"outlinewidth\":0,\"ticks\":\"\"},\"colorscale\":[[0.0,\"#0d0887\"],[0.1111111111111111,\"#46039f\"],[0.2222222222222222,\"#7201a8\"],[0.3333333333333333,\"#9c179e\"],[0.4444444444444444,\"#bd3786\"],[0.5555555555555556,\"#d8576b\"],[0.6666666666666666,\"#ed7953\"],[0.7777777777777778,\"#fb9f3a\"],[0.8888888888888888,\"#fdca26\"],[1.0,\"#f0f921\"]]}],\"choropleth\":[{\"type\":\"choropleth\",\"colorbar\":{\"outlinewidth\":0,\"ticks\":\"\"}}],\"histogram2d\":[{\"type\":\"histogram2d\",\"colorbar\":{\"outlinewidth\":0,\"ticks\":\"\"},\"colorscale\":[[0.0,\"#0d0887\"],[0.1111111111111111,\"#46039f\"],[0.2222222222222222,\"#7201a8\"],[0.3333333333333333,\"#9c179e\"],[0.4444444444444444,\"#bd3786\"],[0.5555555555555556,\"#d8576b\"],[0.6666666666666666,\"#ed7953\"],[0.7777777777777778,\"#fb9f3a\"],[0.8888888888888888,\"#fdca26\"],[1.0,\"#f0f921\"]]}],\"heatmap\":[{\"type\":\"heatmap\",\"colorbar\":{\"outlinewidth\":0,\"ticks\":\"\"},\"colorscale\":[[0.0,\"#0d0887\"],[0.1111111111111111,\"#46039f\"],[0.2222222222222222,\"#7201a8\"],[0.3333333333333333,\"#9c179e\"],[0.4444444444444444,\"#bd3786\"],[0.5555555555555556,\"#d8576b\"],[0.6666666666666666,\"#ed7953\"],[0.7777777777777778,\"#fb9f3a\"],[0.8888888888888888,\"#fdca26\"],[1.0,\"#f0f921\"]]}],\"heatmapgl\":[{\"type\":\"heatmapgl\",\"colorbar\":{\"outlinewidth\":0,\"ticks\":\"\"},\"colorscale\":[[0.0,\"#0d0887\"],[0.1111111111111111,\"#46039f\"],[0.2222222222222222,\"#7201a8\"],[0.3333333333333333,\"#9c179e\"],[0.4444444444444444,\"#bd3786\"],[0.5555555555555556,\"#d8576b\"],[0.6666666666666666,\"#ed7953\"],[0.7777777777777778,\"#fb9f3a\"],[0.8888888888888888,\"#fdca26\"],[1.0,\"#f0f921\"]]}],\"contourcarpet\":[{\"type\":\"contourcarpet\",\"colorbar\":{\"outlinewidth\":0,\"ticks\":\"\"}}],\"contour\":[{\"type\":\"contour\",\"colorbar\":{\"outlinewidth\":0,\"ticks\":\"\"},\"colorscale\":[[0.0,\"#0d0887\"],[0.1111111111111111,\"#46039f\"],[0.2222222222222222,\"#7201a8\"],[0.3333333333333333,\"#9c179e\"],[0.4444444444444444,\"#bd3786\"],[0.5555555555555556,\"#d8576b\"],[0.6666666666666666,\"#ed7953\"],[0.7777777777777778,\"#fb9f3a\"],[0.8888888888888888,\"#fdca26\"],[1.0,\"#f0f921\"]]}],\"surface\":[{\"type\":\"surface\",\"colorbar\":{\"outlinewidth\":0,\"ticks\":\"\"},\"colorscale\":[[0.0,\"#0d0887\"],[0.1111111111111111,\"#46039f\"],[0.2222222222222222,\"#7201a8\"],[0.3333333333333333,\"#9c179e\"],[0.4444444444444444,\"#bd3786\"],[0.5555555555555556,\"#d8576b\"],[0.6666666666666666,\"#ed7953\"],[0.7777777777777778,\"#fb9f3a\"],[0.8888888888888888,\"#fdca26\"],[1.0,\"#f0f921\"]]}],\"mesh3d\":[{\"type\":\"mesh3d\",\"colorbar\":{\"outlinewidth\":0,\"ticks\":\"\"}}],\"scatter\":[{\"fillpattern\":{\"fillmode\":\"overlay\",\"size\":10,\"solidity\":0.2},\"type\":\"scatter\"}],\"parcoords\":[{\"type\":\"parcoords\",\"line\":{\"colorbar\":{\"outlinewidth\":0,\"ticks\":\"\"}}}],\"scatterpolargl\":[{\"type\":\"scatterpolargl\",\"marker\":{\"colorbar\":{\"outlinewidth\":0,\"ticks\":\"\"}}}],\"bar\":[{\"error_x\":{\"color\":\"#2a3f5f\"},\"error_y\":{\"color\":\"#2a3f5f\"},\"marker\":{\"line\":{\"color\":\"#E5ECF6\",\"width\":0.5},\"pattern\":{\"fillmode\":\"overlay\",\"size\":10,\"solidity\":0.2}},\"type\":\"bar\"}],\"scattergeo\":[{\"type\":\"scattergeo\",\"marker\":{\"colorbar\":{\"outlinewidth\":0,\"ticks\":\"\"}}}],\"scatterpolar\":[{\"type\":\"scatterpolar\",\"marker\":{\"colorbar\":{\"outlinewidth\":0,\"ticks\":\"\"}}}],\"histogram\":[{\"marker\":{\"pattern\":{\"fillmode\":\"overlay\",\"size\":10,\"solidity\":0.2}},\"type\":\"histogram\"}],\"scattergl\":[{\"type\":\"scattergl\",\"marker\":{\"colorbar\":{\"outlinewidth\":0,\"ticks\":\"\"}}}],\"scatter3d\":[{\"type\":\"scatter3d\",\"line\":{\"colorbar\":{\"outlinewidth\":0,\"ticks\":\"\"}},\"marker\":{\"colorbar\":{\"outlinewidth\":0,\"ticks\":\"\"}}}],\"scattermapbox\":[{\"type\":\"scattermapbox\",\"marker\":{\"colorbar\":{\"outlinewidth\":0,\"ticks\":\"\"}}}],\"scatterternary\":[{\"type\":\"scatterternary\",\"marker\":{\"colorbar\":{\"outlinewidth\":0,\"ticks\":\"\"}}}],\"scattercarpet\":[{\"type\":\"scattercarpet\",\"marker\":{\"colorbar\":{\"outlinewidth\":0,\"ticks\":\"\"}}}],\"carpet\":[{\"aaxis\":{\"endlinecolor\":\"#2a3f5f\",\"gridcolor\":\"white\",\"linecolor\":\"white\",\"minorgridcolor\":\"white\",\"startlinecolor\":\"#2a3f5f\"},\"baxis\":{\"endlinecolor\":\"#2a3f5f\",\"gridcolor\":\"white\",\"linecolor\":\"white\",\"minorgridcolor\":\"white\",\"startlinecolor\":\"#2a3f5f\"},\"type\":\"carpet\"}],\"table\":[{\"cells\":{\"fill\":{\"color\":\"#EBF0F8\"},\"line\":{\"color\":\"white\"}},\"header\":{\"fill\":{\"color\":\"#C8D4E3\"},\"line\":{\"color\":\"white\"}},\"type\":\"table\"}],\"barpolar\":[{\"marker\":{\"line\":{\"color\":\"#E5ECF6\",\"width\":0.5},\"pattern\":{\"fillmode\":\"overlay\",\"size\":10,\"solidity\":0.2}},\"type\":\"barpolar\"}],\"pie\":[{\"automargin\":true,\"type\":\"pie\"}]},\"layout\":{\"autotypenumbers\":\"strict\",\"colorway\":[\"#636efa\",\"#EF553B\",\"#00cc96\",\"#ab63fa\",\"#FFA15A\",\"#19d3f3\",\"#FF6692\",\"#B6E880\",\"#FF97FF\",\"#FECB52\"],\"font\":{\"color\":\"#2a3f5f\"},\"hovermode\":\"closest\",\"hoverlabel\":{\"align\":\"left\"},\"paper_bgcolor\":\"white\",\"plot_bgcolor\":\"#E5ECF6\",\"polar\":{\"bgcolor\":\"#E5ECF6\",\"angularaxis\":{\"gridcolor\":\"white\",\"linecolor\":\"white\",\"ticks\":\"\"},\"radialaxis\":{\"gridcolor\":\"white\",\"linecolor\":\"white\",\"ticks\":\"\"}},\"ternary\":{\"bgcolor\":\"#E5ECF6\",\"aaxis\":{\"gridcolor\":\"white\",\"linecolor\":\"white\",\"ticks\":\"\"},\"baxis\":{\"gridcolor\":\"white\",\"linecolor\":\"white\",\"ticks\":\"\"},\"caxis\":{\"gridcolor\":\"white\",\"linecolor\":\"white\",\"ticks\":\"\"}},\"coloraxis\":{\"colorbar\":{\"outlinewidth\":0,\"ticks\":\"\"}},\"colorscale\":{\"sequential\":[[0.0,\"#0d0887\"],[0.1111111111111111,\"#46039f\"],[0.2222222222222222,\"#7201a8\"],[0.3333333333333333,\"#9c179e\"],[0.4444444444444444,\"#bd3786\"],[0.5555555555555556,\"#d8576b\"],[0.6666666666666666,\"#ed7953\"],[0.7777777777777778,\"#fb9f3a\"],[0.8888888888888888,\"#fdca26\"],[1.0,\"#f0f921\"]],\"sequentialminus\":[[0.0,\"#0d0887\"],[0.1111111111111111,\"#46039f\"],[0.2222222222222222,\"#7201a8\"],[0.3333333333333333,\"#9c179e\"],[0.4444444444444444,\"#bd3786\"],[0.5555555555555556,\"#d8576b\"],[0.6666666666666666,\"#ed7953\"],[0.7777777777777778,\"#fb9f3a\"],[0.8888888888888888,\"#fdca26\"],[1.0,\"#f0f921\"]],\"diverging\":[[0,\"#8e0152\"],[0.1,\"#c51b7d\"],[0.2,\"#de77ae\"],[0.3,\"#f1b6da\"],[0.4,\"#fde0ef\"],[0.5,\"#f7f7f7\"],[0.6,\"#e6f5d0\"],[0.7,\"#b8e186\"],[0.8,\"#7fbc41\"],[0.9,\"#4d9221\"],[1,\"#276419\"]]},\"xaxis\":{\"gridcolor\":\"white\",\"linecolor\":\"white\",\"ticks\":\"\",\"title\":{\"standoff\":15},\"zerolinecolor\":\"white\",\"automargin\":true,\"zerolinewidth\":2},\"yaxis\":{\"gridcolor\":\"white\",\"linecolor\":\"white\",\"ticks\":\"\",\"title\":{\"standoff\":15},\"zerolinecolor\":\"white\",\"automargin\":true,\"zerolinewidth\":2},\"scene\":{\"xaxis\":{\"backgroundcolor\":\"#E5ECF6\",\"gridcolor\":\"white\",\"linecolor\":\"white\",\"showbackground\":true,\"ticks\":\"\",\"zerolinecolor\":\"white\",\"gridwidth\":2},\"yaxis\":{\"backgroundcolor\":\"#E5ECF6\",\"gridcolor\":\"white\",\"linecolor\":\"white\",\"showbackground\":true,\"ticks\":\"\",\"zerolinecolor\":\"white\",\"gridwidth\":2},\"zaxis\":{\"backgroundcolor\":\"#E5ECF6\",\"gridcolor\":\"white\",\"linecolor\":\"white\",\"showbackground\":true,\"ticks\":\"\",\"zerolinecolor\":\"white\",\"gridwidth\":2}},\"shapedefaults\":{\"line\":{\"color\":\"#2a3f5f\"}},\"annotationdefaults\":{\"arrowcolor\":\"#2a3f5f\",\"arrowhead\":0,\"arrowwidth\":1},\"geo\":{\"bgcolor\":\"white\",\"landcolor\":\"#E5ECF6\",\"subunitcolor\":\"white\",\"showland\":true,\"showlakes\":true,\"lakecolor\":\"white\"},\"title\":{\"x\":0.05},\"mapbox\":{\"style\":\"light\"}}},\"xaxis\":{\"anchor\":\"y\",\"domain\":[0.0,1.0],\"title\":{\"text\":\"Tree Cover Loss (ha)\"}},\"yaxis\":{\"anchor\":\"x\",\"domain\":[0.0,1.0],\"title\":{\"text\":\"Food Security Index\"}},\"legend\":{\"title\":{\"text\":\"continent_sub_region\"},\"tracegroupgap\":0},\"title\":{\"text\":\"Correlation Between Deforestation and Food Security Index\"}},                        {\"responsive\": true}                    ).then(function(){\n",
       "                            \n",
       "var gd = document.getElementById('8c86fb86-86bc-47a4-b096-d2c8aaab170e');\n",
       "var x = new MutationObserver(function (mutations, observer) {{\n",
       "        var display = window.getComputedStyle(gd).display;\n",
       "        if (!display || display === 'none') {{\n",
       "            console.log([gd, 'removed!']);\n",
       "            Plotly.purge(gd);\n",
       "            observer.disconnect();\n",
       "        }}\n",
       "}});\n",
       "\n",
       "// Listen for the removal of the full notebook cells\n",
       "var notebookContainer = gd.closest('#notebook-container');\n",
       "if (notebookContainer) {{\n",
       "    x.observe(notebookContainer, {childList: true});\n",
       "}}\n",
       "\n",
       "// Listen for the clearing of the current output cell\n",
       "var outputEl = gd.closest('.output');\n",
       "if (outputEl) {{\n",
       "    x.observe(outputEl, {childList: true});\n",
       "}}\n",
       "\n",
       "                        })                };                });            </script>        </div>"
      ]
     },
     "metadata": {},
     "output_type": "display_data"
    }
   ],
   "source": [
    "fig = px.scatter(\n",
    "    data,\n",
    "    x=\"umd_tree_cover_loss__ha\",\n",
    "    y=\"fsi\",\n",
    "    color=\"continent_sub_region\",\n",
    "    trendline=\"ols\",\n",
    "    title=\"Correlation Between Deforestation and Food Security Index\",\n",
    "    labels={\n",
    "        \"umd_tree_cover_loss__ha\": \"Tree Cover Loss (ha)\",\n",
    "        \"fsi\": \"Food Security Index\",\n",
    "        \"continent_region\": \"Continent\"\n",
    "    }\n",
    ")\n",
    "\n",
    "fig.show()"
   ]
  },
  {
   "cell_type": "code",
   "execution_count": 77,
   "id": "269f9309",
   "metadata": {},
   "outputs": [
    {
     "data": {
      "text/plain": [
       "count    1.119000e+03\n",
       "mean     2.196162e+05\n",
       "std      6.693427e+05\n",
       "min      0.000000e+00\n",
       "25%      3.717139e+03\n",
       "50%      3.389930e+04\n",
       "75%      1.574755e+05\n",
       "max      6.518852e+06\n",
       "Name: umd_tree_cover_loss__ha, dtype: float64"
      ]
     },
     "execution_count": 77,
     "metadata": {},
     "output_type": "execute_result"
    }
   ],
   "source": [
    "data['umd_tree_cover_loss__ha'].describe()"
   ]
  },
  {
   "cell_type": "code",
   "execution_count": 78,
   "id": "ccf36aa7",
   "metadata": {},
   "outputs": [
    {
     "data": {
      "text/plain": [
       "count    1119.000000\n",
       "mean       61.036729\n",
       "std        12.577975\n",
       "min        32.800000\n",
       "25%        50.250000\n",
       "50%        61.500000\n",
       "75%        72.450000\n",
       "max        84.300000\n",
       "Name: fsi, dtype: float64"
      ]
     },
     "execution_count": 78,
     "metadata": {},
     "output_type": "execute_result"
    }
   ],
   "source": [
    "data['fsi'].describe()"
   ]
  },
  {
   "cell_type": "code",
   "execution_count": 33,
   "id": "aa8f64c6",
   "metadata": {},
   "outputs": [
    {
     "data": {
      "text/html": [
       "<div>\n",
       "<style scoped>\n",
       "    .dataframe tbody tr th:only-of-type {\n",
       "        vertical-align: middle;\n",
       "    }\n",
       "\n",
       "    .dataframe tbody tr th {\n",
       "        vertical-align: top;\n",
       "    }\n",
       "\n",
       "    .dataframe thead th {\n",
       "        text-align: right;\n",
       "    }\n",
       "</style>\n",
       "<table border=\"1\" class=\"dataframe\">\n",
       "  <thead>\n",
       "    <tr style=\"text-align: right;\">\n",
       "      <th></th>\n",
       "      <th>country_1</th>\n",
       "      <th>umd_tree_cover_loss__ha</th>\n",
       "      <th>fsi</th>\n",
       "    </tr>\n",
       "  </thead>\n",
       "  <tbody>\n",
       "    <tr>\n",
       "      <th>0</th>\n",
       "      <td>Algeria</td>\n",
       "      <td>13282.078766</td>\n",
       "      <td>56.472727</td>\n",
       "    </tr>\n",
       "    <tr>\n",
       "      <th>1</th>\n",
       "      <td>Angola</td>\n",
       "      <td>224096.321401</td>\n",
       "      <td>42.490909</td>\n",
       "    </tr>\n",
       "    <tr>\n",
       "      <th>2</th>\n",
       "      <td>Argentina</td>\n",
       "      <td>244571.491840</td>\n",
       "      <td>63.700000</td>\n",
       "    </tr>\n",
       "    <tr>\n",
       "      <th>3</th>\n",
       "      <td>Australia</td>\n",
       "      <td>569075.851311</td>\n",
       "      <td>74.536364</td>\n",
       "    </tr>\n",
       "    <tr>\n",
       "      <th>4</th>\n",
       "      <td>Austria</td>\n",
       "      <td>17693.888186</td>\n",
       "      <td>77.072727</td>\n",
       "    </tr>\n",
       "    <tr>\n",
       "      <th>...</th>\n",
       "      <td>...</td>\n",
       "      <td>...</td>\n",
       "      <td>...</td>\n",
       "    </tr>\n",
       "    <tr>\n",
       "      <th>101</th>\n",
       "      <td>Uruguay</td>\n",
       "      <td>19906.976771</td>\n",
       "      <td>69.845455</td>\n",
       "    </tr>\n",
       "    <tr>\n",
       "      <th>102</th>\n",
       "      <td>Uzbekistan</td>\n",
       "      <td>21.907540</td>\n",
       "      <td>53.111111</td>\n",
       "    </tr>\n",
       "    <tr>\n",
       "      <th>103</th>\n",
       "      <td>Venezuela</td>\n",
       "      <td>110876.558798</td>\n",
       "      <td>46.781818</td>\n",
       "    </tr>\n",
       "    <tr>\n",
       "      <th>104</th>\n",
       "      <td>Vietnam</td>\n",
       "      <td>217915.164426</td>\n",
       "      <td>63.981818</td>\n",
       "    </tr>\n",
       "    <tr>\n",
       "      <th>105</th>\n",
       "      <td>Zambia</td>\n",
       "      <td>139422.656283</td>\n",
       "      <td>45.272727</td>\n",
       "    </tr>\n",
       "  </tbody>\n",
       "</table>\n",
       "<p>106 rows × 3 columns</p>\n",
       "</div>"
      ],
      "text/plain": [
       "      country_1  umd_tree_cover_loss__ha        fsi\n",
       "0       Algeria             13282.078766  56.472727\n",
       "1        Angola            224096.321401  42.490909\n",
       "2     Argentina            244571.491840  63.700000\n",
       "3     Australia            569075.851311  74.536364\n",
       "4       Austria             17693.888186  77.072727\n",
       "..          ...                      ...        ...\n",
       "101     Uruguay             19906.976771  69.845455\n",
       "102  Uzbekistan                21.907540  53.111111\n",
       "103   Venezuela            110876.558798  46.781818\n",
       "104     Vietnam            217915.164426  63.981818\n",
       "105      Zambia            139422.656283  45.272727\n",
       "\n",
       "[106 rows x 3 columns]"
      ]
     },
     "execution_count": 33,
     "metadata": {},
     "output_type": "execute_result"
    }
   ],
   "source": [
    "country_mean = data.groupby('country_1').agg({\n",
    "    'umd_tree_cover_loss__ha':'mean',\n",
    "    'fsi':'mean'\n",
    "}).reset_index()\n",
    "country_mean"
   ]
  },
  {
   "cell_type": "code",
   "execution_count": 34,
   "id": "712c1ad5",
   "metadata": {},
   "outputs": [
    {
     "data": {
      "application/vnd.plotly.v1+json": {
       "config": {
        "plotlyServerURL": "https://plot.ly"
       },
       "data": [
        {
         "hovertemplate": "Average of Tree Cover Loss (ha)=%{x}<br>Average of Food Security Index=%{y}<br>country_1=%{text}<extra></extra>",
         "legendgroup": "",
         "marker": {
          "color": "#636efa",
          "opacity": 0.7,
          "size": 10,
          "symbol": "circle"
         },
         "mode": "markers+text",
         "name": "",
         "orientation": "v",
         "showlegend": false,
         "text": [
          "Algeria",
          "Angola",
          "Argentina",
          "Australia",
          "Austria",
          "Azerbaijan",
          "Bangladesh",
          "Belarus",
          "Belgium",
          "Benin",
          "Bolivia",
          "Botswana",
          "Brazil",
          "Bulgaria",
          "Burkina Faso",
          "Burundi",
          "Cambodia",
          "Cameroon",
          "Canada",
          "Chad",
          "Chile",
          "China",
          "Colombia",
          "Costa Rica",
          "Czech Republic",
          "Denmark",
          "Ecuador",
          "Egypt",
          "El Salvador",
          "Ethiopia",
          "Finland",
          "France",
          "Germany",
          "Ghana",
          "Greece",
          "Guatemala",
          "Guinea",
          "Haiti",
          "Honduras",
          "Hungary",
          "India",
          "Indonesia",
          "Ireland",
          "Israel",
          "Italy",
          "Japan",
          "Jordan",
          "Kazakhstan",
          "Kenya",
          "Laos",
          "Madagascar",
          "Malawi",
          "Malaysia",
          "Mali",
          "Mexico",
          "Morocco",
          "Mozambique",
          "Myanmar",
          "Nepal",
          "Netherlands",
          "New Zealand",
          "Nicaragua",
          "Niger",
          "Nigeria",
          "Norway",
          "Oman",
          "Pakistan",
          "Panama",
          "Paraguay",
          "Peru",
          "Philippines",
          "Poland",
          "Portugal",
          "Romania",
          "Russia",
          "Rwanda",
          "Saudi Arabia",
          "Senegal",
          "Serbia",
          "Sierra Leone",
          "Singapore",
          "Slovakia",
          "South Africa",
          "South Korea",
          "Spain",
          "Sri Lanka",
          "Sudan",
          "Sweden",
          "Switzerland",
          "Syria",
          "Tajikistan",
          "Tanzania",
          "Thailand",
          "Togo",
          "Tunisia",
          "Turkey",
          "Uganda",
          "Ukraine",
          "United Arab Emirates",
          "United Kingdom",
          "United States",
          "Uruguay",
          "Uzbekistan",
          "Venezuela",
          "Vietnam",
          "Zambia"
         ],
         "textposition": "top center",
         "type": "scatter",
         "x": [
          13282.078765686305,
          224096.32140142933,
          244571.491839802,
          569075.8513105548,
          17693.888185795604,
          140.79394450464682,
          16354.637677722221,
          60396.017092595575,
          4986.560807941948,
          1634.071346494082,
          413495.81586379133,
          5.030550721225833,
          3174196.879659726,
          6562.349831429809,
          0.054928922746606684,
          1830.3154927591715,
          148091.27932850155,
          132965.3717078303,
          2337526.9855777333,
          4261.232063280769,
          108814.05097733629,
          551685.2618189484,
          263751.42488150415,
          10615.390954227862,
          36070.98812084461,
          4280.426439616455,
          45894.81645443071,
          82.65402031042123,
          2733.548196343033,
          24783.645518516285,
          234680.14451887982,
          64476.93811090812,
          70147.27852831317,
          102400.29480449442,
          10974.471891589017,
          79046.18417234188,
          160490.0850366142,
          4886.674645342901,
          78521.62573169112,
          13057.445363548091,
          131149.34419482516,
          1440637.796175862,
          6983.118512324063,
          62.00090508979029,
          28502.483699621305,
          43911.313106015456,
          0.5222737387950304,
          1660.649470788098,
          15341.244581995474,
          297761.3416106017,
          308503.2629020936,
          14185.101759628398,
          430717.96754665894,
          222.53784440726676,
          236111.2506910246,
          2733.771384504125,
          222771.2724415875,
          296885.8062833958,
          1980.1131055774242,
          1389.7755285159021,
          71094.2281075928,
          85848.94991492928,
          0.01869085653252495,
          85500.4349749654,
          52764.82047524622,
          0,
          86.79453456892719,
          21350.593863967413,
          313147.8567829555,
          233993.2080323115,
          78356.90003190385,
          69998.35234376822,
          69589.47713427582,
          18737.901631065455,
          4819559.174180738,
          2693.502784640376,
          0,
          320.7802711256781,
          3929.127113557971,
          158421.28598574118,
          175.2291667613077,
          10848.351879599457,
          67617.51891477586,
          12389.93498277886,
          91489.60605995222,
          11734.716127700003,
          33.68817320385975,
          287157.3138051216,
          2256.46055286373,
          2034.844643110541,
          3.228245730390866,
          165481.95714371477,
          131090.89804831875,
          4297.129972511328,
          2229.201501680734,
          37555.253906614154,
          64245.00581371165,
          63233.31947610432,
          0,
          28030.75681379987,
          2065461.4665369554,
          19906.97677132656,
          21.907539933371933,
          110876.55879822018,
          217915.1644264116,
          139422.6562827769
         ],
         "xaxis": "x",
         "y": [
          56.472727272727276,
          42.49090909090909,
          63.7,
          74.53636363636363,
          77.07272727272726,
          61.27272727272727,
          53.57272727272727,
          65.51818181818182,
          75.66363636363636,
          44.845454545454544,
          62.63636363636363,
          52.809090909090905,
          68.23636363636363,
          67.75454545454545,
          47.51818181818182,
          40.57272727272727,
          53.33636363636364,
          45.97272727272727,
          75.01818181818182,
          40.627272727272725,
          72.36363636363636,
          69.58181818181818,
          65.76363636363637,
          75.18181818181819,
          76.21818181818182,
          76.82727272727273,
          63.3,
          55,
          61.67272727272727,
          43.945454545454545,
          81.88181818181819,
          77.82727272727273,
          77.11818181818181,
          53.972727272727276,
          73.7,
          60.527272727272724,
          43.20909090909091,
          42.31818181818182,
          59.48181818181818,
          70.04545454545455,
          57.99090909090909,
          59.36363636363637,
          80.42727272727274,
          71.50909090909092,
          73.77272727272727,
          78.39999999999999,
          64.23333333333333,
          67.17272727272727,
          50.16363636363636,
          50.709090909090904,
          40.02727272727273,
          43.345454545454544,
          67.51818181818182,
          48.49090909090909,
          66.32727272727273,
          59.73636363636364,
          46.67272727272727,
          54.10909090909092,
          53.027272727272724,
          77.83636363636364,
          76.50909090909092,
          54.96363636363637,
          47.175,
          45.29090909090909,
          81.17272727272727,
          64.6,
          49.65,
          68.66363636363636,
          59.7,
          70.62727272727273,
          57.09090909090909,
          73.06363636363636,
          77.11818181818181,
          68.26363636363637,
          67.07272727272726,
          45.26363636363636,
          61,
          48.4,
          59.48181818181818,
          43.77272727272727,
          71.96363636363637,
          70.31818181818181,
          63.13636363636363,
          67.62727272727273,
          76.41818181818182,
          56.49090909090909,
          38.663636363636364,
          78.24545454545455,
          75.78181818181818,
          40.64545454545455,
          53.111111111111114,
          45.14545454545455,
          59.56363636363637,
          46.28181818181818,
          58.06363636363637,
          64.17272727272727,
          46.481818181818184,
          55.290909090909096,
          63.2,
          76.7090909090909,
          78.2,
          69.84545454545454,
          53.111111111111114,
          46.78181818181818,
          63.98181818181818,
          45.27272727272727
         ],
         "yaxis": "y"
        }
       ],
       "layout": {
        "legend": {
         "tracegroupgap": 0
        },
        "template": {
         "data": {
          "bar": [
           {
            "error_x": {
             "color": "#2a3f5f"
            },
            "error_y": {
             "color": "#2a3f5f"
            },
            "marker": {
             "line": {
              "color": "white",
              "width": 0.5
             },
             "pattern": {
              "fillmode": "overlay",
              "size": 10,
              "solidity": 0.2
             }
            },
            "type": "bar"
           }
          ],
          "barpolar": [
           {
            "marker": {
             "line": {
              "color": "white",
              "width": 0.5
             },
             "pattern": {
              "fillmode": "overlay",
              "size": 10,
              "solidity": 0.2
             }
            },
            "type": "barpolar"
           }
          ],
          "carpet": [
           {
            "aaxis": {
             "endlinecolor": "#2a3f5f",
             "gridcolor": "#C8D4E3",
             "linecolor": "#C8D4E3",
             "minorgridcolor": "#C8D4E3",
             "startlinecolor": "#2a3f5f"
            },
            "baxis": {
             "endlinecolor": "#2a3f5f",
             "gridcolor": "#C8D4E3",
             "linecolor": "#C8D4E3",
             "minorgridcolor": "#C8D4E3",
             "startlinecolor": "#2a3f5f"
            },
            "type": "carpet"
           }
          ],
          "choropleth": [
           {
            "colorbar": {
             "outlinewidth": 0,
             "ticks": ""
            },
            "type": "choropleth"
           }
          ],
          "contour": [
           {
            "colorbar": {
             "outlinewidth": 0,
             "ticks": ""
            },
            "colorscale": [
             [
              0,
              "#0d0887"
             ],
             [
              0.1111111111111111,
              "#46039f"
             ],
             [
              0.2222222222222222,
              "#7201a8"
             ],
             [
              0.3333333333333333,
              "#9c179e"
             ],
             [
              0.4444444444444444,
              "#bd3786"
             ],
             [
              0.5555555555555556,
              "#d8576b"
             ],
             [
              0.6666666666666666,
              "#ed7953"
             ],
             [
              0.7777777777777778,
              "#fb9f3a"
             ],
             [
              0.8888888888888888,
              "#fdca26"
             ],
             [
              1,
              "#f0f921"
             ]
            ],
            "type": "contour"
           }
          ],
          "contourcarpet": [
           {
            "colorbar": {
             "outlinewidth": 0,
             "ticks": ""
            },
            "type": "contourcarpet"
           }
          ],
          "heatmap": [
           {
            "colorbar": {
             "outlinewidth": 0,
             "ticks": ""
            },
            "colorscale": [
             [
              0,
              "#0d0887"
             ],
             [
              0.1111111111111111,
              "#46039f"
             ],
             [
              0.2222222222222222,
              "#7201a8"
             ],
             [
              0.3333333333333333,
              "#9c179e"
             ],
             [
              0.4444444444444444,
              "#bd3786"
             ],
             [
              0.5555555555555556,
              "#d8576b"
             ],
             [
              0.6666666666666666,
              "#ed7953"
             ],
             [
              0.7777777777777778,
              "#fb9f3a"
             ],
             [
              0.8888888888888888,
              "#fdca26"
             ],
             [
              1,
              "#f0f921"
             ]
            ],
            "type": "heatmap"
           }
          ],
          "heatmapgl": [
           {
            "colorbar": {
             "outlinewidth": 0,
             "ticks": ""
            },
            "colorscale": [
             [
              0,
              "#0d0887"
             ],
             [
              0.1111111111111111,
              "#46039f"
             ],
             [
              0.2222222222222222,
              "#7201a8"
             ],
             [
              0.3333333333333333,
              "#9c179e"
             ],
             [
              0.4444444444444444,
              "#bd3786"
             ],
             [
              0.5555555555555556,
              "#d8576b"
             ],
             [
              0.6666666666666666,
              "#ed7953"
             ],
             [
              0.7777777777777778,
              "#fb9f3a"
             ],
             [
              0.8888888888888888,
              "#fdca26"
             ],
             [
              1,
              "#f0f921"
             ]
            ],
            "type": "heatmapgl"
           }
          ],
          "histogram": [
           {
            "marker": {
             "pattern": {
              "fillmode": "overlay",
              "size": 10,
              "solidity": 0.2
             }
            },
            "type": "histogram"
           }
          ],
          "histogram2d": [
           {
            "colorbar": {
             "outlinewidth": 0,
             "ticks": ""
            },
            "colorscale": [
             [
              0,
              "#0d0887"
             ],
             [
              0.1111111111111111,
              "#46039f"
             ],
             [
              0.2222222222222222,
              "#7201a8"
             ],
             [
              0.3333333333333333,
              "#9c179e"
             ],
             [
              0.4444444444444444,
              "#bd3786"
             ],
             [
              0.5555555555555556,
              "#d8576b"
             ],
             [
              0.6666666666666666,
              "#ed7953"
             ],
             [
              0.7777777777777778,
              "#fb9f3a"
             ],
             [
              0.8888888888888888,
              "#fdca26"
             ],
             [
              1,
              "#f0f921"
             ]
            ],
            "type": "histogram2d"
           }
          ],
          "histogram2dcontour": [
           {
            "colorbar": {
             "outlinewidth": 0,
             "ticks": ""
            },
            "colorscale": [
             [
              0,
              "#0d0887"
             ],
             [
              0.1111111111111111,
              "#46039f"
             ],
             [
              0.2222222222222222,
              "#7201a8"
             ],
             [
              0.3333333333333333,
              "#9c179e"
             ],
             [
              0.4444444444444444,
              "#bd3786"
             ],
             [
              0.5555555555555556,
              "#d8576b"
             ],
             [
              0.6666666666666666,
              "#ed7953"
             ],
             [
              0.7777777777777778,
              "#fb9f3a"
             ],
             [
              0.8888888888888888,
              "#fdca26"
             ],
             [
              1,
              "#f0f921"
             ]
            ],
            "type": "histogram2dcontour"
           }
          ],
          "mesh3d": [
           {
            "colorbar": {
             "outlinewidth": 0,
             "ticks": ""
            },
            "type": "mesh3d"
           }
          ],
          "parcoords": [
           {
            "line": {
             "colorbar": {
              "outlinewidth": 0,
              "ticks": ""
             }
            },
            "type": "parcoords"
           }
          ],
          "pie": [
           {
            "automargin": true,
            "type": "pie"
           }
          ],
          "scatter": [
           {
            "fillpattern": {
             "fillmode": "overlay",
             "size": 10,
             "solidity": 0.2
            },
            "type": "scatter"
           }
          ],
          "scatter3d": [
           {
            "line": {
             "colorbar": {
              "outlinewidth": 0,
              "ticks": ""
             }
            },
            "marker": {
             "colorbar": {
              "outlinewidth": 0,
              "ticks": ""
             }
            },
            "type": "scatter3d"
           }
          ],
          "scattercarpet": [
           {
            "marker": {
             "colorbar": {
              "outlinewidth": 0,
              "ticks": ""
             }
            },
            "type": "scattercarpet"
           }
          ],
          "scattergeo": [
           {
            "marker": {
             "colorbar": {
              "outlinewidth": 0,
              "ticks": ""
             }
            },
            "type": "scattergeo"
           }
          ],
          "scattergl": [
           {
            "marker": {
             "colorbar": {
              "outlinewidth": 0,
              "ticks": ""
             }
            },
            "type": "scattergl"
           }
          ],
          "scattermapbox": [
           {
            "marker": {
             "colorbar": {
              "outlinewidth": 0,
              "ticks": ""
             }
            },
            "type": "scattermapbox"
           }
          ],
          "scatterpolar": [
           {
            "marker": {
             "colorbar": {
              "outlinewidth": 0,
              "ticks": ""
             }
            },
            "type": "scatterpolar"
           }
          ],
          "scatterpolargl": [
           {
            "marker": {
             "colorbar": {
              "outlinewidth": 0,
              "ticks": ""
             }
            },
            "type": "scatterpolargl"
           }
          ],
          "scatterternary": [
           {
            "marker": {
             "colorbar": {
              "outlinewidth": 0,
              "ticks": ""
             }
            },
            "type": "scatterternary"
           }
          ],
          "surface": [
           {
            "colorbar": {
             "outlinewidth": 0,
             "ticks": ""
            },
            "colorscale": [
             [
              0,
              "#0d0887"
             ],
             [
              0.1111111111111111,
              "#46039f"
             ],
             [
              0.2222222222222222,
              "#7201a8"
             ],
             [
              0.3333333333333333,
              "#9c179e"
             ],
             [
              0.4444444444444444,
              "#bd3786"
             ],
             [
              0.5555555555555556,
              "#d8576b"
             ],
             [
              0.6666666666666666,
              "#ed7953"
             ],
             [
              0.7777777777777778,
              "#fb9f3a"
             ],
             [
              0.8888888888888888,
              "#fdca26"
             ],
             [
              1,
              "#f0f921"
             ]
            ],
            "type": "surface"
           }
          ],
          "table": [
           {
            "cells": {
             "fill": {
              "color": "#EBF0F8"
             },
             "line": {
              "color": "white"
             }
            },
            "header": {
             "fill": {
              "color": "#C8D4E3"
             },
             "line": {
              "color": "white"
             }
            },
            "type": "table"
           }
          ]
         },
         "layout": {
          "annotationdefaults": {
           "arrowcolor": "#2a3f5f",
           "arrowhead": 0,
           "arrowwidth": 1
          },
          "autotypenumbers": "strict",
          "coloraxis": {
           "colorbar": {
            "outlinewidth": 0,
            "ticks": ""
           }
          },
          "colorscale": {
           "diverging": [
            [
             0,
             "#8e0152"
            ],
            [
             0.1,
             "#c51b7d"
            ],
            [
             0.2,
             "#de77ae"
            ],
            [
             0.3,
             "#f1b6da"
            ],
            [
             0.4,
             "#fde0ef"
            ],
            [
             0.5,
             "#f7f7f7"
            ],
            [
             0.6,
             "#e6f5d0"
            ],
            [
             0.7,
             "#b8e186"
            ],
            [
             0.8,
             "#7fbc41"
            ],
            [
             0.9,
             "#4d9221"
            ],
            [
             1,
             "#276419"
            ]
           ],
           "sequential": [
            [
             0,
             "#0d0887"
            ],
            [
             0.1111111111111111,
             "#46039f"
            ],
            [
             0.2222222222222222,
             "#7201a8"
            ],
            [
             0.3333333333333333,
             "#9c179e"
            ],
            [
             0.4444444444444444,
             "#bd3786"
            ],
            [
             0.5555555555555556,
             "#d8576b"
            ],
            [
             0.6666666666666666,
             "#ed7953"
            ],
            [
             0.7777777777777778,
             "#fb9f3a"
            ],
            [
             0.8888888888888888,
             "#fdca26"
            ],
            [
             1,
             "#f0f921"
            ]
           ],
           "sequentialminus": [
            [
             0,
             "#0d0887"
            ],
            [
             0.1111111111111111,
             "#46039f"
            ],
            [
             0.2222222222222222,
             "#7201a8"
            ],
            [
             0.3333333333333333,
             "#9c179e"
            ],
            [
             0.4444444444444444,
             "#bd3786"
            ],
            [
             0.5555555555555556,
             "#d8576b"
            ],
            [
             0.6666666666666666,
             "#ed7953"
            ],
            [
             0.7777777777777778,
             "#fb9f3a"
            ],
            [
             0.8888888888888888,
             "#fdca26"
            ],
            [
             1,
             "#f0f921"
            ]
           ]
          },
          "colorway": [
           "#636efa",
           "#EF553B",
           "#00cc96",
           "#ab63fa",
           "#FFA15A",
           "#19d3f3",
           "#FF6692",
           "#B6E880",
           "#FF97FF",
           "#FECB52"
          ],
          "font": {
           "color": "#2a3f5f"
          },
          "geo": {
           "bgcolor": "white",
           "lakecolor": "white",
           "landcolor": "white",
           "showlakes": true,
           "showland": true,
           "subunitcolor": "#C8D4E3"
          },
          "hoverlabel": {
           "align": "left"
          },
          "hovermode": "closest",
          "mapbox": {
           "style": "light"
          },
          "paper_bgcolor": "white",
          "plot_bgcolor": "white",
          "polar": {
           "angularaxis": {
            "gridcolor": "#EBF0F8",
            "linecolor": "#EBF0F8",
            "ticks": ""
           },
           "bgcolor": "white",
           "radialaxis": {
            "gridcolor": "#EBF0F8",
            "linecolor": "#EBF0F8",
            "ticks": ""
           }
          },
          "scene": {
           "xaxis": {
            "backgroundcolor": "white",
            "gridcolor": "#DFE8F3",
            "gridwidth": 2,
            "linecolor": "#EBF0F8",
            "showbackground": true,
            "ticks": "",
            "zerolinecolor": "#EBF0F8"
           },
           "yaxis": {
            "backgroundcolor": "white",
            "gridcolor": "#DFE8F3",
            "gridwidth": 2,
            "linecolor": "#EBF0F8",
            "showbackground": true,
            "ticks": "",
            "zerolinecolor": "#EBF0F8"
           },
           "zaxis": {
            "backgroundcolor": "white",
            "gridcolor": "#DFE8F3",
            "gridwidth": 2,
            "linecolor": "#EBF0F8",
            "showbackground": true,
            "ticks": "",
            "zerolinecolor": "#EBF0F8"
           }
          },
          "shapedefaults": {
           "line": {
            "color": "#2a3f5f"
           }
          },
          "ternary": {
           "aaxis": {
            "gridcolor": "#DFE8F3",
            "linecolor": "#A2B1C6",
            "ticks": ""
           },
           "baxis": {
            "gridcolor": "#DFE8F3",
            "linecolor": "#A2B1C6",
            "ticks": ""
           },
           "bgcolor": "white",
           "caxis": {
            "gridcolor": "#DFE8F3",
            "linecolor": "#A2B1C6",
            "ticks": ""
           }
          },
          "title": {
           "x": 0.05
          },
          "xaxis": {
           "automargin": true,
           "gridcolor": "#EBF0F8",
           "linecolor": "#EBF0F8",
           "ticks": "",
           "title": {
            "standoff": 15
           },
           "zerolinecolor": "#EBF0F8",
           "zerolinewidth": 2
          },
          "yaxis": {
           "automargin": true,
           "gridcolor": "#EBF0F8",
           "linecolor": "#EBF0F8",
           "ticks": "",
           "title": {
            "standoff": 15
           },
           "zerolinecolor": "#EBF0F8",
           "zerolinewidth": 2
          }
         }
        },
        "title": {
         "font": {
          "size": 16
         },
         "text": "Median Tree Cover Loss vs Median CO2 Emission by Country 2001 - 2019"
        },
        "xaxis": {
         "anchor": "y",
         "domain": [
          0,
          1
         ],
         "title": {
          "text": "Average of Tree Cover Loss (ha)"
         }
        },
        "yaxis": {
         "anchor": "x",
         "domain": [
          0,
          1
         ],
         "title": {
          "text": "Average of Food Security Index"
         }
        }
       }
      },
      "text/html": [
       "<div>                            <div id=\"cfa47d81-a77e-4c36-8e28-2f84c080a17f\" class=\"plotly-graph-div\" style=\"height:525px; width:100%;\"></div>            <script type=\"text/javascript\">                require([\"plotly\"], function(Plotly) {                    window.PLOTLYENV=window.PLOTLYENV || {};                                    if (document.getElementById(\"cfa47d81-a77e-4c36-8e28-2f84c080a17f\")) {                    Plotly.newPlot(                        \"cfa47d81-a77e-4c36-8e28-2f84c080a17f\",                        [{\"hovertemplate\":\"Average of Tree Cover Loss (ha)=%{x}<br>Average of Food Security Index=%{y}<br>country_1=%{text}<extra></extra>\",\"legendgroup\":\"\",\"marker\":{\"color\":\"#636efa\",\"symbol\":\"circle\",\"opacity\":0.7,\"size\":10},\"mode\":\"markers+text\",\"name\":\"\",\"orientation\":\"v\",\"showlegend\":false,\"text\":[\"Algeria\",\"Angola\",\"Argentina\",\"Australia\",\"Austria\",\"Azerbaijan\",\"Bangladesh\",\"Belarus\",\"Belgium\",\"Benin\",\"Bolivia\",\"Botswana\",\"Brazil\",\"Bulgaria\",\"Burkina Faso\",\"Burundi\",\"Cambodia\",\"Cameroon\",\"Canada\",\"Chad\",\"Chile\",\"China\",\"Colombia\",\"Costa Rica\",\"Czech Republic\",\"Denmark\",\"Ecuador\",\"Egypt\",\"El Salvador\",\"Ethiopia\",\"Finland\",\"France\",\"Germany\",\"Ghana\",\"Greece\",\"Guatemala\",\"Guinea\",\"Haiti\",\"Honduras\",\"Hungary\",\"India\",\"Indonesia\",\"Ireland\",\"Israel\",\"Italy\",\"Japan\",\"Jordan\",\"Kazakhstan\",\"Kenya\",\"Laos\",\"Madagascar\",\"Malawi\",\"Malaysia\",\"Mali\",\"Mexico\",\"Morocco\",\"Mozambique\",\"Myanmar\",\"Nepal\",\"Netherlands\",\"New Zealand\",\"Nicaragua\",\"Niger\",\"Nigeria\",\"Norway\",\"Oman\",\"Pakistan\",\"Panama\",\"Paraguay\",\"Peru\",\"Philippines\",\"Poland\",\"Portugal\",\"Romania\",\"Russia\",\"Rwanda\",\"Saudi Arabia\",\"Senegal\",\"Serbia\",\"Sierra Leone\",\"Singapore\",\"Slovakia\",\"South Africa\",\"South Korea\",\"Spain\",\"Sri Lanka\",\"Sudan\",\"Sweden\",\"Switzerland\",\"Syria\",\"Tajikistan\",\"Tanzania\",\"Thailand\",\"Togo\",\"Tunisia\",\"Turkey\",\"Uganda\",\"Ukraine\",\"United Arab Emirates\",\"United Kingdom\",\"United States\",\"Uruguay\",\"Uzbekistan\",\"Venezuela\",\"Vietnam\",\"Zambia\"],\"x\":[13282.078765686305,224096.32140142933,244571.491839802,569075.8513105548,17693.888185795604,140.79394450464682,16354.637677722221,60396.017092595575,4986.560807941948,1634.071346494082,413495.81586379133,5.030550721225833,3174196.879659726,6562.349831429809,0.054928922746606684,1830.3154927591715,148091.27932850155,132965.3717078303,2337526.9855777333,4261.232063280769,108814.05097733629,551685.2618189484,263751.42488150415,10615.390954227862,36070.98812084461,4280.426439616455,45894.81645443071,82.65402031042123,2733.548196343033,24783.645518516285,234680.14451887982,64476.93811090812,70147.27852831317,102400.29480449442,10974.471891589017,79046.18417234188,160490.0850366142,4886.674645342901,78521.62573169112,13057.445363548091,131149.34419482516,1440637.796175862,6983.118512324063,62.00090508979029,28502.483699621305,43911.313106015456,0.5222737387950304,1660.649470788098,15341.244581995474,297761.3416106017,308503.2629020936,14185.101759628398,430717.96754665894,222.53784440726676,236111.2506910246,2733.771384504125,222771.2724415875,296885.8062833958,1980.1131055774242,1389.7755285159021,71094.2281075928,85848.94991492928,0.01869085653252495,85500.4349749654,52764.82047524622,0.0,86.79453456892719,21350.593863967413,313147.8567829555,233993.2080323115,78356.90003190385,69998.35234376822,69589.47713427582,18737.901631065455,4819559.174180738,2693.502784640376,0.0,320.7802711256781,3929.127113557971,158421.28598574118,175.2291667613077,10848.351879599457,67617.51891477586,12389.93498277886,91489.60605995222,11734.716127700003,33.68817320385975,287157.3138051216,2256.46055286373,2034.844643110541,3.228245730390866,165481.95714371477,131090.89804831875,4297.129972511328,2229.201501680734,37555.253906614154,64245.00581371165,63233.31947610432,0.0,28030.75681379987,2065461.4665369554,19906.97677132656,21.907539933371933,110876.55879822018,217915.1644264116,139422.6562827769],\"xaxis\":\"x\",\"y\":[56.472727272727276,42.49090909090909,63.7,74.53636363636363,77.07272727272726,61.27272727272727,53.57272727272727,65.51818181818182,75.66363636363636,44.845454545454544,62.63636363636363,52.809090909090905,68.23636363636363,67.75454545454545,47.51818181818182,40.57272727272727,53.33636363636364,45.97272727272727,75.01818181818182,40.627272727272725,72.36363636363636,69.58181818181818,65.76363636363637,75.18181818181819,76.21818181818182,76.82727272727273,63.3,55.0,61.67272727272727,43.945454545454545,81.88181818181819,77.82727272727273,77.11818181818181,53.972727272727276,73.7,60.527272727272724,43.20909090909091,42.31818181818182,59.48181818181818,70.04545454545455,57.99090909090909,59.36363636363637,80.42727272727274,71.50909090909092,73.77272727272727,78.39999999999999,64.23333333333333,67.17272727272727,50.16363636363636,50.709090909090904,40.02727272727273,43.345454545454544,67.51818181818182,48.49090909090909,66.32727272727273,59.73636363636364,46.67272727272727,54.10909090909092,53.027272727272724,77.83636363636364,76.50909090909092,54.96363636363637,47.175,45.29090909090909,81.17272727272727,64.6,49.65,68.66363636363636,59.7,70.62727272727273,57.09090909090909,73.06363636363636,77.11818181818181,68.26363636363637,67.07272727272726,45.26363636363636,61.0,48.4,59.48181818181818,43.77272727272727,71.96363636363637,70.31818181818181,63.13636363636363,67.62727272727273,76.41818181818182,56.49090909090909,38.663636363636364,78.24545454545455,75.78181818181818,40.64545454545455,53.111111111111114,45.14545454545455,59.56363636363637,46.28181818181818,58.06363636363637,64.17272727272727,46.481818181818184,55.290909090909096,63.2,76.7090909090909,78.2,69.84545454545454,53.111111111111114,46.78181818181818,63.98181818181818,45.27272727272727],\"yaxis\":\"y\",\"type\":\"scatter\",\"textposition\":\"top center\"}],                        {\"template\":{\"data\":{\"barpolar\":[{\"marker\":{\"line\":{\"color\":\"white\",\"width\":0.5},\"pattern\":{\"fillmode\":\"overlay\",\"size\":10,\"solidity\":0.2}},\"type\":\"barpolar\"}],\"bar\":[{\"error_x\":{\"color\":\"#2a3f5f\"},\"error_y\":{\"color\":\"#2a3f5f\"},\"marker\":{\"line\":{\"color\":\"white\",\"width\":0.5},\"pattern\":{\"fillmode\":\"overlay\",\"size\":10,\"solidity\":0.2}},\"type\":\"bar\"}],\"carpet\":[{\"aaxis\":{\"endlinecolor\":\"#2a3f5f\",\"gridcolor\":\"#C8D4E3\",\"linecolor\":\"#C8D4E3\",\"minorgridcolor\":\"#C8D4E3\",\"startlinecolor\":\"#2a3f5f\"},\"baxis\":{\"endlinecolor\":\"#2a3f5f\",\"gridcolor\":\"#C8D4E3\",\"linecolor\":\"#C8D4E3\",\"minorgridcolor\":\"#C8D4E3\",\"startlinecolor\":\"#2a3f5f\"},\"type\":\"carpet\"}],\"choropleth\":[{\"colorbar\":{\"outlinewidth\":0,\"ticks\":\"\"},\"type\":\"choropleth\"}],\"contourcarpet\":[{\"colorbar\":{\"outlinewidth\":0,\"ticks\":\"\"},\"type\":\"contourcarpet\"}],\"contour\":[{\"colorbar\":{\"outlinewidth\":0,\"ticks\":\"\"},\"colorscale\":[[0.0,\"#0d0887\"],[0.1111111111111111,\"#46039f\"],[0.2222222222222222,\"#7201a8\"],[0.3333333333333333,\"#9c179e\"],[0.4444444444444444,\"#bd3786\"],[0.5555555555555556,\"#d8576b\"],[0.6666666666666666,\"#ed7953\"],[0.7777777777777778,\"#fb9f3a\"],[0.8888888888888888,\"#fdca26\"],[1.0,\"#f0f921\"]],\"type\":\"contour\"}],\"heatmapgl\":[{\"colorbar\":{\"outlinewidth\":0,\"ticks\":\"\"},\"colorscale\":[[0.0,\"#0d0887\"],[0.1111111111111111,\"#46039f\"],[0.2222222222222222,\"#7201a8\"],[0.3333333333333333,\"#9c179e\"],[0.4444444444444444,\"#bd3786\"],[0.5555555555555556,\"#d8576b\"],[0.6666666666666666,\"#ed7953\"],[0.7777777777777778,\"#fb9f3a\"],[0.8888888888888888,\"#fdca26\"],[1.0,\"#f0f921\"]],\"type\":\"heatmapgl\"}],\"heatmap\":[{\"colorbar\":{\"outlinewidth\":0,\"ticks\":\"\"},\"colorscale\":[[0.0,\"#0d0887\"],[0.1111111111111111,\"#46039f\"],[0.2222222222222222,\"#7201a8\"],[0.3333333333333333,\"#9c179e\"],[0.4444444444444444,\"#bd3786\"],[0.5555555555555556,\"#d8576b\"],[0.6666666666666666,\"#ed7953\"],[0.7777777777777778,\"#fb9f3a\"],[0.8888888888888888,\"#fdca26\"],[1.0,\"#f0f921\"]],\"type\":\"heatmap\"}],\"histogram2dcontour\":[{\"colorbar\":{\"outlinewidth\":0,\"ticks\":\"\"},\"colorscale\":[[0.0,\"#0d0887\"],[0.1111111111111111,\"#46039f\"],[0.2222222222222222,\"#7201a8\"],[0.3333333333333333,\"#9c179e\"],[0.4444444444444444,\"#bd3786\"],[0.5555555555555556,\"#d8576b\"],[0.6666666666666666,\"#ed7953\"],[0.7777777777777778,\"#fb9f3a\"],[0.8888888888888888,\"#fdca26\"],[1.0,\"#f0f921\"]],\"type\":\"histogram2dcontour\"}],\"histogram2d\":[{\"colorbar\":{\"outlinewidth\":0,\"ticks\":\"\"},\"colorscale\":[[0.0,\"#0d0887\"],[0.1111111111111111,\"#46039f\"],[0.2222222222222222,\"#7201a8\"],[0.3333333333333333,\"#9c179e\"],[0.4444444444444444,\"#bd3786\"],[0.5555555555555556,\"#d8576b\"],[0.6666666666666666,\"#ed7953\"],[0.7777777777777778,\"#fb9f3a\"],[0.8888888888888888,\"#fdca26\"],[1.0,\"#f0f921\"]],\"type\":\"histogram2d\"}],\"histogram\":[{\"marker\":{\"pattern\":{\"fillmode\":\"overlay\",\"size\":10,\"solidity\":0.2}},\"type\":\"histogram\"}],\"mesh3d\":[{\"colorbar\":{\"outlinewidth\":0,\"ticks\":\"\"},\"type\":\"mesh3d\"}],\"parcoords\":[{\"line\":{\"colorbar\":{\"outlinewidth\":0,\"ticks\":\"\"}},\"type\":\"parcoords\"}],\"pie\":[{\"automargin\":true,\"type\":\"pie\"}],\"scatter3d\":[{\"line\":{\"colorbar\":{\"outlinewidth\":0,\"ticks\":\"\"}},\"marker\":{\"colorbar\":{\"outlinewidth\":0,\"ticks\":\"\"}},\"type\":\"scatter3d\"}],\"scattercarpet\":[{\"marker\":{\"colorbar\":{\"outlinewidth\":0,\"ticks\":\"\"}},\"type\":\"scattercarpet\"}],\"scattergeo\":[{\"marker\":{\"colorbar\":{\"outlinewidth\":0,\"ticks\":\"\"}},\"type\":\"scattergeo\"}],\"scattergl\":[{\"marker\":{\"colorbar\":{\"outlinewidth\":0,\"ticks\":\"\"}},\"type\":\"scattergl\"}],\"scattermapbox\":[{\"marker\":{\"colorbar\":{\"outlinewidth\":0,\"ticks\":\"\"}},\"type\":\"scattermapbox\"}],\"scatterpolargl\":[{\"marker\":{\"colorbar\":{\"outlinewidth\":0,\"ticks\":\"\"}},\"type\":\"scatterpolargl\"}],\"scatterpolar\":[{\"marker\":{\"colorbar\":{\"outlinewidth\":0,\"ticks\":\"\"}},\"type\":\"scatterpolar\"}],\"scatter\":[{\"fillpattern\":{\"fillmode\":\"overlay\",\"size\":10,\"solidity\":0.2},\"type\":\"scatter\"}],\"scatterternary\":[{\"marker\":{\"colorbar\":{\"outlinewidth\":0,\"ticks\":\"\"}},\"type\":\"scatterternary\"}],\"surface\":[{\"colorbar\":{\"outlinewidth\":0,\"ticks\":\"\"},\"colorscale\":[[0.0,\"#0d0887\"],[0.1111111111111111,\"#46039f\"],[0.2222222222222222,\"#7201a8\"],[0.3333333333333333,\"#9c179e\"],[0.4444444444444444,\"#bd3786\"],[0.5555555555555556,\"#d8576b\"],[0.6666666666666666,\"#ed7953\"],[0.7777777777777778,\"#fb9f3a\"],[0.8888888888888888,\"#fdca26\"],[1.0,\"#f0f921\"]],\"type\":\"surface\"}],\"table\":[{\"cells\":{\"fill\":{\"color\":\"#EBF0F8\"},\"line\":{\"color\":\"white\"}},\"header\":{\"fill\":{\"color\":\"#C8D4E3\"},\"line\":{\"color\":\"white\"}},\"type\":\"table\"}]},\"layout\":{\"annotationdefaults\":{\"arrowcolor\":\"#2a3f5f\",\"arrowhead\":0,\"arrowwidth\":1},\"autotypenumbers\":\"strict\",\"coloraxis\":{\"colorbar\":{\"outlinewidth\":0,\"ticks\":\"\"}},\"colorscale\":{\"diverging\":[[0,\"#8e0152\"],[0.1,\"#c51b7d\"],[0.2,\"#de77ae\"],[0.3,\"#f1b6da\"],[0.4,\"#fde0ef\"],[0.5,\"#f7f7f7\"],[0.6,\"#e6f5d0\"],[0.7,\"#b8e186\"],[0.8,\"#7fbc41\"],[0.9,\"#4d9221\"],[1,\"#276419\"]],\"sequential\":[[0.0,\"#0d0887\"],[0.1111111111111111,\"#46039f\"],[0.2222222222222222,\"#7201a8\"],[0.3333333333333333,\"#9c179e\"],[0.4444444444444444,\"#bd3786\"],[0.5555555555555556,\"#d8576b\"],[0.6666666666666666,\"#ed7953\"],[0.7777777777777778,\"#fb9f3a\"],[0.8888888888888888,\"#fdca26\"],[1.0,\"#f0f921\"]],\"sequentialminus\":[[0.0,\"#0d0887\"],[0.1111111111111111,\"#46039f\"],[0.2222222222222222,\"#7201a8\"],[0.3333333333333333,\"#9c179e\"],[0.4444444444444444,\"#bd3786\"],[0.5555555555555556,\"#d8576b\"],[0.6666666666666666,\"#ed7953\"],[0.7777777777777778,\"#fb9f3a\"],[0.8888888888888888,\"#fdca26\"],[1.0,\"#f0f921\"]]},\"colorway\":[\"#636efa\",\"#EF553B\",\"#00cc96\",\"#ab63fa\",\"#FFA15A\",\"#19d3f3\",\"#FF6692\",\"#B6E880\",\"#FF97FF\",\"#FECB52\"],\"font\":{\"color\":\"#2a3f5f\"},\"geo\":{\"bgcolor\":\"white\",\"lakecolor\":\"white\",\"landcolor\":\"white\",\"showlakes\":true,\"showland\":true,\"subunitcolor\":\"#C8D4E3\"},\"hoverlabel\":{\"align\":\"left\"},\"hovermode\":\"closest\",\"mapbox\":{\"style\":\"light\"},\"paper_bgcolor\":\"white\",\"plot_bgcolor\":\"white\",\"polar\":{\"angularaxis\":{\"gridcolor\":\"#EBF0F8\",\"linecolor\":\"#EBF0F8\",\"ticks\":\"\"},\"bgcolor\":\"white\",\"radialaxis\":{\"gridcolor\":\"#EBF0F8\",\"linecolor\":\"#EBF0F8\",\"ticks\":\"\"}},\"scene\":{\"xaxis\":{\"backgroundcolor\":\"white\",\"gridcolor\":\"#DFE8F3\",\"gridwidth\":2,\"linecolor\":\"#EBF0F8\",\"showbackground\":true,\"ticks\":\"\",\"zerolinecolor\":\"#EBF0F8\"},\"yaxis\":{\"backgroundcolor\":\"white\",\"gridcolor\":\"#DFE8F3\",\"gridwidth\":2,\"linecolor\":\"#EBF0F8\",\"showbackground\":true,\"ticks\":\"\",\"zerolinecolor\":\"#EBF0F8\"},\"zaxis\":{\"backgroundcolor\":\"white\",\"gridcolor\":\"#DFE8F3\",\"gridwidth\":2,\"linecolor\":\"#EBF0F8\",\"showbackground\":true,\"ticks\":\"\",\"zerolinecolor\":\"#EBF0F8\"}},\"shapedefaults\":{\"line\":{\"color\":\"#2a3f5f\"}},\"ternary\":{\"aaxis\":{\"gridcolor\":\"#DFE8F3\",\"linecolor\":\"#A2B1C6\",\"ticks\":\"\"},\"baxis\":{\"gridcolor\":\"#DFE8F3\",\"linecolor\":\"#A2B1C6\",\"ticks\":\"\"},\"bgcolor\":\"white\",\"caxis\":{\"gridcolor\":\"#DFE8F3\",\"linecolor\":\"#A2B1C6\",\"ticks\":\"\"}},\"title\":{\"x\":0.05},\"xaxis\":{\"automargin\":true,\"gridcolor\":\"#EBF0F8\",\"linecolor\":\"#EBF0F8\",\"ticks\":\"\",\"title\":{\"standoff\":15},\"zerolinecolor\":\"#EBF0F8\",\"zerolinewidth\":2},\"yaxis\":{\"automargin\":true,\"gridcolor\":\"#EBF0F8\",\"linecolor\":\"#EBF0F8\",\"ticks\":\"\",\"title\":{\"standoff\":15},\"zerolinecolor\":\"#EBF0F8\",\"zerolinewidth\":2}}},\"xaxis\":{\"anchor\":\"y\",\"domain\":[0.0,1.0],\"title\":{\"text\":\"Average of Tree Cover Loss (ha)\"}},\"yaxis\":{\"anchor\":\"x\",\"domain\":[0.0,1.0],\"title\":{\"text\":\"Average of Food Security Index\"}},\"legend\":{\"tracegroupgap\":0},\"title\":{\"text\":\"Median Tree Cover Loss vs Median CO2 Emission by Country 2001 - 2019\",\"font\":{\"size\":16}}},                        {\"responsive\": true}                    ).then(function(){\n",
       "                            \n",
       "var gd = document.getElementById('cfa47d81-a77e-4c36-8e28-2f84c080a17f');\n",
       "var x = new MutationObserver(function (mutations, observer) {{\n",
       "        var display = window.getComputedStyle(gd).display;\n",
       "        if (!display || display === 'none') {{\n",
       "            console.log([gd, 'removed!']);\n",
       "            Plotly.purge(gd);\n",
       "            observer.disconnect();\n",
       "        }}\n",
       "}});\n",
       "\n",
       "// Listen for the removal of the full notebook cells\n",
       "var notebookContainer = gd.closest('#notebook-container');\n",
       "if (notebookContainer) {{\n",
       "    x.observe(notebookContainer, {childList: true});\n",
       "}}\n",
       "\n",
       "// Listen for the clearing of the current output cell\n",
       "var outputEl = gd.closest('.output');\n",
       "if (outputEl) {{\n",
       "    x.observe(outputEl, {childList: true});\n",
       "}}\n",
       "\n",
       "                        })                };                });            </script>        </div>"
      ]
     },
     "metadata": {},
     "output_type": "display_data"
    }
   ],
   "source": [
    "fig = px.scatter(\n",
    "country_mean,\n",
    "x= 'umd_tree_cover_loss__ha',\n",
    "y='fsi',\n",
    "text='country_1',\n",
    "labels={\n",
    "    'umd_tree_cover_loss__ha': 'Average of Tree Cover Loss (ha)',\n",
    "    'fsi': 'Average of Food Security Index'},\n",
    "title='Median Tree Cover Loss vs Median CO2 Emission by Country 2001 - 2019')\n",
    "\n",
    "fig.update_traces(marker=dict(size=10, opacity=0.7), textposition='top center')\n",
    "fig.update_layout(\n",
    "title_font_size=16,\n",
    "xaxis_title='Average of Tree Cover Loss (ha)',\n",
    "yaxis_title='Average of Food Security Index',\n",
    "template='plotly_white'\n",
    ")\n",
    "fig.show()"
   ]
  },
  {
   "cell_type": "code",
   "execution_count": null,
   "id": "15f900b3",
   "metadata": {},
   "outputs": [],
   "source": []
  },
  {
   "cell_type": "code",
   "execution_count": 35,
   "id": "3e65672e",
   "metadata": {},
   "outputs": [
    {
     "data": {
      "text/html": [
       "<div>\n",
       "<style scoped>\n",
       "    .dataframe tbody tr th:only-of-type {\n",
       "        vertical-align: middle;\n",
       "    }\n",
       "\n",
       "    .dataframe tbody tr th {\n",
       "        vertical-align: top;\n",
       "    }\n",
       "\n",
       "    .dataframe thead th {\n",
       "        text-align: right;\n",
       "    }\n",
       "</style>\n",
       "<table border=\"1\" class=\"dataframe\">\n",
       "  <thead>\n",
       "    <tr style=\"text-align: right;\">\n",
       "      <th></th>\n",
       "      <th>continent_sub_region</th>\n",
       "      <th>correlation</th>\n",
       "      <th>p_value</th>\n",
       "      <th>is_significant</th>\n",
       "    </tr>\n",
       "  </thead>\n",
       "  <tbody>\n",
       "    <tr>\n",
       "      <th>0</th>\n",
       "      <td>Australia and New Zealand</td>\n",
       "      <td>0.223145</td>\n",
       "      <td>0.509545</td>\n",
       "      <td>No</td>\n",
       "    </tr>\n",
       "    <tr>\n",
       "      <th>1</th>\n",
       "      <td>Central Asia</td>\n",
       "      <td>-0.367052</td>\n",
       "      <td>0.266821</td>\n",
       "      <td>No</td>\n",
       "    </tr>\n",
       "    <tr>\n",
       "      <th>2</th>\n",
       "      <td>Eastern Asia</td>\n",
       "      <td>0.052871</td>\n",
       "      <td>0.877307</td>\n",
       "      <td>No</td>\n",
       "    </tr>\n",
       "    <tr>\n",
       "      <th>3</th>\n",
       "      <td>Eastern Europe</td>\n",
       "      <td>0.180454</td>\n",
       "      <td>0.595441</td>\n",
       "      <td>No</td>\n",
       "    </tr>\n",
       "    <tr>\n",
       "      <th>4</th>\n",
       "      <td>Latin America and the Caribbean</td>\n",
       "      <td>0.260004</td>\n",
       "      <td>0.440037</td>\n",
       "      <td>No</td>\n",
       "    </tr>\n",
       "    <tr>\n",
       "      <th>5</th>\n",
       "      <td>Northern Africa</td>\n",
       "      <td>0.310776</td>\n",
       "      <td>0.352273</td>\n",
       "      <td>No</td>\n",
       "    </tr>\n",
       "    <tr>\n",
       "      <th>6</th>\n",
       "      <td>Northern America</td>\n",
       "      <td>-0.454645</td>\n",
       "      <td>0.160042</td>\n",
       "      <td>No</td>\n",
       "    </tr>\n",
       "    <tr>\n",
       "      <th>7</th>\n",
       "      <td>Northern Europe</td>\n",
       "      <td>0.872534</td>\n",
       "      <td>0.000458</td>\n",
       "      <td>Yes</td>\n",
       "    </tr>\n",
       "    <tr>\n",
       "      <th>8</th>\n",
       "      <td>South-eastern Asia</td>\n",
       "      <td>-0.440085</td>\n",
       "      <td>0.175557</td>\n",
       "      <td>No</td>\n",
       "    </tr>\n",
       "    <tr>\n",
       "      <th>9</th>\n",
       "      <td>Southern Asia</td>\n",
       "      <td>0.671392</td>\n",
       "      <td>0.023692</td>\n",
       "      <td>Yes</td>\n",
       "    </tr>\n",
       "    <tr>\n",
       "      <th>10</th>\n",
       "      <td>Southern Europe</td>\n",
       "      <td>0.519386</td>\n",
       "      <td>0.101556</td>\n",
       "      <td>No</td>\n",
       "    </tr>\n",
       "    <tr>\n",
       "      <th>11</th>\n",
       "      <td>Sub-Saharan Africa</td>\n",
       "      <td>0.525049</td>\n",
       "      <td>0.097231</td>\n",
       "      <td>No</td>\n",
       "    </tr>\n",
       "    <tr>\n",
       "      <th>12</th>\n",
       "      <td>Western Asia</td>\n",
       "      <td>-0.359523</td>\n",
       "      <td>0.277502</td>\n",
       "      <td>No</td>\n",
       "    </tr>\n",
       "    <tr>\n",
       "      <th>13</th>\n",
       "      <td>Western Europe</td>\n",
       "      <td>0.646140</td>\n",
       "      <td>0.031721</td>\n",
       "      <td>Yes</td>\n",
       "    </tr>\n",
       "  </tbody>\n",
       "</table>\n",
       "</div>"
      ],
      "text/plain": [
       "               continent_sub_region  correlation   p_value is_significant\n",
       "0         Australia and New Zealand     0.223145  0.509545             No\n",
       "1                      Central Asia    -0.367052  0.266821             No\n",
       "2                      Eastern Asia     0.052871  0.877307             No\n",
       "3                    Eastern Europe     0.180454  0.595441             No\n",
       "4   Latin America and the Caribbean     0.260004  0.440037             No\n",
       "5                   Northern Africa     0.310776  0.352273             No\n",
       "6                  Northern America    -0.454645  0.160042             No\n",
       "7                   Northern Europe     0.872534  0.000458            Yes\n",
       "8                South-eastern Asia    -0.440085  0.175557             No\n",
       "9                     Southern Asia     0.671392  0.023692            Yes\n",
       "10                  Southern Europe     0.519386  0.101556             No\n",
       "11               Sub-Saharan Africa     0.525049  0.097231             No\n",
       "12                     Western Asia    -0.359523  0.277502             No\n",
       "13                   Western Europe     0.646140  0.031721            Yes"
      ]
     },
     "execution_count": 35,
     "metadata": {},
     "output_type": "execute_result"
    }
   ],
   "source": [
    "from scipy.stats import pearsonr\n",
    "\n",
    "results = []\n",
    "for region, group in deforest_agg.groupby('continent_sub_region'):\n",
    "    corr, p_value = pearsonr(group['umd_tree_cover_loss__ha'], group['fsi'])\n",
    "    results.append({\n",
    "        'continent_sub_region': region,\n",
    "        'correlation': corr,\n",
    "        'p_value': p_value,\n",
    "        'is_significant': 'Yes' if p_value < 0.05 else 'No'\n",
    "    })\n",
    "\n",
    "\n",
    "correlations = pd.DataFrame(results)\n",
    "correlations"
   ]
  },
  {
   "cell_type": "code",
   "execution_count": 38,
   "id": "c29867b2",
   "metadata": {},
   "outputs": [
    {
     "data": {
      "application/vnd.plotly.v1+json": {
       "config": {
        "plotlyServerURL": "https://plot.ly"
       },
       "data": [
        {
         "alignmentgroup": "True",
         "customdata": [
          [
           "Australia and New Zealand",
           "No"
          ],
          [
           "Central Asia",
           "No"
          ],
          [
           "Eastern Asia",
           "No"
          ],
          [
           "Eastern Europe",
           "No"
          ],
          [
           "Latin America and the Caribbean",
           "No"
          ],
          [
           "Northern Africa",
           "No"
          ],
          [
           "Northern America",
           "No"
          ],
          [
           "Northern Europe",
           "Yes"
          ],
          [
           "South-eastern Asia",
           "No"
          ],
          [
           "Southern Asia",
           "Yes"
          ],
          [
           "Southern Europe",
           "No"
          ],
          [
           "Sub-Saharan Africa",
           "No"
          ],
          [
           "Western Asia",
           "No"
          ],
          [
           "Western Europe",
           "Yes"
          ]
         ],
         "hovertemplate": "is_significant=No<br>continent_sub_region=%{x}<br>Correlation Coefficient=%{text}<extra></extra>",
         "legendgroup": "No",
         "marker": {
          "color": "red",
          "pattern": {
           "shape": ""
          }
         },
         "name": "No",
         "offsetgroup": "No",
         "orientation": "v",
         "showlegend": true,
         "text": [
          0.2231453295069239,
          -0.36705212118104047,
          0.05287056932836334,
          0.18045430014625735,
          0.26000389162539705,
          0.3107761330039208,
          -0.4546448712924247,
          -0.4400853605023101,
          0.519386246501393,
          0.525048523614008,
          -0.3595229672362032
         ],
         "textposition": "outside",
         "texttemplate": "%{text:.2f} (%{customdata[1]})",
         "type": "bar",
         "x": [
          "Australia and New Zealand",
          "Central Asia",
          "Eastern Asia",
          "Eastern Europe",
          "Latin America and the Caribbean",
          "Northern Africa",
          "Northern America",
          "South-eastern Asia",
          "Southern Europe",
          "Sub-Saharan Africa",
          "Western Asia"
         ],
         "xaxis": "x",
         "y": [
          0.2231453295069239,
          -0.36705212118104047,
          0.05287056932836334,
          0.18045430014625735,
          0.26000389162539705,
          0.3107761330039208,
          -0.4546448712924247,
          -0.4400853605023101,
          0.519386246501393,
          0.525048523614008,
          -0.3595229672362032
         ],
         "yaxis": "y"
        },
        {
         "alignmentgroup": "True",
         "customdata": [
          [
           "Australia and New Zealand",
           "No"
          ],
          [
           "Central Asia",
           "No"
          ],
          [
           "Eastern Asia",
           "No"
          ],
          [
           "Eastern Europe",
           "No"
          ],
          [
           "Latin America and the Caribbean",
           "No"
          ],
          [
           "Northern Africa",
           "No"
          ],
          [
           "Northern America",
           "No"
          ],
          [
           "Northern Europe",
           "Yes"
          ],
          [
           "South-eastern Asia",
           "No"
          ],
          [
           "Southern Asia",
           "Yes"
          ],
          [
           "Southern Europe",
           "No"
          ],
          [
           "Sub-Saharan Africa",
           "No"
          ],
          [
           "Western Asia",
           "No"
          ],
          [
           "Western Europe",
           "Yes"
          ]
         ],
         "hovertemplate": "is_significant=Yes<br>continent_sub_region=%{x}<br>Correlation Coefficient=%{text}<extra></extra>",
         "legendgroup": "Yes",
         "marker": {
          "color": "green",
          "pattern": {
           "shape": ""
          }
         },
         "name": "Yes",
         "offsetgroup": "Yes",
         "orientation": "v",
         "showlegend": true,
         "text": [
          0.8725338799152722,
          0.6713922852516438,
          0.6461398448584459
         ],
         "textposition": "outside",
         "texttemplate": "%{text:.2f} (%{customdata[1]})",
         "type": "bar",
         "x": [
          "Northern Europe",
          "Southern Asia",
          "Western Europe"
         ],
         "xaxis": "x",
         "y": [
          0.8725338799152722,
          0.6713922852516438,
          0.6461398448584459
         ],
         "yaxis": "y"
        }
       ],
       "layout": {
        "barmode": "relative",
        "legend": {
         "title": {
          "text": "Significance"
         },
         "tracegroupgap": 0
        },
        "showlegend": true,
        "template": {
         "data": {
          "bar": [
           {
            "error_x": {
             "color": "#2a3f5f"
            },
            "error_y": {
             "color": "#2a3f5f"
            },
            "marker": {
             "line": {
              "color": "#E5ECF6",
              "width": 0.5
             },
             "pattern": {
              "fillmode": "overlay",
              "size": 10,
              "solidity": 0.2
             }
            },
            "type": "bar"
           }
          ],
          "barpolar": [
           {
            "marker": {
             "line": {
              "color": "#E5ECF6",
              "width": 0.5
             },
             "pattern": {
              "fillmode": "overlay",
              "size": 10,
              "solidity": 0.2
             }
            },
            "type": "barpolar"
           }
          ],
          "carpet": [
           {
            "aaxis": {
             "endlinecolor": "#2a3f5f",
             "gridcolor": "white",
             "linecolor": "white",
             "minorgridcolor": "white",
             "startlinecolor": "#2a3f5f"
            },
            "baxis": {
             "endlinecolor": "#2a3f5f",
             "gridcolor": "white",
             "linecolor": "white",
             "minorgridcolor": "white",
             "startlinecolor": "#2a3f5f"
            },
            "type": "carpet"
           }
          ],
          "choropleth": [
           {
            "colorbar": {
             "outlinewidth": 0,
             "ticks": ""
            },
            "type": "choropleth"
           }
          ],
          "contour": [
           {
            "colorbar": {
             "outlinewidth": 0,
             "ticks": ""
            },
            "colorscale": [
             [
              0,
              "#0d0887"
             ],
             [
              0.1111111111111111,
              "#46039f"
             ],
             [
              0.2222222222222222,
              "#7201a8"
             ],
             [
              0.3333333333333333,
              "#9c179e"
             ],
             [
              0.4444444444444444,
              "#bd3786"
             ],
             [
              0.5555555555555556,
              "#d8576b"
             ],
             [
              0.6666666666666666,
              "#ed7953"
             ],
             [
              0.7777777777777778,
              "#fb9f3a"
             ],
             [
              0.8888888888888888,
              "#fdca26"
             ],
             [
              1,
              "#f0f921"
             ]
            ],
            "type": "contour"
           }
          ],
          "contourcarpet": [
           {
            "colorbar": {
             "outlinewidth": 0,
             "ticks": ""
            },
            "type": "contourcarpet"
           }
          ],
          "heatmap": [
           {
            "colorbar": {
             "outlinewidth": 0,
             "ticks": ""
            },
            "colorscale": [
             [
              0,
              "#0d0887"
             ],
             [
              0.1111111111111111,
              "#46039f"
             ],
             [
              0.2222222222222222,
              "#7201a8"
             ],
             [
              0.3333333333333333,
              "#9c179e"
             ],
             [
              0.4444444444444444,
              "#bd3786"
             ],
             [
              0.5555555555555556,
              "#d8576b"
             ],
             [
              0.6666666666666666,
              "#ed7953"
             ],
             [
              0.7777777777777778,
              "#fb9f3a"
             ],
             [
              0.8888888888888888,
              "#fdca26"
             ],
             [
              1,
              "#f0f921"
             ]
            ],
            "type": "heatmap"
           }
          ],
          "heatmapgl": [
           {
            "colorbar": {
             "outlinewidth": 0,
             "ticks": ""
            },
            "colorscale": [
             [
              0,
              "#0d0887"
             ],
             [
              0.1111111111111111,
              "#46039f"
             ],
             [
              0.2222222222222222,
              "#7201a8"
             ],
             [
              0.3333333333333333,
              "#9c179e"
             ],
             [
              0.4444444444444444,
              "#bd3786"
             ],
             [
              0.5555555555555556,
              "#d8576b"
             ],
             [
              0.6666666666666666,
              "#ed7953"
             ],
             [
              0.7777777777777778,
              "#fb9f3a"
             ],
             [
              0.8888888888888888,
              "#fdca26"
             ],
             [
              1,
              "#f0f921"
             ]
            ],
            "type": "heatmapgl"
           }
          ],
          "histogram": [
           {
            "marker": {
             "pattern": {
              "fillmode": "overlay",
              "size": 10,
              "solidity": 0.2
             }
            },
            "type": "histogram"
           }
          ],
          "histogram2d": [
           {
            "colorbar": {
             "outlinewidth": 0,
             "ticks": ""
            },
            "colorscale": [
             [
              0,
              "#0d0887"
             ],
             [
              0.1111111111111111,
              "#46039f"
             ],
             [
              0.2222222222222222,
              "#7201a8"
             ],
             [
              0.3333333333333333,
              "#9c179e"
             ],
             [
              0.4444444444444444,
              "#bd3786"
             ],
             [
              0.5555555555555556,
              "#d8576b"
             ],
             [
              0.6666666666666666,
              "#ed7953"
             ],
             [
              0.7777777777777778,
              "#fb9f3a"
             ],
             [
              0.8888888888888888,
              "#fdca26"
             ],
             [
              1,
              "#f0f921"
             ]
            ],
            "type": "histogram2d"
           }
          ],
          "histogram2dcontour": [
           {
            "colorbar": {
             "outlinewidth": 0,
             "ticks": ""
            },
            "colorscale": [
             [
              0,
              "#0d0887"
             ],
             [
              0.1111111111111111,
              "#46039f"
             ],
             [
              0.2222222222222222,
              "#7201a8"
             ],
             [
              0.3333333333333333,
              "#9c179e"
             ],
             [
              0.4444444444444444,
              "#bd3786"
             ],
             [
              0.5555555555555556,
              "#d8576b"
             ],
             [
              0.6666666666666666,
              "#ed7953"
             ],
             [
              0.7777777777777778,
              "#fb9f3a"
             ],
             [
              0.8888888888888888,
              "#fdca26"
             ],
             [
              1,
              "#f0f921"
             ]
            ],
            "type": "histogram2dcontour"
           }
          ],
          "mesh3d": [
           {
            "colorbar": {
             "outlinewidth": 0,
             "ticks": ""
            },
            "type": "mesh3d"
           }
          ],
          "parcoords": [
           {
            "line": {
             "colorbar": {
              "outlinewidth": 0,
              "ticks": ""
             }
            },
            "type": "parcoords"
           }
          ],
          "pie": [
           {
            "automargin": true,
            "type": "pie"
           }
          ],
          "scatter": [
           {
            "fillpattern": {
             "fillmode": "overlay",
             "size": 10,
             "solidity": 0.2
            },
            "type": "scatter"
           }
          ],
          "scatter3d": [
           {
            "line": {
             "colorbar": {
              "outlinewidth": 0,
              "ticks": ""
             }
            },
            "marker": {
             "colorbar": {
              "outlinewidth": 0,
              "ticks": ""
             }
            },
            "type": "scatter3d"
           }
          ],
          "scattercarpet": [
           {
            "marker": {
             "colorbar": {
              "outlinewidth": 0,
              "ticks": ""
             }
            },
            "type": "scattercarpet"
           }
          ],
          "scattergeo": [
           {
            "marker": {
             "colorbar": {
              "outlinewidth": 0,
              "ticks": ""
             }
            },
            "type": "scattergeo"
           }
          ],
          "scattergl": [
           {
            "marker": {
             "colorbar": {
              "outlinewidth": 0,
              "ticks": ""
             }
            },
            "type": "scattergl"
           }
          ],
          "scattermapbox": [
           {
            "marker": {
             "colorbar": {
              "outlinewidth": 0,
              "ticks": ""
             }
            },
            "type": "scattermapbox"
           }
          ],
          "scatterpolar": [
           {
            "marker": {
             "colorbar": {
              "outlinewidth": 0,
              "ticks": ""
             }
            },
            "type": "scatterpolar"
           }
          ],
          "scatterpolargl": [
           {
            "marker": {
             "colorbar": {
              "outlinewidth": 0,
              "ticks": ""
             }
            },
            "type": "scatterpolargl"
           }
          ],
          "scatterternary": [
           {
            "marker": {
             "colorbar": {
              "outlinewidth": 0,
              "ticks": ""
             }
            },
            "type": "scatterternary"
           }
          ],
          "surface": [
           {
            "colorbar": {
             "outlinewidth": 0,
             "ticks": ""
            },
            "colorscale": [
             [
              0,
              "#0d0887"
             ],
             [
              0.1111111111111111,
              "#46039f"
             ],
             [
              0.2222222222222222,
              "#7201a8"
             ],
             [
              0.3333333333333333,
              "#9c179e"
             ],
             [
              0.4444444444444444,
              "#bd3786"
             ],
             [
              0.5555555555555556,
              "#d8576b"
             ],
             [
              0.6666666666666666,
              "#ed7953"
             ],
             [
              0.7777777777777778,
              "#fb9f3a"
             ],
             [
              0.8888888888888888,
              "#fdca26"
             ],
             [
              1,
              "#f0f921"
             ]
            ],
            "type": "surface"
           }
          ],
          "table": [
           {
            "cells": {
             "fill": {
              "color": "#EBF0F8"
             },
             "line": {
              "color": "white"
             }
            },
            "header": {
             "fill": {
              "color": "#C8D4E3"
             },
             "line": {
              "color": "white"
             }
            },
            "type": "table"
           }
          ]
         },
         "layout": {
          "annotationdefaults": {
           "arrowcolor": "#2a3f5f",
           "arrowhead": 0,
           "arrowwidth": 1
          },
          "autotypenumbers": "strict",
          "coloraxis": {
           "colorbar": {
            "outlinewidth": 0,
            "ticks": ""
           }
          },
          "colorscale": {
           "diverging": [
            [
             0,
             "#8e0152"
            ],
            [
             0.1,
             "#c51b7d"
            ],
            [
             0.2,
             "#de77ae"
            ],
            [
             0.3,
             "#f1b6da"
            ],
            [
             0.4,
             "#fde0ef"
            ],
            [
             0.5,
             "#f7f7f7"
            ],
            [
             0.6,
             "#e6f5d0"
            ],
            [
             0.7,
             "#b8e186"
            ],
            [
             0.8,
             "#7fbc41"
            ],
            [
             0.9,
             "#4d9221"
            ],
            [
             1,
             "#276419"
            ]
           ],
           "sequential": [
            [
             0,
             "#0d0887"
            ],
            [
             0.1111111111111111,
             "#46039f"
            ],
            [
             0.2222222222222222,
             "#7201a8"
            ],
            [
             0.3333333333333333,
             "#9c179e"
            ],
            [
             0.4444444444444444,
             "#bd3786"
            ],
            [
             0.5555555555555556,
             "#d8576b"
            ],
            [
             0.6666666666666666,
             "#ed7953"
            ],
            [
             0.7777777777777778,
             "#fb9f3a"
            ],
            [
             0.8888888888888888,
             "#fdca26"
            ],
            [
             1,
             "#f0f921"
            ]
           ],
           "sequentialminus": [
            [
             0,
             "#0d0887"
            ],
            [
             0.1111111111111111,
             "#46039f"
            ],
            [
             0.2222222222222222,
             "#7201a8"
            ],
            [
             0.3333333333333333,
             "#9c179e"
            ],
            [
             0.4444444444444444,
             "#bd3786"
            ],
            [
             0.5555555555555556,
             "#d8576b"
            ],
            [
             0.6666666666666666,
             "#ed7953"
            ],
            [
             0.7777777777777778,
             "#fb9f3a"
            ],
            [
             0.8888888888888888,
             "#fdca26"
            ],
            [
             1,
             "#f0f921"
            ]
           ]
          },
          "colorway": [
           "#636efa",
           "#EF553B",
           "#00cc96",
           "#ab63fa",
           "#FFA15A",
           "#19d3f3",
           "#FF6692",
           "#B6E880",
           "#FF97FF",
           "#FECB52"
          ],
          "font": {
           "color": "#2a3f5f"
          },
          "geo": {
           "bgcolor": "white",
           "lakecolor": "white",
           "landcolor": "#E5ECF6",
           "showlakes": true,
           "showland": true,
           "subunitcolor": "white"
          },
          "hoverlabel": {
           "align": "left"
          },
          "hovermode": "closest",
          "mapbox": {
           "style": "light"
          },
          "paper_bgcolor": "white",
          "plot_bgcolor": "#E5ECF6",
          "polar": {
           "angularaxis": {
            "gridcolor": "white",
            "linecolor": "white",
            "ticks": ""
           },
           "bgcolor": "#E5ECF6",
           "radialaxis": {
            "gridcolor": "white",
            "linecolor": "white",
            "ticks": ""
           }
          },
          "scene": {
           "xaxis": {
            "backgroundcolor": "#E5ECF6",
            "gridcolor": "white",
            "gridwidth": 2,
            "linecolor": "white",
            "showbackground": true,
            "ticks": "",
            "zerolinecolor": "white"
           },
           "yaxis": {
            "backgroundcolor": "#E5ECF6",
            "gridcolor": "white",
            "gridwidth": 2,
            "linecolor": "white",
            "showbackground": true,
            "ticks": "",
            "zerolinecolor": "white"
           },
           "zaxis": {
            "backgroundcolor": "#E5ECF6",
            "gridcolor": "white",
            "gridwidth": 2,
            "linecolor": "white",
            "showbackground": true,
            "ticks": "",
            "zerolinecolor": "white"
           }
          },
          "shapedefaults": {
           "line": {
            "color": "#2a3f5f"
           }
          },
          "ternary": {
           "aaxis": {
            "gridcolor": "white",
            "linecolor": "white",
            "ticks": ""
           },
           "baxis": {
            "gridcolor": "white",
            "linecolor": "white",
            "ticks": ""
           },
           "bgcolor": "#E5ECF6",
           "caxis": {
            "gridcolor": "white",
            "linecolor": "white",
            "ticks": ""
           }
          },
          "title": {
           "x": 0.05
          },
          "xaxis": {
           "automargin": true,
           "gridcolor": "white",
           "linecolor": "white",
           "ticks": "",
           "title": {
            "standoff": 15
           },
           "zerolinecolor": "white",
           "zerolinewidth": 2
          },
          "yaxis": {
           "automargin": true,
           "gridcolor": "white",
           "linecolor": "white",
           "ticks": "",
           "title": {
            "standoff": 15
           },
           "zerolinecolor": "white",
           "zerolinewidth": 2
          }
         }
        },
        "title": {
         "text": "Correlation Between Tree Cover Loss and CO2 Emissions by Region (Significance Highlighted)"
        },
        "xaxis": {
         "anchor": "y",
         "domain": [
          0,
          1
         ],
         "title": {
          "text": "continent_sub_region"
         }
        },
        "yaxis": {
         "anchor": "x",
         "domain": [
          0,
          1
         ],
         "title": {
          "text": "Correlation Coefficient"
         }
        }
       }
      },
      "text/html": [
       "<div>                            <div id=\"27eb1e01-d7e9-49ab-ac07-1af79898474c\" class=\"plotly-graph-div\" style=\"height:525px; width:100%;\"></div>            <script type=\"text/javascript\">                require([\"plotly\"], function(Plotly) {                    window.PLOTLYENV=window.PLOTLYENV || {};                                    if (document.getElementById(\"27eb1e01-d7e9-49ab-ac07-1af79898474c\")) {                    Plotly.newPlot(                        \"27eb1e01-d7e9-49ab-ac07-1af79898474c\",                        [{\"alignmentgroup\":\"True\",\"hovertemplate\":\"is_significant=No<br>continent_sub_region=%{x}<br>Correlation Coefficient=%{text}<extra></extra>\",\"legendgroup\":\"No\",\"marker\":{\"color\":\"red\",\"pattern\":{\"shape\":\"\"}},\"name\":\"No\",\"offsetgroup\":\"No\",\"orientation\":\"v\",\"showlegend\":true,\"text\":[0.2231453295069239,-0.36705212118104047,0.05287056932836334,0.18045430014625735,0.26000389162539705,0.3107761330039208,-0.4546448712924247,-0.4400853605023101,0.519386246501393,0.525048523614008,-0.3595229672362032],\"textposition\":\"outside\",\"x\":[\"Australia and New Zealand\",\"Central Asia\",\"Eastern Asia\",\"Eastern Europe\",\"Latin America and the Caribbean\",\"Northern Africa\",\"Northern America\",\"South-eastern Asia\",\"Southern Europe\",\"Sub-Saharan Africa\",\"Western Asia\"],\"xaxis\":\"x\",\"y\":[0.2231453295069239,-0.36705212118104047,0.05287056932836334,0.18045430014625735,0.26000389162539705,0.3107761330039208,-0.4546448712924247,-0.4400853605023101,0.519386246501393,0.525048523614008,-0.3595229672362032],\"yaxis\":\"y\",\"type\":\"bar\",\"customdata\":[[\"Australia and New Zealand\",\"No\"],[\"Central Asia\",\"No\"],[\"Eastern Asia\",\"No\"],[\"Eastern Europe\",\"No\"],[\"Latin America and the Caribbean\",\"No\"],[\"Northern Africa\",\"No\"],[\"Northern America\",\"No\"],[\"Northern Europe\",\"Yes\"],[\"South-eastern Asia\",\"No\"],[\"Southern Asia\",\"Yes\"],[\"Southern Europe\",\"No\"],[\"Sub-Saharan Africa\",\"No\"],[\"Western Asia\",\"No\"],[\"Western Europe\",\"Yes\"]],\"texttemplate\":\"%{text:.2f} (%{customdata[1]})\"},{\"alignmentgroup\":\"True\",\"hovertemplate\":\"is_significant=Yes<br>continent_sub_region=%{x}<br>Correlation Coefficient=%{text}<extra></extra>\",\"legendgroup\":\"Yes\",\"marker\":{\"color\":\"green\",\"pattern\":{\"shape\":\"\"}},\"name\":\"Yes\",\"offsetgroup\":\"Yes\",\"orientation\":\"v\",\"showlegend\":true,\"text\":[0.8725338799152722,0.6713922852516438,0.6461398448584459],\"textposition\":\"outside\",\"x\":[\"Northern Europe\",\"Southern Asia\",\"Western Europe\"],\"xaxis\":\"x\",\"y\":[0.8725338799152722,0.6713922852516438,0.6461398448584459],\"yaxis\":\"y\",\"type\":\"bar\",\"customdata\":[[\"Australia and New Zealand\",\"No\"],[\"Central Asia\",\"No\"],[\"Eastern Asia\",\"No\"],[\"Eastern Europe\",\"No\"],[\"Latin America and the Caribbean\",\"No\"],[\"Northern Africa\",\"No\"],[\"Northern America\",\"No\"],[\"Northern Europe\",\"Yes\"],[\"South-eastern Asia\",\"No\"],[\"Southern Asia\",\"Yes\"],[\"Southern Europe\",\"No\"],[\"Sub-Saharan Africa\",\"No\"],[\"Western Asia\",\"No\"],[\"Western Europe\",\"Yes\"]],\"texttemplate\":\"%{text:.2f} (%{customdata[1]})\"}],                        {\"template\":{\"data\":{\"histogram2dcontour\":[{\"type\":\"histogram2dcontour\",\"colorbar\":{\"outlinewidth\":0,\"ticks\":\"\"},\"colorscale\":[[0.0,\"#0d0887\"],[0.1111111111111111,\"#46039f\"],[0.2222222222222222,\"#7201a8\"],[0.3333333333333333,\"#9c179e\"],[0.4444444444444444,\"#bd3786\"],[0.5555555555555556,\"#d8576b\"],[0.6666666666666666,\"#ed7953\"],[0.7777777777777778,\"#fb9f3a\"],[0.8888888888888888,\"#fdca26\"],[1.0,\"#f0f921\"]]}],\"choropleth\":[{\"type\":\"choropleth\",\"colorbar\":{\"outlinewidth\":0,\"ticks\":\"\"}}],\"histogram2d\":[{\"type\":\"histogram2d\",\"colorbar\":{\"outlinewidth\":0,\"ticks\":\"\"},\"colorscale\":[[0.0,\"#0d0887\"],[0.1111111111111111,\"#46039f\"],[0.2222222222222222,\"#7201a8\"],[0.3333333333333333,\"#9c179e\"],[0.4444444444444444,\"#bd3786\"],[0.5555555555555556,\"#d8576b\"],[0.6666666666666666,\"#ed7953\"],[0.7777777777777778,\"#fb9f3a\"],[0.8888888888888888,\"#fdca26\"],[1.0,\"#f0f921\"]]}],\"heatmap\":[{\"type\":\"heatmap\",\"colorbar\":{\"outlinewidth\":0,\"ticks\":\"\"},\"colorscale\":[[0.0,\"#0d0887\"],[0.1111111111111111,\"#46039f\"],[0.2222222222222222,\"#7201a8\"],[0.3333333333333333,\"#9c179e\"],[0.4444444444444444,\"#bd3786\"],[0.5555555555555556,\"#d8576b\"],[0.6666666666666666,\"#ed7953\"],[0.7777777777777778,\"#fb9f3a\"],[0.8888888888888888,\"#fdca26\"],[1.0,\"#f0f921\"]]}],\"heatmapgl\":[{\"type\":\"heatmapgl\",\"colorbar\":{\"outlinewidth\":0,\"ticks\":\"\"},\"colorscale\":[[0.0,\"#0d0887\"],[0.1111111111111111,\"#46039f\"],[0.2222222222222222,\"#7201a8\"],[0.3333333333333333,\"#9c179e\"],[0.4444444444444444,\"#bd3786\"],[0.5555555555555556,\"#d8576b\"],[0.6666666666666666,\"#ed7953\"],[0.7777777777777778,\"#fb9f3a\"],[0.8888888888888888,\"#fdca26\"],[1.0,\"#f0f921\"]]}],\"contourcarpet\":[{\"type\":\"contourcarpet\",\"colorbar\":{\"outlinewidth\":0,\"ticks\":\"\"}}],\"contour\":[{\"type\":\"contour\",\"colorbar\":{\"outlinewidth\":0,\"ticks\":\"\"},\"colorscale\":[[0.0,\"#0d0887\"],[0.1111111111111111,\"#46039f\"],[0.2222222222222222,\"#7201a8\"],[0.3333333333333333,\"#9c179e\"],[0.4444444444444444,\"#bd3786\"],[0.5555555555555556,\"#d8576b\"],[0.6666666666666666,\"#ed7953\"],[0.7777777777777778,\"#fb9f3a\"],[0.8888888888888888,\"#fdca26\"],[1.0,\"#f0f921\"]]}],\"surface\":[{\"type\":\"surface\",\"colorbar\":{\"outlinewidth\":0,\"ticks\":\"\"},\"colorscale\":[[0.0,\"#0d0887\"],[0.1111111111111111,\"#46039f\"],[0.2222222222222222,\"#7201a8\"],[0.3333333333333333,\"#9c179e\"],[0.4444444444444444,\"#bd3786\"],[0.5555555555555556,\"#d8576b\"],[0.6666666666666666,\"#ed7953\"],[0.7777777777777778,\"#fb9f3a\"],[0.8888888888888888,\"#fdca26\"],[1.0,\"#f0f921\"]]}],\"mesh3d\":[{\"type\":\"mesh3d\",\"colorbar\":{\"outlinewidth\":0,\"ticks\":\"\"}}],\"scatter\":[{\"fillpattern\":{\"fillmode\":\"overlay\",\"size\":10,\"solidity\":0.2},\"type\":\"scatter\"}],\"parcoords\":[{\"type\":\"parcoords\",\"line\":{\"colorbar\":{\"outlinewidth\":0,\"ticks\":\"\"}}}],\"scatterpolargl\":[{\"type\":\"scatterpolargl\",\"marker\":{\"colorbar\":{\"outlinewidth\":0,\"ticks\":\"\"}}}],\"bar\":[{\"error_x\":{\"color\":\"#2a3f5f\"},\"error_y\":{\"color\":\"#2a3f5f\"},\"marker\":{\"line\":{\"color\":\"#E5ECF6\",\"width\":0.5},\"pattern\":{\"fillmode\":\"overlay\",\"size\":10,\"solidity\":0.2}},\"type\":\"bar\"}],\"scattergeo\":[{\"type\":\"scattergeo\",\"marker\":{\"colorbar\":{\"outlinewidth\":0,\"ticks\":\"\"}}}],\"scatterpolar\":[{\"type\":\"scatterpolar\",\"marker\":{\"colorbar\":{\"outlinewidth\":0,\"ticks\":\"\"}}}],\"histogram\":[{\"marker\":{\"pattern\":{\"fillmode\":\"overlay\",\"size\":10,\"solidity\":0.2}},\"type\":\"histogram\"}],\"scattergl\":[{\"type\":\"scattergl\",\"marker\":{\"colorbar\":{\"outlinewidth\":0,\"ticks\":\"\"}}}],\"scatter3d\":[{\"type\":\"scatter3d\",\"line\":{\"colorbar\":{\"outlinewidth\":0,\"ticks\":\"\"}},\"marker\":{\"colorbar\":{\"outlinewidth\":0,\"ticks\":\"\"}}}],\"scattermapbox\":[{\"type\":\"scattermapbox\",\"marker\":{\"colorbar\":{\"outlinewidth\":0,\"ticks\":\"\"}}}],\"scatterternary\":[{\"type\":\"scatterternary\",\"marker\":{\"colorbar\":{\"outlinewidth\":0,\"ticks\":\"\"}}}],\"scattercarpet\":[{\"type\":\"scattercarpet\",\"marker\":{\"colorbar\":{\"outlinewidth\":0,\"ticks\":\"\"}}}],\"carpet\":[{\"aaxis\":{\"endlinecolor\":\"#2a3f5f\",\"gridcolor\":\"white\",\"linecolor\":\"white\",\"minorgridcolor\":\"white\",\"startlinecolor\":\"#2a3f5f\"},\"baxis\":{\"endlinecolor\":\"#2a3f5f\",\"gridcolor\":\"white\",\"linecolor\":\"white\",\"minorgridcolor\":\"white\",\"startlinecolor\":\"#2a3f5f\"},\"type\":\"carpet\"}],\"table\":[{\"cells\":{\"fill\":{\"color\":\"#EBF0F8\"},\"line\":{\"color\":\"white\"}},\"header\":{\"fill\":{\"color\":\"#C8D4E3\"},\"line\":{\"color\":\"white\"}},\"type\":\"table\"}],\"barpolar\":[{\"marker\":{\"line\":{\"color\":\"#E5ECF6\",\"width\":0.5},\"pattern\":{\"fillmode\":\"overlay\",\"size\":10,\"solidity\":0.2}},\"type\":\"barpolar\"}],\"pie\":[{\"automargin\":true,\"type\":\"pie\"}]},\"layout\":{\"autotypenumbers\":\"strict\",\"colorway\":[\"#636efa\",\"#EF553B\",\"#00cc96\",\"#ab63fa\",\"#FFA15A\",\"#19d3f3\",\"#FF6692\",\"#B6E880\",\"#FF97FF\",\"#FECB52\"],\"font\":{\"color\":\"#2a3f5f\"},\"hovermode\":\"closest\",\"hoverlabel\":{\"align\":\"left\"},\"paper_bgcolor\":\"white\",\"plot_bgcolor\":\"#E5ECF6\",\"polar\":{\"bgcolor\":\"#E5ECF6\",\"angularaxis\":{\"gridcolor\":\"white\",\"linecolor\":\"white\",\"ticks\":\"\"},\"radialaxis\":{\"gridcolor\":\"white\",\"linecolor\":\"white\",\"ticks\":\"\"}},\"ternary\":{\"bgcolor\":\"#E5ECF6\",\"aaxis\":{\"gridcolor\":\"white\",\"linecolor\":\"white\",\"ticks\":\"\"},\"baxis\":{\"gridcolor\":\"white\",\"linecolor\":\"white\",\"ticks\":\"\"},\"caxis\":{\"gridcolor\":\"white\",\"linecolor\":\"white\",\"ticks\":\"\"}},\"coloraxis\":{\"colorbar\":{\"outlinewidth\":0,\"ticks\":\"\"}},\"colorscale\":{\"sequential\":[[0.0,\"#0d0887\"],[0.1111111111111111,\"#46039f\"],[0.2222222222222222,\"#7201a8\"],[0.3333333333333333,\"#9c179e\"],[0.4444444444444444,\"#bd3786\"],[0.5555555555555556,\"#d8576b\"],[0.6666666666666666,\"#ed7953\"],[0.7777777777777778,\"#fb9f3a\"],[0.8888888888888888,\"#fdca26\"],[1.0,\"#f0f921\"]],\"sequentialminus\":[[0.0,\"#0d0887\"],[0.1111111111111111,\"#46039f\"],[0.2222222222222222,\"#7201a8\"],[0.3333333333333333,\"#9c179e\"],[0.4444444444444444,\"#bd3786\"],[0.5555555555555556,\"#d8576b\"],[0.6666666666666666,\"#ed7953\"],[0.7777777777777778,\"#fb9f3a\"],[0.8888888888888888,\"#fdca26\"],[1.0,\"#f0f921\"]],\"diverging\":[[0,\"#8e0152\"],[0.1,\"#c51b7d\"],[0.2,\"#de77ae\"],[0.3,\"#f1b6da\"],[0.4,\"#fde0ef\"],[0.5,\"#f7f7f7\"],[0.6,\"#e6f5d0\"],[0.7,\"#b8e186\"],[0.8,\"#7fbc41\"],[0.9,\"#4d9221\"],[1,\"#276419\"]]},\"xaxis\":{\"gridcolor\":\"white\",\"linecolor\":\"white\",\"ticks\":\"\",\"title\":{\"standoff\":15},\"zerolinecolor\":\"white\",\"automargin\":true,\"zerolinewidth\":2},\"yaxis\":{\"gridcolor\":\"white\",\"linecolor\":\"white\",\"ticks\":\"\",\"title\":{\"standoff\":15},\"zerolinecolor\":\"white\",\"automargin\":true,\"zerolinewidth\":2},\"scene\":{\"xaxis\":{\"backgroundcolor\":\"#E5ECF6\",\"gridcolor\":\"white\",\"linecolor\":\"white\",\"showbackground\":true,\"ticks\":\"\",\"zerolinecolor\":\"white\",\"gridwidth\":2},\"yaxis\":{\"backgroundcolor\":\"#E5ECF6\",\"gridcolor\":\"white\",\"linecolor\":\"white\",\"showbackground\":true,\"ticks\":\"\",\"zerolinecolor\":\"white\",\"gridwidth\":2},\"zaxis\":{\"backgroundcolor\":\"#E5ECF6\",\"gridcolor\":\"white\",\"linecolor\":\"white\",\"showbackground\":true,\"ticks\":\"\",\"zerolinecolor\":\"white\",\"gridwidth\":2}},\"shapedefaults\":{\"line\":{\"color\":\"#2a3f5f\"}},\"annotationdefaults\":{\"arrowcolor\":\"#2a3f5f\",\"arrowhead\":0,\"arrowwidth\":1},\"geo\":{\"bgcolor\":\"white\",\"landcolor\":\"#E5ECF6\",\"subunitcolor\":\"white\",\"showland\":true,\"showlakes\":true,\"lakecolor\":\"white\"},\"title\":{\"x\":0.05},\"mapbox\":{\"style\":\"light\"}}},\"xaxis\":{\"anchor\":\"y\",\"domain\":[0.0,1.0],\"title\":{\"text\":\"continent_sub_region\"}},\"yaxis\":{\"anchor\":\"x\",\"domain\":[0.0,1.0],\"title\":{\"text\":\"Correlation Coefficient\"}},\"legend\":{\"title\":{\"text\":\"Significance\"},\"tracegroupgap\":0},\"title\":{\"text\":\"Correlation Between Tree Cover Loss and CO2 Emissions by Region (Significance Highlighted)\"},\"barmode\":\"relative\",\"showlegend\":true},                        {\"responsive\": true}                    ).then(function(){\n",
       "                            \n",
       "var gd = document.getElementById('27eb1e01-d7e9-49ab-ac07-1af79898474c');\n",
       "var x = new MutationObserver(function (mutations, observer) {{\n",
       "        var display = window.getComputedStyle(gd).display;\n",
       "        if (!display || display === 'none') {{\n",
       "            console.log([gd, 'removed!']);\n",
       "            Plotly.purge(gd);\n",
       "            observer.disconnect();\n",
       "        }}\n",
       "}});\n",
       "\n",
       "// Listen for the removal of the full notebook cells\n",
       "var notebookContainer = gd.closest('#notebook-container');\n",
       "if (notebookContainer) {{\n",
       "    x.observe(notebookContainer, {childList: true});\n",
       "}}\n",
       "\n",
       "// Listen for the clearing of the current output cell\n",
       "var outputEl = gd.closest('.output');\n",
       "if (outputEl) {{\n",
       "    x.observe(outputEl, {childList: true});\n",
       "}}\n",
       "\n",
       "                        })                };                });            </script>        </div>"
      ]
     },
     "metadata": {},
     "output_type": "display_data"
    }
   ],
   "source": [
    "correlations['significance_color'] = correlations['is_significant'].map({'Yes': 'green', 'No': 'red'})\n",
    "\n",
    "fig = px.bar(\n",
    "    correlations,\n",
    "    x='continent_sub_region',\n",
    "    y='correlation',\n",
    "    title=\"Correlation Between Tree Cover Loss and CO2 Emissions by Region (Significance Highlighted)\",\n",
    "    labels={\n",
    "        \"continent_region\": \"Region\",\n",
    "        \"correlation\": \"Correlation Coefficient\"\n",
    "    },\n",
    "    color='is_significant',\n",
    "    text='correlation',\n",
    "    color_discrete_map={'Yes': 'green', 'No': 'red'}\n",
    ")\n",
    "\n",
    "fig.update_traces(\n",
    "    texttemplate='%{text:.2f} (%{customdata[1]})',\n",
    "    textposition='outside',\n",
    "    customdata=correlations[['continent_sub_region', 'is_significant']]\n",
    ")\n",
    "\n",
    "fig.update_layout(\n",
    "    showlegend=True, \n",
    "    yaxis_title=\"Correlation Coefficient\",\n",
    "    legend_title=\"Significance\",\n",
    ")\n",
    "\n",
    "fig.show()"
   ]
  },
  {
   "cell_type": "code",
   "execution_count": 40,
   "id": "1da80b81",
   "metadata": {},
   "outputs": [
    {
     "name": "stdout",
     "output_type": "stream",
     "text": [
      "                             region         slope  intercept  r_squared  \\\n",
      "0         Australia and New Zealand  5.067937e-07  75.198293   0.049794   \n",
      "1                      Central Asia -1.159647e-03  61.207192   0.134727   \n",
      "2                      Eastern Asia  1.325808e-06  71.063624   0.002795   \n",
      "3                    Eastern Europe  3.562000e-07  66.355645   0.032564   \n",
      "4   Latin America and the Caribbean  3.722344e-07  60.866095   0.067602   \n",
      "5                   Northern Africa  5.385812e-05  52.598363   0.096582   \n",
      "6                  Northern America -1.767842e-06  84.392878   0.206702   \n",
      "7                   Northern Europe  1.116366e-05  72.357273   0.761315   \n",
      "8                South-eastern Asia -1.467751e-06  64.201733   0.193675   \n",
      "9                     Southern Asia  5.017202e-05  46.170550   0.450768   \n",
      "10                  Southern Europe  1.689159e-05  68.644102   0.269762   \n",
      "11               Sub-Saharan Africa  2.195476e-06  42.243900   0.275676   \n",
      "12                     Western Asia -2.124849e-05  60.926605   0.129257   \n",
      "13                   Western Europe  1.028103e-05  75.228592   0.417497   \n",
      "\n",
      "     p_value  significant  \n",
      "0   0.509545        False  \n",
      "1   0.266821        False  \n",
      "2   0.877307        False  \n",
      "3   0.595441        False  \n",
      "4   0.440037        False  \n",
      "5   0.352273        False  \n",
      "6   0.160042        False  \n",
      "7   0.000458         True  \n",
      "8   0.175557        False  \n",
      "9   0.023692         True  \n",
      "10  0.101556        False  \n",
      "11  0.097231        False  \n",
      "12  0.277502        False  \n",
      "13  0.031721         True  \n"
     ]
    }
   ],
   "source": [
    "from scipy.stats import linregress\n",
    "\n",
    "regions = deforest_agg.groupby('continent_sub_region')\n",
    "\n",
    "simple_regression_results = []\n",
    "\n",
    "\n",
    "for region, group in regions:\n",
    "    slope, intercept, r_value, p_value, std_err = linregress(\n",
    "        group['umd_tree_cover_loss__ha'], group['fsi']\n",
    "    )\n",
    "    \n",
    "    simple_regression_results.append({\n",
    "        'region': region,\n",
    "        'slope': slope,\n",
    "        'intercept': intercept,\n",
    "        'r_squared': r_value**2,\n",
    "        'p_value': p_value,\n",
    "        'significant': p_value < 0.05\n",
    "    })\n",
    "\n",
    "simple_regression_df = pd.DataFrame(simple_regression_results)\n",
    "print(simple_regression_df)"
   ]
  },
  {
   "cell_type": "code",
   "execution_count": 41,
   "id": "0563a54e",
   "metadata": {},
   "outputs": [
    {
     "data": {
      "application/vnd.plotly.v1+json": {
       "config": {
        "plotlyServerURL": "https://plot.ly"
       },
       "data": [
        {
         "alignmentgroup": "True",
         "hovertemplate": "significant=False<br>Region=%{x}<br>R-squared Value=%{text}<extra></extra>",
         "legendgroup": "False",
         "marker": {
          "color": "#636efa",
          "pattern": {
           "shape": ""
          }
         },
         "name": "False",
         "offsetgroup": "False",
         "orientation": "v",
         "showlegend": true,
         "text": [
          0.04979383808075361,
          0.13472725966350121,
          0.002795297101105282,
          0.032563754441275516,
          0.06760202366035119,
          0.09658180484487068,
          0.20670195899250543,
          0.19367512452844826,
          0.26976207305480565,
          0.2756759521492496,
          0.12925676397032396
         ],
         "textposition": "outside",
         "texttemplate": "%{text:.2f}",
         "type": "bar",
         "x": [
          "Australia and New Zealand",
          "Central Asia",
          "Eastern Asia",
          "Eastern Europe",
          "Latin America and the Caribbean",
          "Northern Africa",
          "Northern America",
          "South-eastern Asia",
          "Southern Europe",
          "Sub-Saharan Africa",
          "Western Asia"
         ],
         "xaxis": "x",
         "y": [
          0.04979383808075361,
          0.13472725966350121,
          0.002795297101105282,
          0.032563754441275516,
          0.06760202366035119,
          0.09658180484487068,
          0.20670195899250543,
          0.19367512452844826,
          0.26976207305480565,
          0.2756759521492496,
          0.12925676397032396
         ],
         "yaxis": "y"
        },
        {
         "alignmentgroup": "True",
         "hovertemplate": "significant=True<br>Region=%{x}<br>R-squared Value=%{text}<extra></extra>",
         "legendgroup": "True",
         "marker": {
          "color": "#EF553B",
          "pattern": {
           "shape": ""
          }
         },
         "name": "True",
         "offsetgroup": "True",
         "orientation": "v",
         "showlegend": true,
         "text": [
          0.7613153715999983,
          0.4507676006954249,
          0.4174966991136965
         ],
         "textposition": "outside",
         "texttemplate": "%{text:.2f}",
         "type": "bar",
         "x": [
          "Northern Europe",
          "Southern Asia",
          "Western Europe"
         ],
         "xaxis": "x",
         "y": [
          0.7613153715999983,
          0.4507676006954249,
          0.4174966991136965
         ],
         "yaxis": "y"
        }
       ],
       "layout": {
        "barmode": "relative",
        "legend": {
         "title": {
          "text": "significant"
         },
         "tracegroupgap": 0
        },
        "template": {
         "data": {
          "bar": [
           {
            "error_x": {
             "color": "#2a3f5f"
            },
            "error_y": {
             "color": "#2a3f5f"
            },
            "marker": {
             "line": {
              "color": "#E5ECF6",
              "width": 0.5
             },
             "pattern": {
              "fillmode": "overlay",
              "size": 10,
              "solidity": 0.2
             }
            },
            "type": "bar"
           }
          ],
          "barpolar": [
           {
            "marker": {
             "line": {
              "color": "#E5ECF6",
              "width": 0.5
             },
             "pattern": {
              "fillmode": "overlay",
              "size": 10,
              "solidity": 0.2
             }
            },
            "type": "barpolar"
           }
          ],
          "carpet": [
           {
            "aaxis": {
             "endlinecolor": "#2a3f5f",
             "gridcolor": "white",
             "linecolor": "white",
             "minorgridcolor": "white",
             "startlinecolor": "#2a3f5f"
            },
            "baxis": {
             "endlinecolor": "#2a3f5f",
             "gridcolor": "white",
             "linecolor": "white",
             "minorgridcolor": "white",
             "startlinecolor": "#2a3f5f"
            },
            "type": "carpet"
           }
          ],
          "choropleth": [
           {
            "colorbar": {
             "outlinewidth": 0,
             "ticks": ""
            },
            "type": "choropleth"
           }
          ],
          "contour": [
           {
            "colorbar": {
             "outlinewidth": 0,
             "ticks": ""
            },
            "colorscale": [
             [
              0,
              "#0d0887"
             ],
             [
              0.1111111111111111,
              "#46039f"
             ],
             [
              0.2222222222222222,
              "#7201a8"
             ],
             [
              0.3333333333333333,
              "#9c179e"
             ],
             [
              0.4444444444444444,
              "#bd3786"
             ],
             [
              0.5555555555555556,
              "#d8576b"
             ],
             [
              0.6666666666666666,
              "#ed7953"
             ],
             [
              0.7777777777777778,
              "#fb9f3a"
             ],
             [
              0.8888888888888888,
              "#fdca26"
             ],
             [
              1,
              "#f0f921"
             ]
            ],
            "type": "contour"
           }
          ],
          "contourcarpet": [
           {
            "colorbar": {
             "outlinewidth": 0,
             "ticks": ""
            },
            "type": "contourcarpet"
           }
          ],
          "heatmap": [
           {
            "colorbar": {
             "outlinewidth": 0,
             "ticks": ""
            },
            "colorscale": [
             [
              0,
              "#0d0887"
             ],
             [
              0.1111111111111111,
              "#46039f"
             ],
             [
              0.2222222222222222,
              "#7201a8"
             ],
             [
              0.3333333333333333,
              "#9c179e"
             ],
             [
              0.4444444444444444,
              "#bd3786"
             ],
             [
              0.5555555555555556,
              "#d8576b"
             ],
             [
              0.6666666666666666,
              "#ed7953"
             ],
             [
              0.7777777777777778,
              "#fb9f3a"
             ],
             [
              0.8888888888888888,
              "#fdca26"
             ],
             [
              1,
              "#f0f921"
             ]
            ],
            "type": "heatmap"
           }
          ],
          "heatmapgl": [
           {
            "colorbar": {
             "outlinewidth": 0,
             "ticks": ""
            },
            "colorscale": [
             [
              0,
              "#0d0887"
             ],
             [
              0.1111111111111111,
              "#46039f"
             ],
             [
              0.2222222222222222,
              "#7201a8"
             ],
             [
              0.3333333333333333,
              "#9c179e"
             ],
             [
              0.4444444444444444,
              "#bd3786"
             ],
             [
              0.5555555555555556,
              "#d8576b"
             ],
             [
              0.6666666666666666,
              "#ed7953"
             ],
             [
              0.7777777777777778,
              "#fb9f3a"
             ],
             [
              0.8888888888888888,
              "#fdca26"
             ],
             [
              1,
              "#f0f921"
             ]
            ],
            "type": "heatmapgl"
           }
          ],
          "histogram": [
           {
            "marker": {
             "pattern": {
              "fillmode": "overlay",
              "size": 10,
              "solidity": 0.2
             }
            },
            "type": "histogram"
           }
          ],
          "histogram2d": [
           {
            "colorbar": {
             "outlinewidth": 0,
             "ticks": ""
            },
            "colorscale": [
             [
              0,
              "#0d0887"
             ],
             [
              0.1111111111111111,
              "#46039f"
             ],
             [
              0.2222222222222222,
              "#7201a8"
             ],
             [
              0.3333333333333333,
              "#9c179e"
             ],
             [
              0.4444444444444444,
              "#bd3786"
             ],
             [
              0.5555555555555556,
              "#d8576b"
             ],
             [
              0.6666666666666666,
              "#ed7953"
             ],
             [
              0.7777777777777778,
              "#fb9f3a"
             ],
             [
              0.8888888888888888,
              "#fdca26"
             ],
             [
              1,
              "#f0f921"
             ]
            ],
            "type": "histogram2d"
           }
          ],
          "histogram2dcontour": [
           {
            "colorbar": {
             "outlinewidth": 0,
             "ticks": ""
            },
            "colorscale": [
             [
              0,
              "#0d0887"
             ],
             [
              0.1111111111111111,
              "#46039f"
             ],
             [
              0.2222222222222222,
              "#7201a8"
             ],
             [
              0.3333333333333333,
              "#9c179e"
             ],
             [
              0.4444444444444444,
              "#bd3786"
             ],
             [
              0.5555555555555556,
              "#d8576b"
             ],
             [
              0.6666666666666666,
              "#ed7953"
             ],
             [
              0.7777777777777778,
              "#fb9f3a"
             ],
             [
              0.8888888888888888,
              "#fdca26"
             ],
             [
              1,
              "#f0f921"
             ]
            ],
            "type": "histogram2dcontour"
           }
          ],
          "mesh3d": [
           {
            "colorbar": {
             "outlinewidth": 0,
             "ticks": ""
            },
            "type": "mesh3d"
           }
          ],
          "parcoords": [
           {
            "line": {
             "colorbar": {
              "outlinewidth": 0,
              "ticks": ""
             }
            },
            "type": "parcoords"
           }
          ],
          "pie": [
           {
            "automargin": true,
            "type": "pie"
           }
          ],
          "scatter": [
           {
            "fillpattern": {
             "fillmode": "overlay",
             "size": 10,
             "solidity": 0.2
            },
            "type": "scatter"
           }
          ],
          "scatter3d": [
           {
            "line": {
             "colorbar": {
              "outlinewidth": 0,
              "ticks": ""
             }
            },
            "marker": {
             "colorbar": {
              "outlinewidth": 0,
              "ticks": ""
             }
            },
            "type": "scatter3d"
           }
          ],
          "scattercarpet": [
           {
            "marker": {
             "colorbar": {
              "outlinewidth": 0,
              "ticks": ""
             }
            },
            "type": "scattercarpet"
           }
          ],
          "scattergeo": [
           {
            "marker": {
             "colorbar": {
              "outlinewidth": 0,
              "ticks": ""
             }
            },
            "type": "scattergeo"
           }
          ],
          "scattergl": [
           {
            "marker": {
             "colorbar": {
              "outlinewidth": 0,
              "ticks": ""
             }
            },
            "type": "scattergl"
           }
          ],
          "scattermapbox": [
           {
            "marker": {
             "colorbar": {
              "outlinewidth": 0,
              "ticks": ""
             }
            },
            "type": "scattermapbox"
           }
          ],
          "scatterpolar": [
           {
            "marker": {
             "colorbar": {
              "outlinewidth": 0,
              "ticks": ""
             }
            },
            "type": "scatterpolar"
           }
          ],
          "scatterpolargl": [
           {
            "marker": {
             "colorbar": {
              "outlinewidth": 0,
              "ticks": ""
             }
            },
            "type": "scatterpolargl"
           }
          ],
          "scatterternary": [
           {
            "marker": {
             "colorbar": {
              "outlinewidth": 0,
              "ticks": ""
             }
            },
            "type": "scatterternary"
           }
          ],
          "surface": [
           {
            "colorbar": {
             "outlinewidth": 0,
             "ticks": ""
            },
            "colorscale": [
             [
              0,
              "#0d0887"
             ],
             [
              0.1111111111111111,
              "#46039f"
             ],
             [
              0.2222222222222222,
              "#7201a8"
             ],
             [
              0.3333333333333333,
              "#9c179e"
             ],
             [
              0.4444444444444444,
              "#bd3786"
             ],
             [
              0.5555555555555556,
              "#d8576b"
             ],
             [
              0.6666666666666666,
              "#ed7953"
             ],
             [
              0.7777777777777778,
              "#fb9f3a"
             ],
             [
              0.8888888888888888,
              "#fdca26"
             ],
             [
              1,
              "#f0f921"
             ]
            ],
            "type": "surface"
           }
          ],
          "table": [
           {
            "cells": {
             "fill": {
              "color": "#EBF0F8"
             },
             "line": {
              "color": "white"
             }
            },
            "header": {
             "fill": {
              "color": "#C8D4E3"
             },
             "line": {
              "color": "white"
             }
            },
            "type": "table"
           }
          ]
         },
         "layout": {
          "annotationdefaults": {
           "arrowcolor": "#2a3f5f",
           "arrowhead": 0,
           "arrowwidth": 1
          },
          "autotypenumbers": "strict",
          "coloraxis": {
           "colorbar": {
            "outlinewidth": 0,
            "ticks": ""
           }
          },
          "colorscale": {
           "diverging": [
            [
             0,
             "#8e0152"
            ],
            [
             0.1,
             "#c51b7d"
            ],
            [
             0.2,
             "#de77ae"
            ],
            [
             0.3,
             "#f1b6da"
            ],
            [
             0.4,
             "#fde0ef"
            ],
            [
             0.5,
             "#f7f7f7"
            ],
            [
             0.6,
             "#e6f5d0"
            ],
            [
             0.7,
             "#b8e186"
            ],
            [
             0.8,
             "#7fbc41"
            ],
            [
             0.9,
             "#4d9221"
            ],
            [
             1,
             "#276419"
            ]
           ],
           "sequential": [
            [
             0,
             "#0d0887"
            ],
            [
             0.1111111111111111,
             "#46039f"
            ],
            [
             0.2222222222222222,
             "#7201a8"
            ],
            [
             0.3333333333333333,
             "#9c179e"
            ],
            [
             0.4444444444444444,
             "#bd3786"
            ],
            [
             0.5555555555555556,
             "#d8576b"
            ],
            [
             0.6666666666666666,
             "#ed7953"
            ],
            [
             0.7777777777777778,
             "#fb9f3a"
            ],
            [
             0.8888888888888888,
             "#fdca26"
            ],
            [
             1,
             "#f0f921"
            ]
           ],
           "sequentialminus": [
            [
             0,
             "#0d0887"
            ],
            [
             0.1111111111111111,
             "#46039f"
            ],
            [
             0.2222222222222222,
             "#7201a8"
            ],
            [
             0.3333333333333333,
             "#9c179e"
            ],
            [
             0.4444444444444444,
             "#bd3786"
            ],
            [
             0.5555555555555556,
             "#d8576b"
            ],
            [
             0.6666666666666666,
             "#ed7953"
            ],
            [
             0.7777777777777778,
             "#fb9f3a"
            ],
            [
             0.8888888888888888,
             "#fdca26"
            ],
            [
             1,
             "#f0f921"
            ]
           ]
          },
          "colorway": [
           "#636efa",
           "#EF553B",
           "#00cc96",
           "#ab63fa",
           "#FFA15A",
           "#19d3f3",
           "#FF6692",
           "#B6E880",
           "#FF97FF",
           "#FECB52"
          ],
          "font": {
           "color": "#2a3f5f"
          },
          "geo": {
           "bgcolor": "white",
           "lakecolor": "white",
           "landcolor": "#E5ECF6",
           "showlakes": true,
           "showland": true,
           "subunitcolor": "white"
          },
          "hoverlabel": {
           "align": "left"
          },
          "hovermode": "closest",
          "mapbox": {
           "style": "light"
          },
          "paper_bgcolor": "white",
          "plot_bgcolor": "#E5ECF6",
          "polar": {
           "angularaxis": {
            "gridcolor": "white",
            "linecolor": "white",
            "ticks": ""
           },
           "bgcolor": "#E5ECF6",
           "radialaxis": {
            "gridcolor": "white",
            "linecolor": "white",
            "ticks": ""
           }
          },
          "scene": {
           "xaxis": {
            "backgroundcolor": "#E5ECF6",
            "gridcolor": "white",
            "gridwidth": 2,
            "linecolor": "white",
            "showbackground": true,
            "ticks": "",
            "zerolinecolor": "white"
           },
           "yaxis": {
            "backgroundcolor": "#E5ECF6",
            "gridcolor": "white",
            "gridwidth": 2,
            "linecolor": "white",
            "showbackground": true,
            "ticks": "",
            "zerolinecolor": "white"
           },
           "zaxis": {
            "backgroundcolor": "#E5ECF6",
            "gridcolor": "white",
            "gridwidth": 2,
            "linecolor": "white",
            "showbackground": true,
            "ticks": "",
            "zerolinecolor": "white"
           }
          },
          "shapedefaults": {
           "line": {
            "color": "#2a3f5f"
           }
          },
          "ternary": {
           "aaxis": {
            "gridcolor": "white",
            "linecolor": "white",
            "ticks": ""
           },
           "baxis": {
            "gridcolor": "white",
            "linecolor": "white",
            "ticks": ""
           },
           "bgcolor": "#E5ECF6",
           "caxis": {
            "gridcolor": "white",
            "linecolor": "white",
            "ticks": ""
           }
          },
          "title": {
           "x": 0.05
          },
          "xaxis": {
           "automargin": true,
           "gridcolor": "white",
           "linecolor": "white",
           "ticks": "",
           "title": {
            "standoff": 15
           },
           "zerolinecolor": "white",
           "zerolinewidth": 2
          },
          "yaxis": {
           "automargin": true,
           "gridcolor": "white",
           "linecolor": "white",
           "ticks": "",
           "title": {
            "standoff": 15
           },
           "zerolinecolor": "white",
           "zerolinewidth": 2
          }
         }
        },
        "title": {
         "text": "R-squared and Statistical Significance by Region"
        },
        "xaxis": {
         "anchor": "y",
         "domain": [
          0,
          1
         ],
         "title": {
          "text": "Region"
         }
        },
        "yaxis": {
         "anchor": "x",
         "domain": [
          0,
          1
         ],
         "title": {
          "text": "R-squared Value"
         }
        }
       }
      },
      "text/html": [
       "<div>                            <div id=\"476ffd18-8cad-42d2-bfbc-3bc5ac8e3b9d\" class=\"plotly-graph-div\" style=\"height:525px; width:100%;\"></div>            <script type=\"text/javascript\">                require([\"plotly\"], function(Plotly) {                    window.PLOTLYENV=window.PLOTLYENV || {};                                    if (document.getElementById(\"476ffd18-8cad-42d2-bfbc-3bc5ac8e3b9d\")) {                    Plotly.newPlot(                        \"476ffd18-8cad-42d2-bfbc-3bc5ac8e3b9d\",                        [{\"alignmentgroup\":\"True\",\"hovertemplate\":\"significant=False<br>Region=%{x}<br>R-squared Value=%{text}<extra></extra>\",\"legendgroup\":\"False\",\"marker\":{\"color\":\"#636efa\",\"pattern\":{\"shape\":\"\"}},\"name\":\"False\",\"offsetgroup\":\"False\",\"orientation\":\"v\",\"showlegend\":true,\"text\":[0.04979383808075361,0.13472725966350121,0.002795297101105282,0.032563754441275516,0.06760202366035119,0.09658180484487068,0.20670195899250543,0.19367512452844826,0.26976207305480565,0.2756759521492496,0.12925676397032396],\"textposition\":\"outside\",\"x\":[\"Australia and New Zealand\",\"Central Asia\",\"Eastern Asia\",\"Eastern Europe\",\"Latin America and the Caribbean\",\"Northern Africa\",\"Northern America\",\"South-eastern Asia\",\"Southern Europe\",\"Sub-Saharan Africa\",\"Western Asia\"],\"xaxis\":\"x\",\"y\":[0.04979383808075361,0.13472725966350121,0.002795297101105282,0.032563754441275516,0.06760202366035119,0.09658180484487068,0.20670195899250543,0.19367512452844826,0.26976207305480565,0.2756759521492496,0.12925676397032396],\"yaxis\":\"y\",\"type\":\"bar\",\"texttemplate\":\"%{text:.2f}\"},{\"alignmentgroup\":\"True\",\"hovertemplate\":\"significant=True<br>Region=%{x}<br>R-squared Value=%{text}<extra></extra>\",\"legendgroup\":\"True\",\"marker\":{\"color\":\"#EF553B\",\"pattern\":{\"shape\":\"\"}},\"name\":\"True\",\"offsetgroup\":\"True\",\"orientation\":\"v\",\"showlegend\":true,\"text\":[0.7613153715999983,0.4507676006954249,0.4174966991136965],\"textposition\":\"outside\",\"x\":[\"Northern Europe\",\"Southern Asia\",\"Western Europe\"],\"xaxis\":\"x\",\"y\":[0.7613153715999983,0.4507676006954249,0.4174966991136965],\"yaxis\":\"y\",\"type\":\"bar\",\"texttemplate\":\"%{text:.2f}\"}],                        {\"template\":{\"data\":{\"histogram2dcontour\":[{\"type\":\"histogram2dcontour\",\"colorbar\":{\"outlinewidth\":0,\"ticks\":\"\"},\"colorscale\":[[0.0,\"#0d0887\"],[0.1111111111111111,\"#46039f\"],[0.2222222222222222,\"#7201a8\"],[0.3333333333333333,\"#9c179e\"],[0.4444444444444444,\"#bd3786\"],[0.5555555555555556,\"#d8576b\"],[0.6666666666666666,\"#ed7953\"],[0.7777777777777778,\"#fb9f3a\"],[0.8888888888888888,\"#fdca26\"],[1.0,\"#f0f921\"]]}],\"choropleth\":[{\"type\":\"choropleth\",\"colorbar\":{\"outlinewidth\":0,\"ticks\":\"\"}}],\"histogram2d\":[{\"type\":\"histogram2d\",\"colorbar\":{\"outlinewidth\":0,\"ticks\":\"\"},\"colorscale\":[[0.0,\"#0d0887\"],[0.1111111111111111,\"#46039f\"],[0.2222222222222222,\"#7201a8\"],[0.3333333333333333,\"#9c179e\"],[0.4444444444444444,\"#bd3786\"],[0.5555555555555556,\"#d8576b\"],[0.6666666666666666,\"#ed7953\"],[0.7777777777777778,\"#fb9f3a\"],[0.8888888888888888,\"#fdca26\"],[1.0,\"#f0f921\"]]}],\"heatmap\":[{\"type\":\"heatmap\",\"colorbar\":{\"outlinewidth\":0,\"ticks\":\"\"},\"colorscale\":[[0.0,\"#0d0887\"],[0.1111111111111111,\"#46039f\"],[0.2222222222222222,\"#7201a8\"],[0.3333333333333333,\"#9c179e\"],[0.4444444444444444,\"#bd3786\"],[0.5555555555555556,\"#d8576b\"],[0.6666666666666666,\"#ed7953\"],[0.7777777777777778,\"#fb9f3a\"],[0.8888888888888888,\"#fdca26\"],[1.0,\"#f0f921\"]]}],\"heatmapgl\":[{\"type\":\"heatmapgl\",\"colorbar\":{\"outlinewidth\":0,\"ticks\":\"\"},\"colorscale\":[[0.0,\"#0d0887\"],[0.1111111111111111,\"#46039f\"],[0.2222222222222222,\"#7201a8\"],[0.3333333333333333,\"#9c179e\"],[0.4444444444444444,\"#bd3786\"],[0.5555555555555556,\"#d8576b\"],[0.6666666666666666,\"#ed7953\"],[0.7777777777777778,\"#fb9f3a\"],[0.8888888888888888,\"#fdca26\"],[1.0,\"#f0f921\"]]}],\"contourcarpet\":[{\"type\":\"contourcarpet\",\"colorbar\":{\"outlinewidth\":0,\"ticks\":\"\"}}],\"contour\":[{\"type\":\"contour\",\"colorbar\":{\"outlinewidth\":0,\"ticks\":\"\"},\"colorscale\":[[0.0,\"#0d0887\"],[0.1111111111111111,\"#46039f\"],[0.2222222222222222,\"#7201a8\"],[0.3333333333333333,\"#9c179e\"],[0.4444444444444444,\"#bd3786\"],[0.5555555555555556,\"#d8576b\"],[0.6666666666666666,\"#ed7953\"],[0.7777777777777778,\"#fb9f3a\"],[0.8888888888888888,\"#fdca26\"],[1.0,\"#f0f921\"]]}],\"surface\":[{\"type\":\"surface\",\"colorbar\":{\"outlinewidth\":0,\"ticks\":\"\"},\"colorscale\":[[0.0,\"#0d0887\"],[0.1111111111111111,\"#46039f\"],[0.2222222222222222,\"#7201a8\"],[0.3333333333333333,\"#9c179e\"],[0.4444444444444444,\"#bd3786\"],[0.5555555555555556,\"#d8576b\"],[0.6666666666666666,\"#ed7953\"],[0.7777777777777778,\"#fb9f3a\"],[0.8888888888888888,\"#fdca26\"],[1.0,\"#f0f921\"]]}],\"mesh3d\":[{\"type\":\"mesh3d\",\"colorbar\":{\"outlinewidth\":0,\"ticks\":\"\"}}],\"scatter\":[{\"fillpattern\":{\"fillmode\":\"overlay\",\"size\":10,\"solidity\":0.2},\"type\":\"scatter\"}],\"parcoords\":[{\"type\":\"parcoords\",\"line\":{\"colorbar\":{\"outlinewidth\":0,\"ticks\":\"\"}}}],\"scatterpolargl\":[{\"type\":\"scatterpolargl\",\"marker\":{\"colorbar\":{\"outlinewidth\":0,\"ticks\":\"\"}}}],\"bar\":[{\"error_x\":{\"color\":\"#2a3f5f\"},\"error_y\":{\"color\":\"#2a3f5f\"},\"marker\":{\"line\":{\"color\":\"#E5ECF6\",\"width\":0.5},\"pattern\":{\"fillmode\":\"overlay\",\"size\":10,\"solidity\":0.2}},\"type\":\"bar\"}],\"scattergeo\":[{\"type\":\"scattergeo\",\"marker\":{\"colorbar\":{\"outlinewidth\":0,\"ticks\":\"\"}}}],\"scatterpolar\":[{\"type\":\"scatterpolar\",\"marker\":{\"colorbar\":{\"outlinewidth\":0,\"ticks\":\"\"}}}],\"histogram\":[{\"marker\":{\"pattern\":{\"fillmode\":\"overlay\",\"size\":10,\"solidity\":0.2}},\"type\":\"histogram\"}],\"scattergl\":[{\"type\":\"scattergl\",\"marker\":{\"colorbar\":{\"outlinewidth\":0,\"ticks\":\"\"}}}],\"scatter3d\":[{\"type\":\"scatter3d\",\"line\":{\"colorbar\":{\"outlinewidth\":0,\"ticks\":\"\"}},\"marker\":{\"colorbar\":{\"outlinewidth\":0,\"ticks\":\"\"}}}],\"scattermapbox\":[{\"type\":\"scattermapbox\",\"marker\":{\"colorbar\":{\"outlinewidth\":0,\"ticks\":\"\"}}}],\"scatterternary\":[{\"type\":\"scatterternary\",\"marker\":{\"colorbar\":{\"outlinewidth\":0,\"ticks\":\"\"}}}],\"scattercarpet\":[{\"type\":\"scattercarpet\",\"marker\":{\"colorbar\":{\"outlinewidth\":0,\"ticks\":\"\"}}}],\"carpet\":[{\"aaxis\":{\"endlinecolor\":\"#2a3f5f\",\"gridcolor\":\"white\",\"linecolor\":\"white\",\"minorgridcolor\":\"white\",\"startlinecolor\":\"#2a3f5f\"},\"baxis\":{\"endlinecolor\":\"#2a3f5f\",\"gridcolor\":\"white\",\"linecolor\":\"white\",\"minorgridcolor\":\"white\",\"startlinecolor\":\"#2a3f5f\"},\"type\":\"carpet\"}],\"table\":[{\"cells\":{\"fill\":{\"color\":\"#EBF0F8\"},\"line\":{\"color\":\"white\"}},\"header\":{\"fill\":{\"color\":\"#C8D4E3\"},\"line\":{\"color\":\"white\"}},\"type\":\"table\"}],\"barpolar\":[{\"marker\":{\"line\":{\"color\":\"#E5ECF6\",\"width\":0.5},\"pattern\":{\"fillmode\":\"overlay\",\"size\":10,\"solidity\":0.2}},\"type\":\"barpolar\"}],\"pie\":[{\"automargin\":true,\"type\":\"pie\"}]},\"layout\":{\"autotypenumbers\":\"strict\",\"colorway\":[\"#636efa\",\"#EF553B\",\"#00cc96\",\"#ab63fa\",\"#FFA15A\",\"#19d3f3\",\"#FF6692\",\"#B6E880\",\"#FF97FF\",\"#FECB52\"],\"font\":{\"color\":\"#2a3f5f\"},\"hovermode\":\"closest\",\"hoverlabel\":{\"align\":\"left\"},\"paper_bgcolor\":\"white\",\"plot_bgcolor\":\"#E5ECF6\",\"polar\":{\"bgcolor\":\"#E5ECF6\",\"angularaxis\":{\"gridcolor\":\"white\",\"linecolor\":\"white\",\"ticks\":\"\"},\"radialaxis\":{\"gridcolor\":\"white\",\"linecolor\":\"white\",\"ticks\":\"\"}},\"ternary\":{\"bgcolor\":\"#E5ECF6\",\"aaxis\":{\"gridcolor\":\"white\",\"linecolor\":\"white\",\"ticks\":\"\"},\"baxis\":{\"gridcolor\":\"white\",\"linecolor\":\"white\",\"ticks\":\"\"},\"caxis\":{\"gridcolor\":\"white\",\"linecolor\":\"white\",\"ticks\":\"\"}},\"coloraxis\":{\"colorbar\":{\"outlinewidth\":0,\"ticks\":\"\"}},\"colorscale\":{\"sequential\":[[0.0,\"#0d0887\"],[0.1111111111111111,\"#46039f\"],[0.2222222222222222,\"#7201a8\"],[0.3333333333333333,\"#9c179e\"],[0.4444444444444444,\"#bd3786\"],[0.5555555555555556,\"#d8576b\"],[0.6666666666666666,\"#ed7953\"],[0.7777777777777778,\"#fb9f3a\"],[0.8888888888888888,\"#fdca26\"],[1.0,\"#f0f921\"]],\"sequentialminus\":[[0.0,\"#0d0887\"],[0.1111111111111111,\"#46039f\"],[0.2222222222222222,\"#7201a8\"],[0.3333333333333333,\"#9c179e\"],[0.4444444444444444,\"#bd3786\"],[0.5555555555555556,\"#d8576b\"],[0.6666666666666666,\"#ed7953\"],[0.7777777777777778,\"#fb9f3a\"],[0.8888888888888888,\"#fdca26\"],[1.0,\"#f0f921\"]],\"diverging\":[[0,\"#8e0152\"],[0.1,\"#c51b7d\"],[0.2,\"#de77ae\"],[0.3,\"#f1b6da\"],[0.4,\"#fde0ef\"],[0.5,\"#f7f7f7\"],[0.6,\"#e6f5d0\"],[0.7,\"#b8e186\"],[0.8,\"#7fbc41\"],[0.9,\"#4d9221\"],[1,\"#276419\"]]},\"xaxis\":{\"gridcolor\":\"white\",\"linecolor\":\"white\",\"ticks\":\"\",\"title\":{\"standoff\":15},\"zerolinecolor\":\"white\",\"automargin\":true,\"zerolinewidth\":2},\"yaxis\":{\"gridcolor\":\"white\",\"linecolor\":\"white\",\"ticks\":\"\",\"title\":{\"standoff\":15},\"zerolinecolor\":\"white\",\"automargin\":true,\"zerolinewidth\":2},\"scene\":{\"xaxis\":{\"backgroundcolor\":\"#E5ECF6\",\"gridcolor\":\"white\",\"linecolor\":\"white\",\"showbackground\":true,\"ticks\":\"\",\"zerolinecolor\":\"white\",\"gridwidth\":2},\"yaxis\":{\"backgroundcolor\":\"#E5ECF6\",\"gridcolor\":\"white\",\"linecolor\":\"white\",\"showbackground\":true,\"ticks\":\"\",\"zerolinecolor\":\"white\",\"gridwidth\":2},\"zaxis\":{\"backgroundcolor\":\"#E5ECF6\",\"gridcolor\":\"white\",\"linecolor\":\"white\",\"showbackground\":true,\"ticks\":\"\",\"zerolinecolor\":\"white\",\"gridwidth\":2}},\"shapedefaults\":{\"line\":{\"color\":\"#2a3f5f\"}},\"annotationdefaults\":{\"arrowcolor\":\"#2a3f5f\",\"arrowhead\":0,\"arrowwidth\":1},\"geo\":{\"bgcolor\":\"white\",\"landcolor\":\"#E5ECF6\",\"subunitcolor\":\"white\",\"showland\":true,\"showlakes\":true,\"lakecolor\":\"white\"},\"title\":{\"x\":0.05},\"mapbox\":{\"style\":\"light\"}}},\"xaxis\":{\"anchor\":\"y\",\"domain\":[0.0,1.0],\"title\":{\"text\":\"Region\"}},\"yaxis\":{\"anchor\":\"x\",\"domain\":[0.0,1.0],\"title\":{\"text\":\"R-squared Value\"}},\"legend\":{\"title\":{\"text\":\"significant\"},\"tracegroupgap\":0},\"title\":{\"text\":\"R-squared and Statistical Significance by Region\"},\"barmode\":\"relative\"},                        {\"responsive\": true}                    ).then(function(){\n",
       "                            \n",
       "var gd = document.getElementById('476ffd18-8cad-42d2-bfbc-3bc5ac8e3b9d');\n",
       "var x = new MutationObserver(function (mutations, observer) {{\n",
       "        var display = window.getComputedStyle(gd).display;\n",
       "        if (!display || display === 'none') {{\n",
       "            console.log([gd, 'removed!']);\n",
       "            Plotly.purge(gd);\n",
       "            observer.disconnect();\n",
       "        }}\n",
       "}});\n",
       "\n",
       "// Listen for the removal of the full notebook cells\n",
       "var notebookContainer = gd.closest('#notebook-container');\n",
       "if (notebookContainer) {{\n",
       "    x.observe(notebookContainer, {childList: true});\n",
       "}}\n",
       "\n",
       "// Listen for the clearing of the current output cell\n",
       "var outputEl = gd.closest('.output');\n",
       "if (outputEl) {{\n",
       "    x.observe(outputEl, {childList: true});\n",
       "}}\n",
       "\n",
       "                        })                };                });            </script>        </div>"
      ]
     },
     "metadata": {},
     "output_type": "display_data"
    }
   ],
   "source": [
    "fig = px.bar(\n",
    "    simple_regression_df,\n",
    "    x='region',\n",
    "    y='r_squared',\n",
    "    color='significant',  # Highlight statistically significant regions\n",
    "    title=\"R-squared and Statistical Significance by Region\",\n",
    "    labels={'region': 'Region', 'r_squared': 'R-squared Value'},\n",
    "    text='r_squared'\n",
    ")\n",
    "fig.update_traces(texttemplate='%{text:.2f}', textposition='outside')\n",
    "fig.show()"
   ]
  },
  {
   "cell_type": "code",
   "execution_count": null,
   "id": "2678ca3d",
   "metadata": {},
   "outputs": [],
   "source": []
  },
  {
   "cell_type": "code",
   "execution_count": null,
   "id": "21004d1a",
   "metadata": {},
   "outputs": [],
   "source": []
  },
  {
   "cell_type": "code",
   "execution_count": null,
   "id": "83f8d877",
   "metadata": {},
   "outputs": [],
   "source": []
  },
  {
   "cell_type": "code",
   "execution_count": null,
   "id": "a030fa1b",
   "metadata": {},
   "outputs": [],
   "source": []
  },
  {
   "cell_type": "code",
   "execution_count": null,
   "id": "d95c1f81",
   "metadata": {},
   "outputs": [],
   "source": []
  },
  {
   "cell_type": "code",
   "execution_count": null,
   "id": "93de8781",
   "metadata": {},
   "outputs": [],
   "source": []
  },
  {
   "cell_type": "code",
   "execution_count": null,
   "id": "2b25e77e",
   "metadata": {},
   "outputs": [],
   "source": []
  },
  {
   "cell_type": "code",
   "execution_count": null,
   "id": "d41784a5",
   "metadata": {},
   "outputs": [],
   "source": []
  },
  {
   "cell_type": "code",
   "execution_count": null,
   "id": "66f23c76",
   "metadata": {},
   "outputs": [],
   "source": []
  }
 ],
 "metadata": {
  "kernelspec": {
   "display_name": "Python 3 (ipykernel)",
   "language": "python",
   "name": "python3"
  },
  "language_info": {
   "codemirror_mode": {
    "name": "ipython",
    "version": 3
   },
   "file_extension": ".py",
   "mimetype": "text/x-python",
   "name": "python",
   "nbconvert_exporter": "python",
   "pygments_lexer": "ipython3",
   "version": "3.9.13"
  }
 },
 "nbformat": 4,
 "nbformat_minor": 5
}